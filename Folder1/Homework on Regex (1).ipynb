{
 "cells": [
  {
   "cell_type": "code",
   "execution_count": 24,
   "id": "9b6be450",
   "metadata": {},
   "outputs": [
    {
     "name": "stdout",
     "output_type": "stream",
     "text": [
      "Magic:Twister::Magic:Twister:\n"
     ]
    }
   ],
   "source": [
    "#Q1\n",
    "import regex as re\n",
    "y= r'[ ,.]'\n",
    "text=\"Magic Twister, Magic Twister.\"\n",
    "replace_text=re.sub(y,':',text,flags=re.IGNORECASE)\n",
    "print(replace_text)"
   ]
  },
  {
   "cell_type": "code",
   "execution_count": 39,
   "id": "8b7e0dda",
   "metadata": {},
   "outputs": [
    {
     "name": "stdout",
     "output_type": "stream",
     "text": [
      "['And', 'End']\n"
     ]
    }
   ],
   "source": [
    "#Q2\n",
    "text1=\"Magic Twister And, Magic Twister End.\"\n",
    "x=re.findall(r'\\b[ae]\\w*',text1,flags=re.IGNORECASE)\n",
    "print(x)"
   ]
  },
  {
   "cell_type": "code",
   "execution_count": 49,
   "id": "39beba6f",
   "metadata": {},
   "outputs": [
    {
     "name": "stdout",
     "output_type": "stream",
     "text": [
      "['many']\n"
     ]
    }
   ],
   "source": [
    "#Q3\n",
    "string2=\"There are so many hated professors in the XYZ school\"\n",
    "string_pattern=r\"\\b\\w{4}\\b\"\n",
    "regex_pattern=re.compile(string_pattern)\n",
    "result=regex_pattern.findall(string2)\n",
    "print(result)"
   ]
  },
  {
   "cell_type": "code",
   "execution_count": 53,
   "id": "2fd4ade4",
   "metadata": {},
   "outputs": [
    {
     "name": "stdout",
     "output_type": "stream",
     "text": [
      "['There', 'are', 'many', 'hated', 'the', 'XYZ']\n"
     ]
    }
   ],
   "source": [
    "#Q4\n",
    "string2=\"There are so many hated professors in the XYZ school\"\n",
    "string_pattern=r\"\\b\\w{3,5}\\b\"\n",
    "regex_pattern=re.compile(string_pattern)\n",
    "result=regex_pattern.findall(string2)\n",
    "print(result)"
   ]
  },
  {
   "cell_type": "code",
   "execution_count": 45,
   "id": "be891be7",
   "metadata": {},
   "outputs": [
    {
     "name": "stdout",
     "output_type": "stream",
     "text": [
      "['Alvira.com', 'fentybeauty.com', 'macbeauty.com', 'Tesla.com', 'HelloVietnam', 'FriendArchitect']\n"
     ]
    }
   ],
   "source": [
    "#Q5\n",
    "def remove_brackets(text_list):\n",
    "    modified_lists=[t.replace('(', '').replace(')', '') for t in text_list]\n",
    "    return modified_lists\n",
    "Actual_list=[\"Alvira(.com)\", \"fentybeauty(.com)\",\"macbeauty(.com)\", \"Tesla(.com)\", \"Hello(Vietnam)\", \"Friend(Architect)\"]\n",
    "modified_lists=remove_brackets(Actual_list)\n",
    "print(modified_lists)"
   ]
  },
  {
   "cell_type": "code",
   "execution_count": 5,
   "id": "c176cf70",
   "metadata": {},
   "outputs": [
    {
     "name": "stdout",
     "output_type": "stream",
     "text": [
      "[\"example \", \"hr@fliprobo \", \"github \", \"Hello \", \"Data \"]\n"
     ]
    }
   ],
   "source": [
    "#q6\n",
    "import regex as re\n",
    "with open ('extract_email1') as file:\n",
    "    for line in file:\n",
    "        email= re.sub(r'\\([^)]*\\)', '', line)\n",
    "        print(email)\n"
   ]
  },
  {
   "cell_type": "code",
   "execution_count": 3,
   "id": "f779c56e",
   "metadata": {},
   "outputs": [],
   "source": [
    "#Q7\n",
    "text6 = \"ImportanceOfRegularExpressionsInPython\"\n",
    "lookup = re.findall(r'[A-Z][a-z]*', text6)"
   ]
  },
  {
   "cell_type": "code",
   "execution_count": 66,
   "id": "9e7ffe0f",
   "metadata": {},
   "outputs": [
    {
     "name": "stdout",
     "output_type": "stream",
     "text": [
      "['Importance', 'Of', 'Regular', 'Expressions', 'In', 'Python']\n"
     ]
    }
   ],
   "source": [
    "print(lookup)"
   ]
  },
  {
   "cell_type": "code",
   "execution_count": 113,
   "id": "d3adf75d",
   "metadata": {},
   "outputs": [],
   "source": [
    "#Q8\n",
    "def insert(text):\n",
    "    pattern = r'([A-Za-z])(\\d)'\n",
    "    new_text = re.sub(pattern, r'\\1 \\2', text)\n",
    "    return new_text"
   ]
  },
  {
   "cell_type": "code",
   "execution_count": 115,
   "id": "c830ae8d",
   "metadata": {},
   "outputs": [
    {
     "name": "stdout",
     "output_type": "stream",
     "text": [
      "AlviraIs 2AnEnemy 5ForThe 6Knowns\n"
     ]
    }
   ],
   "source": [
    "text = 'AlviraIs2AnEnemy5ForThe6Knowns'\n",
    "result = insert(text)\n",
    "print(result)"
   ]
  },
  {
   "cell_type": "code",
   "execution_count": 114,
   "id": "35065b7d",
   "metadata": {},
   "outputs": [],
   "source": [
    "#Q9\n",
    "def insert(text2):\n",
    "    pattern = r'([A-Za-z])(\\d)'\n",
    "    new_text1 = re.sub(pattern, r'\\1 \\2 ', text2)\n",
    "    return new_text1"
   ]
  },
  {
   "cell_type": "code",
   "execution_count": 115,
   "id": "87a196da",
   "metadata": {},
   "outputs": [
    {
     "name": "stdout",
     "output_type": "stream",
     "text": [
      "AlviraIs 2 AnEnemy 5 ForThe 6 Knowns\n"
     ]
    }
   ],
   "source": [
    "text2 = 'AlviraIs2AnEnemy5ForThe6Knowns'\n",
    "result1 = insert(text2)\n",
    "print(result1)"
   ]
  },
  {
   "cell_type": "code",
   "execution_count": 45,
   "id": "c8b3f396",
   "metadata": {},
   "outputs": [
    {
     "name": "stdout",
     "output_type": "stream",
     "text": [
      "['formalxyz@not4.com', 'alvira.123@not45.com']\n",
      "['vr@theon.com']\n"
     ]
    }
   ],
   "source": [
    "#Q10\n",
    "import regex as re\n",
    "with open ('Extracting_email_2') as file:\n",
    "    for line in file:\n",
    "        pattern=r'[a-zA-Z0-9._%+-]+@[a-zA-Z0-9.-]+\\.[a-zA-Z]{2,}'\n",
    "        result= re.findall(pattern, line)\n",
    "        print(result)\n"
   ]
  },
  {
   "cell_type": "code",
   "execution_count": 69,
   "id": "946ac240",
   "metadata": {},
   "outputs": [
    {
     "name": "stdout",
     "output_type": "stream",
     "text": [
      "The presented string \"IamAlvira_2023\" is okay.\n"
     ]
    }
   ],
   "source": [
    "#Q11\n",
    "string4 = \"IamAlvira_2023\"\n",
    "\n",
    "pattern=r'^[A-Za-z_0-9]+$'\n",
    "\n",
    "match = re.match(pattern, string4)\n",
    "\n",
    "if match:\n",
    "    print(f'The presented string \"{string4}\" is okay.')\n",
    "else:\n",
    "    print(f'The presented string \"{string4}\" is not okay.')\n",
    "    "
   ]
  },
  {
   "cell_type": "code",
   "execution_count": 70,
   "id": "ca2fda52",
   "metadata": {},
   "outputs": [],
   "source": [
    "#Q12\n",
    "string5 = \"9245 The pin code for your rooms are 45, 67, 89, 90, 94\"\n",
    "\n",
    "res = re.search(r'^\\d+', string5)\n"
   ]
  },
  {
   "cell_type": "code",
   "execution_count": 71,
   "id": "883e21e8",
   "metadata": {},
   "outputs": [
    {
     "data": {
      "text/plain": [
       "<regex.Match object; span=(0, 4), match='9245'>"
      ]
     },
     "execution_count": 71,
     "metadata": {},
     "output_type": "execute_result"
    }
   ],
   "source": [
    "res"
   ]
  },
  {
   "cell_type": "code",
   "execution_count": 72,
   "id": "6cb84c66",
   "metadata": {},
   "outputs": [
    {
     "name": "stdout",
     "output_type": "stream",
     "text": [
      "New IP: {new_ip_address1}\n"
     ]
    }
   ],
   "source": [
    "#Q13\n",
    "\n",
    "def removing_zeros(ipaddress1_):\n",
    "    \n",
    "    new_ip_address = re.sub(r'\\b0+(\\d+)\\b', r'\\1', ipaddress1_)\n",
    "\n",
    "    return new_ip_address\n",
    "\n",
    "ipaddress1_ = \"192.010.001.003\"\n",
    "new_ip_address1 = removing_zeros(ipaddress1_)\n",
    "\n",
    "print(\"New IP: {new_ip_address1}\")"
   ]
  },
  {
   "cell_type": "code",
   "execution_count": 80,
   "id": "ba2be767",
   "metadata": {},
   "outputs": [
    {
     "name": "stdout",
     "output_type": "stream",
     "text": [
      "August 15th 1947\n"
     ]
    }
   ],
   "source": [
    "import regex as re\n",
    "with open ('Complex_Data1') as file:\n",
    "    for line in file:\n",
    "        patterns = r'(\\b\\w+\\s+\\d{1,2}(?:st|nd|rd|th)?\\s+\\d{4}\\b)'\n",
    "    dates=re.findall(patterns, line)\n",
    "    for Corrected_date in dates:\n",
    "        print(Corrected_date)\n"
   ]
  },
  {
   "cell_type": "code",
   "execution_count": 90,
   "id": "641e4b4c",
   "metadata": {},
   "outputs": [
    {
     "name": "stdout",
     "output_type": "stream",
     "text": [
      "literal\n"
     ]
    }
   ],
   "source": [
    "#Q16\n",
    "string18 = \"We  are going to look for some literal strings now.\"\n",
    "result=re.search(r\"(literal)\",string18)\n",
    "print(result.group(1))\n"
   ]
  },
  {
   "cell_type": "code",
   "execution_count": 95,
   "id": "97d1f26b",
   "metadata": {},
   "outputs": [
    {
     "name": "stdout",
     "output_type": "stream",
     "text": [
      "globalisation\n"
     ]
    }
   ],
   "source": [
    "#q17\n",
    "string20 = \"In this era, of globalisation, we have finally found peace.\"\n",
    "result44=re.search(r\"(globalisation)\",string20)\n",
    "\n",
    "print(result44.group(1))"
   ]
  },
  {
   "cell_type": "code",
   "execution_count": 96,
   "id": "4d3194d2",
   "metadata": {},
   "outputs": [
    {
     "name": "stdout",
     "output_type": "stream",
     "text": [
      "Found \"globalisation\" at positions 15-28\n"
     ]
    }
   ],
   "source": [
    "#Q18\n",
    "string20 = \"In this era of globalisation, we have finally found peace.\"\n",
    "\n",
    "substring1 = \"globalisation\"\n",
    "\n",
    "pattern32 = re.compile(substring1)\n",
    "\n",
    "results = pattern32.finditer(string20)\n",
    "\n",
    "for r in results:\n",
    "    start = r.start()\n",
    "    end = r.end()\n",
    "    extracted_substring = r.group()\n",
    "    print(f'Found \"{extracted_substring}\" at positions {start}-{end}')\n",
    "\n",
    "    "
   ]
  },
  {
   "cell_type": "code",
   "execution_count": 104,
   "id": "6c669f46",
   "metadata": {},
   "outputs": [
    {
     "name": "stdout",
     "output_type": "stream",
     "text": [
      "Actual Date (yyyy-mm-dd): 23-10-04\n",
      "Transformed Date (dd-mm-yyyy): 04-10-23\n"
     ]
    }
   ],
   "source": [
    "#Q19\n",
    "from datetime import datetime\n",
    "\n",
    "date1_str = \"23-10-04\"\n",
    "\n",
    "dateobject = datetime.strptime(date1_str, \"%y-%m-%d\")\n",
    "Converted_date = dateobject.strftime(\"%d-%m-%y\")\n",
    "\n",
    "print(\"Actual Date (yyyy-mm-dd):\", date1_str)\n",
    "print(\"Transformed Date (dd-mm-yyyy):\", Converted_date)\n"
   ]
  },
  {
   "cell_type": "code",
   "execution_count": 111,
   "id": "792206f4",
   "metadata": {},
   "outputs": [
    {
     "name": "stdout",
     "output_type": "stream",
     "text": [
      "['01.13', '126.7', '4.02', '37.15', '0.16']\n"
     ]
    }
   ],
   "source": [
    "#Q20\n",
    "def look_for_decimal_numbers(text1):\n",
    "    pattern45 = re.compile(r'\\b\\d+\\.\\d{1,2}\\b')\n",
    "\n",
    "    D_N = pattern45.findall(text1)\n",
    "    \n",
    "    return D_N\n",
    "\n",
    "text1 = \"01.13 0452.165 2.24675 126.7 4.02 37.15 0.16\"\n",
    "\n",
    "output = look_for_decimal_numbers(text1)\n",
    "\n",
    "print(output)\n"
   ]
  },
  {
   "cell_type": "code",
   "execution_count": 97,
   "id": "242696d3",
   "metadata": {},
   "outputs": [
    {
     "name": "stdout",
     "output_type": "stream",
     "text": [
      "Number: 50, Position: (38, 40)\n",
      "Number: 100, Position: (102, 105)\n"
     ]
    }
   ],
   "source": [
    "#Q21\n",
    "def separation_by_numbers(textno_123):\n",
    "    pattern = re.compile(r'\\d+')\n",
    "    results = pattern.finditer(textno_123)\n",
    "    setting_positions = []\n",
    "\n",
    "    for r in results:\n",
    "        number = r.group()\n",
    "        start = r.start()\n",
    "        end = r.end()\n",
    "        setting_positions.append((number, start, end))\n",
    "    \n",
    "    return setting_positions\n",
    "\n",
    "textno_123 = \"The opportunity cost is approximately 50 and thus you should go for the investment giving a return of 100.\"\n",
    "\n",
    "FinalResult = separation_by_numbers(textno_123)\n",
    "\n",
    "for number, start, end in FinalResult:\n",
    "    print(f\"Number: {number}, Position: ({start}, {end})\")"
   ]
  },
  {
   "cell_type": "code",
   "execution_count": 157,
   "id": "43115095",
   "metadata": {},
   "outputs": [
    {
     "name": "stdout",
     "output_type": "stream",
     "text": [
      "largest number: {850}\n"
     ]
    }
   ],
   "source": [
    "#Q22\n",
    "Markslist = 'In my first semester I scored: 700, 850, 666, 450, 350, 789,642'\n",
    "regpattern= r'\\d+'\n",
    "\n",
    "values = re.findall(regpattern, Markslist)\n",
    "\n",
    "if Markslist:\n",
    "    the_max_is = max(map(int, values))\n",
    "    print(f\"largest number:\", {the_max_is})\n"
   ]
  },
  {
   "cell_type": "code",
   "execution_count": 140,
   "id": "abde5e77",
   "metadata": {},
   "outputs": [
    {
     "name": "stdout",
     "output_type": "stream",
     "text": [
      " Alvira Is An Enemy For The Knowns\n"
     ]
    }
   ],
   "source": [
    "#23\n",
    "def insert(text2):\n",
    "    pattern = r'([A-Z])'\n",
    "    new_text3 = re.sub(pattern, r' \\1', text2)\n",
    "    return new_text3\n",
    "text2 = 'AlviraIsAnEnemyForTheKnowns'\n",
    "result3 = insert(text2)\n",
    "print(result3)\n"
   ]
  },
  {
   "cell_type": "code",
   "execution_count": 143,
   "id": "6ee65c7e",
   "metadata": {},
   "outputs": [
    {
     "name": "stdout",
     "output_type": "stream",
     "text": [
      "['Alvira', 'Is', 'An', 'Enemy', 'For', 'The', 'Knowns']\n"
     ]
    }
   ],
   "source": [
    "#24\n",
    "text24 = 'AlviraIsAnEnemyForTheKnowns'\n",
    "patterns=r'[A-Z][a-z]+'\n",
    "findthepattern=re.findall(patterns, text24)\n",
    "print(findthepattern)"
   ]
  },
  {
   "cell_type": "code",
   "execution_count": 156,
   "id": "adf2ec58",
   "metadata": {},
   "outputs": [
    {
     "name": "stdout",
     "output_type": "stream",
     "text": [
      "Alvira was on her way for her ultimate world tour until her mother woke her up\n"
     ]
    }
   ],
   "source": [
    "#25\n",
    "string_50=\"Alvira was on her her way for her ultimate world world tour until her mother woke her up\"\n",
    "regex=r'\\b(\\w+)(?:\\W\\1\\b)+'\n",
    "r=re.sub(regex,r'\\1',string_50)\n",
    "print(r)"
   ]
  },
  {
   "cell_type": "code",
   "execution_count": 174,
   "id": "fce7767b",
   "metadata": {},
   "outputs": [
    {
     "name": "stdout",
     "output_type": "stream",
     "text": [
      "Match object: <re.Match object; span=(32, 41), match='Xpress457'>\n"
     ]
    }
   ],
   "source": [
    "#26\n",
    "target_string23= \"I was on a train to nowehere on Xpress457\"\n",
    "result=re.search(r'[A-Za-z0-9]+$', target_string23)\n",
    "print(\"Match object:\",result)\n"
   ]
  },
  {
   "cell_type": "code",
   "execution_count": 181,
   "id": "211cc6c4",
   "metadata": {},
   "outputs": [
    {
     "name": "stdout",
     "output_type": "stream",
     "text": [
      "['#Aayra', '#whynot', '#Me']\n"
     ]
    }
   ],
   "source": [
    "#27\n",
    "target_string27=\"\"\"WY @Voyma_Sinilk: #Aayra I mean #whynot is \"not good\" by #Me it is sad to see her like this UNFORTUNATELY <de><l+00BA0><P+040BD><se><p+00r1><L+0090> \"nothing \" No No\"\"\"\n",
    "\n",
    "result27=re.findall(r'#\\w+', target_string27)\n",
    "print(result27)"
   ]
  },
  {
   "cell_type": "code",
   "execution_count": 196,
   "id": "4f3f000a",
   "metadata": {},
   "outputs": [
    {
     "name": "stdout",
     "output_type": "stream",
     "text": [
      "@Jags123456 Bharat band on 28??<ed><ed>Those who  are protesting #demonetization are all different party leaders\n"
     ]
    }
   ],
   "source": [
    "#28\n",
    "target_string492= \"@Jags123456 Bharat band on 28??<ed><U+00A0><U+00BD><ed><U+00B8><U+0082>Those who  are protesting #demonetization are all different party leaders\"\n",
    "result97=re.sub(r'<U\\+\\w{4}>','', target_string492)\n",
    "print(result97)"
   ]
  },
  {
   "cell_type": "code",
   "execution_count": 70,
   "id": "961c7f0a",
   "metadata": {},
   "outputs": [],
   "source": [
    "#29\n",
    "import regex as re\n",
    "extract_date = []\n",
    "with open ('Change_Dates1') as file:\n",
    "    for line in file:\n",
    "        pattern=r'\\d\\d-\\d\\d-\\d\\d\\d\\d'\n",
    "        extract_date=re.findall(pattern,line)\n",
    "        "
   ]
  },
  {
   "cell_type": "code",
   "execution_count": 71,
   "id": "4444f8ca",
   "metadata": {},
   "outputs": [
    {
     "name": "stdout",
     "output_type": "stream",
     "text": [
      "12-09-1992\n",
      "15-12-1999\n"
     ]
    }
   ],
   "source": [
    "for date in extract_date:\n",
    "        print(date)"
   ]
  },
  {
   "cell_type": "code",
   "execution_count": 222,
   "id": "e082c61f",
   "metadata": {},
   "outputs": [
    {
     "name": "stdout",
     "output_type": "stream",
     "text": [
      "      running a    London\n"
     ]
    }
   ],
   "source": [
    "#30\n",
    "def remove_words(text):\n",
    "    pattern72 = re.compile(r'\\b\\w{2,4}\\b')\n",
    "\n",
    "    improved_text= pattern72.sub('',text)\n",
    "    \n",
    "    return improved_text\n",
    "\n",
    "text = \"The star wars cast will be running a live show in London\"\n",
    "\n",
    "output = remove_words(text)\n",
    "\n",
    "print(output)"
   ]
  },
  {
   "cell_type": "code",
   "execution_count": null,
   "id": "ec690182",
   "metadata": {},
   "outputs": [],
   "source": []
  }
 ],
 "metadata": {
  "kernelspec": {
   "display_name": "Python 3 (ipykernel)",
   "language": "python",
   "name": "python3"
  },
  "language_info": {
   "codemirror_mode": {
    "name": "ipython",
    "version": 3
   },
   "file_extension": ".py",
   "mimetype": "text/x-python",
   "name": "python",
   "nbconvert_exporter": "python",
   "pygments_lexer": "ipython3",
   "version": "3.10.9"
  }
 },
 "nbformat": 4,
 "nbformat_minor": 5
}
