{
 "cells": [
  {
   "cell_type": "code",
   "execution_count": 2,
   "id": "b90f8d76",
   "metadata": {},
   "outputs": [
    {
     "name": "stdout",
     "output_type": "stream",
     "text": [
      "Requirement already satisfied: selenium in c:\\users\\alvir\\anaconda3\\lib\\site-packages (4.15.0)\n",
      "Requirement already satisfied: urllib3[socks]<3,>=1.26 in c:\\users\\alvir\\anaconda3\\lib\\site-packages (from selenium) (1.26.16)\n",
      "Requirement already satisfied: trio~=0.17 in c:\\users\\alvir\\anaconda3\\lib\\site-packages (from selenium) (0.22.2)\n",
      "Requirement already satisfied: trio-websocket~=0.9 in c:\\users\\alvir\\anaconda3\\lib\\site-packages (from selenium) (0.11.1)\n",
      "Requirement already satisfied: certifi>=2021.10.8 in c:\\users\\alvir\\anaconda3\\lib\\site-packages (from selenium) (2023.7.22)\n",
      "Requirement already satisfied: attrs>=20.1.0 in c:\\users\\alvir\\anaconda3\\lib\\site-packages (from trio~=0.17->selenium) (22.1.0)\n",
      "Requirement already satisfied: sortedcontainers in c:\\users\\alvir\\anaconda3\\lib\\site-packages (from trio~=0.17->selenium) (2.4.0)\n",
      "Requirement already satisfied: idna in c:\\users\\alvir\\anaconda3\\lib\\site-packages (from trio~=0.17->selenium) (3.4)\n",
      "Requirement already satisfied: outcome in c:\\users\\alvir\\anaconda3\\lib\\site-packages (from trio~=0.17->selenium) (1.3.0.post0)\n",
      "Requirement already satisfied: sniffio in c:\\users\\alvir\\anaconda3\\lib\\site-packages (from trio~=0.17->selenium) (1.2.0)\n",
      "Requirement already satisfied: cffi>=1.14 in c:\\users\\alvir\\anaconda3\\lib\\site-packages (from trio~=0.17->selenium) (1.15.1)\n",
      "Requirement already satisfied: wsproto>=0.14 in c:\\users\\alvir\\anaconda3\\lib\\site-packages (from trio-websocket~=0.9->selenium) (1.2.0)\n",
      "Requirement already satisfied: PySocks!=1.5.7,<2.0,>=1.5.6 in c:\\users\\alvir\\anaconda3\\lib\\site-packages (from urllib3[socks]<3,>=1.26->selenium) (1.7.1)\n",
      "Requirement already satisfied: pycparser in c:\\users\\alvir\\anaconda3\\lib\\site-packages (from cffi>=1.14->trio~=0.17->selenium) (2.21)\n",
      "Requirement already satisfied: h11<1,>=0.9.0 in c:\\users\\alvir\\anaconda3\\lib\\site-packages (from wsproto>=0.14->trio-websocket~=0.9->selenium) (0.14.0)\n"
     ]
    }
   ],
   "source": [
    "!pip install selenium"
   ]
  },
  {
   "cell_type": "code",
   "execution_count": 3,
   "id": "ff664946",
   "metadata": {},
   "outputs": [],
   "source": [
    "import selenium"
   ]
  },
  {
   "cell_type": "code",
   "execution_count": 4,
   "id": "8ed4bd9c",
   "metadata": {},
   "outputs": [],
   "source": [
    "from selenium import webdriver\n",
    "import pandas as pd\n",
    "from selenium.webdriver.common.by import By\n",
    "import warnings\n",
    "warnings.filterwarnings(\"ignore\")\n",
    "import time"
   ]
  },
  {
   "cell_type": "raw",
   "id": "96c2c6cb",
   "metadata": {},
   "source": [
    "Q1: Write a python program to scrape data for “Data Analyst” Job position in “Bangalore” location. You\n",
    "have to scrape the job-title, job-location, company_name, experience_required. You have to scrape first 10\n",
    "jobs data.\n",
    "This task will be done in following steps:\n",
    "1. First get the webpage https://www.shine.com/\n",
    "2. Enter “Data Analyst” in “Job title, Skills” field and enter “Bangalore” in “enter the location” field.\n",
    "3. Then click the searchbutton.\n",
    "4. Then scrape the data for the first 10 jobs results you get.\n",
    "5. Finally create a dataframe of the scraped data."
   ]
  },
  {
   "cell_type": "code",
   "execution_count": 5,
   "id": "981b7d22",
   "metadata": {},
   "outputs": [],
   "source": [
    "driver=webdriver.Chrome()"
   ]
  },
  {
   "cell_type": "code",
   "execution_count": 6,
   "id": "e915dbc1",
   "metadata": {},
   "outputs": [],
   "source": [
    "driver.get(\"https://www.shine.com/\")"
   ]
  },
  {
   "cell_type": "code",
   "execution_count": 8,
   "id": "6341ed58",
   "metadata": {},
   "outputs": [],
   "source": [
    "designation=driver.find_element(By.CLASS_NAME,\"searchBarInput\")\n",
    "designation.send_keys('Data Analyst')"
   ]
  },
  {
   "cell_type": "code",
   "execution_count": 414,
   "id": "eda65b49",
   "metadata": {},
   "outputs": [],
   "source": [
    "location=driver.find_element(By.XPATH,\"/html/body/div/div[4]/div/div[2]/div[2]/div/form/div/div[1]/ul/li[2]/div/input\")\n",
    "location.send_keys('Bangalore')"
   ]
  },
  {
   "cell_type": "code",
   "execution_count": 415,
   "id": "6c151227",
   "metadata": {},
   "outputs": [],
   "source": [
    "search=driver.find_element(By.XPATH,\"/html/body/div/div[4]/div/div[2]/div[2]/div/form/div/div[2]/div/button\")\n",
    "search.click()"
   ]
  },
  {
   "cell_type": "code",
   "execution_count": 516,
   "id": "766ed90d",
   "metadata": {},
   "outputs": [],
   "source": [
    "job_title=[]\n",
    "job_location=[]\n",
    "company_name=[]\n",
    "experience_required=[]"
   ]
  },
  {
   "cell_type": "code",
   "execution_count": 517,
   "id": "030d3975",
   "metadata": {},
   "outputs": [],
   "source": [
    "title_tags = driver.find_elements(By.XPATH, \"//div/h2[@itemprop='name']\")\n",
    "for title_tag in title_tags[:10]:\n",
    "    title = title_tag.text\n",
    "    job_title.append(title)\n"
   ]
  },
  {
   "cell_type": "code",
   "execution_count": 518,
   "id": "4655dfed",
   "metadata": {},
   "outputs": [
    {
     "name": "stdout",
     "output_type": "stream",
     "text": [
      "['Data Analyst Vacancy', 'Data Analyst Vacancy', 'Clinical Data Analyst', 'Data Analyst Urgent Recruitment', 'Data Analyst Urgent Recruitment', 'Data Analyst Urgent Recruitment', 'Data Analyst 1', 'Clinical Data Analyst', 'Hiring For Data Analyst', 'Data Analyst']\n"
     ]
    }
   ],
   "source": [
    "print(job_title)"
   ]
  },
  {
   "cell_type": "code",
   "execution_count": 519,
   "id": "0978668c",
   "metadata": {},
   "outputs": [
    {
     "name": "stdout",
     "output_type": "stream",
     "text": [
      "Bangalore\n",
      "Bangalore\n",
      "Bangalore\n",
      "Bangalore\n",
      "Bangalore\n",
      "Bangalore\n",
      "Bangalore\n",
      "Bangalore\n",
      "Bangalore\n",
      "Bangalore\n"
     ]
    }
   ],
   "source": [
    "location_tags = driver.find_elements(By.XPATH, \"//div[contains(@class, 'YxRkV jobCard_locationIcon')]\")\n",
    "\n",
    "for location_tag in location_tags[0:10]:\n",
    "    location = location_tag.text.strip()\n",
    "    clean_location = location.split('+')[0].strip()\n",
    "    job_location.append(clean_location)\n",
    "\n",
    "for loc in job_location:\n",
    "    print(loc)"
   ]
  },
  {
   "cell_type": "code",
   "execution_count": 520,
   "id": "2c1febfe",
   "metadata": {},
   "outputs": [
    {
     "name": "stdout",
     "output_type": "stream",
     "text": [
      "['divya interprises', 'divya interprises', 'quiscon biotech', 'divya interprises', 'divya interprises', 'divya interprises', 'merck ltd', 'techno endura', 'divya interprises', 'v-tech data outsourcing']\n"
     ]
    }
   ],
   "source": [
    "company_tags = driver.find_elements(By.XPATH, \"//div[contains(@class, 'jobCard_jobCard_cName__mYnow')]/span\")\n",
    "\n",
    "for company_tag in company_tags[0:10]:\n",
    "    company = company_tag.text.strip()\n",
    "    company_name.append(company)\n",
    "\n",
    "print(company_name)"
   ]
  },
  {
   "cell_type": "code",
   "execution_count": 521,
   "id": "304a3b37",
   "metadata": {},
   "outputs": [],
   "source": [
    "experience_tags = driver.find_elements(By.XPATH, \"//div[contains(@class, 'jobCard_jobIcon')]\")\n",
    "for experience_tag in experience_tags[0:10]:\n",
    "    experience = experience_tag.text.strip()  \n",
    "    experience_required.append(experience)"
   ]
  },
  {
   "cell_type": "code",
   "execution_count": 522,
   "id": "6846c9c7",
   "metadata": {},
   "outputs": [
    {
     "name": "stdout",
     "output_type": "stream",
     "text": [
      "['0 to 4 Yrs', '0 to 4 Yrs', '0 to 2 Yrs', '0 to 4 Yrs', '0 to 4 Yrs', '0 to 4 Yrs', '1 to 3 Yrs', '0 to 1 Yr', '0 to 4 Yrs', '0 to 2 Yrs']\n"
     ]
    }
   ],
   "source": [
    "print(experience_required)"
   ]
  },
  {
   "cell_type": "code",
   "execution_count": 523,
   "id": "5a819a56",
   "metadata": {},
   "outputs": [],
   "source": [
    "import pandas as pd"
   ]
  },
  {
   "cell_type": "code",
   "execution_count": 524,
   "id": "af868f95",
   "metadata": {},
   "outputs": [
    {
     "name": "stdout",
     "output_type": "stream",
     "text": [
      "10 10 10 10\n"
     ]
    }
   ],
   "source": [
    "print(len(job_title),len(job_location),len(company_name),len(experience_required))"
   ]
  },
  {
   "cell_type": "code",
   "execution_count": 525,
   "id": "c96ce20b",
   "metadata": {},
   "outputs": [],
   "source": [
    "df=pd.DataFrame({'Title':job_title,'Location':job_location,'Company_name':company_name,'Experience':experience_required})"
   ]
  },
  {
   "cell_type": "code",
   "execution_count": 526,
   "id": "6a649c40",
   "metadata": {},
   "outputs": [
    {
     "data": {
      "text/html": [
       "<div>\n",
       "<style scoped>\n",
       "    .dataframe tbody tr th:only-of-type {\n",
       "        vertical-align: middle;\n",
       "    }\n",
       "\n",
       "    .dataframe tbody tr th {\n",
       "        vertical-align: top;\n",
       "    }\n",
       "\n",
       "    .dataframe thead th {\n",
       "        text-align: right;\n",
       "    }\n",
       "</style>\n",
       "<table border=\"1\" class=\"dataframe\">\n",
       "  <thead>\n",
       "    <tr style=\"text-align: right;\">\n",
       "      <th></th>\n",
       "      <th>Title</th>\n",
       "      <th>Location</th>\n",
       "      <th>Company_name</th>\n",
       "      <th>Experience</th>\n",
       "    </tr>\n",
       "  </thead>\n",
       "  <tbody>\n",
       "    <tr>\n",
       "      <th>0</th>\n",
       "      <td>Data Analyst Vacancy</td>\n",
       "      <td>Bangalore</td>\n",
       "      <td>divya interprises</td>\n",
       "      <td>0 to 4 Yrs</td>\n",
       "    </tr>\n",
       "    <tr>\n",
       "      <th>1</th>\n",
       "      <td>Data Analyst Vacancy</td>\n",
       "      <td>Bangalore</td>\n",
       "      <td>divya interprises</td>\n",
       "      <td>0 to 4 Yrs</td>\n",
       "    </tr>\n",
       "    <tr>\n",
       "      <th>2</th>\n",
       "      <td>Clinical Data Analyst</td>\n",
       "      <td>Bangalore</td>\n",
       "      <td>quiscon biotech</td>\n",
       "      <td>0 to 2 Yrs</td>\n",
       "    </tr>\n",
       "    <tr>\n",
       "      <th>3</th>\n",
       "      <td>Data Analyst Urgent Recruitment</td>\n",
       "      <td>Bangalore</td>\n",
       "      <td>divya interprises</td>\n",
       "      <td>0 to 4 Yrs</td>\n",
       "    </tr>\n",
       "    <tr>\n",
       "      <th>4</th>\n",
       "      <td>Data Analyst Urgent Recruitment</td>\n",
       "      <td>Bangalore</td>\n",
       "      <td>divya interprises</td>\n",
       "      <td>0 to 4 Yrs</td>\n",
       "    </tr>\n",
       "    <tr>\n",
       "      <th>5</th>\n",
       "      <td>Data Analyst Urgent Recruitment</td>\n",
       "      <td>Bangalore</td>\n",
       "      <td>divya interprises</td>\n",
       "      <td>0 to 4 Yrs</td>\n",
       "    </tr>\n",
       "    <tr>\n",
       "      <th>6</th>\n",
       "      <td>Data Analyst 1</td>\n",
       "      <td>Bangalore</td>\n",
       "      <td>merck ltd</td>\n",
       "      <td>1 to 3 Yrs</td>\n",
       "    </tr>\n",
       "    <tr>\n",
       "      <th>7</th>\n",
       "      <td>Clinical Data Analyst</td>\n",
       "      <td>Bangalore</td>\n",
       "      <td>techno endura</td>\n",
       "      <td>0 to 1 Yr</td>\n",
       "    </tr>\n",
       "    <tr>\n",
       "      <th>8</th>\n",
       "      <td>Hiring For Data Analyst</td>\n",
       "      <td>Bangalore</td>\n",
       "      <td>divya interprises</td>\n",
       "      <td>0 to 4 Yrs</td>\n",
       "    </tr>\n",
       "    <tr>\n",
       "      <th>9</th>\n",
       "      <td>Data Analyst</td>\n",
       "      <td>Bangalore</td>\n",
       "      <td>v-tech data outsourcing</td>\n",
       "      <td>0 to 2 Yrs</td>\n",
       "    </tr>\n",
       "  </tbody>\n",
       "</table>\n",
       "</div>"
      ],
      "text/plain": [
       "                             Title   Location             Company_name  \\\n",
       "0             Data Analyst Vacancy  Bangalore        divya interprises   \n",
       "1             Data Analyst Vacancy  Bangalore        divya interprises   \n",
       "2            Clinical Data Analyst  Bangalore          quiscon biotech   \n",
       "3  Data Analyst Urgent Recruitment  Bangalore        divya interprises   \n",
       "4  Data Analyst Urgent Recruitment  Bangalore        divya interprises   \n",
       "5  Data Analyst Urgent Recruitment  Bangalore        divya interprises   \n",
       "6                   Data Analyst 1  Bangalore                merck ltd   \n",
       "7            Clinical Data Analyst  Bangalore            techno endura   \n",
       "8          Hiring For Data Analyst  Bangalore        divya interprises   \n",
       "9                     Data Analyst  Bangalore  v-tech data outsourcing   \n",
       "\n",
       "   Experience  \n",
       "0  0 to 4 Yrs  \n",
       "1  0 to 4 Yrs  \n",
       "2  0 to 2 Yrs  \n",
       "3  0 to 4 Yrs  \n",
       "4  0 to 4 Yrs  \n",
       "5  0 to 4 Yrs  \n",
       "6  1 to 3 Yrs  \n",
       "7   0 to 1 Yr  \n",
       "8  0 to 4 Yrs  \n",
       "9  0 to 2 Yrs  "
      ]
     },
     "execution_count": 526,
     "metadata": {},
     "output_type": "execute_result"
    }
   ],
   "source": [
    "df"
   ]
  },
  {
   "cell_type": "raw",
   "id": "21326396",
   "metadata": {},
   "source": [
    "Q2:Write a python program to scrape data for “Data Scientist” Job position in“Bangalore” location. You\n",
    "have to scrape the job-title, job-location, company_name. You have to scrape first 10 jobs data.\n",
    "This task will be done in following steps:\n",
    "1. First get the webpage https://www.shine.com/\n",
    "2. Enter “Data Scientist” in “Job title, Skills” field and enter “Bangalore” in “enter thelocation” field.\n",
    "3. Then click the search button.\n",
    "4. Then scrape the data for the first 10 jobs results you get.\n",
    "5. Finally create a dataframe of the scraped data."
   ]
  },
  {
   "cell_type": "code",
   "execution_count": 532,
   "id": "69a6ee46",
   "metadata": {},
   "outputs": [],
   "source": [
    "driver=webdriver.Chrome()\n",
    "driver.get(\"https://www.shine.com/\")"
   ]
  },
  {
   "cell_type": "code",
   "execution_count": 533,
   "id": "0415764c",
   "metadata": {},
   "outputs": [],
   "source": [
    "designation=driver.find_element(By.CLASS_NAME,\"form-control\")\n",
    "designation.send_keys('Data Scientist')"
   ]
  },
  {
   "cell_type": "code",
   "execution_count": 534,
   "id": "0376ba16",
   "metadata": {},
   "outputs": [],
   "source": [
    "location=driver.find_element(By.XPATH,\"/html/body/div/div[4]/div/div[2]/div[2]/div/form/div/div[1]/ul/li[2]/div/input\")\n",
    "location.send_keys('Bangalore')"
   ]
  },
  {
   "cell_type": "code",
   "execution_count": 535,
   "id": "34fb4e85",
   "metadata": {},
   "outputs": [],
   "source": [
    "search=driver.find_element(By.XPATH,\"/html/body/div/div[4]/div/div[2]/div[2]/div/form/div/div[2]/div/button\")\n",
    "search.click()"
   ]
  },
  {
   "cell_type": "code",
   "execution_count": 536,
   "id": "c0cb99e4",
   "metadata": {},
   "outputs": [],
   "source": [
    "job_title=[]\n",
    "job_location=[]\n",
    "company_name=[]"
   ]
  },
  {
   "cell_type": "code",
   "execution_count": 537,
   "id": "301ab54d",
   "metadata": {},
   "outputs": [],
   "source": [
    "title_tags1 = driver.find_elements(By.XPATH, \"//div/h2[@itemprop='name']\")\n",
    "for title_tag in title_tags1[:10]:\n",
    "    title = title_tag.text\n",
    "    job_title.append(title)"
   ]
  },
  {
   "cell_type": "code",
   "execution_count": 538,
   "id": "332025c4",
   "metadata": {},
   "outputs": [
    {
     "name": "stdout",
     "output_type": "stream",
     "text": [
      "['Data Scientist Vacancy', 'Data Scientist Urgent Recruitment', 'Data Scientist- Bangalore', 'Data Scientist-Bangalore', 'Hiring For Data Scientist', 'Data Scientist', 'Data scientist', 'Data Scientist - Bangalore', 'Data Scientist', 'Data Scientist']\n"
     ]
    }
   ],
   "source": [
    "print(job_title)"
   ]
  },
  {
   "cell_type": "code",
   "execution_count": 539,
   "id": "cf1f2e58",
   "metadata": {},
   "outputs": [
    {
     "name": "stdout",
     "output_type": "stream",
     "text": [
      "Bangalore\n",
      "Bangalore\n",
      "Bangalore\n",
      "Bangalore\n",
      "Bangalore\n",
      "Bangalore\n",
      "Bangalore\n",
      "Bangalore\n",
      "Bangalore\n",
      "Bangalore\n"
     ]
    }
   ],
   "source": [
    "location_tags1 = driver.find_elements(By.XPATH, \"//div[contains(@class, 'YxRkV jobCard_locationIcon')]\")\n",
    "\n",
    "for location_tag in location_tags1[0:10]:\n",
    "    location = location_tag.text.strip()\n",
    "    clean_location = location.split('+')[0].strip()\n",
    "    job_location.append(clean_location)\n",
    "\n",
    "for loc in job_location:\n",
    "    print(loc)"
   ]
  },
  {
   "cell_type": "code",
   "execution_count": 540,
   "id": "02a565b2",
   "metadata": {},
   "outputs": [
    {
     "name": "stdout",
     "output_type": "stream",
     "text": [
      "['divya interprises', 'divya interprises', 'the fashion cosmo', 'shiva hr services', 'divya interprises', 'racanaa energy solution private lim...', 'capgemini technology services india...', 'deuglo infosystem private limited', 'mnr solutions pvt ltd', 'mnr solutions pvt ltd']\n"
     ]
    }
   ],
   "source": [
    "company_tags1 = driver.find_elements(By.XPATH, \"//div[contains(@class, 'jobCard_jobCard_cName__mYnow')]/span\")\n",
    "\n",
    "for company_tag in company_tags1[0:10]:\n",
    "    company = company_tag.text.strip()\n",
    "    company_name.append(company)\n",
    "\n",
    "print(company_name)"
   ]
  },
  {
   "cell_type": "code",
   "execution_count": 544,
   "id": "16fd5e5b",
   "metadata": {},
   "outputs": [
    {
     "name": "stdout",
     "output_type": "stream",
     "text": [
      "10 10 10\n"
     ]
    }
   ],
   "source": [
    "print(len(job_title),len(job_location),len(company_name))"
   ]
  },
  {
   "cell_type": "code",
   "execution_count": 545,
   "id": "a90339d8",
   "metadata": {},
   "outputs": [],
   "source": [
    "df1=pd.DataFrame({'Title':job_title,'Location':job_location,'Company_name':company_name})"
   ]
  },
  {
   "cell_type": "code",
   "execution_count": 546,
   "id": "98331c3d",
   "metadata": {},
   "outputs": [
    {
     "data": {
      "text/html": [
       "<div>\n",
       "<style scoped>\n",
       "    .dataframe tbody tr th:only-of-type {\n",
       "        vertical-align: middle;\n",
       "    }\n",
       "\n",
       "    .dataframe tbody tr th {\n",
       "        vertical-align: top;\n",
       "    }\n",
       "\n",
       "    .dataframe thead th {\n",
       "        text-align: right;\n",
       "    }\n",
       "</style>\n",
       "<table border=\"1\" class=\"dataframe\">\n",
       "  <thead>\n",
       "    <tr style=\"text-align: right;\">\n",
       "      <th></th>\n",
       "      <th>Title</th>\n",
       "      <th>Location</th>\n",
       "      <th>Company_name</th>\n",
       "    </tr>\n",
       "  </thead>\n",
       "  <tbody>\n",
       "    <tr>\n",
       "      <th>0</th>\n",
       "      <td>Data Scientist Vacancy</td>\n",
       "      <td>Bangalore</td>\n",
       "      <td>divya interprises</td>\n",
       "    </tr>\n",
       "    <tr>\n",
       "      <th>1</th>\n",
       "      <td>Data Scientist Urgent Recruitment</td>\n",
       "      <td>Bangalore</td>\n",
       "      <td>divya interprises</td>\n",
       "    </tr>\n",
       "    <tr>\n",
       "      <th>2</th>\n",
       "      <td>Data Scientist- Bangalore</td>\n",
       "      <td>Bangalore</td>\n",
       "      <td>the fashion cosmo</td>\n",
       "    </tr>\n",
       "    <tr>\n",
       "      <th>3</th>\n",
       "      <td>Data Scientist-Bangalore</td>\n",
       "      <td>Bangalore</td>\n",
       "      <td>shiva hr services</td>\n",
       "    </tr>\n",
       "    <tr>\n",
       "      <th>4</th>\n",
       "      <td>Hiring For Data Scientist</td>\n",
       "      <td>Bangalore</td>\n",
       "      <td>divya interprises</td>\n",
       "    </tr>\n",
       "    <tr>\n",
       "      <th>5</th>\n",
       "      <td>Data Scientist</td>\n",
       "      <td>Bangalore</td>\n",
       "      <td>racanaa energy solution private lim...</td>\n",
       "    </tr>\n",
       "    <tr>\n",
       "      <th>6</th>\n",
       "      <td>Data scientist</td>\n",
       "      <td>Bangalore</td>\n",
       "      <td>capgemini technology services india...</td>\n",
       "    </tr>\n",
       "    <tr>\n",
       "      <th>7</th>\n",
       "      <td>Data Scientist - Bangalore</td>\n",
       "      <td>Bangalore</td>\n",
       "      <td>deuglo infosystem private limited</td>\n",
       "    </tr>\n",
       "    <tr>\n",
       "      <th>8</th>\n",
       "      <td>Data Scientist</td>\n",
       "      <td>Bangalore</td>\n",
       "      <td>mnr solutions pvt ltd</td>\n",
       "    </tr>\n",
       "    <tr>\n",
       "      <th>9</th>\n",
       "      <td>Data Scientist</td>\n",
       "      <td>Bangalore</td>\n",
       "      <td>mnr solutions pvt ltd</td>\n",
       "    </tr>\n",
       "  </tbody>\n",
       "</table>\n",
       "</div>"
      ],
      "text/plain": [
       "                               Title   Location  \\\n",
       "0             Data Scientist Vacancy  Bangalore   \n",
       "1  Data Scientist Urgent Recruitment  Bangalore   \n",
       "2          Data Scientist- Bangalore  Bangalore   \n",
       "3           Data Scientist-Bangalore  Bangalore   \n",
       "4          Hiring For Data Scientist  Bangalore   \n",
       "5                     Data Scientist  Bangalore   \n",
       "6                     Data scientist  Bangalore   \n",
       "7         Data Scientist - Bangalore  Bangalore   \n",
       "8                     Data Scientist  Bangalore   \n",
       "9                     Data Scientist  Bangalore   \n",
       "\n",
       "                             Company_name  \n",
       "0                       divya interprises  \n",
       "1                       divya interprises  \n",
       "2                       the fashion cosmo  \n",
       "3                       shiva hr services  \n",
       "4                       divya interprises  \n",
       "5  racanaa energy solution private lim...  \n",
       "6  capgemini technology services india...  \n",
       "7       deuglo infosystem private limited  \n",
       "8                   mnr solutions pvt ltd  \n",
       "9                   mnr solutions pvt ltd  "
      ]
     },
     "execution_count": 546,
     "metadata": {},
     "output_type": "execute_result"
    }
   ],
   "source": [
    "df1"
   ]
  },
  {
   "cell_type": "raw",
   "id": "6d1b1856",
   "metadata": {},
   "source": [
    "Q3: In this question you have to scrape data using the filters available on the webpage\n",
    " You have to use the location and salary filter.\n",
    "You have to scrape data for “Data Scientist” designation for first 10 job results.\n",
    "You have to scrape the job-title, job-location, company name, experience required.\n",
    "The location filter to be used is “Delhi/NCR”. The salary filter to be used is “3-6” lakhs\n",
    "The task will be done as shown in the below steps:\n",
    "1. first get the web page https://www.shine.com/\n",
    "2. Enter “Data Scientist” in “Skill, Designations, and Companies” field.\n",
    "3. Then click the search button.\n",
    "4. Then apply the location filter and salary filter by checking the respective boxes\n",
    "5. Then scrape the data for the first 10 jobs results you get.\n",
    "6. Finally create a dataframe of the scrapeddata"
   ]
  },
  {
   "cell_type": "code",
   "execution_count": 663,
   "id": "a744c206",
   "metadata": {},
   "outputs": [],
   "source": [
    "driver=webdriver.Chrome()\n",
    "driver.get(\"https://www.shine.com/\")"
   ]
  },
  {
   "cell_type": "code",
   "execution_count": 683,
   "id": "08a6038d",
   "metadata": {},
   "outputs": [],
   "source": [
    "designation=driver.find_element(By.CLASS_NAME,\"searchBarInput\")\n",
    "designation.send_keys('Data Scientist')"
   ]
  },
  {
   "cell_type": "code",
   "execution_count": 671,
   "id": "5b05599f",
   "metadata": {},
   "outputs": [],
   "source": [
    "advanced_search_button = driver.find_element(By.XPATH, \"//button[contains(text(),'Advanced Search')]\")\n",
    "advanced_search_button.click()"
   ]
  },
  {
   "cell_type": "code",
   "execution_count": 681,
   "id": "a94fe9a1",
   "metadata": {},
   "outputs": [],
   "source": [
    "find_location = driver.find_element(By.ID, \"id_loc\")\n",
    "find_location.send_keys('Delhi/NCR')"
   ]
  },
  {
   "cell_type": "code",
   "execution_count": 682,
   "id": "9c43127b",
   "metadata": {},
   "outputs": [],
   "source": [
    "find_salary= driver.find_element(By.XPATH,\"/html/body/div/div[4]/div/div[2]/div[2]/div/form/div/div[1]/ul[2]/li[1]/div/input[1]\")\n",
    "find_salary.send_keys('3-6 lakhs')"
   ]
  },
  {
   "cell_type": "code",
   "execution_count": 684,
   "id": "96072a9c",
   "metadata": {},
   "outputs": [],
   "source": [
    "finalsearch=driver.find_element(By.XPATH,\"/html/body/div/div[4]/div/div[2]/div[2]/div/form/div/div[2]/div/button\")\n",
    "finalsearch.click()"
   ]
  },
  {
   "cell_type": "code",
   "execution_count": 701,
   "id": "50f8126c",
   "metadata": {},
   "outputs": [],
   "source": [
    "job_title1=[]\n",
    "job_location1=[]\n",
    "company_name1=[]\n",
    "experience_required1=[]"
   ]
  },
  {
   "cell_type": "code",
   "execution_count": 702,
   "id": "c6c7ee06",
   "metadata": {},
   "outputs": [],
   "source": [
    "title_tags = driver.find_elements(By.XPATH, \"//h2[@itemprop='name']\")"
   ]
  },
  {
   "cell_type": "code",
   "execution_count": 703,
   "id": "c72797bf",
   "metadata": {},
   "outputs": [],
   "source": [
    "for title_tag in title_tags[:10]:\n",
    "    title = title_tag.text\n",
    "    job_title1.append(title)"
   ]
  },
  {
   "cell_type": "code",
   "execution_count": 704,
   "id": "e27ecfb7",
   "metadata": {},
   "outputs": [
    {
     "name": "stdout",
     "output_type": "stream",
     "text": [
      "['Data Scientists 2024', 'Data Scientist Vacancy', 'Data Scientist Vacancy', 'Data Scientist Vacancy', 'Data Scientist Management Consulting Mumbai', 'Data Scientist Urgent Recruitment', 'Data Scientist Urgent Recruitment', 'Data Scientist Urgent Recruitment', 'Senior Data Scientist', 'Data Scientist- Madhya Pradesh']\n"
     ]
    }
   ],
   "source": [
    "print(job_title1)"
   ]
  },
  {
   "cell_type": "code",
   "execution_count": 707,
   "id": "d704f3e7",
   "metadata": {},
   "outputs": [
    {
     "name": "stdout",
     "output_type": "stream",
     "text": [
      "Coimbatore\n",
      "Oman\n",
      "Oman\n",
      "Oman\n",
      "Mumbai City\n",
      "Oman\n",
      "Oman\n",
      "Oman\n",
      "Chennai\n",
      "Other Madhya Pradesh\n"
     ]
    }
   ],
   "source": [
    "location_tags2 = driver.find_elements(By.XPATH, \"//div[contains(@class, 'jobCard_locationIcon')]\")\n",
    "\n",
    "for location_t in location_tags2[0:10]:\n",
    "    location = location_t.text.strip()\n",
    "    clean_location1 = location.split('+')[0].strip()\n",
    "    job_location1.append(clean_location1)\n",
    "\n",
    "for loca in job_location1:\n",
    "    print(loca)"
   ]
  },
  {
   "cell_type": "code",
   "execution_count": 708,
   "id": "130a99ac",
   "metadata": {},
   "outputs": [
    {
     "name": "stdout",
     "output_type": "stream",
     "text": [
      "['bosch group', 'divya interprises', 'divya interprises', 'divya interprises', 'morpheus human consulting pvt ltd', 'divya interprises', 'divya interprises', 'divya interprises', 'pfizer limited', 'the fashion cosmo']\n"
     ]
    }
   ],
   "source": [
    "company_tags2 = driver.find_elements(By.XPATH, \"//div[contains(@class, 'jobCard_jobCard_cName__mYnow')]/span\")\n",
    "\n",
    "for company_tag in company_tags2[0:10]:\n",
    "    company = company_tag.text.strip()\n",
    "    company_name1.append(company)\n",
    "\n",
    "print(company_name1)"
   ]
  },
  {
   "cell_type": "code",
   "execution_count": 709,
   "id": "93c63f7b",
   "metadata": {},
   "outputs": [],
   "source": [
    "experience_tags2 = driver.find_elements(By.XPATH, \"//div[contains(@class, 'jobCard_jobIcon')]\")\n",
    "for experience_tag in experience_tags2[0:10]:\n",
    "    experience = experience_tag.text.strip()  \n",
    "    experience_required1.append(experience)"
   ]
  },
  {
   "cell_type": "code",
   "execution_count": 710,
   "id": "122ad08a",
   "metadata": {},
   "outputs": [
    {
     "name": "stdout",
     "output_type": "stream",
     "text": [
      "['0 to 4 Yrs', '0 to 4 Yrs', '0 to 4 Yrs', '0 to 4 Yrs', '2 to 4 Yrs', '0 to 4 Yrs', '0 to 4 Yrs', '0 to 4 Yrs', '7 to 9 Yrs', '0 to 3 Yrs']\n"
     ]
    }
   ],
   "source": [
    "print(experience_required1)"
   ]
  },
  {
   "cell_type": "code",
   "execution_count": 711,
   "id": "c97c50f2",
   "metadata": {},
   "outputs": [
    {
     "name": "stdout",
     "output_type": "stream",
     "text": [
      "10 10 10 10\n"
     ]
    }
   ],
   "source": [
    "print(len(job_title1),len(job_location1),len(company_name1),len(experience_required1))"
   ]
  },
  {
   "cell_type": "code",
   "execution_count": 712,
   "id": "f1cc19f7",
   "metadata": {},
   "outputs": [],
   "source": [
    "df2=pd.DataFrame({'Title':job_title1,'Location':job_location1,'Company_name':company_name1,'Experience':experience_required1})"
   ]
  },
  {
   "cell_type": "code",
   "execution_count": 713,
   "id": "d6f11179",
   "metadata": {},
   "outputs": [
    {
     "data": {
      "text/html": [
       "<div>\n",
       "<style scoped>\n",
       "    .dataframe tbody tr th:only-of-type {\n",
       "        vertical-align: middle;\n",
       "    }\n",
       "\n",
       "    .dataframe tbody tr th {\n",
       "        vertical-align: top;\n",
       "    }\n",
       "\n",
       "    .dataframe thead th {\n",
       "        text-align: right;\n",
       "    }\n",
       "</style>\n",
       "<table border=\"1\" class=\"dataframe\">\n",
       "  <thead>\n",
       "    <tr style=\"text-align: right;\">\n",
       "      <th></th>\n",
       "      <th>Title</th>\n",
       "      <th>Location</th>\n",
       "      <th>Company_name</th>\n",
       "      <th>Experience</th>\n",
       "    </tr>\n",
       "  </thead>\n",
       "  <tbody>\n",
       "    <tr>\n",
       "      <th>0</th>\n",
       "      <td>Data Scientists 2024</td>\n",
       "      <td>Coimbatore</td>\n",
       "      <td>bosch group</td>\n",
       "      <td>0 to 4 Yrs</td>\n",
       "    </tr>\n",
       "    <tr>\n",
       "      <th>1</th>\n",
       "      <td>Data Scientist Vacancy</td>\n",
       "      <td>Oman</td>\n",
       "      <td>divya interprises</td>\n",
       "      <td>0 to 4 Yrs</td>\n",
       "    </tr>\n",
       "    <tr>\n",
       "      <th>2</th>\n",
       "      <td>Data Scientist Vacancy</td>\n",
       "      <td>Oman</td>\n",
       "      <td>divya interprises</td>\n",
       "      <td>0 to 4 Yrs</td>\n",
       "    </tr>\n",
       "    <tr>\n",
       "      <th>3</th>\n",
       "      <td>Data Scientist Vacancy</td>\n",
       "      <td>Oman</td>\n",
       "      <td>divya interprises</td>\n",
       "      <td>0 to 4 Yrs</td>\n",
       "    </tr>\n",
       "    <tr>\n",
       "      <th>4</th>\n",
       "      <td>Data Scientist Management Consulting Mumbai</td>\n",
       "      <td>Mumbai City</td>\n",
       "      <td>morpheus human consulting pvt ltd</td>\n",
       "      <td>2 to 4 Yrs</td>\n",
       "    </tr>\n",
       "    <tr>\n",
       "      <th>5</th>\n",
       "      <td>Data Scientist Urgent Recruitment</td>\n",
       "      <td>Oman</td>\n",
       "      <td>divya interprises</td>\n",
       "      <td>0 to 4 Yrs</td>\n",
       "    </tr>\n",
       "    <tr>\n",
       "      <th>6</th>\n",
       "      <td>Data Scientist Urgent Recruitment</td>\n",
       "      <td>Oman</td>\n",
       "      <td>divya interprises</td>\n",
       "      <td>0 to 4 Yrs</td>\n",
       "    </tr>\n",
       "    <tr>\n",
       "      <th>7</th>\n",
       "      <td>Data Scientist Urgent Recruitment</td>\n",
       "      <td>Oman</td>\n",
       "      <td>divya interprises</td>\n",
       "      <td>0 to 4 Yrs</td>\n",
       "    </tr>\n",
       "    <tr>\n",
       "      <th>8</th>\n",
       "      <td>Senior Data Scientist</td>\n",
       "      <td>Chennai</td>\n",
       "      <td>pfizer limited</td>\n",
       "      <td>7 to 9 Yrs</td>\n",
       "    </tr>\n",
       "    <tr>\n",
       "      <th>9</th>\n",
       "      <td>Data Scientist- Madhya Pradesh</td>\n",
       "      <td>Other Madhya Pradesh</td>\n",
       "      <td>the fashion cosmo</td>\n",
       "      <td>0 to 3 Yrs</td>\n",
       "    </tr>\n",
       "  </tbody>\n",
       "</table>\n",
       "</div>"
      ],
      "text/plain": [
       "                                         Title              Location  \\\n",
       "0                         Data Scientists 2024            Coimbatore   \n",
       "1                       Data Scientist Vacancy                  Oman   \n",
       "2                       Data Scientist Vacancy                  Oman   \n",
       "3                       Data Scientist Vacancy                  Oman   \n",
       "4  Data Scientist Management Consulting Mumbai           Mumbai City   \n",
       "5            Data Scientist Urgent Recruitment                  Oman   \n",
       "6            Data Scientist Urgent Recruitment                  Oman   \n",
       "7            Data Scientist Urgent Recruitment                  Oman   \n",
       "8                        Senior Data Scientist               Chennai   \n",
       "9               Data Scientist- Madhya Pradesh  Other Madhya Pradesh   \n",
       "\n",
       "                        Company_name  Experience  \n",
       "0                        bosch group  0 to 4 Yrs  \n",
       "1                  divya interprises  0 to 4 Yrs  \n",
       "2                  divya interprises  0 to 4 Yrs  \n",
       "3                  divya interprises  0 to 4 Yrs  \n",
       "4  morpheus human consulting pvt ltd  2 to 4 Yrs  \n",
       "5                  divya interprises  0 to 4 Yrs  \n",
       "6                  divya interprises  0 to 4 Yrs  \n",
       "7                  divya interprises  0 to 4 Yrs  \n",
       "8                     pfizer limited  7 to 9 Yrs  \n",
       "9                  the fashion cosmo  0 to 3 Yrs  "
      ]
     },
     "execution_count": 713,
     "metadata": {},
     "output_type": "execute_result"
    }
   ],
   "source": [
    "df2"
   ]
  },
  {
   "cell_type": "raw",
   "id": "dc581ab0",
   "metadata": {},
   "source": [
    "Q4) Scrape data of first 100 sunglasses listings on flipkart.com. You have to scrape four attributes:\n",
    "6. Brand\n",
    "7. Product Description\n",
    "8. Price\n",
    "The attributes which you have to scrape is ticked marked in the below image.\n",
    "To scrape the data you have to go through following steps:\n",
    "1. Go to Flipkart webpage by url :https://www.flipkart.com/\n",
    "2. Enter “sunglasses” in the search fieldwhere “search for products, brands and more” is written and\n",
    "click the search icon\n",
    "3. After that you will reach to the page having a lot of sunglasses. From this page you can scrap the\n",
    "required data as usual.\n",
    "After scraping data from the first page, go to the “Next” Button at the bottom other page , then\n",
    "click on it.\n",
    "5. Now scrape data from this page as usual\n",
    "6. Repeat this until you get data for 100sunglasses."
   ]
  },
  {
   "cell_type": "code",
   "execution_count": 91,
   "id": "11c05d30",
   "metadata": {},
   "outputs": [],
   "source": [
    "driver=webdriver.Chrome()\n",
    "driver.get(\"https://www.flipkart.com/\")"
   ]
  },
  {
   "cell_type": "code",
   "execution_count": 93,
   "id": "f550434b",
   "metadata": {},
   "outputs": [],
   "source": [
    "designation1=driver.find_element(By.CLASS_NAME, \"Pke_EE\")\n",
    "designation1.send_keys('sunglasses')"
   ]
  },
  {
   "cell_type": "code",
   "execution_count": 94,
   "id": "c07ed9e7",
   "metadata": {},
   "outputs": [],
   "source": [
    "search=driver.find_element(By.XPATH,\"/html/body/div[1]/div/div[1]/div/div/div/div/div[1]/div/div[1]/div/div[1]/header/div[1]/div[2]/form/div/button\")\n",
    "search.click()"
   ]
  },
  {
   "cell_type": "code",
   "execution_count": 179,
   "id": "bf883e29",
   "metadata": {},
   "outputs": [],
   "source": [
    "brand_title=[]\n",
    "product_description=[]\n",
    "product_price=[]\n",
    "discount_percent=[]"
   ]
  },
  {
   "cell_type": "code",
   "execution_count": 170,
   "id": "de1f0802",
   "metadata": {},
   "outputs": [],
   "source": [
    "start=0\n",
    "end=3\n",
    "for page in range(start,end):\n",
    "    titles=driver.find_elements(By.CLASS_NAME, \"_2WkVRV\")\n",
    "    for i in titles[0:100]:\n",
    "        brand_title.append(i.text)\n",
    "        if len(brand_title) >= 100:\n",
    "            break\n",
    "next_button=driver.find_element(By.CLASS_NAME, '_1LKTO3')\n",
    "next_button.click()\n",
    "time.sleep(3)"
   ]
  },
  {
   "cell_type": "code",
   "execution_count": 171,
   "id": "08ad6bb9",
   "metadata": {},
   "outputs": [
    {
     "name": "stdout",
     "output_type": "stream",
     "text": [
      "100\n"
     ]
    }
   ],
   "source": [
    "print(len(brand_title))"
   ]
  },
  {
   "cell_type": "code",
   "execution_count": 180,
   "id": "9384f020",
   "metadata": {},
   "outputs": [],
   "source": [
    "start=0\n",
    "end=3\n",
    "for page in range(start,end):\n",
    "    product=driver.find_elements(By.CLASS_NAME, \"IRpwTa\")\n",
    "    for i in product[0:100]:\n",
    "        product_description.append(i.text)\n",
    "        if len(product_description) >= 100:\n",
    "            break\n",
    "next_button=driver.find_element(By.CLASS_NAME, '_1LKTO3')\n",
    "next_button.click()\n",
    "time.sleep(3)"
   ]
  },
  {
   "cell_type": "code",
   "execution_count": 181,
   "id": "57d38d18",
   "metadata": {},
   "outputs": [
    {
     "name": "stdout",
     "output_type": "stream",
     "text": [
      "100\n"
     ]
    }
   ],
   "source": [
    "print(len(product_description))"
   ]
  },
  {
   "cell_type": "code",
   "execution_count": 182,
   "id": "1e8f3eb0",
   "metadata": {},
   "outputs": [],
   "source": [
    "start=0\n",
    "end=3\n",
    "for page in range(start,end):\n",
    "    value=driver.find_elements(By.CLASS_NAME, \"_30jeq3\")\n",
    "    for i in value[0:100]:\n",
    "        product_price.append(i.text)\n",
    "        if len(product_price) >= 100:\n",
    "            break\n",
    "next_button=driver.find_element(By.CLASS_NAME, '_1LKTO3')\n",
    "next_button.click()\n",
    "time.sleep(3)"
   ]
  },
  {
   "cell_type": "code",
   "execution_count": 183,
   "id": "1a9c8d48",
   "metadata": {},
   "outputs": [
    {
     "name": "stdout",
     "output_type": "stream",
     "text": [
      "100\n"
     ]
    }
   ],
   "source": [
    "print(len(product_price))"
   ]
  },
  {
   "cell_type": "code",
   "execution_count": 184,
   "id": "81516f90",
   "metadata": {},
   "outputs": [],
   "source": [
    "start=0\n",
    "end=3\n",
    "for page in range(start,end):\n",
    "    disc=driver.find_elements(By.CLASS_NAME, \"_3I9_wc\")\n",
    "    for i in disc[0:100]:\n",
    "        discount_percent.append(i.text)\n",
    "        if len(discount_percent) >= 100:\n",
    "            break\n",
    "next_button=driver.find_element(By.CLASS_NAME, '_1LKTO3')\n",
    "next_button.click()\n",
    "time.sleep(3)"
   ]
  },
  {
   "cell_type": "code",
   "execution_count": 185,
   "id": "33be1f63",
   "metadata": {},
   "outputs": [
    {
     "name": "stdout",
     "output_type": "stream",
     "text": [
      "100\n"
     ]
    }
   ],
   "source": [
    "print(len(discount_percent))"
   ]
  },
  {
   "cell_type": "markdown",
   "id": "04411c21",
   "metadata": {},
   "source": [
    "Q5: Scrape 100 reviews data from flipkart.com for iphone11 phone. You have to go the link:\n",
    "https://www.flipkart.com/apple-iphone-11-black-64-gb/productreviews/itm4e5041ba101fd?pid=MOBFWQ6BXGJCEYNY&lid=LSTMOBFWQ6BXGJCEYNYZXSHRJ&marketplace=FLIPKARTQ5)"
   ]
  },
  {
   "cell_type": "code",
   "execution_count": 703,
   "id": "f8e52f85",
   "metadata": {},
   "outputs": [],
   "source": [
    "driver=webdriver.Chrome()\n",
    "driver.get(\"https://www.flipkart.com/\")"
   ]
  },
  {
   "cell_type": "code",
   "execution_count": 704,
   "id": "c7fe844d",
   "metadata": {},
   "outputs": [],
   "source": [
    "designation1=driver.find_element(By.CLASS_NAME, \"Pke_EE\")\n",
    "designation1.send_keys('iphone11')"
   ]
  },
  {
   "cell_type": "code",
   "execution_count": 705,
   "id": "5f999f45",
   "metadata": {},
   "outputs": [],
   "source": [
    "search=driver.find_element(By.XPATH,\"/html/body/div[1]/div/div[1]/div/div/div/div/div[1]/div/div[1]/div/div[1]/header/div[1]/div[2]/form/div/button\")\n",
    "search.click()"
   ]
  },
  {
   "cell_type": "code",
   "execution_count": 712,
   "id": "76077f2a",
   "metadata": {},
   "outputs": [],
   "source": [
    "search1=driver.find_element(By.XPATH, '/html/body/div/div/div[3]/div[1]/div[2]/div[10]/div/div/div/a/div[2]/div[1]/div[1]')\n",
    "search1.click()"
   ]
  },
  {
   "cell_type": "code",
   "execution_count": 713,
   "id": "5928c329",
   "metadata": {},
   "outputs": [
    {
     "name": "stdout",
     "output_type": "stream",
     "text": [
      "6\n",
      "['5', '5', '5', '5', '5', '5']\n"
     ]
    }
   ],
   "source": [
    "Rating=[]    #Unable to get 100 - not sure why, even the next button works perfectly for the others but not for this one\n",
    "start=0\n",
    "end=17\n",
    "for page in range(start,end):\n",
    "     Si=driver.find_elements(By.XPATH, '//div[contains(@class, \"_1BLPMq\")]')\n",
    "for i in Si[0:100]:\n",
    "    Rating.append(i.text)\n",
    "    if len(Rating) >= 100:\n",
    "            break\n",
    "next_button=driver.find_element(By.CLASS_NAME, '_1LKTO3')\n",
    "next_button.click()\n",
    "time.sleep(10)\n",
    "print(len(Rating))\n",
    "print(Rating)"
   ]
  },
  {
   "cell_type": "code",
   "execution_count": 612,
   "id": "2948fa4d",
   "metadata": {},
   "outputs": [
    {
     "name": "stdout",
     "output_type": "stream",
     "text": [
      "['Highly recommended', 'Excellent', 'Highly recommended', 'Perfect product!', 'Wonderful', 'Great product', 'Highly recommended', 'Excellent', 'Highly recommended', 'Perfect product!', 'Wonderful', 'Great product', 'Highly recommended', 'Excellent', 'Highly recommended', 'Perfect product!', 'Wonderful', 'Great product', 'Highly recommended', 'Excellent', 'Highly recommended', 'Perfect product!', 'Wonderful', 'Great product', 'Highly recommended', 'Excellent', 'Highly recommended', 'Perfect product!', 'Wonderful', 'Great product', 'Highly recommended', 'Excellent', 'Highly recommended', 'Perfect product!', 'Wonderful', 'Great product', 'Highly recommended', 'Excellent', 'Highly recommended', 'Perfect product!', 'Wonderful', 'Great product', 'Highly recommended', 'Excellent', 'Highly recommended', 'Perfect product!', 'Wonderful', 'Great product', 'Highly recommended', 'Excellent', 'Highly recommended', 'Perfect product!', 'Wonderful', 'Great product', 'Highly recommended', 'Excellent', 'Highly recommended', 'Perfect product!', 'Wonderful', 'Great product', 'Highly recommended', 'Excellent', 'Highly recommended', 'Perfect product!', 'Wonderful', 'Great product', 'Highly recommended', 'Excellent', 'Highly recommended', 'Perfect product!', 'Wonderful', 'Great product', 'Highly recommended', 'Excellent', 'Highly recommended', 'Perfect product!', 'Wonderful', 'Great product', 'Highly recommended', 'Excellent', 'Highly recommended', 'Perfect product!', 'Wonderful', 'Great product', 'Highly recommended', 'Excellent', 'Highly recommended', 'Perfect product!', 'Wonderful', 'Great product', 'Highly recommended', 'Excellent', 'Highly recommended', 'Perfect product!', 'Wonderful', 'Great product', 'Highly recommended', 'Excellent', 'Highly recommended', 'Perfect product!']\n"
     ]
    }
   ],
   "source": [
    "Review_Summary=[]\n",
    "start=0\n",
    "end=17\n",
    "for page in range(start,end):\n",
    "    vi=driver.find_elements(By.CLASS_NAME, \"_2-N8zT\")\n",
    "    for i in vi[0:100]:\n",
    "        Review_Summary.append(i.text)\n",
    "        if len(Review_Summary) >= 100:\n",
    "            break\n",
    "next_button=driver.find_element(By.CLASS_NAME, \"_1LKTO3\")\n",
    "next_button.click()\n",
    "time.sleep(3)\n",
    "print(Review_Summary)"
   ]
  },
  {
   "cell_type": "code",
   "execution_count": 613,
   "id": "5cb9db1c",
   "metadata": {},
   "outputs": [
    {
     "name": "stdout",
     "output_type": "stream",
     "text": [
      "100\n"
     ]
    }
   ],
   "source": [
    "print(len(Review_Summary))"
   ]
  },
  {
   "cell_type": "code",
   "execution_count": 645,
   "id": "08f6fe11",
   "metadata": {},
   "outputs": [
    {
     "name": "stdout",
     "output_type": "stream",
     "text": [
      "['Awesome Battery Life...Camera clarity is too good..\\nValue for money...Its gives full day battery backup in single charge...', 'This phone is perfect for photos and all', 'Battery - more or less 2 days\\nCamera - can now perform very good in low light (night )\\nHeating- no heating for 15+ days\\nCharging- Quick charger ( which now c...\\nRead full review', 'Nice products thanks flkat', 'I bought during the big billion sale. It’s worth every penny. First iOS user and overwhelmed. The photos are much better than my mirror less camera. If you g...\\nRead full review', 'Awesome product ❤️❤️\\nThank you Flipkart', 'Awesome Battery Life...Camera clarity is too good..\\nValue for money...Its gives full day battery backup in single charge...', 'This phone is perfect for photos and all', 'Battery - more or less 2 days\\nCamera - can now perform very good in low light (night )\\nHeating- no heating for 15+ days\\nCharging- Quick charger ( which now c...\\nRead full review', 'Nice products thanks flkat', 'I bought during the big billion sale. It’s worth every penny. First iOS user and overwhelmed. The photos are much better than my mirror less camera. If you g...\\nRead full review', 'Awesome product ❤️❤️\\nThank you Flipkart', 'Awesome Battery Life...Camera clarity is too good..\\nValue for money...Its gives full day battery backup in single charge...', 'This phone is perfect for photos and all', 'Battery - more or less 2 days\\nCamera - can now perform very good in low light (night )\\nHeating- no heating for 15+ days\\nCharging- Quick charger ( which now c...\\nRead full review', 'Nice products thanks flkat', 'I bought during the big billion sale. It’s worth every penny. First iOS user and overwhelmed. The photos are much better than my mirror less camera. If you g...\\nRead full review', 'Awesome product ❤️❤️\\nThank you Flipkart', 'Awesome Battery Life...Camera clarity is too good..\\nValue for money...Its gives full day battery backup in single charge...', 'This phone is perfect for photos and all', 'Battery - more or less 2 days\\nCamera - can now perform very good in low light (night )\\nHeating- no heating for 15+ days\\nCharging- Quick charger ( which now c...\\nRead full review', 'Nice products thanks flkat', 'I bought during the big billion sale. It’s worth every penny. First iOS user and overwhelmed. The photos are much better than my mirror less camera. If you g...\\nRead full review', 'Awesome product ❤️❤️\\nThank you Flipkart', 'Awesome Battery Life...Camera clarity is too good..\\nValue for money...Its gives full day battery backup in single charge...', 'This phone is perfect for photos and all', 'Battery - more or less 2 days\\nCamera - can now perform very good in low light (night )\\nHeating- no heating for 15+ days\\nCharging- Quick charger ( which now c...\\nRead full review', 'Nice products thanks flkat', 'I bought during the big billion sale. It’s worth every penny. First iOS user and overwhelmed. The photos are much better than my mirror less camera. If you g...\\nRead full review', 'Awesome product ❤️❤️\\nThank you Flipkart', 'Awesome Battery Life...Camera clarity is too good..\\nValue for money...Its gives full day battery backup in single charge...', 'This phone is perfect for photos and all', 'Battery - more or less 2 days\\nCamera - can now perform very good in low light (night )\\nHeating- no heating for 15+ days\\nCharging- Quick charger ( which now c...\\nRead full review', 'Nice products thanks flkat', 'I bought during the big billion sale. It’s worth every penny. First iOS user and overwhelmed. The photos are much better than my mirror less camera. If you g...\\nRead full review', 'Awesome product ❤️❤️\\nThank you Flipkart', 'Awesome Battery Life...Camera clarity is too good..\\nValue for money...Its gives full day battery backup in single charge...', 'This phone is perfect for photos and all', 'Battery - more or less 2 days\\nCamera - can now perform very good in low light (night )\\nHeating- no heating for 15+ days\\nCharging- Quick charger ( which now c...\\nRead full review', 'Nice products thanks flkat', 'I bought during the big billion sale. It’s worth every penny. First iOS user and overwhelmed. The photos are much better than my mirror less camera. If you g...\\nRead full review', 'Awesome product ❤️❤️\\nThank you Flipkart', 'Awesome Battery Life...Camera clarity is too good..\\nValue for money...Its gives full day battery backup in single charge...', 'This phone is perfect for photos and all', 'Battery - more or less 2 days\\nCamera - can now perform very good in low light (night )\\nHeating- no heating for 15+ days\\nCharging- Quick charger ( which now c...\\nRead full review', 'Nice products thanks flkat', 'I bought during the big billion sale. It’s worth every penny. First iOS user and overwhelmed. The photos are much better than my mirror less camera. If you g...\\nRead full review', 'Awesome product ❤️❤️\\nThank you Flipkart', 'Awesome Battery Life...Camera clarity is too good..\\nValue for money...Its gives full day battery backup in single charge...', 'This phone is perfect for photos and all', 'Battery - more or less 2 days\\nCamera - can now perform very good in low light (night )\\nHeating- no heating for 15+ days\\nCharging- Quick charger ( which now c...\\nRead full review', 'Nice products thanks flkat', 'I bought during the big billion sale. It’s worth every penny. First iOS user and overwhelmed. The photos are much better than my mirror less camera. If you g...\\nRead full review', 'Awesome product ❤️❤️\\nThank you Flipkart', 'Awesome Battery Life...Camera clarity is too good..\\nValue for money...Its gives full day battery backup in single charge...', 'This phone is perfect for photos and all', 'Battery - more or less 2 days\\nCamera - can now perform very good in low light (night )\\nHeating- no heating for 15+ days\\nCharging- Quick charger ( which now c...\\nRead full review', 'Nice products thanks flkat', 'I bought during the big billion sale. It’s worth every penny. First iOS user and overwhelmed. The photos are much better than my mirror less camera. If you g...\\nRead full review', 'Awesome product ❤️❤️\\nThank you Flipkart', 'Awesome Battery Life...Camera clarity is too good..\\nValue for money...Its gives full day battery backup in single charge...', 'This phone is perfect for photos and all', 'Battery - more or less 2 days\\nCamera - can now perform very good in low light (night )\\nHeating- no heating for 15+ days\\nCharging- Quick charger ( which now c...\\nRead full review', 'Nice products thanks flkat', 'I bought during the big billion sale. It’s worth every penny. First iOS user and overwhelmed. The photos are much better than my mirror less camera. If you g...\\nRead full review', 'Awesome product ❤️❤️\\nThank you Flipkart', 'Awesome Battery Life...Camera clarity is too good..\\nValue for money...Its gives full day battery backup in single charge...', 'This phone is perfect for photos and all', 'Battery - more or less 2 days\\nCamera - can now perform very good in low light (night )\\nHeating- no heating for 15+ days\\nCharging- Quick charger ( which now c...\\nRead full review', 'Nice products thanks flkat', 'I bought during the big billion sale. It’s worth every penny. First iOS user and overwhelmed. The photos are much better than my mirror less camera. If you g...\\nRead full review', 'Awesome product ❤️❤️\\nThank you Flipkart', 'Awesome Battery Life...Camera clarity is too good..\\nValue for money...Its gives full day battery backup in single charge...', 'This phone is perfect for photos and all', 'Battery - more or less 2 days\\nCamera - can now perform very good in low light (night )\\nHeating- no heating for 15+ days\\nCharging- Quick charger ( which now c...\\nRead full review', 'Nice products thanks flkat', 'I bought during the big billion sale. It’s worth every penny. First iOS user and overwhelmed. The photos are much better than my mirror less camera. If you g...\\nRead full review', 'Awesome product ❤️❤️\\nThank you Flipkart', 'Awesome Battery Life...Camera clarity is too good..\\nValue for money...Its gives full day battery backup in single charge...', 'This phone is perfect for photos and all', 'Battery - more or less 2 days\\nCamera - can now perform very good in low light (night )\\nHeating- no heating for 15+ days\\nCharging- Quick charger ( which now c...\\nRead full review', 'Nice products thanks flkat', 'I bought during the big billion sale. It’s worth every penny. First iOS user and overwhelmed. The photos are much better than my mirror less camera. If you g...\\nRead full review', 'Awesome product ❤️❤️\\nThank you Flipkart', 'Awesome Battery Life...Camera clarity is too good..\\nValue for money...Its gives full day battery backup in single charge...', 'This phone is perfect for photos and all', 'Battery - more or less 2 days\\nCamera - can now perform very good in low light (night )\\nHeating- no heating for 15+ days\\nCharging- Quick charger ( which now c...\\nRead full review', 'Nice products thanks flkat', 'I bought during the big billion sale. It’s worth every penny. First iOS user and overwhelmed. The photos are much better than my mirror less camera. If you g...\\nRead full review', 'Awesome product ❤️❤️\\nThank you Flipkart', 'Awesome Battery Life...Camera clarity is too good..\\nValue for money...Its gives full day battery backup in single charge...', 'This phone is perfect for photos and all', 'Battery - more or less 2 days\\nCamera - can now perform very good in low light (night )\\nHeating- no heating for 15+ days\\nCharging- Quick charger ( which now c...\\nRead full review', 'Nice products thanks flkat', 'I bought during the big billion sale. It’s worth every penny. First iOS user and overwhelmed. The photos are much better than my mirror less camera. If you g...\\nRead full review', 'Awesome product ❤️❤️\\nThank you Flipkart', 'Awesome Battery Life...Camera clarity is too good..\\nValue for money...Its gives full day battery backup in single charge...', 'This phone is perfect for photos and all', 'Battery - more or less 2 days\\nCamera - can now perform very good in low light (night )\\nHeating- no heating for 15+ days\\nCharging- Quick charger ( which now c...\\nRead full review', 'Nice products thanks flkat']\n"
     ]
    }
   ],
   "source": [
    "Full_Summary=[]\n",
    "start=0\n",
    "end=17\n",
    "for page in range(start,end):\n",
    "    ti=driver.find_elements(By.CLASS_NAME, \"t-ZTKy\")\n",
    "    for i in ti[0:100]:\n",
    "        Full_Summary.append(i.text)\n",
    "        if len(Full_Summary) >= 100:\n",
    "            break\n",
    "next_button=driver.find_element(By.CLASS_NAME, \"_1LKTO3\")\n",
    "next_button.click()\n",
    "time.sleep(3)\n",
    "print(Full_Summary)"
   ]
  },
  {
   "cell_type": "code",
   "execution_count": 646,
   "id": "22931be6",
   "metadata": {},
   "outputs": [
    {
     "name": "stdout",
     "output_type": "stream",
     "text": [
      "100\n"
     ]
    }
   ],
   "source": [
    "print(len(Full_Summary))"
   ]
  },
  {
   "cell_type": "markdown",
   "id": "096f757d",
   "metadata": {},
   "source": [
    "Q6: Scrape data forfirst 100 sneakers you find whenyou visit flipkart.com and search for “sneakers” inthe\n",
    "search field.\n",
    "You have to scrape 3 attributes of each sneaker:\n",
    "1. Brand\n",
    "2. ProductDescription\n",
    "3. Price\n",
    "As shown in the below image, you have to scrape the above attributes."
   ]
  },
  {
   "cell_type": "code",
   "execution_count": 220,
   "id": "e2558f2b",
   "metadata": {},
   "outputs": [],
   "source": [
    "driver=webdriver.Chrome()\n",
    "driver.get(\"https://www.flipkart.com/\")"
   ]
  },
  {
   "cell_type": "code",
   "execution_count": 221,
   "id": "62bc0052",
   "metadata": {},
   "outputs": [],
   "source": [
    "designation1=driver.find_element(By.CLASS_NAME, \"Pke_EE\")\n",
    "designation1.send_keys('sneakers')"
   ]
  },
  {
   "cell_type": "code",
   "execution_count": 222,
   "id": "df594b06",
   "metadata": {},
   "outputs": [],
   "source": [
    "search=driver.find_element(By.XPATH,\"/html/body/div[1]/div/div[1]/div/div/div/div/div[1]/div/div[1]/div/div[1]/header/div[1]/div[2]/form/div/button\")\n",
    "search.click()"
   ]
  },
  {
   "cell_type": "code",
   "execution_count": 244,
   "id": "4e3f48d7",
   "metadata": {},
   "outputs": [],
   "source": [
    "brand_name=[]\n",
    "productdescription=[]\n",
    "productprice=[]"
   ]
  },
  {
   "cell_type": "code",
   "execution_count": 245,
   "id": "8aa113c9",
   "metadata": {},
   "outputs": [],
   "source": [
    "start=0\n",
    "end=3\n",
    "for page in range(start,end):\n",
    "    brand=driver.find_elements(By.CLASS_NAME, \"_2WkVRV\")\n",
    "    for i in brand[0:100]:\n",
    "        brand_name.append(i.text)\n",
    "        if len(brand_name) >= 100:\n",
    "            break\n",
    "next_button=driver.find_element(By.CLASS_NAME, '_1LKTO3')\n",
    "next_button.click()\n",
    "time.sleep(3)"
   ]
  },
  {
   "cell_type": "code",
   "execution_count": 246,
   "id": "d8b92a0d",
   "metadata": {},
   "outputs": [
    {
     "name": "stdout",
     "output_type": "stream",
     "text": [
      "100\n"
     ]
    }
   ],
   "source": [
    "print(len(brand_name))"
   ]
  },
  {
   "cell_type": "code",
   "execution_count": 247,
   "id": "127f50c0",
   "metadata": {},
   "outputs": [],
   "source": [
    "start=0\n",
    "end=3\n",
    "for page in range(start,end):\n",
    "    product=driver.find_elements(By.CLASS_NAME, \"IRpwTa\")\n",
    "    for i in product[0:100]:\n",
    "        productdescription.append(i.text)\n",
    "        if len(productdescription) >= 100:\n",
    "            break\n",
    "next_button=driver.find_element(By.CLASS_NAME, '_1LKTO3')\n",
    "next_button.click()\n",
    "time.sleep(3)"
   ]
  },
  {
   "cell_type": "code",
   "execution_count": 248,
   "id": "750c392b",
   "metadata": {},
   "outputs": [
    {
     "name": "stdout",
     "output_type": "stream",
     "text": [
      "100\n"
     ]
    }
   ],
   "source": [
    "print(len(productdescription))"
   ]
  },
  {
   "cell_type": "code",
   "execution_count": 249,
   "id": "ffc5d517",
   "metadata": {},
   "outputs": [],
   "source": [
    "start=0\n",
    "end=3\n",
    "for page in range(start,end):\n",
    "    price=driver.find_elements(By.CLASS_NAME, \"_30jeq3\")\n",
    "    for i in price[0:100]:\n",
    "        productprice.append(i.text)\n",
    "        if len(productprice) >= 100:\n",
    "            break\n",
    "next_button=driver.find_element(By.CLASS_NAME, '_1LKTO3')\n",
    "next_button.click()\n",
    "time.sleep(3)"
   ]
  },
  {
   "cell_type": "code",
   "execution_count": 250,
   "id": "920f6844",
   "metadata": {},
   "outputs": [
    {
     "name": "stdout",
     "output_type": "stream",
     "text": [
      "100\n"
     ]
    }
   ],
   "source": [
    "print(len(productprice))"
   ]
  },
  {
   "cell_type": "code",
   "execution_count": 251,
   "id": "a346a932",
   "metadata": {},
   "outputs": [],
   "source": [
    "df7=pd.DataFrame({'brand':brand_name,'product':productdescription,'price':productprice})"
   ]
  },
  {
   "cell_type": "code",
   "execution_count": 252,
   "id": "0e89975c",
   "metadata": {},
   "outputs": [
    {
     "data": {
      "text/html": [
       "<div>\n",
       "<style scoped>\n",
       "    .dataframe tbody tr th:only-of-type {\n",
       "        vertical-align: middle;\n",
       "    }\n",
       "\n",
       "    .dataframe tbody tr th {\n",
       "        vertical-align: top;\n",
       "    }\n",
       "\n",
       "    .dataframe thead th {\n",
       "        text-align: right;\n",
       "    }\n",
       "</style>\n",
       "<table border=\"1\" class=\"dataframe\">\n",
       "  <thead>\n",
       "    <tr style=\"text-align: right;\">\n",
       "      <th></th>\n",
       "      <th>brand</th>\n",
       "      <th>product</th>\n",
       "      <th>price</th>\n",
       "    </tr>\n",
       "  </thead>\n",
       "  <tbody>\n",
       "    <tr>\n",
       "      <th>0</th>\n",
       "      <td>BRUTON</td>\n",
       "      <td>sports Sneakers For Men</td>\n",
       "      <td>₹497</td>\n",
       "    </tr>\n",
       "    <tr>\n",
       "      <th>1</th>\n",
       "      <td>BRUTON</td>\n",
       "      <td>Sneakers For Men</td>\n",
       "      <td>₹497</td>\n",
       "    </tr>\n",
       "    <tr>\n",
       "      <th>2</th>\n",
       "      <td>URBANBOX</td>\n",
       "      <td>Court Ultra Lite Sneakers For Men</td>\n",
       "      <td>₹299</td>\n",
       "    </tr>\n",
       "    <tr>\n",
       "      <th>3</th>\n",
       "      <td>Layasa</td>\n",
       "      <td>Sneakers For Men</td>\n",
       "      <td>₹299</td>\n",
       "    </tr>\n",
       "    <tr>\n",
       "      <th>4</th>\n",
       "      <td>aadi</td>\n",
       "      <td>Modern Trendy Shoes Sneakers For Men</td>\n",
       "      <td>₹289</td>\n",
       "    </tr>\n",
       "    <tr>\n",
       "      <th>...</th>\n",
       "      <td>...</td>\n",
       "      <td>...</td>\n",
       "      <td>...</td>\n",
       "    </tr>\n",
       "    <tr>\n",
       "      <th>95</th>\n",
       "      <td>PUMA</td>\n",
       "      <td>Lifestyle Sneaker Shoes for Men | Soft Cushion...</td>\n",
       "      <td>₹497</td>\n",
       "    </tr>\n",
       "    <tr>\n",
       "      <th>96</th>\n",
       "      <td>Krors</td>\n",
       "      <td>OG-D4 Sneakers For Men</td>\n",
       "      <td>₹1,187</td>\n",
       "    </tr>\n",
       "    <tr>\n",
       "      <th>97</th>\n",
       "      <td>VENDOZ</td>\n",
       "      <td>Lightweight,Comfort,Summer,Trendy,Walking,Outd...</td>\n",
       "      <td>₹1,899</td>\n",
       "    </tr>\n",
       "    <tr>\n",
       "      <th>98</th>\n",
       "      <td>RED TAPE</td>\n",
       "      <td>Hustle V2 Sneakers For Men</td>\n",
       "      <td>₹299</td>\n",
       "    </tr>\n",
       "    <tr>\n",
       "      <th>99</th>\n",
       "      <td>U.S. POLO ASSN.</td>\n",
       "      <td>Casual Sneakers for Women | Shock Absorbant, S...</td>\n",
       "      <td>₹362</td>\n",
       "    </tr>\n",
       "  </tbody>\n",
       "</table>\n",
       "<p>100 rows × 3 columns</p>\n",
       "</div>"
      ],
      "text/plain": [
       "              brand                                            product   price\n",
       "0            BRUTON                            sports Sneakers For Men    ₹497\n",
       "1            BRUTON                                   Sneakers For Men    ₹497\n",
       "2          URBANBOX                  Court Ultra Lite Sneakers For Men    ₹299\n",
       "3            Layasa                                   Sneakers For Men    ₹299\n",
       "4              aadi               Modern Trendy Shoes Sneakers For Men    ₹289\n",
       "..              ...                                                ...     ...\n",
       "95             PUMA  Lifestyle Sneaker Shoes for Men | Soft Cushion...    ₹497\n",
       "96            Krors                             OG-D4 Sneakers For Men  ₹1,187\n",
       "97           VENDOZ  Lightweight,Comfort,Summer,Trendy,Walking,Outd...  ₹1,899\n",
       "98         RED TAPE                         Hustle V2 Sneakers For Men    ₹299\n",
       "99  U.S. POLO ASSN.  Casual Sneakers for Women | Shock Absorbant, S...    ₹362\n",
       "\n",
       "[100 rows x 3 columns]"
      ]
     },
     "execution_count": 252,
     "metadata": {},
     "output_type": "execute_result"
    }
   ],
   "source": [
    "df7"
   ]
  },
  {
   "cell_type": "markdown",
   "id": "a242bf2b",
   "metadata": {},
   "source": [
    "Q7) Go to webpage https://www.amazon.in/ Enter “Laptop” in the search field and then click the search icon. Then\n",
    "set CPU Type filter to “Intel Core i7” as shown in the below image:\n",
    "After setting the filters scrape first 10 laptops data. You have to scrape 3 attributes for each laptop:\n",
    "1. Title\n",
    "2. Ratings\n",
    "3. Price"
   ]
  },
  {
   "cell_type": "code",
   "execution_count": 295,
   "id": "fee0f40b",
   "metadata": {},
   "outputs": [],
   "source": [
    "driver=webdriver.Chrome()\n",
    "driver.get(\"https://www.amazon.in/\")"
   ]
  },
  {
   "cell_type": "code",
   "execution_count": 296,
   "id": "a1fb7ccd",
   "metadata": {},
   "outputs": [],
   "source": [
    "designation1=driver.find_element(By.XPATH, \"/html/body/div[1]/header/div/div[1]/div[2]/div/form/div[2]/div[1]/input\")\n",
    "designation1.send_keys('Laptop')"
   ]
  },
  {
   "cell_type": "code",
   "execution_count": 297,
   "id": "e44c4a17",
   "metadata": {},
   "outputs": [],
   "source": [
    "search=driver.find_element(By.XPATH, \"/html/body/div[1]/header/div/div[1]/div[2]/div/form/div[3]/div/span/input\")\n",
    "search.click()"
   ]
  },
  {
   "cell_type": "code",
   "execution_count": 300,
   "id": "04bf61f1",
   "metadata": {},
   "outputs": [],
   "source": [
    "click_filter=driver.find_element(By.XPATH, \"/html/body/div[1]/div[1]/div[1]/div[2]/div/div[3]/span/div[1]/div/div/div[6]/ul[6]/span[10]/li/span/a/div\")\n",
    "click_filter.click()"
   ]
  },
  {
   "cell_type": "code",
   "execution_count": 432,
   "id": "d043bc11",
   "metadata": {},
   "outputs": [],
   "source": [
    "Name=[]\n",
    "Rating=[]\n",
    "Price=[]"
   ]
  },
  {
   "cell_type": "code",
   "execution_count": 433,
   "id": "2e0224ba",
   "metadata": {},
   "outputs": [],
   "source": [
    "title_tags = driver.find_elements(By.XPATH, \"//h2[@class='a-size-mini a-spacing-none a-color-base s-line-clamp-2']\")\n",
    "\n",
    "for title_tag in title_tags[:10]:\n",
    "    title = title_tag.text\n",
    "    Name.append(title)"
   ]
  },
  {
   "cell_type": "code",
   "execution_count": 434,
   "id": "2127d552",
   "metadata": {},
   "outputs": [
    {
     "name": "stdout",
     "output_type": "stream",
     "text": [
      "['MSI Modern 14, Intel 12th Gen. i7-1255U, 36CM FHD 60Hz Laptop (16GB/512GB NVMe SSD/Windows 11 Home/Intel Iris Xe Graphics/Classic Black/1.4Kg), C12M-459IN', 'ASUS TUF Gaming F15, 15.6\"(39.62 cms) FHD 144Hz, Intel Core i7-11800H 11th Gen, 4GB NVIDIA GeForce RTX 3050 Ti, Gaming Laptop (16GB/512GB SSD/Windows 11/90WHrs Battery/Black/2.30 Kg), FX506HE-HN382W', 'ASUS Vivobook 15, Intel Core i7-12650H 12th Gen, 15.6\" (39.62 cm) FHD, Thin and Light Laptop (16GB/512GB/Win11/Office 2021/Blue/1.7 kg), X1502ZA-EJ741WS', 'HP Laptop 15s, 12th Gen Intel Core i7-1255U, 15.6-inch (39.6 cm), FHD, 16GB DDR4, 512GB SSD, Intel Iris Xe Graphics, Backlit KB, Thin & Light (Win 11, MSO 2021, Silver, 1.69 kg), fq5190TU', 'ASUS TUF Gaming F15, 15.6-inch (39.62 cms) FHD 144Hz, Intel Core i7-12700H 12th Gen, 4GB NVIDIA GeForce RTX 3050, Gaming Laptop (16GB/1TB SSD/Windows 11/90WHrs Battery/Gray/2.20 Kg), FX577ZC-HN192W', 'Lenovo IdeaPad Slim 3 Intel Core i7 11th Gen 15.6\" (39.62cm) FHD Laptop (16GB/512GB SSD/Win 11/Office 2021/1 Year Warranty/Arctic Grey/1.65Kg), 82H803LPIN', 'MSI GF63 Thin, Intel Core i7-11800H, 40CM FHD 144Hz Gaming Laptop (16GB/512GB NVMe SSD/Windows 11 Home/Nvidia GeForce GTX 1650, GDDR6 4GB/Black/1.8Kg), 11SC-1462IN', 'Acer Aspire Lite Premium Metal Laptop 11th Gen Intel Core Ci7-1165G7 Thin and Light Laptop (Windows 11 Home/16GB RAM/1TB SSD/MS Office) AL15-51, 39.62cm (15.6\") Full HD Display, Steel Gray, 1.59 KG', 'MSI GF63 Thin, Intel Core i7-11800H, 40CM FHD 144Hz Gaming Laptop (8GBx2/512GB NVMe SSD/Windows 11 Home/Nvidia GeForce RTX 3050, GDDR6 4GB/Black/1.8Kg), 11UC-1293IN', 'Samsung Galaxy Book3 Core i7 13th Gen 1355U - (16 GB/512 GB SSD/Windows 11 Home) Galaxy Book3 Thin and Light Laptop  (15.6 Inch, Silver, 1.58 Kg, with MS Office)']\n"
     ]
    }
   ],
   "source": [
    "print(Name)"
   ]
  },
  {
   "cell_type": "code",
   "execution_count": 437,
   "id": "ffa75225",
   "metadata": {},
   "outputs": [
    {
     "name": "stdout",
     "output_type": "stream",
     "text": [
      "10\n"
     ]
    }
   ],
   "source": [
    "print(len(Name))"
   ]
  },
  {
   "cell_type": "code",
   "execution_count": 438,
   "id": "4ae40fc9",
   "metadata": {},
   "outputs": [
    {
     "name": "stdout",
     "output_type": "stream",
     "text": [
      "['3.8 out of 5 stars', '4.2 out of 5 stars', '3.9 out of 5 stars', '3.4 out of 5 stars', '4.2 out of 5 stars', '3.7 out of 5 stars', '4.1 out of 5 stars', '3.4 out of 5 stars', '3.9 out of 5 stars', '4.3 out of 5 stars']\n"
     ]
    }
   ],
   "source": [
    "rating_stars = driver.find_elements(By.XPATH,\"//span[contains(@aria-label, 'out of 5 stars')]\")\n",
    "for rating_star in rating_stars[:10]:\n",
    "    rating = rating_star.get_attribute('aria-label')\n",
    "    Rating.append(rating)\n",
    "\n",
    "print(Rating)\n"
   ]
  },
  {
   "cell_type": "code",
   "execution_count": 439,
   "id": "bf3eb81d",
   "metadata": {},
   "outputs": [
    {
     "name": "stdout",
     "output_type": "stream",
     "text": [
      "10\n"
     ]
    }
   ],
   "source": [
    "print(len(Rating))"
   ]
  },
  {
   "cell_type": "code",
   "execution_count": 441,
   "id": "f95b01d8",
   "metadata": {},
   "outputs": [
    {
     "name": "stdout",
     "output_type": "stream",
     "text": [
      "['49,990', '68,990', '60,990', '63,990', '85,990', '52,990', '57,990', '47,990', '64,990', '84,390']\n"
     ]
    }
   ],
   "source": [
    "price_ratings = driver.find_elements(By.XPATH,'//span[contains(@class, \"a-price-whole\")]')\n",
    "for price_rating in price_ratings[:10]:\n",
    "    prices = price_rating.text\n",
    "    Price.append(prices)\n",
    "\n",
    "print(Price)"
   ]
  },
  {
   "cell_type": "code",
   "execution_count": 442,
   "id": "c3f7c9a7",
   "metadata": {},
   "outputs": [
    {
     "name": "stdout",
     "output_type": "stream",
     "text": [
      "10\n"
     ]
    }
   ],
   "source": [
    "print(len(Price))"
   ]
  },
  {
   "cell_type": "code",
   "execution_count": 443,
   "id": "c3cfee5d",
   "metadata": {},
   "outputs": [],
   "source": [
    "import pandas as pd\n",
    "df6=pd.DataFrame({'Product Name':Name,'Rating':Rating, 'Price':Price})"
   ]
  },
  {
   "cell_type": "code",
   "execution_count": 444,
   "id": "2c604d19",
   "metadata": {},
   "outputs": [
    {
     "data": {
      "text/html": [
       "<div>\n",
       "<style scoped>\n",
       "    .dataframe tbody tr th:only-of-type {\n",
       "        vertical-align: middle;\n",
       "    }\n",
       "\n",
       "    .dataframe tbody tr th {\n",
       "        vertical-align: top;\n",
       "    }\n",
       "\n",
       "    .dataframe thead th {\n",
       "        text-align: right;\n",
       "    }\n",
       "</style>\n",
       "<table border=\"1\" class=\"dataframe\">\n",
       "  <thead>\n",
       "    <tr style=\"text-align: right;\">\n",
       "      <th></th>\n",
       "      <th>Product Name</th>\n",
       "      <th>Rating</th>\n",
       "      <th>Price</th>\n",
       "    </tr>\n",
       "  </thead>\n",
       "  <tbody>\n",
       "    <tr>\n",
       "      <th>0</th>\n",
       "      <td>MSI Modern 14, Intel 12th Gen. i7-1255U, 36CM ...</td>\n",
       "      <td>3.8 out of 5 stars</td>\n",
       "      <td>49,990</td>\n",
       "    </tr>\n",
       "    <tr>\n",
       "      <th>1</th>\n",
       "      <td>ASUS TUF Gaming F15, 15.6\"(39.62 cms) FHD 144H...</td>\n",
       "      <td>4.2 out of 5 stars</td>\n",
       "      <td>68,990</td>\n",
       "    </tr>\n",
       "    <tr>\n",
       "      <th>2</th>\n",
       "      <td>ASUS Vivobook 15, Intel Core i7-12650H 12th Ge...</td>\n",
       "      <td>3.9 out of 5 stars</td>\n",
       "      <td>60,990</td>\n",
       "    </tr>\n",
       "    <tr>\n",
       "      <th>3</th>\n",
       "      <td>HP Laptop 15s, 12th Gen Intel Core i7-1255U, 1...</td>\n",
       "      <td>3.4 out of 5 stars</td>\n",
       "      <td>63,990</td>\n",
       "    </tr>\n",
       "    <tr>\n",
       "      <th>4</th>\n",
       "      <td>ASUS TUF Gaming F15, 15.6-inch (39.62 cms) FHD...</td>\n",
       "      <td>4.2 out of 5 stars</td>\n",
       "      <td>85,990</td>\n",
       "    </tr>\n",
       "    <tr>\n",
       "      <th>5</th>\n",
       "      <td>Lenovo IdeaPad Slim 3 Intel Core i7 11th Gen 1...</td>\n",
       "      <td>3.7 out of 5 stars</td>\n",
       "      <td>52,990</td>\n",
       "    </tr>\n",
       "    <tr>\n",
       "      <th>6</th>\n",
       "      <td>MSI GF63 Thin, Intel Core i7-11800H, 40CM FHD ...</td>\n",
       "      <td>4.1 out of 5 stars</td>\n",
       "      <td>57,990</td>\n",
       "    </tr>\n",
       "    <tr>\n",
       "      <th>7</th>\n",
       "      <td>Acer Aspire Lite Premium Metal Laptop 11th Gen...</td>\n",
       "      <td>3.4 out of 5 stars</td>\n",
       "      <td>47,990</td>\n",
       "    </tr>\n",
       "    <tr>\n",
       "      <th>8</th>\n",
       "      <td>MSI GF63 Thin, Intel Core i7-11800H, 40CM FHD ...</td>\n",
       "      <td>3.9 out of 5 stars</td>\n",
       "      <td>64,990</td>\n",
       "    </tr>\n",
       "    <tr>\n",
       "      <th>9</th>\n",
       "      <td>Samsung Galaxy Book3 Core i7 13th Gen 1355U - ...</td>\n",
       "      <td>4.3 out of 5 stars</td>\n",
       "      <td>84,390</td>\n",
       "    </tr>\n",
       "  </tbody>\n",
       "</table>\n",
       "</div>"
      ],
      "text/plain": [
       "                                        Product Name              Rating  \\\n",
       "0  MSI Modern 14, Intel 12th Gen. i7-1255U, 36CM ...  3.8 out of 5 stars   \n",
       "1  ASUS TUF Gaming F15, 15.6\"(39.62 cms) FHD 144H...  4.2 out of 5 stars   \n",
       "2  ASUS Vivobook 15, Intel Core i7-12650H 12th Ge...  3.9 out of 5 stars   \n",
       "3  HP Laptop 15s, 12th Gen Intel Core i7-1255U, 1...  3.4 out of 5 stars   \n",
       "4  ASUS TUF Gaming F15, 15.6-inch (39.62 cms) FHD...  4.2 out of 5 stars   \n",
       "5  Lenovo IdeaPad Slim 3 Intel Core i7 11th Gen 1...  3.7 out of 5 stars   \n",
       "6  MSI GF63 Thin, Intel Core i7-11800H, 40CM FHD ...  4.1 out of 5 stars   \n",
       "7  Acer Aspire Lite Premium Metal Laptop 11th Gen...  3.4 out of 5 stars   \n",
       "8  MSI GF63 Thin, Intel Core i7-11800H, 40CM FHD ...  3.9 out of 5 stars   \n",
       "9  Samsung Galaxy Book3 Core i7 13th Gen 1355U - ...  4.3 out of 5 stars   \n",
       "\n",
       "    Price  \n",
       "0  49,990  \n",
       "1  68,990  \n",
       "2  60,990  \n",
       "3  63,990  \n",
       "4  85,990  \n",
       "5  52,990  \n",
       "6  57,990  \n",
       "7  47,990  \n",
       "8  64,990  \n",
       "9  84,390  "
      ]
     },
     "execution_count": 444,
     "metadata": {},
     "output_type": "execute_result"
    }
   ],
   "source": [
    "df6"
   ]
  },
  {
   "cell_type": "markdown",
   "id": "d01b6726",
   "metadata": {},
   "source": [
    "Q8)Write a python program to scrape data for Top 1000 Quotes of All Time.\n",
    "The above task will be done in following steps:\n",
    "1. First get the webpagehttps://www.azquotes.com/\n",
    "2. Click on TopQuotes\n",
    "3. Then scrap a) Quote b) Author c) Type Of Quotes"
   ]
  },
  {
   "cell_type": "code",
   "execution_count": 504,
   "id": "f9512594",
   "metadata": {},
   "outputs": [],
   "source": [
    "driver=webdriver.Chrome()\n",
    "driver.get(\"https://www.azquotes.com\")"
   ]
  },
  {
   "cell_type": "code",
   "execution_count": 510,
   "id": "c372b13c",
   "metadata": {},
   "outputs": [],
   "source": [
    "click_button = driver.find_element(By.XPATH, \"//a[@id='showhide']\")\n",
    "click_button.click()"
   ]
  },
  {
   "cell_type": "code",
   "execution_count": 511,
   "id": "7674479c",
   "metadata": {},
   "outputs": [],
   "source": [
    "top_quotes = driver.find_element(By.XPATH, \"/html/body/div[1]/div[2]/div[1]/div/div[3]/ul/li[5]/a\")\n",
    "top_quotes.click()"
   ]
  },
  {
   "cell_type": "code",
   "execution_count": 541,
   "id": "78988e74",
   "metadata": {},
   "outputs": [],
   "source": [
    "Quote=[]\n",
    "Author=[]\n",
    "Type_of_Quote=[]"
   ]
  },
  {
   "cell_type": "code",
   "execution_count": 542,
   "id": "ffd4f26e",
   "metadata": {},
   "outputs": [
    {
     "name": "stdout",
     "output_type": "stream",
     "text": [
      "1000\n"
     ]
    }
   ],
   "source": [
    "start=0\n",
    "end=10\n",
    "for page in range(start,end):\n",
    "    title=driver.find_elements(By.XPATH,\"//a[contains(@class, 'title')]\")\n",
    "    for i in title [0:1000]:\n",
    "        Quote.append(i.text)\n",
    "        if len(Quote) >= 1000:\n",
    "            break\n",
    "next_button=driver.find_element(By.XPATH, \"//li[contains(@class,'next')]/a\")\n",
    "next_button.click()\n",
    "time.sleep(3)\n",
    "print(len(Quote))"
   ]
  },
  {
   "cell_type": "code",
   "execution_count": 549,
   "id": "d364feab",
   "metadata": {},
   "outputs": [
    {
     "name": "stdout",
     "output_type": "stream",
     "text": [
      "1000\n"
     ]
    }
   ],
   "source": [
    "start=0\n",
    "end=10\n",
    "for page in range(start,end):\n",
    "    auth=driver.find_elements(By.XPATH,\"//div[contains(@class, 'author')]/a\")\n",
    "    for a in auth [0:1000]:\n",
    "        Author.append(a.text)\n",
    "        if len(Author) >= 1000:\n",
    "            break\n",
    "next_button=driver.find_element(By.XPATH, \"//li[contains(@class,'next')]/a\")\n",
    "next_button.click()\n",
    "time.sleep(5)\n",
    "print(len(Author))"
   ]
  },
  {
   "cell_type": "code",
   "execution_count": 550,
   "id": "a55d544f",
   "metadata": {},
   "outputs": [
    {
     "name": "stdout",
     "output_type": "stream",
     "text": [
      "1000\n"
     ]
    }
   ],
   "source": [
    "start=0\n",
    "end=10\n",
    "for page in range(start,end):\n",
    "    qot=driver.find_elements(By.XPATH,'//div[contains(@class, \"tags\")]')\n",
    "    for q in qot [0:1000]:\n",
    "        Type_of_Quote.append(q.text)\n",
    "        if len(Type_of_Quote) >= 1000:\n",
    "            break\n",
    "next_button=driver.find_element(By.XPATH, \"//li[contains(@class,'next')]/a\")\n",
    "next_button.click()\n",
    "time.sleep(5)\n",
    "print(len(Type_of_Quote))"
   ]
  },
  {
   "cell_type": "code",
   "execution_count": 551,
   "id": "df655af1",
   "metadata": {},
   "outputs": [
    {
     "data": {
      "text/html": [
       "<div>\n",
       "<style scoped>\n",
       "    .dataframe tbody tr th:only-of-type {\n",
       "        vertical-align: middle;\n",
       "    }\n",
       "\n",
       "    .dataframe tbody tr th {\n",
       "        vertical-align: top;\n",
       "    }\n",
       "\n",
       "    .dataframe thead th {\n",
       "        text-align: right;\n",
       "    }\n",
       "</style>\n",
       "<table border=\"1\" class=\"dataframe\">\n",
       "  <thead>\n",
       "    <tr style=\"text-align: right;\">\n",
       "      <th></th>\n",
       "      <th>Quote</th>\n",
       "      <th>Author</th>\n",
       "      <th>Type</th>\n",
       "    </tr>\n",
       "  </thead>\n",
       "  <tbody>\n",
       "    <tr>\n",
       "      <th>0</th>\n",
       "      <td>If music be the food of love, play on, Give me...</td>\n",
       "      <td>Michael Porter</td>\n",
       "      <td>Essence, Deep Thought, Transcendentalism</td>\n",
       "    </tr>\n",
       "    <tr>\n",
       "      <th>1</th>\n",
       "      <td>Eighty percent of success is showing up.</td>\n",
       "      <td>Golda Meir</td>\n",
       "      <td>Inspiration, Past, Trying</td>\n",
       "    </tr>\n",
       "    <tr>\n",
       "      <th>2</th>\n",
       "      <td>Marriage: If you want something to last foreve...</td>\n",
       "      <td>Theodore Roosevelt</td>\n",
       "      <td>Country, Peace, War</td>\n",
       "    </tr>\n",
       "    <tr>\n",
       "      <th>3</th>\n",
       "      <td>A hero is an ordinary individual who finds the...</td>\n",
       "      <td>Nelson Mandela</td>\n",
       "      <td>Inspirational, Motivational, Death</td>\n",
       "    </tr>\n",
       "    <tr>\n",
       "      <th>4</th>\n",
       "      <td>Our dilemma is that we hate change and love it...</td>\n",
       "      <td>Erma Bombeck</td>\n",
       "      <td>4th Of July, Food, Patriotic</td>\n",
       "    </tr>\n",
       "    <tr>\n",
       "      <th>...</th>\n",
       "      <td>...</td>\n",
       "      <td>...</td>\n",
       "      <td>...</td>\n",
       "    </tr>\n",
       "    <tr>\n",
       "      <th>995</th>\n",
       "      <td>There are three constants in life... change, c...</td>\n",
       "      <td>Hunter S. Thompson</td>\n",
       "      <td>Music, Sports, Hunting</td>\n",
       "    </tr>\n",
       "    <tr>\n",
       "      <th>996</th>\n",
       "      <td>Young people need models, not critics.</td>\n",
       "      <td>Corrie Ten Boom</td>\n",
       "      <td>Trust, Encouraging, Uplifting</td>\n",
       "    </tr>\n",
       "    <tr>\n",
       "      <th>997</th>\n",
       "      <td>Advice is what we ask for when we already know...</td>\n",
       "      <td>Dalai Lama</td>\n",
       "      <td>Inspirational, Funny, Change</td>\n",
       "    </tr>\n",
       "    <tr>\n",
       "      <th>998</th>\n",
       "      <td>The great use of life is to spend it for somet...</td>\n",
       "      <td>Mother Teresa</td>\n",
       "      <td>Success, God, Mother</td>\n",
       "    </tr>\n",
       "    <tr>\n",
       "      <th>999</th>\n",
       "      <td>Clear thinking requires courage rather than in...</td>\n",
       "      <td>Norman Vincent Peale</td>\n",
       "      <td>Inspirational, Motivational, Change</td>\n",
       "    </tr>\n",
       "  </tbody>\n",
       "</table>\n",
       "<p>1000 rows × 3 columns</p>\n",
       "</div>"
      ],
      "text/plain": [
       "                                                 Quote                Author  \\\n",
       "0    If music be the food of love, play on, Give me...        Michael Porter   \n",
       "1             Eighty percent of success is showing up.            Golda Meir   \n",
       "2    Marriage: If you want something to last foreve...    Theodore Roosevelt   \n",
       "3    A hero is an ordinary individual who finds the...        Nelson Mandela   \n",
       "4    Our dilemma is that we hate change and love it...          Erma Bombeck   \n",
       "..                                                 ...                   ...   \n",
       "995  There are three constants in life... change, c...    Hunter S. Thompson   \n",
       "996             Young people need models, not critics.       Corrie Ten Boom   \n",
       "997  Advice is what we ask for when we already know...            Dalai Lama   \n",
       "998  The great use of life is to spend it for somet...         Mother Teresa   \n",
       "999  Clear thinking requires courage rather than in...  Norman Vincent Peale   \n",
       "\n",
       "                                         Type  \n",
       "0    Essence, Deep Thought, Transcendentalism  \n",
       "1                   Inspiration, Past, Trying  \n",
       "2                         Country, Peace, War  \n",
       "3          Inspirational, Motivational, Death  \n",
       "4                4th Of July, Food, Patriotic  \n",
       "..                                        ...  \n",
       "995                    Music, Sports, Hunting  \n",
       "996             Trust, Encouraging, Uplifting  \n",
       "997              Inspirational, Funny, Change  \n",
       "998                      Success, God, Mother  \n",
       "999       Inspirational, Motivational, Change  \n",
       "\n",
       "[1000 rows x 3 columns]"
      ]
     },
     "execution_count": 551,
     "metadata": {},
     "output_type": "execute_result"
    }
   ],
   "source": [
    "df10=pd.DataFrame({'Quote':Quote,'Author':Author,'Type':Type_of_Quote})\n",
    "df10"
   ]
  },
  {
   "cell_type": "code",
   "execution_count": null,
   "id": "800612db",
   "metadata": {},
   "outputs": [],
   "source": [
    "Q9)Write a python program to display list of respected former Prime Ministers of India(i.e. Name, Born-Dead,\n",
    "Term of office, Remarks) from https://www.jagranjosh.com/.\n",
    "This task will be done in following steps:\n",
    "1. First get the webpagehttps://www.jagranjosh.com/\n",
    "2. Then You have to click on the GK option\n",
    "3. Then click on the List of all Prime Ministers of India\n",
    "4. Then scrap the mentioned data and make theDataFrame."
   ]
  },
  {
   "cell_type": "code",
   "execution_count": 552,
   "id": "156a5e77",
   "metadata": {},
   "outputs": [],
   "source": [
    "driver=webdriver.Chrome()\n",
    "driver.get(\"https://www.jagranjosh.com/\")  \n",
    "#Note: All the codes work, please be patient, it just takes a while to load the website due to horrible number of ads.\n"
   ]
  },
  {
   "cell_type": "code",
   "execution_count": 555,
   "id": "fb7e9441",
   "metadata": {},
   "outputs": [],
   "source": [
    "findgk_link = driver.find_element(By.XPATH, \"/html/body/div[1]/div[20]/section[1]/div/ul/li[1]/span/a\")\n",
    "findgk_link.click()\n",
    "#Note: All the codes work, please be patient, it just takes a while to load the website due to horrible number of ads."
   ]
  },
  {
   "cell_type": "code",
   "execution_count": 557,
   "id": "aa90a815",
   "metadata": {},
   "outputs": [],
   "source": [
    "find_pm=driver.find_element(By.XPATH, \"/html/body/div[2]/div/div/div[2]/div/div[10]/div/div/ul/li[2]/a\")\n",
    "find_pm.click()\n",
    "#Note: All the codes work, please be patient, it just takes a while to load the website due to horrible number of ads."
   ]
  },
  {
   "cell_type": "code",
   "execution_count": 71,
   "id": "d99ef2b3",
   "metadata": {},
   "outputs": [],
   "source": [
    "names=[]"
   ]
  },
  {
   "cell_type": "code",
   "execution_count": 558,
   "id": "23ebbac9",
   "metadata": {},
   "outputs": [
    {
     "name": "stdout",
     "output_type": "stream",
     "text": [
      "['Jawahar Lal Nehru', 'Gulzarilal Nanda (Acting)', 'Lal Bahadur Shastri', 'Gulzari Lal Nanda  (Acting)', 'Indira Gandhi', 'Morarji Desai', 'Charan Singh', 'Indira Gandhi', 'Rajiv Gandhi', 'V. P. Singh', 'Chandra Shekhar', 'P. V. Narasimha Rao', 'Atal Bihari Vajpayee', 'H. D. Deve Gowda', 'Inder Kumar Gujral', 'Atal Bihari Vajpayee', 'Manmohan Singh', 'Narendra Modi', 'Narendra Modi']\n"
     ]
    }
   ],
   "source": [
    "look_table = driver.find_element(By.XPATH, '//table/tbody')\n",
    "look_names = look_table.find_elements(By.XPATH, './tr/td[2]')\n",
    "\n",
    "names = [look.text.strip() for look in look_names]\n",
    "\n",
    "print(names)\n"
   ]
  },
  {
   "cell_type": "code",
   "execution_count": 80,
   "id": "679cb3f0",
   "metadata": {},
   "outputs": [],
   "source": [
    "df4=pd.DataFrame({'PM of India':names})"
   ]
  },
  {
   "cell_type": "code",
   "execution_count": 81,
   "id": "1eaa44a7",
   "metadata": {},
   "outputs": [
    {
     "data": {
      "text/html": [
       "<div>\n",
       "<style scoped>\n",
       "    .dataframe tbody tr th:only-of-type {\n",
       "        vertical-align: middle;\n",
       "    }\n",
       "\n",
       "    .dataframe tbody tr th {\n",
       "        vertical-align: top;\n",
       "    }\n",
       "\n",
       "    .dataframe thead th {\n",
       "        text-align: right;\n",
       "    }\n",
       "</style>\n",
       "<table border=\"1\" class=\"dataframe\">\n",
       "  <thead>\n",
       "    <tr style=\"text-align: right;\">\n",
       "      <th></th>\n",
       "      <th>PM of India</th>\n",
       "    </tr>\n",
       "  </thead>\n",
       "  <tbody>\n",
       "    <tr>\n",
       "      <th>0</th>\n",
       "      <td>Jawahar Lal Nehru</td>\n",
       "    </tr>\n",
       "    <tr>\n",
       "      <th>1</th>\n",
       "      <td>Gulzarilal Nanda (Acting)</td>\n",
       "    </tr>\n",
       "    <tr>\n",
       "      <th>2</th>\n",
       "      <td>Lal Bahadur Shastri</td>\n",
       "    </tr>\n",
       "    <tr>\n",
       "      <th>3</th>\n",
       "      <td>Gulzari Lal Nanda  (Acting)</td>\n",
       "    </tr>\n",
       "    <tr>\n",
       "      <th>4</th>\n",
       "      <td>Indira Gandhi</td>\n",
       "    </tr>\n",
       "    <tr>\n",
       "      <th>5</th>\n",
       "      <td>Morarji Desai</td>\n",
       "    </tr>\n",
       "    <tr>\n",
       "      <th>6</th>\n",
       "      <td>Charan Singh</td>\n",
       "    </tr>\n",
       "    <tr>\n",
       "      <th>7</th>\n",
       "      <td>Indira Gandhi</td>\n",
       "    </tr>\n",
       "    <tr>\n",
       "      <th>8</th>\n",
       "      <td>Rajiv Gandhi</td>\n",
       "    </tr>\n",
       "    <tr>\n",
       "      <th>9</th>\n",
       "      <td>V. P. Singh</td>\n",
       "    </tr>\n",
       "    <tr>\n",
       "      <th>10</th>\n",
       "      <td>Chandra Shekhar</td>\n",
       "    </tr>\n",
       "    <tr>\n",
       "      <th>11</th>\n",
       "      <td>P. V. Narasimha Rao</td>\n",
       "    </tr>\n",
       "    <tr>\n",
       "      <th>12</th>\n",
       "      <td>Atal Bihari Vajpayee</td>\n",
       "    </tr>\n",
       "    <tr>\n",
       "      <th>13</th>\n",
       "      <td>H. D. Deve Gowda</td>\n",
       "    </tr>\n",
       "    <tr>\n",
       "      <th>14</th>\n",
       "      <td>Inder Kumar Gujral</td>\n",
       "    </tr>\n",
       "    <tr>\n",
       "      <th>15</th>\n",
       "      <td>Atal Bihari Vajpayee</td>\n",
       "    </tr>\n",
       "    <tr>\n",
       "      <th>16</th>\n",
       "      <td>Manmohan Singh</td>\n",
       "    </tr>\n",
       "    <tr>\n",
       "      <th>17</th>\n",
       "      <td>Narendra Modi</td>\n",
       "    </tr>\n",
       "    <tr>\n",
       "      <th>18</th>\n",
       "      <td>Narendra Modi</td>\n",
       "    </tr>\n",
       "  </tbody>\n",
       "</table>\n",
       "</div>"
      ],
      "text/plain": [
       "                    PM of India\n",
       "0             Jawahar Lal Nehru\n",
       "1     Gulzarilal Nanda (Acting)\n",
       "2           Lal Bahadur Shastri\n",
       "3   Gulzari Lal Nanda  (Acting)\n",
       "4                 Indira Gandhi\n",
       "5                 Morarji Desai\n",
       "6                  Charan Singh\n",
       "7                 Indira Gandhi\n",
       "8                  Rajiv Gandhi\n",
       "9                   V. P. Singh\n",
       "10              Chandra Shekhar\n",
       "11          P. V. Narasimha Rao\n",
       "12         Atal Bihari Vajpayee\n",
       "13             H. D. Deve Gowda\n",
       "14           Inder Kumar Gujral\n",
       "15         Atal Bihari Vajpayee\n",
       "16               Manmohan Singh\n",
       "17                Narendra Modi\n",
       "18                Narendra Modi"
      ]
     },
     "execution_count": 81,
     "metadata": {},
     "output_type": "execute_result"
    }
   ],
   "source": [
    "df4"
   ]
  },
  {
   "cell_type": "raw",
   "id": "8f6fd68a",
   "metadata": {},
   "source": [
    "Q10) Write a python program to display list of 50 Most expensive cars in the world (i.e.\n",
    "Car name and Price) from https://www.motor1.com/\n",
    "This task will be done in following steps:\n",
    "1. First get the webpage https://www.motor1.com/\n",
    "2. Then You have to type in the search bar ’50 most expensive cars’\n",
    "3. Then click on 50 most expensive carsin the world..\n",
    "4. Then scrap the mentioned data and make the dataframe."
   ]
  },
  {
   "cell_type": "code",
   "execution_count": null,
   "id": "b2fdd7e0",
   "metadata": {},
   "outputs": [],
   "source": [
    "class=\"m1-search-panel-input m1-search-form-text\""
   ]
  },
  {
   "cell_type": "code",
   "execution_count": 689,
   "id": "775d5310",
   "metadata": {},
   "outputs": [],
   "source": [
    "driver=webdriver.Chrome()\n",
    "driver.get(\"https://www.motor1.com/\")"
   ]
  },
  {
   "cell_type": "code",
   "execution_count": 690,
   "id": "060f5f3b",
   "metadata": {},
   "outputs": [],
   "source": [
    "search_link = driver.find_element(By.ID, \"search_input\")\n",
    "search_link.send_keys('50 most expensive cars')"
   ]
  },
  {
   "cell_type": "code",
   "execution_count": 691,
   "id": "5964e130",
   "metadata": {},
   "outputs": [],
   "source": [
    "search=driver.find_element(By.XPATH,\"/html/body/div[10]/div[2]/div/div/div[3]/div/div/div/form/button[1]\")\n",
    "search.click()"
   ]
  },
  {
   "cell_type": "code",
   "execution_count": 692,
   "id": "33d6e25b",
   "metadata": {},
   "outputs": [],
   "source": [
    "driver=webdriver.Chrome()\n",
    "driver.get(\"https://www.motor1.com/features/308149/most-expensive-new-cars-ever/\")"
   ]
  },
  {
   "cell_type": "code",
   "execution_count": null,
   "id": "8b21bfbf",
   "metadata": {},
   "outputs": [],
   "source": [
    "After this process, the website states \"The content you are looking for doesn't exist yet. To continue, try other site section.\n",
    "Sorry to disappoint you.\"\n",
    "This means I am unable to extract any information"
   ]
  },
  {
   "cell_type": "code",
   "execution_count": 696,
   "id": "54d81345",
   "metadata": {},
   "outputs": [
    {
     "name": "stdout",
     "output_type": "stream",
     "text": [
      "['Aston Martin Valour', 'McLaren Elva', 'Czinger 21C', 'Ferrari Monza', 'Gordon Murray T.33', 'Koenigsegg Gemera', 'Zenvo TSR-S', 'Hennessey Venom F5', 'Bentley Bacalar', 'Hispano Suiza Carmen Boulogne', 'Bentley Mulliner Batur', 'Deus Vayanne', 'SSC Tuatara', 'Lotus Evija', 'Aston Martin Vulcan', 'Delage D12', 'Ferrari Daytona SP3', 'McLaren Speedtail', 'Rimac Nevera', 'Pagani Utopia', 'Pininfarina Battista', 'Gordon Murray T.50', 'Lamborghini Countach', 'Mercedes-AMG Project One', 'Zenvo Aurora', 'Aston Martin Victor', 'Hennessey Venom F5 Roadster', 'Koenigsegg Jesko', 'Aston Martin Valkyrie', 'W Motors Lykan Hypersport', 'McLaren Solus', 'Lamborghini Sian', 'Koenigsegg CC850', 'Bugatti Chiron Super Sport 300+', 'Lamborghini Veneno', 'Bugatti Bolide', 'Pininfarina B95 Speedster', 'Bugatti Mistral', 'Pagani Huayra Imola', 'Bugatti Divo', 'SP Automotive Chaos', 'Pagani Codalunga', '777 Hypercar', 'Mercedes-Maybach Exelero', 'Bugatti Centodieci', 'Bugatti Chiron Profilée', 'Rolls-Royce Sweptail', 'Bugatti La Voiture Noire', 'Rolls-Royce Boat Tail*', 'Rolls-Royce La Rose Noire Droptail']\n"
     ]
    }
   ],
   "source": [
    "Car_Name=[]\n",
    "Name_Car = driver.find_elements(By.CLASS_NAME,'subheader')\n",
    "for car_n in Name_Car[:50]:\n",
    "    name = car_n.text\n",
    "    Car_Name.append(name)\n",
    "\n",
    "print(Car_Name)"
   ]
  },
  {
   "cell_type": "code",
   "execution_count": 698,
   "id": "08289759",
   "metadata": {},
   "outputs": [
    {
     "name": "stdout",
     "output_type": "stream",
     "text": [
      "['Price: $1.5 Million', 'Price: $1.7 Million', 'Price: $1.7 Million', 'Price: $1.7 Million', 'Price: $1.7 Million', 'Price: $1.7 Million', 'Price: $1.7 Million', 'Price: $1.8 Million', 'Price: $1.9 Million', 'Price: $1.9 Million', 'Price: $2.0 Million', 'Price: $2.0 Million', 'Price: $2.0 Million', 'Price: $2.1 Million', 'Price: $2.3 Million', 'Price: $2.3 Million', 'Price: $2.3 Million', 'Price: $2.3 Million', 'Price: $2.4 Million', 'Price: $2.5 Million', 'Price: $2.5 Million', 'Price: $2.6 Million', 'Price: $2.6 Million', 'Price: $2.7 Million', 'Price: $2.8 Million', 'Price: $3.0 Million', '$3.0 Million', 'Price: $3.0 Million', 'Price: $3.2 Million', 'Price: $3.4 Million', '$3.5 Million', 'Price: $3.6 million', 'Price: $3.7 Million', 'Price: $3.9 Million', 'Price: $4.5 Million', 'Price: $4.7 Million', 'Price: $4.8 Million', 'Price: $5.0 Million', 'Price: $5.4 Million', 'Price: $5.8 Million', 'Price: $6.4 Million', 'Price: $7.4 Million', 'Price: $7.5 Million', 'Price: $8.0 Million', 'Price: $9.0 Million', 'Price: $10.8 Million', 'Price: $12.8 Million', 'Price: $13.4 Million', 'Price: $28.0 Million (est.)', 'Price: $30 Million (est.)']\n"
     ]
    }
   ],
   "source": [
    "Car_Price=[]\n",
    "Price_Car = driver.find_elements(By.XPATH, '//p/strong')\n",
    "for car_p in Price_Car[:50]:\n",
    "    price = car_p.text\n",
    "    Car_Price.append(price)\n",
    "\n",
    "print(Car_Price)"
   ]
  },
  {
   "cell_type": "code",
   "execution_count": 699,
   "id": "93d3746e",
   "metadata": {},
   "outputs": [],
   "source": [
    "df11=pd.DataFrame({'Name':Car_Name,'Price':Car_Price})"
   ]
  },
  {
   "cell_type": "code",
   "execution_count": 700,
   "id": "8c50de13",
   "metadata": {},
   "outputs": [
    {
     "data": {
      "text/html": [
       "<div>\n",
       "<style scoped>\n",
       "    .dataframe tbody tr th:only-of-type {\n",
       "        vertical-align: middle;\n",
       "    }\n",
       "\n",
       "    .dataframe tbody tr th {\n",
       "        vertical-align: top;\n",
       "    }\n",
       "\n",
       "    .dataframe thead th {\n",
       "        text-align: right;\n",
       "    }\n",
       "</style>\n",
       "<table border=\"1\" class=\"dataframe\">\n",
       "  <thead>\n",
       "    <tr style=\"text-align: right;\">\n",
       "      <th></th>\n",
       "      <th>Name</th>\n",
       "      <th>Price</th>\n",
       "    </tr>\n",
       "  </thead>\n",
       "  <tbody>\n",
       "    <tr>\n",
       "      <th>0</th>\n",
       "      <td>Aston Martin Valour</td>\n",
       "      <td>Price: $1.5 Million</td>\n",
       "    </tr>\n",
       "    <tr>\n",
       "      <th>1</th>\n",
       "      <td>McLaren Elva</td>\n",
       "      <td>Price: $1.7 Million</td>\n",
       "    </tr>\n",
       "    <tr>\n",
       "      <th>2</th>\n",
       "      <td>Czinger 21C</td>\n",
       "      <td>Price: $1.7 Million</td>\n",
       "    </tr>\n",
       "    <tr>\n",
       "      <th>3</th>\n",
       "      <td>Ferrari Monza</td>\n",
       "      <td>Price: $1.7 Million</td>\n",
       "    </tr>\n",
       "    <tr>\n",
       "      <th>4</th>\n",
       "      <td>Gordon Murray T.33</td>\n",
       "      <td>Price: $1.7 Million</td>\n",
       "    </tr>\n",
       "    <tr>\n",
       "      <th>5</th>\n",
       "      <td>Koenigsegg Gemera</td>\n",
       "      <td>Price: $1.7 Million</td>\n",
       "    </tr>\n",
       "    <tr>\n",
       "      <th>6</th>\n",
       "      <td>Zenvo TSR-S</td>\n",
       "      <td>Price: $1.7 Million</td>\n",
       "    </tr>\n",
       "    <tr>\n",
       "      <th>7</th>\n",
       "      <td>Hennessey Venom F5</td>\n",
       "      <td>Price: $1.8 Million</td>\n",
       "    </tr>\n",
       "    <tr>\n",
       "      <th>8</th>\n",
       "      <td>Bentley Bacalar</td>\n",
       "      <td>Price: $1.9 Million</td>\n",
       "    </tr>\n",
       "    <tr>\n",
       "      <th>9</th>\n",
       "      <td>Hispano Suiza Carmen Boulogne</td>\n",
       "      <td>Price: $1.9 Million</td>\n",
       "    </tr>\n",
       "    <tr>\n",
       "      <th>10</th>\n",
       "      <td>Bentley Mulliner Batur</td>\n",
       "      <td>Price: $2.0 Million</td>\n",
       "    </tr>\n",
       "    <tr>\n",
       "      <th>11</th>\n",
       "      <td>Deus Vayanne</td>\n",
       "      <td>Price: $2.0 Million</td>\n",
       "    </tr>\n",
       "    <tr>\n",
       "      <th>12</th>\n",
       "      <td>SSC Tuatara</td>\n",
       "      <td>Price: $2.0 Million</td>\n",
       "    </tr>\n",
       "    <tr>\n",
       "      <th>13</th>\n",
       "      <td>Lotus Evija</td>\n",
       "      <td>Price: $2.1 Million</td>\n",
       "    </tr>\n",
       "    <tr>\n",
       "      <th>14</th>\n",
       "      <td>Aston Martin Vulcan</td>\n",
       "      <td>Price: $2.3 Million</td>\n",
       "    </tr>\n",
       "    <tr>\n",
       "      <th>15</th>\n",
       "      <td>Delage D12</td>\n",
       "      <td>Price: $2.3 Million</td>\n",
       "    </tr>\n",
       "    <tr>\n",
       "      <th>16</th>\n",
       "      <td>Ferrari Daytona SP3</td>\n",
       "      <td>Price: $2.3 Million</td>\n",
       "    </tr>\n",
       "    <tr>\n",
       "      <th>17</th>\n",
       "      <td>McLaren Speedtail</td>\n",
       "      <td>Price: $2.3 Million</td>\n",
       "    </tr>\n",
       "    <tr>\n",
       "      <th>18</th>\n",
       "      <td>Rimac Nevera</td>\n",
       "      <td>Price: $2.4 Million</td>\n",
       "    </tr>\n",
       "    <tr>\n",
       "      <th>19</th>\n",
       "      <td>Pagani Utopia</td>\n",
       "      <td>Price: $2.5 Million</td>\n",
       "    </tr>\n",
       "    <tr>\n",
       "      <th>20</th>\n",
       "      <td>Pininfarina Battista</td>\n",
       "      <td>Price: $2.5 Million</td>\n",
       "    </tr>\n",
       "    <tr>\n",
       "      <th>21</th>\n",
       "      <td>Gordon Murray T.50</td>\n",
       "      <td>Price: $2.6 Million</td>\n",
       "    </tr>\n",
       "    <tr>\n",
       "      <th>22</th>\n",
       "      <td>Lamborghini Countach</td>\n",
       "      <td>Price: $2.6 Million</td>\n",
       "    </tr>\n",
       "    <tr>\n",
       "      <th>23</th>\n",
       "      <td>Mercedes-AMG Project One</td>\n",
       "      <td>Price: $2.7 Million</td>\n",
       "    </tr>\n",
       "    <tr>\n",
       "      <th>24</th>\n",
       "      <td>Zenvo Aurora</td>\n",
       "      <td>Price: $2.8 Million</td>\n",
       "    </tr>\n",
       "    <tr>\n",
       "      <th>25</th>\n",
       "      <td>Aston Martin Victor</td>\n",
       "      <td>Price: $3.0 Million</td>\n",
       "    </tr>\n",
       "    <tr>\n",
       "      <th>26</th>\n",
       "      <td>Hennessey Venom F5 Roadster</td>\n",
       "      <td>$3.0 Million</td>\n",
       "    </tr>\n",
       "    <tr>\n",
       "      <th>27</th>\n",
       "      <td>Koenigsegg Jesko</td>\n",
       "      <td>Price: $3.0 Million</td>\n",
       "    </tr>\n",
       "    <tr>\n",
       "      <th>28</th>\n",
       "      <td>Aston Martin Valkyrie</td>\n",
       "      <td>Price: $3.2 Million</td>\n",
       "    </tr>\n",
       "    <tr>\n",
       "      <th>29</th>\n",
       "      <td>W Motors Lykan Hypersport</td>\n",
       "      <td>Price: $3.4 Million</td>\n",
       "    </tr>\n",
       "    <tr>\n",
       "      <th>30</th>\n",
       "      <td>McLaren Solus</td>\n",
       "      <td>$3.5 Million</td>\n",
       "    </tr>\n",
       "    <tr>\n",
       "      <th>31</th>\n",
       "      <td>Lamborghini Sian</td>\n",
       "      <td>Price: $3.6 million</td>\n",
       "    </tr>\n",
       "    <tr>\n",
       "      <th>32</th>\n",
       "      <td>Koenigsegg CC850</td>\n",
       "      <td>Price: $3.7 Million</td>\n",
       "    </tr>\n",
       "    <tr>\n",
       "      <th>33</th>\n",
       "      <td>Bugatti Chiron Super Sport 300+</td>\n",
       "      <td>Price: $3.9 Million</td>\n",
       "    </tr>\n",
       "    <tr>\n",
       "      <th>34</th>\n",
       "      <td>Lamborghini Veneno</td>\n",
       "      <td>Price: $4.5 Million</td>\n",
       "    </tr>\n",
       "    <tr>\n",
       "      <th>35</th>\n",
       "      <td>Bugatti Bolide</td>\n",
       "      <td>Price: $4.7 Million</td>\n",
       "    </tr>\n",
       "    <tr>\n",
       "      <th>36</th>\n",
       "      <td>Pininfarina B95 Speedster</td>\n",
       "      <td>Price: $4.8 Million</td>\n",
       "    </tr>\n",
       "    <tr>\n",
       "      <th>37</th>\n",
       "      <td>Bugatti Mistral</td>\n",
       "      <td>Price: $5.0 Million</td>\n",
       "    </tr>\n",
       "    <tr>\n",
       "      <th>38</th>\n",
       "      <td>Pagani Huayra Imola</td>\n",
       "      <td>Price: $5.4 Million</td>\n",
       "    </tr>\n",
       "    <tr>\n",
       "      <th>39</th>\n",
       "      <td>Bugatti Divo</td>\n",
       "      <td>Price: $5.8 Million</td>\n",
       "    </tr>\n",
       "    <tr>\n",
       "      <th>40</th>\n",
       "      <td>SP Automotive Chaos</td>\n",
       "      <td>Price: $6.4 Million</td>\n",
       "    </tr>\n",
       "    <tr>\n",
       "      <th>41</th>\n",
       "      <td>Pagani Codalunga</td>\n",
       "      <td>Price: $7.4 Million</td>\n",
       "    </tr>\n",
       "    <tr>\n",
       "      <th>42</th>\n",
       "      <td>777 Hypercar</td>\n",
       "      <td>Price: $7.5 Million</td>\n",
       "    </tr>\n",
       "    <tr>\n",
       "      <th>43</th>\n",
       "      <td>Mercedes-Maybach Exelero</td>\n",
       "      <td>Price: $8.0 Million</td>\n",
       "    </tr>\n",
       "    <tr>\n",
       "      <th>44</th>\n",
       "      <td>Bugatti Centodieci</td>\n",
       "      <td>Price: $9.0 Million</td>\n",
       "    </tr>\n",
       "    <tr>\n",
       "      <th>45</th>\n",
       "      <td>Bugatti Chiron Profilée</td>\n",
       "      <td>Price: $10.8 Million</td>\n",
       "    </tr>\n",
       "    <tr>\n",
       "      <th>46</th>\n",
       "      <td>Rolls-Royce Sweptail</td>\n",
       "      <td>Price: $12.8 Million</td>\n",
       "    </tr>\n",
       "    <tr>\n",
       "      <th>47</th>\n",
       "      <td>Bugatti La Voiture Noire</td>\n",
       "      <td>Price: $13.4 Million</td>\n",
       "    </tr>\n",
       "    <tr>\n",
       "      <th>48</th>\n",
       "      <td>Rolls-Royce Boat Tail*</td>\n",
       "      <td>Price: $28.0 Million (est.)</td>\n",
       "    </tr>\n",
       "    <tr>\n",
       "      <th>49</th>\n",
       "      <td>Rolls-Royce La Rose Noire Droptail</td>\n",
       "      <td>Price: $30 Million (est.)</td>\n",
       "    </tr>\n",
       "  </tbody>\n",
       "</table>\n",
       "</div>"
      ],
      "text/plain": [
       "                                  Name                        Price\n",
       "0                  Aston Martin Valour          Price: $1.5 Million\n",
       "1                         McLaren Elva          Price: $1.7 Million\n",
       "2                          Czinger 21C          Price: $1.7 Million\n",
       "3                        Ferrari Monza          Price: $1.7 Million\n",
       "4                   Gordon Murray T.33          Price: $1.7 Million\n",
       "5                    Koenigsegg Gemera          Price: $1.7 Million\n",
       "6                          Zenvo TSR-S          Price: $1.7 Million\n",
       "7                   Hennessey Venom F5          Price: $1.8 Million\n",
       "8                      Bentley Bacalar          Price: $1.9 Million\n",
       "9        Hispano Suiza Carmen Boulogne          Price: $1.9 Million\n",
       "10              Bentley Mulliner Batur          Price: $2.0 Million\n",
       "11                        Deus Vayanne          Price: $2.0 Million\n",
       "12                         SSC Tuatara          Price: $2.0 Million\n",
       "13                         Lotus Evija          Price: $2.1 Million\n",
       "14                 Aston Martin Vulcan          Price: $2.3 Million\n",
       "15                          Delage D12          Price: $2.3 Million\n",
       "16                 Ferrari Daytona SP3          Price: $2.3 Million\n",
       "17                   McLaren Speedtail          Price: $2.3 Million\n",
       "18                        Rimac Nevera          Price: $2.4 Million\n",
       "19                       Pagani Utopia          Price: $2.5 Million\n",
       "20                Pininfarina Battista          Price: $2.5 Million\n",
       "21                  Gordon Murray T.50          Price: $2.6 Million\n",
       "22                Lamborghini Countach          Price: $2.6 Million\n",
       "23            Mercedes-AMG Project One          Price: $2.7 Million\n",
       "24                        Zenvo Aurora          Price: $2.8 Million\n",
       "25                 Aston Martin Victor          Price: $3.0 Million\n",
       "26         Hennessey Venom F5 Roadster                 $3.0 Million\n",
       "27                    Koenigsegg Jesko          Price: $3.0 Million\n",
       "28               Aston Martin Valkyrie          Price: $3.2 Million\n",
       "29           W Motors Lykan Hypersport          Price: $3.4 Million\n",
       "30                       McLaren Solus                 $3.5 Million\n",
       "31                    Lamborghini Sian          Price: $3.6 million\n",
       "32                    Koenigsegg CC850          Price: $3.7 Million\n",
       "33     Bugatti Chiron Super Sport 300+          Price: $3.9 Million\n",
       "34                  Lamborghini Veneno          Price: $4.5 Million\n",
       "35                      Bugatti Bolide          Price: $4.7 Million\n",
       "36           Pininfarina B95 Speedster          Price: $4.8 Million\n",
       "37                     Bugatti Mistral          Price: $5.0 Million\n",
       "38                 Pagani Huayra Imola          Price: $5.4 Million\n",
       "39                        Bugatti Divo          Price: $5.8 Million\n",
       "40                 SP Automotive Chaos          Price: $6.4 Million\n",
       "41                    Pagani Codalunga          Price: $7.4 Million\n",
       "42                        777 Hypercar          Price: $7.5 Million\n",
       "43            Mercedes-Maybach Exelero          Price: $8.0 Million\n",
       "44                  Bugatti Centodieci          Price: $9.0 Million\n",
       "45             Bugatti Chiron Profilée         Price: $10.8 Million\n",
       "46                Rolls-Royce Sweptail         Price: $12.8 Million\n",
       "47            Bugatti La Voiture Noire         Price: $13.4 Million\n",
       "48              Rolls-Royce Boat Tail*  Price: $28.0 Million (est.)\n",
       "49  Rolls-Royce La Rose Noire Droptail    Price: $30 Million (est.)"
      ]
     },
     "execution_count": 700,
     "metadata": {},
     "output_type": "execute_result"
    }
   ],
   "source": [
    "df11"
   ]
  },
  {
   "cell_type": "code",
   "execution_count": null,
   "id": "08e62b67",
   "metadata": {},
   "outputs": [],
   "source": []
  }
 ],
 "metadata": {
  "kernelspec": {
   "display_name": "Python 3 (ipykernel)",
   "language": "python",
   "name": "python3"
  },
  "language_info": {
   "codemirror_mode": {
    "name": "ipython",
    "version": 3
   },
   "file_extension": ".py",
   "mimetype": "text/x-python",
   "name": "python",
   "nbconvert_exporter": "python",
   "pygments_lexer": "ipython3",
   "version": "3.11.5"
  }
 },
 "nbformat": 4,
 "nbformat_minor": 5
}
