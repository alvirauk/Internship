{
 "cells": [
  {
   "cell_type": "code",
   "execution_count": 2,
   "id": "e0c92e7e",
   "metadata": {},
   "outputs": [
    {
     "name": "stdout",
     "output_type": "stream",
     "text": [
      "Requirement already satisfied: selenium in c:\\users\\alvir\\anaconda3\\lib\\site-packages (4.15.0)\n",
      "Requirement already satisfied: urllib3[socks]<3,>=1.26 in c:\\users\\alvir\\anaconda3\\lib\\site-packages (from selenium) (1.26.16)\n",
      "Requirement already satisfied: trio~=0.17 in c:\\users\\alvir\\anaconda3\\lib\\site-packages (from selenium) (0.22.2)\n",
      "Requirement already satisfied: trio-websocket~=0.9 in c:\\users\\alvir\\anaconda3\\lib\\site-packages (from selenium) (0.11.1)\n",
      "Requirement already satisfied: certifi>=2021.10.8 in c:\\users\\alvir\\anaconda3\\lib\\site-packages (from selenium) (2023.7.22)\n",
      "Requirement already satisfied: attrs>=20.1.0 in c:\\users\\alvir\\anaconda3\\lib\\site-packages (from trio~=0.17->selenium) (22.1.0)\n",
      "Requirement already satisfied: sortedcontainers in c:\\users\\alvir\\anaconda3\\lib\\site-packages (from trio~=0.17->selenium) (2.4.0)\n",
      "Requirement already satisfied: idna in c:\\users\\alvir\\anaconda3\\lib\\site-packages (from trio~=0.17->selenium) (3.4)\n",
      "Requirement already satisfied: outcome in c:\\users\\alvir\\anaconda3\\lib\\site-packages (from trio~=0.17->selenium) (1.3.0.post0)\n",
      "Requirement already satisfied: sniffio in c:\\users\\alvir\\anaconda3\\lib\\site-packages (from trio~=0.17->selenium) (1.2.0)\n",
      "Requirement already satisfied: cffi>=1.14 in c:\\users\\alvir\\anaconda3\\lib\\site-packages (from trio~=0.17->selenium) (1.15.1)\n",
      "Requirement already satisfied: wsproto>=0.14 in c:\\users\\alvir\\anaconda3\\lib\\site-packages (from trio-websocket~=0.9->selenium) (1.2.0)\n",
      "Requirement already satisfied: PySocks!=1.5.7,<2.0,>=1.5.6 in c:\\users\\alvir\\anaconda3\\lib\\site-packages (from urllib3[socks]<3,>=1.26->selenium) (1.7.1)\n",
      "Requirement already satisfied: pycparser in c:\\users\\alvir\\anaconda3\\lib\\site-packages (from cffi>=1.14->trio~=0.17->selenium) (2.21)\n",
      "Requirement already satisfied: h11<1,>=0.9.0 in c:\\users\\alvir\\anaconda3\\lib\\site-packages (from wsproto>=0.14->trio-websocket~=0.9->selenium) (0.14.0)\n"
     ]
    }
   ],
   "source": [
    "!pip install selenium"
   ]
  },
  {
   "cell_type": "code",
   "execution_count": 2,
   "id": "2be3c88c",
   "metadata": {},
   "outputs": [],
   "source": [
    "import selenium"
   ]
  },
  {
   "cell_type": "code",
   "execution_count": 3,
   "id": "0026c827",
   "metadata": {},
   "outputs": [],
   "source": [
    "from selenium import webdriver\n",
    "import pandas as pd\n",
    "from selenium.webdriver.common.by import By\n",
    "import warnings\n",
    "warnings.filterwarnings(\"ignore\")\n",
    "import time\n",
    "from bs4 import BeautifulSoup\n",
    "from selenium.common.exceptions import StaleElementReferenceException, NoSuchElementException\n",
    "from selenium.webdriver.support.ui import WebDriverWait\n",
    "from selenium.webdriver.support import expected_conditions as EC\n",
    "from selenium.common.exceptions import TimeoutException\n",
    "import requests"
   ]
  },
  {
   "cell_type": "code",
   "execution_count": null,
   "id": "419cdfe5",
   "metadata": {},
   "outputs": [],
   "source": [
    "Q1. Write a python program which searches all the product under a particular product from www.amazon.in. The\n",
    "product to be searched will be taken as input from user. For e.g. If user input is ‘guitar’. Then search for\n",
    "guitars. \n",
    "In the above question, now scrape the following details of each product listed in first 3 pages of your search\n",
    "results and save it in a data frame and csv. In case if any product has less than 3 pages in search results then\n",
    "scrape all the products available under that product name. Details to be scraped are: \"Brand\n",
    "Name\", \"Name of the Product\", \"Price\", \"Return/Exchange\", \"Expected Delivery\", \"Availability\" and\n",
    "“Product URL”. In case, if any of the details are missing for any of the product then replace it by “-“. "
   ]
  },
  {
   "cell_type": "code",
   "execution_count": 106,
   "id": "1830c2db",
   "metadata": {},
   "outputs": [],
   "source": [
    "driver = webdriver.Chrome()\n",
    "driver.get(\"https://www.amazon.in/\")"
   ]
  },
  {
   "cell_type": "code",
   "execution_count": 107,
   "id": "07982bd5",
   "metadata": {},
   "outputs": [],
   "source": [
    "designation1=driver.find_element(By.XPATH, \"/html/body/div[1]/header/div/div[1]/div[2]/div/form/div[2]/div[1]/input\")\n",
    "designation1.send_keys('Samsung Flip 5')\n",
    "search=driver.find_element(By.XPATH, \"/html/body/div[1]/header/div/div[1]/div[2]/div/form/div[3]/div/span/input\")\n",
    "search.click()\n",
    "time.sleep(3)"
   ]
  },
  {
   "cell_type": "code",
   "execution_count": 108,
   "id": "4e0f2838",
   "metadata": {},
   "outputs": [],
   "source": [
    "product_urls = []\n",
    "start=0\n",
    "end=3\n",
    "for page in range(start, end):\n",
    "        url=driver.find_elements(By.XPATH,'//a[@class = \"a-link-normal s-underline-text s-underline-link-text s-link-style a-text-normal\"]')\n",
    "        for i in url:\n",
    "            product_urls.append(i.get_attribute(\"href\"))\n",
    "        \n",
    "        time.sleep(2)\n",
    "        next_button = driver.find_element(By.XPATH,'//a[@class=\"s-pagination-item s-pagination-next s-pagination-button s-pagination-separator\"]')\n",
    "        next_button.click()"
   ]
  },
  {
   "cell_type": "code",
   "execution_count": 102,
   "id": "e6bed294",
   "metadata": {},
   "outputs": [
    {
     "name": "stdout",
     "output_type": "stream",
     "text": [
      "['https://www.amazon.in/sspa/click?ie=UTF8&spc=MTozMzgxMDE3NTMxNTc2Njg4OjE3MDA0OTk4NTY6c3BfYXRmOjMwMDAyNDQ3NDgwMDMzMjo6MDo6&url=%2FSamsung-Galaxy-Flip5-Graphite-Storage%2Fdp%2FB0CB6BZ244%2Fref%3Dsr_1_1_sspa%3Fcrid%3D30VRT017XR4KT%26keywords%3DSamsung%2BFlip%2B5%26qid%3D1700499856%26sprefix%3D%252Caps%252C350%26sr%3D8-1-spons%26sp_csd%3Dd2lkZ2V0TmFtZT1zcF9hdGY%26psc%3D1', 'https://www.amazon.in/Samsung-Galaxy-Flip5-256GB-Storage/dp/B0CB698HZL/ref=sr_1_2?crid=30VRT017XR4KT&keywords=Samsung+Flip+5&qid=1700499856&sprefix=%2Caps%2C350&sr=8-2', 'https://www.amazon.in/Samsung-Galaxy-Flip5-Cream-Storage/dp/B0CB67R3Y6/ref=sr_1_3?crid=30VRT017XR4KT&keywords=Samsung+Flip+5&qid=1700499856&sprefix=%2Caps%2C350&sr=8-3', 'https://www.amazon.in/Samsung-Galaxy-Flip5-Lavender-Storage/dp/B0CB68NF1W/ref=sr_1_4?crid=30VRT017XR4KT&keywords=Samsung+Flip+5&qid=1700499856&sprefix=%2Caps%2C350&sr=8-4', 'https://aax-eu.amazon.in/x/c/RLu2PXL7NENf2Mlbbfs3nwEAAAGL7bCciAMAAAH2AQBvbm9fdHhuX2JpZDEgICBvbm9fdHhuX2ltcDEgICA0MsdU/https://www.amazon.in/Spigen-Optik-Samsung-Galaxy-Carbonate/dp/B0BT2QC8S3/ref=sxin_17_sbv_search_btf?content-id=amzn1.sym.10447c6b-3f84-4df3-b999-01a8bbbf010e%3Aamzn1.sym.10447c6b-3f84-4df3-b999-01a8bbbf010e&crid=30VRT017XR4KT&cv_ct_cx=Samsung+Flip+5&keywords=Samsung+Flip+5&pd_rd_i=B0BT2QC8S3&pd_rd_r=4098515e-b8cd-407b-ba24-04232d851eb1&pd_rd_w=qEb6N&pd_rd_wg=l0NMy&pf_rd_p=10447c6b-3f84-4df3-b999-01a8bbbf010e&pf_rd_r=NEKJZWY36DE2PNGMJBGE&qid=1700499856&sbo=RZvfv%2F%2FHxDF%2BO5021pAnSA%3D%3D&sprefix=%2Caps%2C350&sr=1-1-b614a050-8d70-4320-9c19-cc457ab2a351', 'https://www.amazon.in/Samsung-Galaxy-Flip5-Graphite-Storage/dp/B0CB6BZ244/ref=sr_1_5?crid=30VRT017XR4KT&keywords=Samsung+Flip+5&qid=1700499856&sprefix=%2Caps%2C350&sr=8-5', 'https://www.amazon.in/Samsung-Galaxy-Flip5-Cream-Storage/dp/B0CB6BMFJR/ref=sr_1_6?crid=30VRT017XR4KT&keywords=Samsung+Flip+5&qid=1700499856&sprefix=%2Caps%2C350&sr=8-6', 'https://www.amazon.in/Refurbished-Samsung-Galaxy-Graphite-Storage/dp/B0CFX4TVH2/ref=sr_1_7?crid=30VRT017XR4KT&keywords=Samsung+Flip+5&qid=1700499856&sprefix=%2Caps%2C350&sr=8-7', 'https://www.amazon.in/Samsung-Galaxy-Flip5-Graphite-Storage/dp/B0CB68411V/ref=sr_1_8?crid=30VRT017XR4KT&keywords=Samsung+Flip+5&qid=1700499856&sprefix=%2Caps%2C350&sr=8-8', 'https://www.amazon.in/Samsung-Galaxy-Flip5-512GB-Storage/dp/B0CB6BCJYS/ref=sr_1_9?crid=30VRT017XR4KT&keywords=Samsung+Flip+5&qid=1700499856&sprefix=%2Caps%2C350&sr=8-9', 'https://www.amazon.in/Refurbished-Samsung-Galaxy-Lavender-Storage/dp/B0CKXTH1JJ/ref=sr_1_10?crid=30VRT017XR4KT&keywords=Samsung+Flip+5&qid=1700499856&sprefix=%2Caps%2C350&sr=8-10', 'https://www.amazon.in/sspa/click?ie=UTF8&spc=MTozMzgxMDE3NTMxNTc2Njg4OjE3MDA0OTk4NTY6c3BfbXRmOjIwMTQ4MDk3MDAzNzk4OjowOjo&url=%2FSamsung-Segments-Smartphone-Octa-Core-Processor%2Fdp%2FB0BZCV25LG%2Fref%3Dsr_1_11_sspa%3Fcrid%3D30VRT017XR4KT%26keywords%3DSamsung%2BFlip%2B5%26qid%3D1700499856%26sprefix%3D%252Caps%252C350%26sr%3D8-11-spons%26sp_csd%3Dd2lkZ2V0TmFtZT1zcF9tdGY%26psc%3D1', 'https://www.amazon.in/Refurbished-Samsung-Galaxy-Flip5-Storage/dp/B0CGPP94PQ/ref=sr_1_12?crid=30VRT017XR4KT&keywords=Samsung+Flip+5&qid=1700499856&sprefix=%2Caps%2C350&sr=8-12', 'https://www.amazon.in/Samsung-Phantom-Storage-Additional-Exchange/dp/B09CQ2YXWX/ref=sr_1_13?crid=30VRT017XR4KT&keywords=Samsung+Flip+5&qid=1700499856&sprefix=%2Caps%2C350&sr=8-13', 'https://www.amazon.in/Samsung-Galaxy-Flip4-Light-Storage/dp/B0BGKGSJKZ/ref=sr_1_14?crid=30VRT017XR4KT&keywords=Samsung+Flip+5&qid=1700499856&sprefix=%2Caps%2C350&sr=8-14', 'https://www.amazon.in/Samsung-Galaxy-Storage-Additional-Exchange/dp/B09CQ2TPDQ/ref=sr_1_15?crid=30VRT017XR4KT&keywords=Samsung+Flip+5&qid=1700499856&sprefix=%2Caps%2C350&sr=8-15', 'https://www.amazon.in/Samsung-Waterfall-sAMOLED-Display-Security/dp/B0C7C28GKF/ref=sr_1_16?crid=30VRT017XR4KT&keywords=Samsung+Flip+5&qid=1700499856&sprefix=%2Caps%2C350&sr=8-16', 'https://www.amazon.in/Samsung-sAMOLED-Display-Battery-Security/dp/B0C7C1DRK5/ref=sr_1_17?crid=30VRT017XR4KT&keywords=Samsung+Flip+5&qid=1700499856&sprefix=%2Caps%2C350&sr=8-17', 'https://www.amazon.in/Samsung-Galaxy-Storage-Additional-Exchange/dp/B0B8SVGBL4/ref=sr_1_18?crid=30VRT017XR4KT&keywords=Samsung+Flip+5&qid=1700499856&sprefix=%2Caps%2C350&sr=8-18']\n"
     ]
    }
   ],
   "source": [
    "print(product_urls)"
   ]
  },
  {
   "cell_type": "code",
   "execution_count": 109,
   "id": "883df05a",
   "metadata": {},
   "outputs": [
    {
     "name": "stdout",
     "output_type": "stream",
     "text": [
      "18\n"
     ]
    }
   ],
   "source": [
    "print(len(product_urls))"
   ]
  },
  {
   "cell_type": "code",
   "execution_count": 110,
   "id": "8156623f",
   "metadata": {},
   "outputs": [],
   "source": [
    "Brand = []\n",
    "for url in product_urls:\n",
    "    driver.get(url)\n",
    "    time.sleep(3)\n",
    "    \n",
    "    try:\n",
    "        brand=driver.find_element(By.XPATH,'//span[@class=\"a-size-base po-break-word\"]')\n",
    "        Brand.append(brand.text)\n",
    "    except NoSuchElementException:\n",
    "        Brand.append('-')"
   ]
  },
  {
   "cell_type": "code",
   "execution_count": 112,
   "id": "b58b95a0",
   "metadata": {},
   "outputs": [
    {
     "name": "stdout",
     "output_type": "stream",
     "text": [
      "['Samsung', 'Samsung', 'Samsung', 'Samsung', 'Samsung', 'Samsung', 'Samsung', 'Samsung', 'Samsung', 'Samsung', 'Samsung', 'Samsung', 'Samsung', 'Samsung', 'Samsung', 'Samsung', 'Samsung', 'Samsung']\n"
     ]
    }
   ],
   "source": [
    "print(Brand)"
   ]
  },
  {
   "cell_type": "code",
   "execution_count": 113,
   "id": "1152e130",
   "metadata": {},
   "outputs": [
    {
     "name": "stdout",
     "output_type": "stream",
     "text": [
      "18\n"
     ]
    }
   ],
   "source": [
    "print(len(Brand))"
   ]
  },
  {
   "cell_type": "code",
   "execution_count": 115,
   "id": "baa72574",
   "metadata": {},
   "outputs": [],
   "source": [
    "Product_Name = []\n",
    "for url in product_urls:\n",
    "    driver.get(url)\n",
    "    time.sleep(3)\n",
    "    \n",
    "    try:\n",
    "        pn=driver.find_element(By.XPATH,'//span[@class=\"a-size-large product-title-word-break\"]')\n",
    "        Product_Name.append(pn.text)\n",
    "    except NoSuchElementException:\n",
    "        Product_Name.append('-')"
   ]
  },
  {
   "cell_type": "code",
   "execution_count": 117,
   "id": "ce74409e",
   "metadata": {},
   "outputs": [
    {
     "name": "stdout",
     "output_type": "stream",
     "text": [
      "18\n"
     ]
    }
   ],
   "source": [
    "print(len(Product_Name))"
   ]
  },
  {
   "cell_type": "code",
   "execution_count": 118,
   "id": "18f47f8a",
   "metadata": {},
   "outputs": [],
   "source": [
    "Product_Price = []\n",
    "for url in product_urls:\n",
    "    driver.get(url)\n",
    "    time.sleep(3)\n",
    "    \n",
    "    try:\n",
    "        pp=driver.find_element(By.XPATH,'//span[@class=\"a-price-whole\"]')\n",
    "        Product_Price.append(pp.text)\n",
    "    except NoSuchElementException:\n",
    "        Product_Price.append('-')"
   ]
  },
  {
   "cell_type": "code",
   "execution_count": 119,
   "id": "f0181020",
   "metadata": {},
   "outputs": [
    {
     "name": "stdout",
     "output_type": "stream",
     "text": [
      "18\n"
     ]
    }
   ],
   "source": [
    "print(len(Product_Price))"
   ]
  },
  {
   "cell_type": "code",
   "execution_count": 121,
   "id": "ad22a607",
   "metadata": {},
   "outputs": [],
   "source": [
    "Product_Availability = [] #No availability info\n",
    "for url in product_urls:\n",
    "    driver.get(url)\n",
    "    time.sleep(3)\n",
    "    \n",
    "    try:\n",
    "        pa=driver.find_element(By.XPATH,'//div[@class=\"a-section a-spacing-none a-spacing-top-micro\"]/span')\n",
    "        Product_Availability.append(pa.text)\n",
    "    except NoSuchElementException:\n",
    "        Product_Availability.append('-')"
   ]
  },
  {
   "cell_type": "code",
   "execution_count": 122,
   "id": "2b974d17",
   "metadata": {},
   "outputs": [
    {
     "name": "stdout",
     "output_type": "stream",
     "text": [
      "18\n"
     ]
    }
   ],
   "source": [
    "print(len(Product_Availability))"
   ]
  },
  {
   "cell_type": "code",
   "execution_count": null,
   "id": "3bfbb76c",
   "metadata": {},
   "outputs": [],
   "source": [
    "Product_Return = [] #No return info\n",
    "for url in product_urls:\n",
    "    driver.get(url)\n",
    "    time.sleep(3)\n",
    "    \n",
    "    try:\n",
    "        pr=driver.find_element(By.XPATH,'//span[@class=\"\"]')\n",
    "        Product_Return.append(pr.text)\n",
    "    except NoSuchElementException:\n",
    "        Product_Return.append('-')"
   ]
  },
  {
   "cell_type": "code",
   "execution_count": 123,
   "id": "7004e33e",
   "metadata": {},
   "outputs": [],
   "source": [
    "Product_Delivery = [] \n",
    "for url in product_urls:\n",
    "    driver.get(url)\n",
    "    time.sleep(3)\n",
    "    \n",
    "    try:\n",
    "        pd=driver.find_element(By.XPATH,'//a[@class=\"a-link-normal\"]/span')\n",
    "        Product_Delivery.append(pd.text)\n",
    "    except NoSuchElementException:\n",
    "        Product_Delivery.append('-')"
   ]
  },
  {
   "cell_type": "code",
   "execution_count": 125,
   "id": "102d3b90",
   "metadata": {},
   "outputs": [
    {
     "name": "stdout",
     "output_type": "stream",
     "text": [
      "18\n"
     ]
    }
   ],
   "source": [
    "print(len(Product_Delivery))"
   ]
  },
  {
   "cell_type": "code",
   "execution_count": null,
   "id": "75d6f8e1",
   "metadata": {},
   "outputs": [],
   "source": [
    "Q3. Write a python program to access the search bar and search button on images.google.com and scrape 10\n",
    "images each for keywords ‘fruits’, ‘cars’ and ‘Machine Learning’, ‘Guitar’, ‘Cakes’"
   ]
  },
  {
   "cell_type": "code",
   "execution_count": 181,
   "id": "4930a8af",
   "metadata": {},
   "outputs": [],
   "source": [
    "driver=webdriver.Chrome()                                #Tried it my way\n",
    "driver.get(\"https://images.google.com/\")\n",
    "time.sleep(5)"
   ]
  },
  {
   "cell_type": "code",
   "execution_count": 182,
   "id": "614eb7a7",
   "metadata": {},
   "outputs": [],
   "source": [
    "designation1=driver.find_element(By.CLASS_NAME, \"gLFyf\")\n",
    "designation1.send_keys('fruits')"
   ]
  },
  {
   "cell_type": "code",
   "execution_count": 183,
   "id": "a49ac6b1",
   "metadata": {},
   "outputs": [],
   "source": [
    "search=driver.find_element(By.CLASS_NAME, \"zgAlFc\")\n",
    "search.click()"
   ]
  },
  {
   "cell_type": "code",
   "execution_count": 11,
   "id": "b3aba52e",
   "metadata": {},
   "outputs": [
    {
     "name": "stdout",
     "output_type": "stream",
     "text": [
      "data:image/jpeg;base64,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\n",
      "data:image/jpeg;base64,/9j/4AAQSkZJRgABAQAAAQABAAD/2wCEAAkGBxMTEhUTExMWFhUXGB0ZGBgYGRoaGRsYGCAXHSAbGiAaHSggHR0lIB0aITIhJSkrLi4uGh8zODMsNygtLisBCgoKDg0OGxAQGy8mICUtLS0yLS8tLS0tLy8tLS0tLS0vLS8tLS0tLS0tLS0tLS0tLS0tLS0tLS0tLS0tLS0tLf/AABEIAKoBKQMBIgACEQEDEQH/xAAcAAACAwEBAQEAAAAAAAAAAAAFBgMEBwIBAAj/xABHEAABAgQEAwUFBQUHAgYDAAABAhEAAwQhBRIxQQZRYRMicYGRMqGx0fAHFEJSwRUjM3LhFlNigqLS8ZLCJFRjc7LTJWST/8QAGgEAAwEBAQEAAAAAAAAAAAAAAwQFAgEABv/EADIRAAEDAgQDBwQCAgMAAAAAAAECAxEAIQQSMUFRYXETIoGRobHwBTLB0eHxI0IUUqL/2gAMAwEAAhEDEQA/ALnE1MiWJYQUqTNSGBUQpQWAglwCQxYuBa25cVuBOJCiUmXZRCHUlamKnDs50AcDS7+Dq9BQT6iammmTUslz3Ve0O6kgHQaB9+6OhgtxvhsqUpuzyzEgOoqWy8oHdABYBgLk7cmeP3QRlHz+daKVKN6ixyairnpNLLLIKZq1uTl/wHYtcBvwkRHKxisMxQTLmInnIoEAguCHAP5CdiSGLQ38N4vRypISrKh5dygHuktdrm35jvzuyjKlTKisKpSiVS1uJntJZiUsfxZnB1OrmMqUSntDYRwmPXevZSLjWiiOC5ypc2cpWQk5mDlITdRT3WKg5IY7AQr4gqauSqVdSBZgoDKoE5VJBPVSXu4e9gxeXW1qM6UJJU7TXUFSlWvnHI2az8oGTq6ZSlZMsJMwDI47QgS81nIAcuRpdto82ozYgm3ziLXg1qARwrT+Hwj7pTAA3lu2veKlEjxckQbp5Je6raOQzPtrpCbwdxLIXPm0ZSEFK80jXKoqAVMQHs+crWBp3lAaCHVyRex0/q0aLcGTwHtvWajJZ3HS2lvjCxx5NSESZgZJzmU+moKkg+YI/wA0MswXbcadYzL7YcWCuxpEqdaVGZMA1BZkg9dTGUo7RWQ6H56a+FdImrGH1pcglgdevQ9IkmTJbq9uYoB1BAJCU3uW0a2oA181ei7cSO1Wh0bqb4/OKv7d7MFKCcrlQaxzEAXI1DBmNtecKIwRCyRtwrLTUGVV5xEkZzsCWS+rN7o5wvFDLZINvL5QFrZiphd2bSHXgfhp0CfPGbdCNm2J5k8voPYhTbDEueXOn2G1OLhAgDfaoZiKifdEsq6swPmWEQoo6qVMlrMpTJWknKQbPfQ8njTaWnUoXAB6P+sQYhSFMQR9SIJSEiNNz6+1Vm2W1GCoz4e0UTwenTKpStKQlc9VyAB3E6C2g+ZiaVL39/WJpKAaWQp2ZJDfXhHiSOfuidjlrJQDplT6jMf/AESOgFL5rqj/ALH0MR5CukS8xbf3Hl8I9qZJQe8Poxfw4IGoPTTXz3jzGVgoT3nUOWjc9L7WHWDI+npXgy/nvsJHGI4ydvKlu2PahEWoFNOm0BPtEpO0oZcwe1KmZH3KVf1aCU2YXa0FMNldpLyrGZOcLD6Om4Pqx8ozgngwoqPDTiZBHqPgmmnxCArgaV/s84ONOntZt5q/wnRA1b+bmfou9bQoWjKtIUORAPxi/JkNFXFZuVB57RUh0JLrx7xqYFAkBNZ1hq1STMSxCJZ1S5zAOxKm1+HpFTG+M5awmWhQF9XcC4uS2usNHBbmpqfyhbeYAB94ifiLhClmTkz1yxmB7xA9r+YaFuceQlISVqkjgI2vvxPOmy9lUBAmvJOIpTT9rmFmzHMMvus/SPBjqFJdJeDkvBJGQJEtGX+UQFxjhROQmR+7Vy/CfERlxlagDpHD57WrjbrUmZoLiePZUk5mblrCXUfeauYACSklki7OdvGK2LrmdoZCwUqCmIP0zbwz8P8AYimUiao5gSXBYpNmKevTrFXBYcNJzqufxyrTqs8hOlJ2NYXNkrMuYGUI6wbEexmCYUZygHK5LONH8NjBDibEVTDKStQWUJAzsxV/NfUDe0Dcanyu4ZaVJNsz8xq0VVNpWmDU9QIN6I1fEM+eUzZiQOzVc5gohJAB7gN2zC4Li/ImHGp41QiUkS5a5wAy58uUZzqxuAdecKeGTpU2QlKsgXLCkAAhJWVaZzuL6O5bxhh4CqZQkGUsB0hLqmez3Xsjwc26kbxIcSmSmIFxwBm/U8778RFdAM686E8O4uZM1cudmQklS7AKmLCjmZJQSm6muPJov8VcSrqJTSqdaEpIIVbUbKSbkdGgVjEyUK2WmWVKAcujVSlEAhDNlSA+g3h9xCfTmSUzkIlbkCyieZy87OWG8ZkQDpoY6H5rXUjukTbSljDsdmiTkkyVTphl3WT3Mt2CQdQl2JD3UxMLfZTv/KD/AEf7YP8ABGIS0lakywFgnvqIyIuc2U6FwbAb25mG/wDbFH/5ke7/AGx3IkiLW438q4BmAJJrM8UKZVQJtI2RYKkKSomwuUqCQ6V6JbwL3iebOqsQnoKxMSAAiaWZxsG0e6nU245Q04ZwLSyiXqCVtdpZyuH0c7XirM4PqJCu3opiZqkj+GQULLF+8FPmfTWDlUzH4PsfKfSgwZk6UI4ioZMqcTLExi+cAgAhyCU2LXB5O3nDdSVlDIQyO4tIN0pCkizOwuwOp1PWM/xGbPmTFBcsyu0UStyCkKVmzZAbsTsdCYI8TUEuXITOAUFqd2V3QQE2bR1O/wDWApGRYCTNjz4XPrW4iSKgkYgZFTMmJIqP3b5gFFJLhlWY7nu6iOcWxk1op1BOWdnKEhCcoJL5SMz90OFPdtBEOE4jRplKyv2sxGQIIOQuLuQzKDamPuFKlf3yXIkoRMVZIJT3ZYAubXWrQlSjt1sy01KiY4VhS4EUQxiUuZMl0qCFTFNnUoKQoKDksgkFmAU4Y94aQTo+MZ9OexmLSsIs85lzi2wTKUSB/wC4t4oU3D0iXUTp9dWIV2S+8lJyrUpkqCQxfdmHJrQvUFdK7WZMnJmS0qcjsFKStyXZSkkBT7k/0hhLaQmBpQ81H8W+0HEpgWJNOmSm4EwIUVNzBVYFrwn4NQzJs/LMcqWXKiXJc6uHeLteaFXeVNqkKb2SAvzCl3MX+EezTMEyUmcUJ/FMKSL7AJSG9TGXjlbJSLxRW7qE1sOG4JLFOmUwbK3R4z3ingYS1FUpgOW0PcjG0JAcF20BMUMbrAQXSTEleLGUZNaYQg5r6Vjv7NX2yEEWUsJPg9/1jZMJlAADZozmqrQmoQpTNnHk9ofqCoBvCP1da1hBItH5qthWx2S44/j+6a6ZMsJ6tALFpur63jsVfIwExKqvrE4O9olKAIjhv1reFwx7STR/h2qEyWuR+JPfQNyNwPreJ8zfpGb1OJLlLC5asq0lwR9adIcsF4mk1wAK0yqlIZUtRZKj+ZB/T/mG8RgVPNBY1SI6ibX2j1sNYn2LaDTk7K9D+jr57XonPm210G221opVM/lsPjF+dQTcp7h+NoipcNKi5DJ5c4lqbU2QXAQeYMnpx8KGhSAJmqmG0apqrjujfn0hwoaYAC1hpENFSBgwZA9/h067xdmzQB4bRdwGBCP8+IEcB+T86VNxWJLpyjSvJywIWcYrAAqYr2UAn0i7XVeY5RpvCzXKNVPTTS7oQQZp2JTojy1Pl1gOLxPaqgaa/PYcTXWW8tzRvgSgKZPaKHemErPiovBnE0jLFymkhKQkaARRxVYYxQLfZYYA6m56m9Az9o7NVcCqswUjdBbyIBHxgjMTCxwbOKqir5JmIHmEJf3w1qEYwslq+x/E1p2y6yr7WsG7qKmWO+ghKm3Qot7iR5ExniMSB+rRuXGVLnppw/8ATV8C0ZJT8JGagLTMHeuQEuHa+lgCz+frQwzqQmFbH3raUrV9tBfvgJfeK9TVBPeV6c4ZpXBkwAETUHWzNZj0NwOcD67gReXPnCv831aHUvt6E1xTTkWFL9PLbtSS5P4evJTbfKH3AOFpM+QkmYCopLJSxKVWbMo+0OQ8RCXNwqaicpQSfzEMWUG7zEW58oL4RiNSCaeSoFRucoBWSbsdiR46aQJ7vCQaCE5Vd4VPW4V93nCVLWROZ19mWQEOO73ruTtpfpDkvgeVMRl7R5qrsvOoIcd7vEvYhVw3WEXHaGfJWhc/MZihmTmIOYP7JyMQWbV9IZ6HH6qpQESEiWhwk9mHW5cA690Fjcny0cBCgAdeduPn6fmupiSkjwqnhOCIXPmSgrNISSkFa3/h3JA2cq5HfnDN+xsM/Kr/APmP9sJM2SujqgpaSo5gFJUw1sCSClJdyG9ejD/a3/8AXpPU/wD1wMJX1sP53G/KtpUgCII6f1TwZF3tv8DHylNd22ff/mPlT1Syo5c6SMurdXSfL4xWlzC7X6aC3leAEgaG9cpf+0bCUzac1TFKpagma340KsFEDVQPujN5ldUKHZomzOyZ8huMuh7pLE9NY2HiAf8AgqsrYpMhQ13Og8XjBEdqVGWDMynUIClFh0EUsOCoT7+P6oCiAYprw7IZsiShLZiCskMQkqSGNyxJKbOcqdS6jBbEl5kzpmHukImiXnQrLmzMFFI3dZSGBu7tcQoLxsCnJQgpUP3aSTfQv6JN9HMw8gxH76qTLp5MvRMzt1gHUpUMiX27od9i24g2Tj83oR1mmjhqhlUS5BqygrqFg5FFKkplkLGeYS4clQ+esGeJMfw9DypKZSyoEAolpKQsuzlgAHZyDCcMIqJ1TJM1L/eZiClTunIRnYcgEAhtgIfMdwikXVU1MJKQtWZa1SwEHIlC/wAu+Ztto6RxrgsaTDi1AuQkfdv3hSMzLypzbkMo28opUMuqTeR2Jl7IzgFPqlHreD/FPAUsLlfd1B5hUkZxuAVMdDsqEbEcOTImdlUS1yJnMd+WocwCxbwLx5SErHH1oiVEaGmamxRYOWacq+TuG2L6F+nrEWJY0sBgX84X8ig2VSZqf8BdQ/yKZfoDDJwphKag51JPZjYgjMfPb65xMxDbTILqhYU6xmcVkTrQamw2bPLhClP6eptDlhNNVS098O2hCgT59Yb6fDwAGDAaAC3uj2rpinZoiYj6it4RkGXx/irGGCGVd0yd+BpRq8WMs95wesD1Vq5h3Ai3j/fUmWwJd77eEG+H8KlXzKTmDEh7gHS0NMtthAVlufbjRMb9RDBypAmlWpwqYtJKVMrYqSW9xgJhXBVXOmlHdYMVLKtjyHtP5DxjSlY7ThfZhh5+Vue/jaLFbTJLLklim4Wnn059YcS+8yghMCdyJqA/i1PqBcvFWuHuHk0wBXNmLOgBWop8EodvjDZLQBqPL5wD4exBMxLn+KLLfn05A6sOcFairSkOTEJpSW1KW5dU8Pk9NKK4orNXe2s5LQJr67N3U6c+cUqnESvdkiAM/Elz1dlS/wCabsP5evX06eexrr4KRYbk/nly1NabZCTJqfFcRUVfd6e802UoaSwf+7ptryBZeF8DTTywPxG5O5MR8N8PokJ0dRuSdXhicAQ/9PwQUQ4v7Re+pPE8ANhtvehPvf6pryYphCzxFiCZctS1HupBUfAQWraqM/4hmGpnopk3QFBUzkVBilHgPaPXKOcExmJSteUab9Plq8w2aP8A2a0ak0xmzB35yjNV4qLt74a1GKtKgS5aUjYR8qfHW3ktJCDqbnxvHhp6VhQzKJFAuOasS6Seo/3agPEhh7zCHwxInGSgaAsQTsLOTfrYQR+03Eu0MulTdS1BSh/hBs/nf/LBGnpuykhIsUgC4e/kb+PyhtIBTPH8W/dNsymq1LSqIOpI3NwHCVAW0Z+liYkqcOAJKB2Za5S19dm90EqaXkSpYL5lAnZhlSlvcPWLhkBQGW1mb1209I0EzRM8UlYjSOggjqFBtdHGrHUaX0hIxFS6acialegYqSkJJ1JYOWN/j0fUquly5kK1OhsW5EdddLQhcSpKQqWUi90kaZh16+GhMFw6oMUPEJCkyNaoVWKGbLIMoAK9palEzAL6kAkAtyi3wXjwps8uYoITlDsHKuTEH6MC8KxubLk9knKlwXIT3mUXyudB4fOIpSFgEpFhq20Ndkbik5MhU0V4jxcVBQUIKEI5sSvMCHyk5tHI1u0B/wBpdE/6/wDZHkqpZ318AdPKL/7TmfmP/SPlGg0BaPnlXATrNbbUSSRlI+jaPJFKVG/n06wizuK6+UGE4KA0zIST6s584UeIOKq6oIlTKheVRAypZAuR+UAmEEMpWZHrb91kOTT7xhWS6hBopKnSVjt1jQlNxLSdy+p8vBdqeHZkghIdDMbHKb21HNteseYPNRIUgBIyobu825wXxriITEKtddn2CQSWBIvdjq/pAO0Chr0G3z4bmkVO5jNZ/iuHIIJc7sTcgnnziArKk1U9RJYJTLcu2YlvBk5reMH8fmoWEIlJClqsAl+tm1Pif+OcI4Pq19mhcn90JomTHUllCwy9WA/1K5w828EIlxQ8/bj/AFREyanGJ1SUUU2WhRTTywq4dOZaEC7XYJJD7HNHMzEa5KpNcUpBWlCUqyugpXa4fcHQNGpTaWX2IAHe0UD8oVqzGEIk9jMAyS6iQz2ZKl6eWU+RgOGxWdWRYGkgi+uo61siBUeKTMRlGVVVCJa5cpQmFUnUJZi6VH8pOkccT4zh9dLIByqN0mZLU2bqRodiQRDtxEAaKekMXkrbwymAmHYNIqKGQvLlmdmBmR3VFrMdleBcQ2DauA1mWH4EETApircIcFhzBFlpf8QZnYgHXVMHkgJEIc2sRJUqmqkFDKeVUSwQAdlKSPZLG+Wx7wZoccOrwUgg2YRE+toWrKr+tqtfTEZgvLrbyv8AmKdaNSALwLxee/dGjfTQP/aQ5xzNrApNj5xIXiXFNhuLUy3hFJXmNLiZIVV+AEd4666qVJCmCiEnmX6s0dSlhFUCdCG8x9e6JeJqfLMRPSHykKs9vBtf69YtYS+XpHp+6m/UQRiTPL2pwXwhTSZE1RTnVlKsytbA28NvCF/g5WaStwPg2pt0183iDE+Pp6pSpQk5FqSAlXQ2Jvz09dYlwmmXTyCqYu5Gmg8r+Ovuh7FlGW390lfegs3GVU1VMKVBiA7+d48qOLgo915qzsNPX5Ql4rPTPqVLd06Dy39XjSODqKRJlhSkFSzsEuffaJuKwzaAFqSSo7aeZp9teVAm1Q4dgtVVkGeckr8gs/jz840DCMLlyUhKEgQPl49LFihaBzUA3uJbzj6djydiInhxKFAujTQAWH7PM14qU6ITpTEucEwPqa3rAKoxhISVKUEpGpJYe+FjEOJys5ZD3tnP/aD8T6QdzGPP91sW47DrXkYcA3o5j2N5e4i8w/6X3PXpFnhPCuzHaKus6dH3PWBHDmCEnPMc73/WHErCQwia4+GzCTPE8Ty5D0oy7DKmpZk3nAjGMURJlqmKNhtuTsBzJNokm1DkJGpsIJyqREoBagFTNidvDlGsCy7intYAueQ08z0uaErK2L1k+E4JW1NSamZTzACoHvDL3QQwGdnDcoZMbkT0JdcpYF3IGYDRvZcDzhzn1ail3a+1vCPaapZJJuNADH1ZS3pO3C3lJNYD6xeBSThFSVFb+yDYFnDZfi2kHkzQHOzOG8H28o4x/C0pQZ8gBAf94kaXN1Dlu/raAErEu6xLbOWFxysNBfwDxkygx40dJDgkUSxWcFggAuDsR4ajd/05xm3GsxQS99TfRy5cHmxu/hDV9/WM18zK0ceySHBG1yb+HKEvi9F1AXBDpXupCri3u6GxvBGbrmuOWQRQSjAb4w3cO4vIkyJiZqHJe7sdLNY6X93mhU9T/WCVLXuyFAN5bxRuKRBBFXsNp0TZubIspe4TqR4m0NX3DD/7up9E/OI+HsQRKQvI6SUm7A3PIczHf9pj+RHqj/dAC65mOVNHyJi5oFV4yD1heqq11pWBdKgfQvG702DUspCuzpZI0uUBavElbkxRxPhWjnhplOjOfxywJax/0hj4EQm2ttBpNKSKSVSAoJWg2UMw6g3irWTglF72jjiHD6jC1plMZ1PNP7o/iB3T0V00OoilKp5s+YJSUqzG7EEADmSLQBOHKPuNtjy58IpYtgG1TcHViRVuqxKFBPjYsOrAxtuEVKTLLMAbtsNbRnVD9l4CRMnTFE6snugHa+r+Bi9Nql0ndJUUbE3I894VxDsPBbUzGhESIIt56H1oyLC9XeNcQCHWLZWduXlC/Q8JrrJSlzipMtZSQB7RCczEuO77WmvhFDiLHZc7IlB7QqWh0gj2cwf5ecOtNxRKVISBNGQXt+sYT2jKCsyFEm9tbR06xNrVsiTUGLKVKpzLHshBCSSzd0p1bTc+6EnAeNZtITTzE9pKQqzFlpBu3JQvu3jE3G3EyZslcuSrNcJWX0Sp/Z56N5wG4fwJVfUlWbJLCUqmL2ACUg9He0UsFnDRW/pz12+Aa6CtZAohIplxiplVykKpQqaT3J8kpKSAbpWkmwUkuxdi5gzg/CtQgATJ0pJB0UsAs9nD28IM0KUSJYl00sy0vdds6ub27r9Okeolcv8Ag6xIxv1EOd0aeE+ZBE9BHAmrmEYLBzA30+CY858DIqGfgiwGE2STyEwCAWIVEySppoKVHnoRzB0I8IaJtO5YDTlEVZITMR2U1zLOjMVIVspHLqNCISYebKoVMeH6FUEYkiJg+F/D9etIldXaLJ0NgNSdgIaqbFzKlpFQgJsCXuA40JhewLh9cusJnnPkYyT+FQU7LA93QvDtU4WmcllDWHcRikMrS2m43PXYdN5/FLYtDOIhSwRwO+u+0ToOHWAMncQUhZQyEgABiDpf4wuY3jE6pOSWk5PDUcugh9pOFKWWjNkBV/ivz/pA7GJIQnugDwjbmKDSgAmZvf8AQpPCYRhS4BJPgBSrwRwnnnqmKDBOids25+usaPMXKkAhbAM4+Xw9/IxBwdLAlZjZ7x5Jp0VdWQqWFykpufwggkFjup2B8IqspLoC1ampWJgvKy6SY868oapE+zMdgRswv6v/AKecL3F+ErloMyRZQu2oLcrtDHxZhCJA7aS6D+VA1Ybeg+jHJQVU6Sod4u+p87/DSMYjD5L8KGlRQcyaySjmzahQzqUo9dB4DQQ98P4CEMpesDOHOHAqatXbkDMe6Ei3mX+ENdTw9MKWRUrTy7qD+kQ/qOKSV9khUDobelVkkAXq+urQgasBCxxHxpKkoKgc52A0J5P8ngHj2D1MgFczNPSN0ufVO3jpCj+zZlSrMtzySnQD63juC+mML/yOLlI4e3H2rKyRZIk1p32UT5lWZlVOLkqyIA9lKEsSEjqSHO+UQ71U4LJfY2hQ+yGT2MtUoghlKZ9WLH5+kNVQAlRAe0V2MoQsoAgrIjkAMo8r9b0qsHOM2sD+aiWnukK03IswDF3OnnHKpgCmFkjT5hibaR7UoStCgtKWIs7gPtzv5R6lCCymazFm28ukEV9sCPhrwq+lAWhcsgspJB8xGNLnsVI7oZRQVE2dLglzp+EuRs8bVTtlJuwBjFcPwifVzJkySnuKWsha7J7yiRlsc1idjygrqkJQkrMD+f70rWHVBVXaa7LMA1SQHDl+8Bfxyu/h4MGxCQZqewCgVHMqSdzd1o62uBzT/jhzVwBPcr7VD3LZTu276W95gEOCq6VNUs5VSypxkUXSRooOBce+/Rst4lkH7hPO3vFEWoKsKrV/B8mnos7/AL1TMTfW/wBCEk0s0ay36iH3iOomqlEzA+TuqZrKGhLaBVthd7AEQR4MwZM2nmzVlggW6n62g7CnEjvGSaYYw7K09+REaDiQAKziXUTMuQ5khmLO8Q/sxP5h6CNEosDE+YpCWt8Yk/sKvl7x8oMlwkSBTTv09hCspWPG1aPJlAhnYkeF+cUJtcAspDODrs2zc7bxbqQQPH4f8wP+6MvTW/rr73iQ4ogACoIFVuM5AVh89ZN0ATEcwpJAt4gkeBitgqP3ctaUOopDsLnQ+cUvtCxpAQKGWrNMmKT2n+BDg5T/AIiWtygzhSgEpyliGgGNSO4k85oCj3qnncRIUOzSXWPwbgjW0KnE+H1M1BUWAHM87eEPkinSuYqZlS5sSwBLcyNYp8QYilCWK3szfoBC5OVeeSdANJMcp/B8K0BNZvJwSXLUFS1d7vBBCSUhTKAVML3YsWA84iwH7PVT1grZJygEIu5DupzpsPKNNw2kQimICAVr1URo7m3rC0jiGVSz+yW93IKQ7Ac2+rQ2nFuEjJPeEmJkC9hY3iNAYnjXar1P2bSpI1W7bkEEciGi/gWF/d6YJBAMyYSrYlKGA8nv4xLiHG9JkJ7QKLaOSfTWO8LxJM6mlTgCAykMdilSjfyIML4pbwbV92Xnx6wJ3qh9PSO0B3+fxV+jkZlBILPudHg7S0CckxMyX39QoDpYj6vC/LmpHeZz0taGPD8RSEh0slZyoGYqOhc32tpAPpaWi4S5wi9xcRER6yLkDemsYXAO7+jx4+kVUqaNUoqfRRLdGgTMsecH8YrQvuAWTrfxdwPCA68mwAhXHtttPqS3p/AmtYZaimVC/wAihWLEgSZn5ZvZn+VYJb/qHvMH6SZo0J/GeIplSJb2zzwR4SwST4OsCCVBjIYFwx3jz7K+zbWJ+R+/xTamy43CdQT6395pknzIWeIpoytFqpxpLc4CmjqKtRElLgaqJZCfEn4COYZlbjuY/PAVrDMdl/kXYDc0w8F1omSMr3DpIdtPDo3rFKfic2jqVKlpzhQYp0GYksdv6kc3jjAODptNMVNNbLcjvIAJTbq+o59YLprkg99LqzO4uLNpZ9hH0IfDRCZ+dNQRzFfPYhr/ACKUgSJ50v4vxLPqyhITkCSx6lw/NukG8SnCVIZz3U3f4RVxHFpEq/cSSdSwL+f1rACrxA1J7pdHxjD2JLib6caG0wpxQEWqXgfOuaot7RfyjTUyLQs8GYfk7zQ4LMIpYafzOqF9PD801iVkKCRQqqpnBEB8Io5EpakKSE3dPUHUeX6wyTDCdxrNAlqYssJKhzsNYnNI7B4Zbg7Ee/TSttErSUmjvcQvPLFwQ4GpB/WCVTLCk9oi+b3dYzDgGsqJkxZJUU2GY7FhYWF9fdD5QU1XKU6QlUo6pUWV4pt7jFnCrLLy2FJmbnIJynYwPIzwEXsQrAICgfPfl51wKUhd1E8/P6+MXKSQxIMS1FZJS6lpWk6nuqN/IF/KE3HPtNkIzS6WWpc4nK60qQlKja4Uyn6NFLshm+6eVyY/HjHWsSpVgKeZ6QxlagjveB2iISAAwAAGjDSK+CIV2brOZZuo8yeXTYQR7DM8TJOMOdInXKOV489TzPSuK7hiaEVWIplEBZsYhp8XlzBYgAOVE2ASHv8ACKfF+FLmyiEFlC6X0caeUKfCNLNWR2iVJSL6XKud7ADbXnaFkqKUEn/XbeigJIovjeECrWZsuV2bJOWYq3a/4VI1Mshw5Y8oXajElSpXYoTlllRBd8yVDVKufMHcecaQmiSLs55kkn3wg8aSEyZvaN3JqSlQ/wAaQ6VC+unornDuCfUTkNuFPYDEBKspEjUeHy0723sGpsUXKVnTZXTSLP8AbCq5j68oDJnAggH3xB3vzCKacwFqsOqbUZUAfCn/ABrH6unmKRklzwkkArBC2Bs5SWPpCnjHHtesFICJA07ie9/1KcjyaDnElaqjImkZ3LKZILBupaFvFJqSM3O/rCTbywAojUnrbYneviO9SrhNRkqUqWScyrkm78yecathVaxDKYRkddKzrCZaSpR0CQSSegF40ThPhjEFoBmhMsc1F1EdQA3vjv1BkLCVzB4foVzKTcU6rqUl2UUv+U/MQv8AEU1AQdX56mKXE2F1NNLVM7YKCQ5DEbta8J1VjqlIcm2r84UYwxWc4A1jxogmmGb9oE4I7IS0lQDBQJA9G+BgNTlZUudP9pRAPRJ1tsGt0eB2ETcw7TcqLWDWNvL5xdmTibP7VxuB5bsQ3zi01hW2/tTB3P4/gWrWtfTaaWpybEWJ0HjfXUbb9Wg5wXiqJK1SJqmlzWZywRMY5S/I6E8mMLlRMSLm50S+Ug2a99b+vhEE+iqluRTVB69lMPvCW+ukde7LJldUADxIHvR2QsHMgHwrXczFiGI2P174syT3kkFmjNcD4tqZDSp8kzkpDJSp0zUDoW06EQyHjeksTLqJRA0UlCwT0Yj38hHzL/0t5P2XG0X9pq4MQhQvbrTYV5T43PMvziGYzKWpQShIdSjokdYV5vHcklqenmTFGw7UhKfRDk+ZEXsCp5lfOCapTouRKR3JYNzYXzGxuXNo0z9HeWodoYHr/FESnuFzRIEk/obny50pcR1iq2eVpTllJGVD2AQN/E3JipJkTZQaXMt+VXeT79PKHXFsHTKmqlpdgT5O3LUaQIxCjyoNrxfXCRki3CqbDDGUFM3Fjofnw1BwTR1NbUKRMUESJQzTVpG12SHe5Y+h6RqalJyplyk5JadEfqeZgRwbQdlQJNgqevOeZCe6nys/nBpCWuR6R899WxRCuxbgAi8bzcDoQJPGY0SKgvLWXFZ1FUEgSeFiR+OVQmSNtx4XipV0bt4X8IJyJSlqyj+nj/T6EM9JScpb3s/neIwaWlHagd0mJ2kVlDpCoBvQqqlIno7GoTmlmwLd5JGhB1cQHwTAVSJypEy+VilX5kHQ/pDKEg/Voj4mqxKkyak6oX2SiPyqDh25ED1imw+7iG1takAEeBAI9RHjtAHVEBQgRNvHY/uj+HSkoDCLS5sLOG47LmJdKwfAgxanYgANWhcY1TaezywaVVhlFV6uT5wdnhXx+Uuasy0EfvWQbXAGZz6Enxinj3GVPIBeaFL2QkufNtPEtHX2Y1hq502pX+FkpTskC5bqSQ56CC4XCYlwhwCJIAJHG1p2GvSRvFE7jYM3IEx85xTph1FLpUJQE3bTl1PWI1zFFVy8ezpudZOnI6i0RTJoQtGchKVFknUlR2A5fDzj6MIShPZt/aD58ydyeJ8LUlfU61EmaVTCXOvuEUeJOFpNVkmpCRPlKSpwPaCSCUq56eR8wZPYUUByX7ynFydW5DaCeFySFA/TGMoMqLZvJjp0+QdOmz3e8NqnpSAB4Rdlra8A6KtStS0g3QooPkx+BEEpc6I+GdLKsuhFvKsuIm9T1CAqIJVGlIsAIl7YRxMnQ6otqVnVBNDAOgrwMNYzH7VyVIlJSUgmbZ30CVcvERoVRUW6xj32mV/aThkLiSGU2mZRGb0YD1hjCjM4ANBJoiBBmoMO4XUtObtw+vsEDbq++sT/ANmJ397L9/yi1wnV5ka6D5fP3QxZF/lV6CGyogmfaqUDjX3FeLIlJWAQLMTGVU81VQsIdnLPrc8ucNlXwjWVl1kSZZLnM5Wf8o0HiddoIU/BAok/eMxmmWM3ZhOV25XN4QaU0wg3lZ8uV6h5cxgU48H8HU9LLCgl1kDMtV1Hz5dBaGKsrkS02a0JaeLc6EqDgKAyobveDDfaKlbh1fUBwBLR/wCoSD6AEjzaFQ86SQkQd1HX5yo2QAXND+LceCgoqV3BqNj0bd9Iy9MlKyVLChmJNvZD7AMzRo4wFFNmnVzzsjFKEeyHs7KIzHxh0wrBKapQJqEpWgpBAYMHDsRz6RRwauyQez706nnr7a1mEkSTWNYLTmWVZAVoHeUG/DvpqIO4VhRrpyJNMlhl76lbAblvcNT8NDruDZSAoyh2ZUGOSzjlH1MgYdRLmpCTNnLyJJAAYAs7NYAKYdRB0YlSlQRB48tzwPAczpW2kKWQlO5t1+a9KGffqPD0lFLLTNqEnKqdMGbTVi7luQYRBO49q+4p5YBBcJQCCxPNzo1gqASZKZhuWOz3SfBTOnzt1i8MMSEsdUnRvzc/SMh3sxGnzjqfGvoBgWQYiev60jpRvDOKJFUSmtlS0/lmJBSpL2A1Kudxy0hU454dVTstChMkTLy5guL3YtZ+u945nUCgEv3XJIYdb+Jb0aG7hkGqp59EsPL7MrQcp7inGhPN38j1jxhJzoF9bb8ZGkwLGxmLxplxoNJJSe7uNgNJE3BE6aRsDFIGFoSLptmvDPhFUtCgpKArLo7ixtsR77Qj4fUmWtUtVikluViQR8YZqTEwPZZ2v0hg2M7VWZdbcYi1hBHDjp407YdJM1Spswd59NBv7oD8XICTbwAgB/aGoTKCkuCp/Cx08dIoyMRmTMyprlTMxFh16wFZzd4aUnhn0KeStKpBFgAbcuArXKAj7pRtp2CW8WvFkMByha+z3FRNp10rjtJJzIFnMtWoD8i/k0MMtXKPk/qjRaek/wCwG3ABJ9p6EVKWkpWpJ2J9TI+dat0NehDhY1sN9fH5xUxKr7RQVlykBr3LP9bbxGuX9eEeE3ffWBr+ouqYDFso/sXMm3ya4lpAXnGtc+UQ8T0Kp9HLkyx3ps4a6JCQSVeFh6xcpZJmKbTfo3OD1MgMD0ZPRP8AXWH/AKLhlFZXoIifEE+WnjyMDxDuSI1F/wBfOVKmC8BUsoArQJq91Lv6DQQXqOGaRYZVPKP+QfKDmWOVJj6j/jo3vSBfWTM1mvEn2XU83vSSZSxoLqQehBuPI+Rjv7McPmU1RNkTgyinMncKAsSk76p6xoK4oz5AzJWPaSXB9xHgRaBOBQiLgEGOhBt5R6URK5BB33qFSi7JAG3M++K1YUmyk9oU3ST+FXRt4JhaZgUZbZgWUN0nfz+cQmgLabwNbax9t/C3tXEqG9qAIpColW+rfGClE0tJmKLBIcvF004QSpRASLvGZ/aBxQalJp6d0ydFrZs3MDmDz5ac4y2wUKzL1+X6e9HbQvEHI2JpZwvjjsq2fML9jOmE+DFkqHTKz+XJo0/D8fRMSFJWCDoQQ0YsrBpRF8z83gdNlTaZTomKSD+JBI8i0Yf+ns4hWZswrnofzPMUy9h38OjM6mRxB06/OtfocYiOcRzcUSASVAAaklhH5+VxPWafeF+iflFaqxOfObtJq1NoCotbdhZ+sZb+kOA95Q9f4pAvI2FatxHxgpTop3bQzP0R/u9OcKWQJQsq3BAfc8uux9YW5c+YB/EX6mOcxBClEkHckljyvtFJvDhtMJ/uipfToBTdw+pcsHKUgtY/rp7oKffF8/eqFWjxIIvY+cT/ANp08kQNSFKMxVBHYpSMyq3lcthy8IT+I8Z7FKiDbQDmdgI54h4xly02L7BtSeQgJw/JNZOEyboNE7JHz6xAWkEZyO6PXkP3pUaLxTB9neCTVZqqfYqsgdDqYepoSlJKjFCfi0qShgQwHkITqzGamsdNGjMnQzVumUPA6rP8tuojXbJFkAFXoOXh514jc1T4yxdLlI0Nm/N/SD32b0q5MlSibTLsLCFZXAMwK7WfUla9bJYeAc6QRwzidUqoNMuXlQlsiw7KB5/Wxg7RDdkGSLnUcrT1rAg2rQq2d3YVuNZIVRSJhW2WYoM3tFWbqA4y79YuVmKpbWKtHUIqpM2lt2n8SS5bvD6/1GCtYgLeInUEeNj+Ip3C/wCNSVnQG/TQ+9I+HTAmaw0ZmLDTfUsN/OHrBMQkCQpExWUkklLBXaJIIAJy2F3Zw3gYz6tp1yiy0FC9GIbTXy+LxyjEVWOp1/r6t74aGYKzJ6Xq0+0l0ZST4UcxEpypc3v0Y+AtFjgNxWpNlDKtz/hynbk7CFydMExju+x16ePz9WmTUDDqKbOmJV205ChKTkL927Egd3MSNWcJeMIlA4xfy28TYda5ilJS0oHe3nr5C/8AdZfxHTj7ypQV3Vz5+n5kTVD0IKffFvDJSnUouwSRfmq2vg/ugNUrVkkpU5UCpXV5hTr1dL/5oZxMUJSEcyf+1oMpKm2UtTO3UCRPiKkA5kOrkiI/9bGruIsmlBQC6Ck9L2PxHpCzNxxSkqQwf8JNik72a4MMGPzFJpygAucoPQC94CYXh3aTkII/C6vAX/pHGilCFKUNyfal8E6+QG2+P5jXYVNwpMnpmJmyirOk3V189R0jX8M4okzQ09JkzWusB5ajztdPnz1MKaKcJZIDdBBSnpwLtf1iTjMYh37kAjgfk+Ig8CK+kVgGUNgEkq4i39jrM03IlJUCUTpSh0Wn6EUqzEaWUHm1SHGqUd8+6whdq6ZK0sUpPiBGd8V0k2WQlD9mq2Uc9W8IXwODwjyspEHmTHoQfMkUm9hy22XASQNgAD+RHhNaPh/HkurqZdJTSyiUokrWr21JSCWAGgLenKNKkmPzbwjJnSKmVOy91Ku9zyqcHTxfyj9E4fOCkgiL6UttuZUaRy2m1oH91HcSvJKhFEkmOFqiNcxoU+KuKTTgAJdSiwewc8/faGXHgm1BQ2VG1NGYPEM0RVwZalS0qWGUQCRFmepg8CS4FozVopymKzTjarm09UmbJWUKWli2+Q2caHXeAc77RMSzBAWgdcl/jB/iwibUhL+yG81X+UKXEVF2U1Fu6U/0MJoxADxbHPjVbD4VLuUK+CrqcWqKkfvpyludLBPokX83j2ooJgTmyEDq/wAoo4MkqmBCTfQdX3EO2NYpMTT9lMAUUixTqPHpBxlmDX0FmsqGkiDqNI2nnz3rP5qSDFarSFJIPhB7BFyVzFJmsAoG+46+6AuKzEv3ev17oKhvevPuC6T/ABeluRTAKUg7QewHCJRUFTQopvZI1baAOJLKZz9A/vgphONmXcNDcmJFfHFCErKOB9KuVNOkqKpcsJSTZLu3S8Q4x2QKikMnI5TyLRam40FuCQygMzpD2LsDt4iB2KVKC4F1K16DrHgToa8pAGlLFLIzQS/ZnVXoflBqmwhC0FQsrY7O2/SBH39Maz5tKyGUtgZt6b8e4Kq5P71TTpf95L7wSOo1EXuFaqcoZaaWVPqs2R5q38A8aHRuFBT5W945NuIFTx93rxLSWkz0dogflV+JI+PnELEkuMzEgfNLew8aHGQ2qzRcLBZCqlXan8mkseX4v81ukNkmnSkAWAGwijNxSVKTdQflC5iPFGd0ygVqGydB4mEQtDY4n0HjoK9BNzRPH8UQhJZifdGVVOK9pOZDqOazXdXSB3GtZWrJC05Je4SX/wCo8vdDR9mmAJBzFs5YBSthqfDb0hlLQbb7ZRClKsAOPWsZhMCoa1NTKRmmDujViCQOrRf4ZwuYtSJ6ipDHMhIcH+ZX+315Qfx9ICNmvfwifhSWfu0tSndQe+rE29zRKdxav+PmgAkx4Qar4RXcJPzrV/FpEmpSn7z3VpsJqfgrp84CyOBE3/8AFSezuQpPtOdHBLa9Ya007i/whY4tNNIRmVLQpZ9kML9Tuwg+F+pvKhC05idOJ5mCJtub86Kh3KISopHQEDpOntyqDssPosq5s8T5ib5EMUFQuHF7jqYR+K8dnYhNfMpISf3aUPbqdHP/ABzgagKmThe6iEpFtVEBgBYDwgphk5UqpMtBT3c4zkAuUg87XIblfzi+lvLBVr6fkk9T0ipWIxq3FWvte510AFh0FVhhqpagucAlf4QUuLuxINgNfSLs6cnK5SoKQCVKUMwJUzXc3fQdYH8Y43OnKSs5f3YZkixF+dyA+p684o0GLLmnKJaswDZkkDK/W1jy3jSmyqF7Dw+WplDMtFlZIWbxEgjhvCgRfpfjRulxhKiEZmB1zB1LPi7eXSLWESwFzJiHWo2AAb9TCfilEuWplhn0O3l8oceDKtpIP4r+52/SFcU2htrOm4NPfT1uLJw6pSUgkaDS2kbT48Jkk9R94v794aZ8lIkBk6anoTv46ePgYWKRBYfWkFJmYhipxy9PlEMuJSVSNRFUsS2SUidPxXMiXmJ2tC7xIgKQrp3h/kDwZXOYEfW0LeIzCQoDfu+uvueN4ZPeBGoogRZRPCnXhHD5cyUk5Q5EMkgGUcu20JXDtXNlBIIsNGBPkW0fnD2ApaHLXvbUQVk9morTJN9LyPxfeoWKSoHvaGrgmZhFWfhcpftpBgXOxJcospBI/Mn9RHI4oks5U3iCPiIqN4xh4AyPGk/+O4m6fSmJKUpAAAAFgBAbGsQCEmAk7jmnUDkXnOnd5+JtC3imPZjmJHQA2Hzjb+JgZUC9aZw6iZVVxErMoqIuS5iTElSSpEucAQrQ7hW0LcjiEAuYV+LcdM5QlpJBLE3uAP1iWxgXHHhNuf5p5boQJ8q0yZw7JQkqMzsx+FgHfo+8BsWpJyQFKuSH8Abh+rN74q4DjcxUomd3ky8qSst+JwH3FgQ484fZE+RMAUVpKSNyG0aGFFbKgCPHjR0OOMrzkk8RWT1Eu7s28UTIJPMk2hk4sTIRNOSYnJ0/QQDwKSayqTTy3yFzMURcpH4QL5QdDzfbSKqV9zNTOIfQI5/L8OfLjpRXhngtdfOXULV2dMLBZ/ElAAzB9ixL9Yb/ANkYLTgtKE9QZyAFC/U7dREGM4w5MiWWkS+4QGGZtSX66bWEB6GiWrNlIULsS/oeo5Qm45msq8cZjwAgHqZ8ooTGAzDtHCUze1je9zqOggDiaLzP2NNISuk7LbMhmHWzH3QvYt9nMuYFTsOn9sE3VJVaYHdmcC2uvrFirwZSSFkam4ff/iKFDiM6TNzS1lJCrMXLflN2CTuDG2lZQMlumnlofIeFFe+mtuDuG/MyPP7h1k9DQmVTTxLypBc2uCkjUEMRrFH+zw/uT6/1jXOI0ylyUVsrKyiEzQNAvndt7dbGFvtRyPrDaXVf184VKDCFjvDS0Hbl85U9Ux0t5hvlCzxdTTamuRLkkpEiWEqUA5zK7xHlb1MNlD7af5hC9wVMP3mcpy/bzbvfU7xPvCUD/Yx8461McNInFNHWSw6ZpUBqGZTdDBX7L8UlpBSojOFFTK/EC1+raekHOM/xf5oSOGJYyzCwftFXaAIVnw5SQJSRBAA0O9AJvTzxYqSrMe6AQXAuOekK/C+KTpaFEoGUA5SrRtAToOQ12gLXTldqgZiziznaHOoSPuTtfLLD9L2jgZSluF3zGeFFaAJnrVGXiM2uyICChKvafoWOhLCx3jTKSUEpSkaAADyhE4A08lf/ADXD3KiB9SWA52aRCUzVrIEtpA3E+dFJBHSBmK0UuaClaUrTyUAb87/8xZTEcyMOYklsJAuN6WSi9Z3iHA6ETCuWtYDuAGceBIf1eA9ZOlSHQhLE2Uol1HxP6C0aXWaesZhxGkdsbfiHxEVPp+IcxByOkkdao4ZltErSkAjePkeFRYdw8qekrmHJLULbrWC47o2GveNocMDwalkpaVTJ69o6y49BFmp/ieBYdA2gi7S+0PrYxzGY1wyjbht5aGjZQEhe8a/NqhnYdTzXTOp0FJ1yDKR4MWgAvhL7vmmUy1TJYuqWr+IkDUhvaHhe0No18vlHVJ/FT/MPiIWYxrgOTYn8jw9J4ESaylWVwODUfPkGlmhqgUhiPreLq5lneF6o7tVPSLATVMBYC+wi9J0hhzDiZHWqZQFALG8Hzr6qqG3gZQS1T5oSjQHX4mOcb9gQd4KSMxtvDaWw23mobysqDHCnnD8KShI8NYIpUBHx2+t4hVv4xh5tDRlIvXyxWXD3jXq0Ai8J/EFKkIKrbw1T94VOI/4KvrlAnEgKCQPk03hgZ1rGqmpyT5oSSHU4bmQH98TUyJiyylnwAisf48zxHwg/gv8AEj6NZCUi2w9q3hMMHVFSjaVW6E16nAmygk94sLnXyivivB6pLKYgquHc5uevzhqxT+GDvmF/NMXK1RV2QUXGU2N9usYQpeXMDRlNNZ8uUfmlvhXEEIC5U0WWnKRuFAuFXs4P6xJi3Cyc3cn95aX7irdAWZjzB0gFXfx/P/bBmi/ho8D8TGlWhQ3qiyhL4IUNLeQgHlbnw4Cl6vwrILzAo7s5hv8AsXlATqtbOpEh0jn7XyELuJfi8DB/7FD/AOPX/wCyr/5S406opbE/9kjzUBUnGoQknKIgHntXlRMSVlRSMx5EhLkvoQRDPgSny5hlQSAohjZ7kkNpzb5Qr4t7Z/m/7oL4Qo9qkPbsgW2fnE9aZTPD561ceGZv5w9/kU04/SyUS0LlqBOayQrMCkp1uLFvAEKMZviVOy1FGZy7912CuR084cJuh/mEJdX7Szu2u+0baUFKOURyoLDZQ3CiVdfm1N/D6knDK4KsEpzubBwFX8RkD+UJn7Vlf3iffD7JH/4Wb1QX62GvOM++5y/7tH/SPlDOHEm/BPqVfPlo2Kc/zLI/7H0gV//Z\n",
      "data:image/jpeg;base64,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\n",
      "data:image/jpeg;base64,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\n",
      "data:image/jpeg;base64,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\n",
      "data:image/png;base64,iVBORw0KGgoAAAANSUhEUgAAAOsAAADWCAMAAAAHMIWUAAACu1BMVEX///8AAAD82ACLqDHYNBn/owDwoC/+rRYLGlvUwwGUvRm6CSP41o+UxjPYQyvhxLL/OVpUShf//wD5+fnosgfy8gaxsbGrq6v09PS3t7f4pjfBwcHt7e0uQ0HeRSzk5OSjo6PzMlOHJw7IyMjU1NT/7JtJriCkpKTe3t6ampp0Lx/TfDCIDJ6RkZH/qQDrz1qJiYmeiCvKkgBIhBP/+ABycnL/ngCODKWAfQD9zLAAABR+fn7/4QATqFb81QAALgBXAAC+OyYPAAAAABYAAB8AJAAyAAAGfj1lAAA+AADLxgCWkgAcAABlZWVYWFjdmShTbwB7oAAAFwAAADebhQ7RswDlkTMpAFMAPAA6OjoAHQAcHBwESyQABgDFewAtADmJdiWFTgAmAACmW7bk3gBycAC5tQAoHwBraQFCUVJeAG92AAC3jRslJi87jRoAAERPSQB/vEXmk2dzuC4AAE+AKBrYfUPvoHlptR8AACdOR1IaLwA0NDRzUAAAURm2hQDn1o7as0jSw4JjQgDtuD+XbABHNCLflwDnx2c8WQCaj19ihyLQtaUvAGXLwmqnkoW3AAosIC8QWgA7lhIAZyYgVQcAPh4icwBmVgAOIiMjRwAkLCI0QErfIABxAIZGAFc9EgDroZqVGQC6f8jNqNbiyugAMyOYP6q1bwD/4r04MQDidWjm0+r/79rwvbdhYm55J4gfACQ2AEBVKQAzJgAKIjIuL0caszMJv1iIXzCmTQCbKR94VkT0sI2WGzHHFkNJUHq5a0EjLWdfYSylYj6Rla1vGSijEDlopjvQaxtgOyZQcitXUiasy1zG25SXShfe6sNoiAD/51S3oUKmm2gzFgC5ngBEMiL/6HmAcTEsEwCDkASLe1tfTkd4bIeisUaeRThVJSJLKXdqVYvManPPYGpWSWd5ZpiCYABqZUd1AAAgAElEQVR4nO19i3/UVN53jtxBUBrIhcQmksgk2MBQGTvbQYG2tJR2pliKUEopZblDoVVxoRQKlj6I0OXqUrBctusFu2BfrPi+PLr6eOFZdd33WdZVF1dx0X1W/oznnJPMdC4nmaQIH/f5zFecZKZnkvPN73pOfjlDURlkkEEGGWSQQQYZZJBBBhlk8L8FSqChodov2TeI8Hhj+F0cTMWvHO8PGYpzywDtsn+JxzcG8i0INkBR2uHFmyZNmnQcCLbNeBChKKkSiC4OaYQh0wA4suno8cX5jl9gI167i8CBgXwLoVrVwNFJCHNkh2ZLjkWkyhJ3fWuRNHAcH3KxTm4h+EN+AQq1xs21SwHgBvItCquvSXWxvWroPjFQshOUHGNVnUl/SCZkXb0jIeLfOTDzyJHnZwKDcnO0VNQOlCsFnjf71evQpmEOWFryq2O/WgICLo4oWVI93mzTwD/zIYTFLTz5Yjhj4DpMgSOYql2/MMSZJUtf3gmOlaxzc0TaFOumQlvXEz6JyT6f7+bSJcJXU1Dr/VsWagJg8fNO8lL9gdDhnSXHoA7/qjkQ0B3cdfSQhxcfPz6z2cHLNhzBZLd7dk7NPdOmTVtT7fVrFqBGqIKTj1DZyJxjSyuXLq1deuxYbYDXHNqKmF8NpTIy73jWfEz2ZNhjZ7s6IdVpYwtYj9+DhsWGensBk94ZCpUlJUtBScmxFqe2yjqwouAEjy6ftq6gGJwg94jz14L75F5w8mQtAAGkJUYleEF202GjEVFdPnZsi5vW8V3rKq5ftnfvsvrydWratjMh0SUllU4eMFB86NSpU4NLw1K1XHBoMMTc+wjtRXAmJyenLsBFLp7OyVkPFOoF9MHr96XvsQimYbGOHevRPfWe3TtlyhCIKVOWrUjrD6tLoGRnOqVNgbmDT/36ntcGD+4GYO5gE90nCEc6/RvxxZy81wMX8146//O8nNrw+p+LL+XknUmfkzGNplQ9cqUvnRvy8MNDLEyp73JszYK1Lx+DEXZtka0GqCsGD0YK/utTg+OwISVoa0V58PWVnBxw+jcUdR5yzM+B3/s5/CBdn1VkrZ2Iao8nO+86N+zVC68O6SfrFF57wfiseWuCPeOzVgM7r7Du0Kl70Pa3gxOQQoA/k3Oe4nJy8kDOKxT1Yk7O6ddzXqIo+EFhGgcfKFhuChWKNa3RxcFfP+QC3Fzol2yfvWvzr81aNT0I6ZatDGatscnnwanfos1rpxK5zkrulfB6Xg4UIuKa8wraWV8X/cAxHRIbOqfFqMoeqIpgyAS8MyEm2SG2KqStyZo+HazMmp61uicrayW5nVZ66jUC1cHdyZeQA3k5iNlpsN7cqQM5GKdfcOoxB5abXmkNANVphk+J8J9L4TqlXrZp3FuWlbVq5arpWSvL5sHdRqICqLNOSQSqg7tTsn+jLi8vJy8HnAGn4TbvzMXXL+bgDxwZNCOq1yDXWtbjQLBwyJCHkQ6/+nC/XPfauCd6zep5QSjVVfOCWVCNy1a/acP1NQLVwd1ySlM/OLP+DPg/ULKvr19/se6VvDP4A8fcQyiwqI5d43G4IJ6Fwebhu1+9O47qkCmAfMGEYFbPaqjAK8H06dOzVkGLJdmVVDw4+7epVAdvIHRNZJacgT74lbz1oPD0eeolGFwjgoO0aAO8cc1kOnZsgf0gmwilHgXWhx+Opwq9E9kPGquD48vmZa0MTl87Pats3ryyIFHZQCpPom/CnQd555EPzqtbn0MhH3zaKS9mQb9Xgn7JowoLmGsSpvSRHXmocXxWVtnqIHRQQcgZBh+itq0jcyV2TSrK+zl9Hvql19fDeAPjTp6DXwq/MS2eqs3o3ytXclLfuwopcM88+FrWidSYbDF6N5ErcRBIm74YydXccZCr0ROl2gP/uRo/J0DqI3EtJ8e3XihSGFehSOG/tdOnryojctWKSVQ3kKN2GHOE3inf4kx2TKLRAGAKvNw0VVBdHfaSQ1gABK5DLpHbhuatXFWGguuqeUiNg1lBsndoIaow+fpxMLjmoRB7BsabvLzXiWKlQ8hQ+9XX69jGQu+yVLGes8m9GZgtIa5lQYtrI9mHsRtSqR6yy1u5MKi7WPjii9AV110ExJkuDXRagxoTPQOZr0HHKU4VrN18qFhbFtPh6asg20JyO5rgiUsddA4ObygYb/LqyAFTwolSTKhQhdPPh5DRey6J7JR628v25krom9ZEfVPWaruxl5Ei2ENOY9IXcjDXnPXk+cvA8lj20IOkCgY05YhAg70JZKcss7FWCKUxPuZMt03RUwVb7ORKXsjJ+c2LObZcw53XOk2BNkQAzIEH4JWikMCyKfFUnQYZvWVmLrEK5RLkdBiDnZVItdtxlBlYb/lgsqvjgaW7awxKlAY0Zx6DeKl+iMV2ypD6LsfxVPPaLDTAgS/TgdPswTozxnZ3HzKdsGOKIwGY8MO4Y5dGtPQMLFEiwgD1yx6eMuXhZfXAl6ZpCKxeGVxZtrLM2WroE92HuotP6L51YMOhQ8BpwpFCklt/+vSZWjuRcTUFeAg3UJeUfLZAw6VLXQEX2bTof7OmtrBZTneN/QEdMxTZUCCt3on+dRHZ4e9spKXaa0r4IyGep+jilkoasf7LwJ+eyIBvk7rBLXhlr8cVXMy7G7fcH8IBrI8kj8cWsVZKSDPRliKbl6mrNG4ume9pmgrbtKZo0WzDIbE66jknRk8voiOSWhgcPiWNGtIxF4WO7jGv0A2R9VGszikGz1CsTyHdkxLDvOSjGYNRVENidIrxy1SYFxRJNYhkVcGgAowghVlRp1gnJRYUhpHh6Wk+xHLkez+8wsFDCH5e5wWJNyiZoWRRl3WKF5zvFaWcSzJ4UYC91zQ/rcqU4dcI7lhXFUHmRV2T/JJM8VqY4nVd5EO0XyNNTtCCKrIGzQQkgRF4eGjb00uaoKPT40P6VWIkgOwoXpUM2AuJlzRGVAIaz4qCwOmiJ7+nMAKn+HyMrmqS6mMDrI8hKJKPD2mGyFMs7+NZVld8fpkXwiovEFtTEutn0N99bEjU4Z796VUmQiusDA8pGzLPEGOowvp8uqpChWV8rMFyAiswFE8ZOhS0F6rJhyWrm6QmMkITYHyaEAv/rmlpUx3O0PoPeUchCWS/lnz54HslTYagQhG58Bx89NC3IqEBQbXJEZOuAEog0jl79HcXxuSz2oi3ltRnkEEGGWSQwU8XtMtpDtF1jvPTHaZXu6sCo11P/Uju5sM4CeLO5oiCy6JAP8vpgYDfRbFCOH0bSY8AULCmtgCAMDvgGlnPiGiirLtg0CKD45uOHp/jWJGKkbZSSekCjWuDFtb2gPCdUvoaH0B1Wulm7Diw5P9CHE1fWySmKQPlIgVrg1UbK4ZiVGysCnaCAd6Y8ggRzPx/CMdqnEmIYPHRo8cXH3YUgaobuqBF0Ia300wNdAY3Dp0wNIYJFVXBnq47YbgSAOXllag+2HmeWIzwvb3O1qqD549vOn4EgMV4EyYOYiSwtqoiynJClG2wseEWOLiFVA0FIApsmpGkJB9OY9NSzeJNmzaZlf6TjsK9I8Q6nsK1VVGBtl++fM5iC8l6rSX2Al81gE7Qp0ZoF4EzBObP3+d410IEBaVztwD09AviC2ZtmbWCQDbUGKVa0ffvP/vdv7dF3wUTq3kC1c3N1fcR0dzc7O0eu1RTtPmp4cM3bwMIkTQOh98+EuIxJwe7bmJ2dvZb6OGBTehpiU2z0NuUQMuBYFSB337i6Z/97uknLpuSnbBxVYIWNx99sumd+0l496OmrZ5qakWw+Sme/o/hENsWQMpp3PDhkRj77KdX+NLs7DHZxegxieJZi6FkK8eMGZPdnVy3YjRWWdzqn8Bcf/Feu8U9mFDW2Qu5Tr6XhN83eeQaWfA+R9HDMYrQi22xLIJYa3J9zL7ytmXM7MnZYyonHQdboDwLjkw6MhuRTb6v27AqKtYPf/H0xz/73cdPPHHZ+mBjZ3zgMR56sumDe++9P4kofP9O05NH08f4fqjgKegk/+Mpk2whJuuQvQj7TK4j8+1aiCuyZ2/Jnl1ZOXcMki9kO+et7Nmzs5Nq9EQQjPqlp3/xNNbhJz6MBtpg/NGVk1ubPrr/3mJE9j8xzXfw7v33/qHpyYfcPNcXRWDBFYq6YlEdvg29LHAI5/J8i6vtI0/KXMhwzOy34Ev2WShRyPat7Ilns7sTe6W8YXmmCZc/tnT46Y9jShyvmTTY2tRkkrz33XvvLYWvpoyRuc70cj8HPMVRUpSqRdbBBnofs7ietDsJswFxRTIdM2YL1l7z3exEg2ViXvjy0xbXJ562vNPQYG28nw88tLVp//1YkiZdS8CfNj259bAHqhp4v1+DYxZrf7GARXXkfDsXxm/IRvY6BtNE/2PCY5K5yo0bo1746ai9xjxx1Zr4HkhIsJ9ilvdHTfVdZK1NW5/38niOUHg9XqymwS6Q7ZrzJ6NcR9oJX52Fub4FLOFirlDU3Yl3FPq5RuX6REyuSVyxYE0tBpAiFCqS7e8/gp7JpsKKDHnb9X5rjerwZjuDpWNihYK1aUSDmA5nT0YCRv/emp09NzHxjNPhmL0+GOWaqMPosTxI9hNTqL83LfcdSHWrpycbKGPB+9T7w5O52o1jQ/P7uY60G7DfZ+os1tvZ6B+S7VvJMUfoifkmZKmmXG/GfFNiYxVsfbKp6Q+/jwWcdz9tglRnequhMBYMj5OqxXW4zVBMAiP/+McY18dsQhu7wRSmxfIGNtrs2UlJrlRgxZwJ9TF7fe9cNOYkG4gAtkLJNv1h8rvv3v/uu+988BGm6nH4B7kOT+Vqk2SGrv6R+v/9gq0lC5YGY1A2kX12S3ZMwGOyUwoS86MpYsV/RXX4v6K5xNqU7F8BDyHRNjV99NFHaPPk1qOei6V92xK5Yt+02UauhSMvUHFKbOeKjYkomzCjDuYJYDKRUpAY6NxoWeflKNebVsip6kkdKYjNM49uNekipluft3/wyw5KPokrueaaqxxN/SmOq22eCGI8Abbd2WOyy1N6psZy/4q3Ud708RNvW2LNDRJn5ISGOQ9BuggPLU5bdEYADQg6XEQewarbE1R45Ei7XBRm/1ZwtYJsauYP0dwZ9U7nPnwQcn07mh8He2wURjOa80ElAM0hT88gxRDZHE91ATZfm4lOxPWPbrhS4e5sFGdMDZ44O3t2LaGRBIJRLa64/PbbOyymQ6vWOk1M0ORSGVdQEgSLNXqbTdmKuGQkNdqNDlP0idnZKM5grpNnjyEP7XlI1uI3YWhs2qlq1Y9VeJiKeMEuQCq8ucauaeHIBLHOl20PKgEzBzbz4RU2g10fWBWbcLLQGlzrLUHwBBEkidX+surxqQRMJhzGfipAeeGWs8hYS22DgwIa8ZTpBFO2aNK0p+G2SRV3KypZlPhvdppKOnw1jup2R1eogtk4pcgeU+wQB+kQaFwVDFZVbdxYVYUnw+WBkXALqaUw6pg2g2qnGg3ucHSoPvIx8jMX/dBAdzbEbOdHASlObga1PY0QPQUgcgeKYZhqULRgwYIiUJ2uglgu2j7/6tWr+0Bz+psRgYLu7tL7XKikJrCyzCq3U3njIfG6X+fd1N1ojOGXBVc3mSTdf/v8TAbucNtuB7qN/d47MNAuS6HbdMuIdVniK3m+QacM9BEAn8enhO1BJ3gtTXd5DdN3INn2nZZKcwL3490vYhK4htyWYKR5npWmkmuL3ZTfp4ALsRJLCxxD8YYu6I7OmNd9tK4KPkUMEa2F17iAxMsU4+cUkacEkfVTLA+1TRcoQ1RTvsMZLM+zUKgsJeiKpvMpCYoiocMwfiosCQYdEjWDYRheNCSdkv2cIDOeFFLnVUUWQ5IsSJCG4PQYFx2heL/CcwzNK6kdh39nRF1TJdhzRgyJrKIEOBjKFE3gJYVRuEBKCFIYzk8ruqCwmqoLKtxPHq6FOJ8qMKLKQ34ao6qqQUHCIVWHb2CP4b6XuMaqAU1XdFmHV9BHOZZac4wh+wRDMBiKuAygwOiaT1VYndVhfsAKkgJZCKqmi1B4DBNOtV1ehNKELGVZ0FW0n3ylffAwKhNiNHhIeFZB1ASaYaGusLIgSwLHe1FlTsAmxVnBwdGV8GaZL81RNs9v4EOhMSaH/zMf96DMfdre01rPkJDOzZlPg1jHEvsbu49mcf2/TW1TwNzx0u8UeFB37VYSDlW+c9VLGWSQQQYZ/HTBCXogHDDIj7MlQXCdgLoeT9BGc6/r9MdNLa89+C7QdrMdYsdXDemHYJyrdZYRdLdr8RRVLVzY6bR+XxzUFooJhVws0UmCcqmtNRdi9x740roj/a0+1nWdjcu1kENVM+66a0ajO30J+Gpm7tw5E6R/4p/w3a8g02cfMPHs7tzctoY0R+FsbwwkI+Sm+2xXz10Ij4JeN81bao6VQBzbCWS33Yiia0c/U4zdue3O60Foan645XCzm/kGJv0sCQ9uLrzrUUz2roWdb6afiQWVi+cs3nnsGCTr0XC7bubuNjnuembXLlO2ua32FimGQE/nWlDyyCPH0t93kZrTVd9SgZ5H//wqdcEiO2Oh4xIdHCqDBX5B9YUiLTVhj1Mw4R0m1We+Xj7ts8+mXfuLRdauloYFVSMgVoNHINItB6KCq49VOks21DnjVbh51eIKUWA7GGIaQB9gqRpKu9T3RoPndRyEzzHVXR98NnXq1D3w/93XnsFkd5A9qL9nxNQ/XZg6YsQX+YhsufPRwWgIR+nzPTPw4oz9VKHV2lRhdLXtHTZsWJ+/RgBop93r7bzC1lwk1GuQZcXl9r1wM3XaX7DNFpBkxvaM+BPc7IKS7YRa/MhOx7tXof2I62NOVXTgUXS8B+Ko3nXXF8Q72HTRsmEYN0GfubM3nVol9b0NuaVdkOqeipaWy3uwbD9DZHPbCdFOBJgqjbR4BBasEw8Ji3X06H32SYJc9ecUqnfNeIPEIXJuWDL2eiodbmhFGvwB0t+KTzDVCijb5buQFhNCY2/ZVLTBVE3BVjq4h96rJtfRttW31KVHLyQqsClYwlSN0hejWLE3utfuoZ5WKkdi/cvuCYglstapGxva4evXSLA7UsTBmWKdanL94gRSYnuvqVVaVEfbVmmKa2ZQMRccZ7EEx9gVI7hjVj9tDz/bwOxA1nptT3sF4robsm1vuQm5LsdKnJLMMmtHQDH8dYSFHijYEvsr++ZjUa6j7brEV/2Vov6cTBUqcUrEk87GZDl34sS22Bv3hT/+dsh117SKln/bs6fi32rGDpta8WUFcsbQF+9uTSlGCXwBuf4pShW74hLbhJc5GaM6er9Npmt88ddUDYZcO1OCst4epVc8ceLEWa1Ri3X1gwoYEWSuz3y2x+T6JfTDQ/di//QcNtjk5l0jRuy6MKIfq15+pMR2JANGx6GW7DFDC/9KpTCFXKtSLKM3qsI3t0Cu/YJ1753WYa6799xs3wN12LRY5J72mFyTc8D8EUkI1u60k6s8Hwu0fMUf0HYQuRCqdyGBKURViqtoiJJrQ1Qnno1S/8p1/m/JFUrTZDkMCfWTmps2XEEy1xHA9h4BFuugFZMnl+IgO4co2AFwLcVc50aV+HPXXMPte6C9fmb54D2XP4Gcz9VAk/0L4poymClMprratm6N34cYnpwMUY72rhLlH/qCSHXG8pQr2GAJsmIW5rolar42i8wSoN80/XAFdsSXW76Eqry3Ys/Uz7BvSllIu3l1sg7Ldkduxk64HHEtHYRdMfH8VWSunSlaELNXU64x52QfupOhtCGuz01tR7Lc034Z+WAk42s45qSEk1BZEtc1tpkEVuGmYsT1P7ESE5/6UDpnELmmxig9mjX1Ya6lez37YQqgzH/X8j2Xa1r37NmLHdRUM0l8Njd1bWm+M0mFbUskpe3YXEsR11mY635iogiIcl2YujS7Fs0fWpESb9kRja+ye66BdizY3Xv2olgzteKTL6EGT/0AJf+tqerBJTmnVbZnUrG5NpX2y/UqMekgOqcZVYQM4VJUiXfAXKIv+qbAwzSMVoCHdF9jNzx12Cctnww1qT6b20Yg0vtFohe2dQwm19Er+u31KnG4qfaQlJhU0cvUx3LE0rYo1WUuZ+NMhLF3euBrNHydurcCxtndH6DJiVyCWFHX4ql+YX8mac7oRD88ej45OHWlCnZGFfGyxAQ7LLYzzPV8JgYN8AAWjmAx26mfmRMTcPhKnDtpjhdso8P0Sj4mOAg6p1KcVIxeQnZjIkhJERcWEVuqBcOS0eax5EcBuZjsA88899y15557xppd6yPn9FK8xZL7ZMK/30yEVxSb2vwY8RceKPQrDElSXWhX0Sv3JVFt9+CETTAgaRoRKnBun13qZ/S74qDTVeUS0uHRo7fb6gADFsbZ7Iwv7Ccb/Ilk0/zODxECaE9guzu3dYX9SK0rFmNtV9DF4OfEU53v4ETUopuPzsB0Z8xY2Oi0+jELlsWY7j07oF9rkxrQtP/uZ5994Fk0E567w2nFBTo/arJpntoz4sjOd372mL205uajUHs7QZfzXLjUW1CPlq3f2362YaD3dJjCvnZ8lyO3tb3Ncblo6E3ysWTL0s5D88C02dFX068EIvLg0YXblPST6xwTKPh4Vpd8KwupKKEG8NXnXxWAcLoFHimuF/S8AXrTz0NzBliyb9920OumYwpwG0D4H2MRFUlzu6qQ5npFI1V1KwH3K0L9S1dfD7AS6KdbQGSvCrw8oAMKA/taHG7plrUDONsD0yFxQFoZ+smuCWpfnecb2OUd0NfokCypDEMZlKBSMueXKdmnk21BMVjep0m8n2J8MtyiylBSO5XXKV3SaNaQeAHdhVd4VjJs6MKmFKvLikH5/JyiO9UshnhFMTgmRLEKHWYHIFedVwUN9kiQBElXWNgtlVeIJcSiZnC6KvKSxGiyKgqSoeqkZ1dEReVYngswms5L5orQjMjz5F9QZTmfwiiqLAo8PL0EFdpWowVDEgyNpRWeo8KKMoDaSEYJGIrfUEOoKJjxsQwqISbnLwrHUqwhBHi4lXUhwpLlqgh+htIZjhFkyMNnsCElxLAy+ZgqC5WAoRjO0K1qYNvgw6sBVvAxft5Qed6uj06gUfEwR6P41u8qnX41zaozpilDsGvHmQu2m2vGc+YX0oZPOm0TXopWJXO4G54x4JJejyuw3zqUWw6oA85C5NsVnuxwp8+XQQYZZJBBBj9BSP6uBowuhwVNWJBm6dRUCF4rLhPAKTIqZQQA1LRUB3Qh7QyL/WC0H6GCc9FVMs71ddmMSSTwt795Wd+QQqsbHB34siJGfu2nX/OqBhNimpNU4eC1NSBN7TqX9mzSpfoJcThnIz228W9B9/efOEURqd5Nkzb1Upz9aMgBxti7IV6Nvb+A3j7nPKcu1aQplmbB45Dh0McxhqLdFcTJP3nf3/a5vimjgjkzQbh20qRJNQEwZ4n3lVSU2rtNXMCjjAvWu2uO85KszjguLB7pQ8J8MAbEtr4wVRck0N7T6LrLypySkpKdcyDXJTvh3hLPZgvuJsOxhjOiURGHpy4utSNJYpbvvYc3SMqPpx6yMPdmVtD99EIBKn0HaJFftFPg+nsWjOdsuD7jsKwvB9DNTNs+RhDVxx98sA06uxs3ygHog2wx2aSGgfZxq7PK3I/UFHCspORlaK8vl5Qc8+yNafBLG65399jrloFMTLBb9Vw9a+ovaDl44OCNyQcPHAiB97Ae1yeapgjGta8cX+Zh2igMwNKl8Aou3QlAmkXXU8HsG2RD9pf77e+Dmff47ZapCZzDVAvC90Ac/Aa9HgBYskMTf1jW3z6uffz41e5dDFsk/LMIXH9pEQDsD9u83umI7B806Fsi1UGDbEv9ZPPmlmjTAGBbbau+B7MM4M3BcmyziT9lXjRuXNX48Svd1+1H3qeuLwJXqI4Fi6grHQ6/w07u16BBRLLfwo+3213waOmGXyb9Ve3DxgoOmlzNzT0n6pFg2+N5iV9Brlnjx3/qureRzR0ddaCjo6OorqNj0Qve5kylJYMwfpkiVAi7RbL9UaujiYINYRV+48aBeLnecwMgi01QYmEHluv4MpdKrIJthRcv5i8AdWDbtsI6sMDbqoHqyUEWvv32lxa+/db6aL7ND9X1MwyRrkY+VuHyv39jcjU3ByffuIyU+GxcjGXbxyF7HT/eZZLYcp36bhuQzi8C/6R+qAMviR0eqsKhE983yB77yfecW/p9vdSiCMnJs4ZVuG/y5G9aQlC030w+CPW45csbf6/FShzniXWLa1bQXfQA3ysddQuuXOnI/+7894uKrsMdL5nTALiysVRZDJ0onTV3Vvl9CWdk6pEKf4VU+EAATP7ww8krvkHq/EkBUuLH4xJtvXXcuNx5SLDuVuiH1god8CJosRc7FhXCnQ5PP9/syHV+MlcNCrFfg2XQPcpEwnpqMjbXAtNMD9yAXE3vdBAb7ONxZTo+KNdxZYjrvOtuOiu25IPrw0H+m1CBwfX3Cwu9ZRPadieuiZGfB8WzZhWDiOX92PJRh0ZFycZdXx7L9XPL/b799w9vmHsoxE6YsCwuaPM3IdebWViL3U2rh7+nriwC56mObXXU+UUeY45U6cA10Q8b5f/4ByK3waxW4MA/KOpdi+vcOIcofY7stS1kMiwPHFxhOeQViGt9XBattUGurViJs9wNAMKLfuhYlP/dDx0XN//w3cDiqw0S4quGuP0aS3Iu0kN+1mvR96NGJfxQ/KWhyA+3YIIBKN4DZlIRqEd+uCDOc9IAch23Fgl2/HgXZOkIKFwELbYOm+2iItDirRimwYFrguUHun9NUa+Z3OZCQ5Y3/DctRnV4VHyxnN6OlLjvYCy4HkSvB8qRWCsShsXNuZBrbplJdm3ahcoi/4ThBviubAOH1e/zgR+mip64+ufbc00ohD4xatRrr8XsEy2TfehQzF5HxQ9mpbNW3nTgYI2pyN+EDo1pC9UAAARwSURBVBxE2X+iCsNjIIMd17oak80q603jVQGMr3XbpPMd4Hvqh0X5KL56Gq2r9s4pIZWgwahR/dxKNUotHdWPDQlZRz5W4vqCyZYHvufA5Mln+3A+vCIxrcNKPK7dIruy8Uo/W8KPttfAKHPxIkwOUbjBqaK3klrqsL0KJxwIxFFDXJGgYyhOuL5GOxZs3w0rdbrn4N8n1z6YqsKwJRbsuFZLjbPmrQrxEk2LivxcWSoPAdRtKyy8iJLDOpgmwizRyy9xUOjHcOzEmji9dl88V2TJfHH/+8SVwEVgDtX7ym+Y9nr2xhpzsN6WHFryczHZ3LUrLbbj560uK1s9b/zq9vJUxyNG3qSuLEDjnMJt9EubKz3PNzXbWGxSrhnq7qfWjc0zPDdGPemkRptJ9r2+AvDNN7Xgk3pzEuZcyoSdamoxFG1w3niLblbWyrKb49pIo9PwovPfd+T/wHfUbb5yvYO0UrUzuPz9RKpJ/VdXxInVvORhy2RTH6YPJE2tWZNrlwhrrUXJjmutKiubB1EWXA7zqT7iQJzN7+hYAK11ESjs6Ng8gDUOucOpieL+1PRr3YaYtUbzKaa2dMOG4hMEVZLxlOnjUaZ4/vQssW8KaB0XQ25rq6nUdqt5hACI/BMUguswS6weUEWBHyTq8f7K5lQHR5+wtLggziOoDEM2Gi1xKhwmh3aLEEsNbeOScNM+lvCAkjrAD9R12x8MSQfROFy7b/78/RDz920HqWsYItCRgg3dUIwuE+7A2aFxVOsv2YcHJn9HbhzTdif3KhR9/10HQKniLdTVioIeCgQCIYNccIWh+fyye98ngLZzy5adQ//Xp1lhhu8CO3CtduvNzwttSuYsgM2LiqphhuhtCYLbD0UPhfz+ELx+6WubFD3Q29zrT7ukkhhYJ1NCJHynaoh/zPO4PZba3xQtRnmnFtsWBvBDGHZQXa7XK8iUFDVjXaEYlysau4ODB/ox63bd/NYsgl+KNVVkSvQPuIKNwzrBURwiIeLKQdZOdhzFM6i5iFs6npLDq2Sar4RUHkGD3pTTomcVcdPoNh4sg1YnFiV0tICIF43VRKsPnpY0VRhK1iVW1QwfzYZY0UfplN39DVblIorK6JKhqX6a8VH2yiTwsIsSemVF3keOrrogqFBOTEhQVYNl0RdUg5HRV+KbcT5Zgx5JYTlGFPw6x8JTC6pkSIIfqbOHukieMriQztG6IjOKKqiGwsAjERVVFemAqqg+iVdgS15S/bb2ximUQbEafoV8fKQYIQqMX1FEVhMUTTWQdvo0DW/ZhCdFFMkvs4omcAalRlgo4bBB+UQBfkuAFyfgwXhlRmWhrASe0SBvXdMFnbaJoxojoKJqRqB0lfKLos9+fWzOx/OMLrA8w8gKa1OCwQqiT2fhWVmFU0WdZXRFVEXZxyTaMceqlI9hdIbnVZiqSaykMLJAGRrn5yT+DtX9e1u9+vaAXIX/o8PTgs63CT9u+LEH+xN4AoroCDLIIIMMMsgggwwyyCAV/wOJ0w3gwtsPUwAAAABJRU5ErkJggg==\n",
      "data:image/jpeg;base64,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\n",
      "data:image/jpeg;base64,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\n",
      "data:image/png;base64,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\n",
      "data:image/jpeg;base64,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\n"
     ]
    }
   ],
   "source": [
    "images = driver.find_elements(By.XPATH, '//img[contains(@class,\"Q4LuWd\")]')\n",
    "\n",
    "image_urls = [img.get_attribute('src') for img in images[:10]]\n",
    "for url in image_urls:\n",
    "    print(url)"
   ]
  },
  {
   "cell_type": "code",
   "execution_count": 21,
   "id": "d1cc2777",
   "metadata": {},
   "outputs": [
    {
     "name": "stdout",
     "output_type": "stream",
     "text": [
      "10\n"
     ]
    }
   ],
   "source": [
    "print(len(image_urls))"
   ]
  },
  {
   "cell_type": "code",
   "execution_count": 186,
   "id": "8eca0749",
   "metadata": {},
   "outputs": [
    {
     "name": "stdout",
     "output_type": "stream",
     "text": [
      "Downloading 0 of 10 images\n",
      "Downloading 1 of 10 images\n",
      "Downloading 2 of 10 images\n",
      "Downloading 3 of 10 images\n",
      "Downloading 4 of 10 images\n",
      "Downloading 5 of 10 images\n",
      "Downloading 6 of 10 images\n",
      "Downloading 7 of 10 images\n",
      "Downloading 8 of 10 images\n",
      "Downloading 9 of 10 images\n"
     ]
    }
   ],
   "source": [
    "for _ in range(20):                                              #According to the session\n",
    "    driver.execute_script(\"window.scrollBy(0,100)\")\n",
    "images=driver.find_elements(By.XPATH,'//img[@class=\"rg_i Q4LuWd\"]')\n",
    "img_urls = []\n",
    "for image in images:\n",
    "    source=image.get_attribute('src')\n",
    "    if source is not None:\n",
    "        if(source[0:4]=='http'):\n",
    "            img_urls.append(source)\n",
    "for i in range(len(img_urls)):\n",
    "    if i > 10:\n",
    "        breakBy.XPATH,\n",
    "    print(\"Downloading {0} of {1} images\" .format(i,10))\n",
    "    response=requests.get(img_urls[i])\n",
    "    file=open(r\"C:\\Users\\alvir\\Downloads\\pics\"+str(i)+\".jpg\",\"wb\")\n",
    "    file.write(response.content)"
   ]
  },
  {
   "cell_type": "code",
   "execution_count": 213,
   "id": "efda81bb",
   "metadata": {},
   "outputs": [],
   "source": [
    "driver=webdriver.Chrome()\n",
    "driver.get(\"https://images.google.com/\")\n",
    "time.sleep(5)\n",
    "designation1=driver.find_element(By.CLASS_NAME, \"gLFyf\")\n",
    "designation1.send_keys('cars')\n",
    "search=driver.find_element(By.CLASS_NAME, \"zgAlFc\")\n",
    "search.click()"
   ]
  },
  {
   "cell_type": "code",
   "execution_count": 216,
   "id": "2ad83e5f",
   "metadata": {},
   "outputs": [
    {
     "name": "stdout",
     "output_type": "stream",
     "text": [
      "Downloading 0 of 10 images\n",
      "Downloading 1 of 10 images\n",
      "Downloading 2 of 10 images\n",
      "Downloading 3 of 10 images\n",
      "Downloading 4 of 10 images\n",
      "Downloading 5 of 10 images\n",
      "Downloading 6 of 10 images\n",
      "Downloading 7 of 10 images\n",
      "Downloading 8 of 10 images\n",
      "Downloading 9 of 10 images\n"
     ]
    }
   ],
   "source": [
    "for _ in range(20):                                              #According to the session Not sure about the breakBy error\n",
    "    driver.execute_script(\"window.scrollBy(0,100)\")\n",
    "images1=driver.find_elements(By.XPATH,'//img[@class=\"rg_i Q4LuWd\"]')\n",
    "img_urls1 = []\n",
    "for image in images1:\n",
    "    source=image.get_attribute('src')\n",
    "    if source is not None:\n",
    "        if(source[0:4]=='http'):\n",
    "            img_urls1.append(source)\n",
    "for i in range(len(img_urls1)):\n",
    "    if i >= 10:\n",
    "        break\n",
    "    print(\"Downloading {0} of {1} images\" .format(i,10))\n",
    "    response=requests.get(img_urls1[i])\n",
    "    file=open(r\"C:\\Users\\alvir\\Downloads\\pics\"+str(i)+\".jpg\",\"wb\")\n",
    "    file.write(response.content)"
   ]
  },
  {
   "cell_type": "code",
   "execution_count": 203,
   "id": "d34b99ef",
   "metadata": {},
   "outputs": [],
   "source": [
    "driver=webdriver.Chrome()\n",
    "driver.get(\"https://images.google.com/\")\n",
    "time.sleep(5)\n",
    "designation1=driver.find_element(By.CLASS_NAME, \"gLFyf\")\n",
    "designation1.send_keys('Machine Learning')\n",
    "search=driver.find_element(By.CLASS_NAME, \"zgAlFc\")\n",
    "search.click()"
   ]
  },
  {
   "cell_type": "code",
   "execution_count": 210,
   "id": "9947b0de",
   "metadata": {},
   "outputs": [
    {
     "name": "stdout",
     "output_type": "stream",
     "text": [
      "Downloading 0 of 10 images\n",
      "Downloading 1 of 10 images\n",
      "Downloading 2 of 10 images\n",
      "Downloading 3 of 10 images\n",
      "Downloading 4 of 10 images\n",
      "Downloading 5 of 10 images\n",
      "Downloading 6 of 10 images\n",
      "Downloading 7 of 10 images\n",
      "Downloading 8 of 10 images\n",
      "Downloading 9 of 10 images\n"
     ]
    }
   ],
   "source": [
    "for _ in range(20):                                              #According to the session\n",
    "    driver.execute_script(\"window.scrollBy(0,100)\")\n",
    "ML=driver.find_elements(By.XPATH,'//img[@class=\"rg_i Q4LuWd\"]')\n",
    "img_urlml = []\n",
    "for image in ML:\n",
    "    source=image.get_attribute('src')\n",
    "    if source is not None:\n",
    "        if(source[0:4]=='http'):\n",
    "            img_urlml.append(source)\n",
    "for i in range(len(img_urlml)):\n",
    "    if i >= 10:\n",
    "        break\n",
    "    print(\"Downloading {0} of {1} images\" .format(i,10))\n",
    "    response=requests.get(img_urlml[i])\n",
    "    file=open(r\"C:\\Users\\alvir\\Downloads\\pics\"+str(i)+\".jpg\",\"wb\")\n",
    "    file.write(response.content)"
   ]
  },
  {
   "cell_type": "code",
   "execution_count": 218,
   "id": "811f42b3",
   "metadata": {},
   "outputs": [],
   "source": [
    "driver=webdriver.Chrome()\n",
    "driver.get(\"https://images.google.com/\")\n",
    "time.sleep(5)\n",
    "designation1=driver.find_element(By.CLASS_NAME, \"gLFyf\")\n",
    "designation1.send_keys('Guitar')\n",
    "search=driver.find_element(By.CLASS_NAME, \"zgAlFc\")\n",
    "search.click()"
   ]
  },
  {
   "cell_type": "code",
   "execution_count": 220,
   "id": "f72d9a26",
   "metadata": {},
   "outputs": [
    {
     "name": "stdout",
     "output_type": "stream",
     "text": [
      "Downloading 0 of 10 images\n",
      "Downloading 1 of 10 images\n",
      "Downloading 2 of 10 images\n",
      "Downloading 3 of 10 images\n",
      "Downloading 4 of 10 images\n",
      "Downloading 5 of 10 images\n",
      "Downloading 6 of 10 images\n",
      "Downloading 7 of 10 images\n",
      "Downloading 8 of 10 images\n",
      "Downloading 9 of 10 images\n"
     ]
    }
   ],
   "source": [
    "for _ in range(20):                                              #According to the session\n",
    "    driver.execute_script(\"window.scrollBy(0,100)\")\n",
    "guitar=driver.find_elements(By.XPATH,'//img[@class=\"rg_i Q4LuWd\"]')\n",
    "img_urlgt = []\n",
    "for image in guitar:\n",
    "    source=image.get_attribute('src')\n",
    "    if source is not None:\n",
    "        if(source[0:4]=='http'):\n",
    "            img_urlgt.append(source)\n",
    "for i in range(len(img_urlgt)):\n",
    "    if i >= 10:\n",
    "        break\n",
    "    print(\"Downloading {0} of {1} images\" .format(i,10))\n",
    "    response=requests.get(img_urlgt[i])\n",
    "    file=open(r\"C:\\Users\\alvir\\Downloads\\pics\"+str(i)+\".jpg\",\"wb\")\n",
    "    file.write(response.content)"
   ]
  },
  {
   "cell_type": "code",
   "execution_count": 221,
   "id": "d47f7745",
   "metadata": {},
   "outputs": [],
   "source": [
    "driver=webdriver.Chrome()\n",
    "driver.get(\"https://images.google.com/\")\n",
    "time.sleep(5)\n",
    "designation1=driver.find_element(By.CLASS_NAME, \"gLFyf\")\n",
    "designation1.send_keys('Cakes')\n",
    "search=driver.find_element(By.CLASS_NAME, \"zgAlFc\")\n",
    "search.click()"
   ]
  },
  {
   "cell_type": "code",
   "execution_count": 223,
   "id": "dfd05e48",
   "metadata": {},
   "outputs": [
    {
     "name": "stdout",
     "output_type": "stream",
     "text": [
      "Downloading 0 of 10 images\n",
      "Downloading 1 of 10 images\n",
      "Downloading 2 of 10 images\n",
      "Downloading 3 of 10 images\n",
      "Downloading 4 of 10 images\n",
      "Downloading 5 of 10 images\n",
      "Downloading 6 of 10 images\n",
      "Downloading 7 of 10 images\n",
      "Downloading 8 of 10 images\n",
      "Downloading 9 of 10 images\n"
     ]
    }
   ],
   "source": [
    "for _ in range(20):                                              #According to the session\n",
    "    driver.execute_script(\"window.scrollBy(0,100)\")\n",
    "cakes=driver.find_elements(By.XPATH,'//img[@class=\"rg_i Q4LuWd\"]')\n",
    "img_urlck = []\n",
    "for image in cakes:\n",
    "    source=image.get_attribute('src')\n",
    "    if source is not None:\n",
    "        if(source[0:4]=='http'):\n",
    "            img_urlck.append(source)\n",
    "for i in range(len(img_urlck)):\n",
    "    if i >= 10:\n",
    "        break\n",
    "    print(\"Downloading {0} of {1} images\" .format(i,10))\n",
    "    response=requests.get(img_urlck[i])\n",
    "    file=open(r\"C:\\Users\\alvir\\Downloads\\pics\"+str(i)+\".jpg\",\"wb\")\n",
    "    file.write(response.content)"
   ]
  },
  {
   "cell_type": "code",
   "execution_count": null,
   "id": "f2a5edf5",
   "metadata": {},
   "outputs": [],
   "source": [
    "#Not sure if others will have the same error or not but breakBy.XPATH is giving me name error and i am not sure why?\n",
    "#it works perfectly for the first one and then it started giving errors. "
   ]
  },
  {
   "cell_type": "code",
   "execution_count": null,
   "id": "2c3a694f",
   "metadata": {},
   "outputs": [],
   "source": [
    "Q4.Write a python program to search for a smartphone(e.g.: Oneplus Nord, pixel 4A, etc.) on www.flipkart.com\n",
    "and scrape following details for all the search results displayed on 1st page. Details to be scraped: “Brand\n",
    "Name”, “Smartphone name”, “Colour”, “RAM”, “Storage(ROM)”, “Primary Camera”,\n",
    "“Secondary Camera”, “Display Size”, “Battery Capacity”, “Price”, “Product URL”. Incase if any of the\n",
    "details is missing then replace it by “- “. Save your results in a dataframe and CSV"
   ]
  },
  {
   "cell_type": "code",
   "execution_count": 295,
   "id": "10005a92",
   "metadata": {},
   "outputs": [],
   "source": [
    "driver=webdriver.Chrome()\n",
    "driver.get(\"https://www.flipkart.com/\")"
   ]
  },
  {
   "cell_type": "code",
   "execution_count": 296,
   "id": "081ee1fb",
   "metadata": {},
   "outputs": [],
   "source": [
    "designation1=driver.find_element(By.CLASS_NAME, \"Pke_EE\")\n",
    "designation1.send_keys('Oneplus Nord')"
   ]
  },
  {
   "cell_type": "code",
   "execution_count": 297,
   "id": "4081c0d0",
   "metadata": {},
   "outputs": [],
   "source": [
    "search=driver.find_element(By.XPATH,\"/html/body/div[1]/div/div[1]/div/div/div/div/div[1]/div/div[1]/div/div[1]/header/div[1]/div[2]/form/div/button\")\n",
    "search.click()"
   ]
  },
  {
   "cell_type": "code",
   "execution_count": 224,
   "id": "49f3eab6",
   "metadata": {},
   "outputs": [],
   "source": [
    "brand_name=[] \n",
    "product_name=[]\n",
    "product_color=[] \n",
    "product_ram=[]    \n",
    "product_storage=[] \n",
    "product_camera=[]\n",
    "product_displays=[]  \n",
    "product_battery=[]\n",
    "product_warranty=[]\n",
    "product_price=[]\n",
    "product_url=[]\n",
    "\n",
    "#Some of them had to be merged "
   ]
  },
  {
   "cell_type": "code",
   "execution_count": 289,
   "id": "ad2ceb0b",
   "metadata": {},
   "outputs": [],
   "source": [
    "product_name=[]\n",
    "start=0\n",
    "end=1\n",
    "for page in range(start,end):\n",
    "    titles=driver.find_elements(By.CLASS_NAME, \"_4rR01T\")\n",
    "    for i in titles[0:24]:\n",
    "        product_name.append(i.text)\n",
    "time.sleep(3)"
   ]
  },
  {
   "cell_type": "code",
   "execution_count": 290,
   "id": "0b245556",
   "metadata": {},
   "outputs": [
    {
     "name": "stdout",
     "output_type": "stream",
     "text": [
      "['OnePlus Nord CE 2 Lite 5G (Blue Tide, 128 GB)', 'OnePlus Nord CE 3 Lite 5G (Chromatic Gray, 256 GB)', 'OnePlus Nord CE 3 Lite 5G (Pastel Lime, 256 GB)', 'OnePlus Nord CE 3 Lite 5G (Pastel Lime, 128 GB)', 'OnePlus Nord CE 3 Lite 5G (Chromatic Gray, 128 GB)', 'OnePlus Nord CE 2 Lite 5G (Black Dusk, 128 GB)', 'OnePlus Nord CE 3 Lite 5G (Chromatic Gray, 128 GB)', 'OnePlus Nord CE 3 Lite 5G (Pastel Lime, 128 GB)', 'OnePlus Nord CE3 5G (Aqua Surge, 128 GB)', 'OnePlus Nord CE3 5G (Grey Shimmer, 256 GB)', 'OnePlus Nord CE3 5G (Aqua Surge, 256 GB)', 'OnePlus Nord CE3 5G (Grey Shimmer, 128 GB)', 'OnePlus Nord CE 3 Lite 5G (Chromatic Gray, 256 GB)', 'OnePlus Nord CE 3 Lite 5G (Pastel Lime, 256 GB)', 'OnePlus Nord 3 5G (Tempest Gray, 128 GB)', 'OnePlus Nord 3 5G (Misty Green, 128 GB)', 'OnePlus Nord 3 5G (Tempest Gray, 256 GB)', 'OnePlus Nord 3 5G (Misty Green, 256 GB)', 'OnePlus Nord CE 3 Lite 5G (Chromatic Gray, 256 GB)', 'OnePlus Nord CE 3 Lite 5G (Pastel lime, 256 GB)', 'OnePlus Nord CE 3 Lite 5G (Chromatic Gray, 128 GB)', 'OnePlus Nord 2T 5G (Gray Shadow, 256 GB)', 'OnePlus Nord 2 5G (Blue Haze, 128 GB)', 'OnePlus Nord (Gray Ash, 256 GB)']\n"
     ]
    }
   ],
   "source": [
    "print(product_name)"
   ]
  },
  {
   "cell_type": "code",
   "execution_count": 291,
   "id": "8bed7b6b",
   "metadata": {},
   "outputs": [
    {
     "name": "stdout",
     "output_type": "stream",
     "text": [
      "24\n"
     ]
    }
   ],
   "source": [
    "print(len(product_name))"
   ]
  },
  {
   "cell_type": "code",
   "execution_count": 268,
   "id": "4f32141d",
   "metadata": {},
   "outputs": [],
   "source": [
    "import pandas as pd\n",
    "from selenium import webdriver\n",
    "from selenium.webdriver.common.by import By\n",
    "from selenium.common.exceptions import NoSuchElementException\n",
    "\n",
    "driver = webdriver.Chrome()\n",
    "\n",
    "driver.get('https://www.flipkart.com/search?q=One%20Plus%20Nord&otracker=search&otracker1=search&marketplace=FLIPKART&as-show=on&as=off')\n",
    "\n",
    "try:\n",
    "    containers = driver.find_elements(By.CLASS_NAME, 'fMghEO')  #I am using the container here which contains a class which is similar for the 5 aspects\n",
    "except NoSuchElementException:\n",
    "    print(\"Nothing was found.\")\n",
    "    containers = []\n",
    "\n",
    "Product_Data = []\n",
    "\n",
    "for container in containers:\n",
    "    try:\n",
    "        details = container.find_elements(By.CLASS_NAME, 'rgWa7D')\n",
    "        if len(details) >= 4: \n",
    "            ram = details[0].text\n",
    "            display = details[1].text\n",
    "            camera = details[2].text\n",
    "            battery = details[3].text\n",
    "            warranty = details[4].text if len(details) > 4 else 'No Warranty'\n",
    "\n",
    "            Product_Data.append({\n",
    "                'RAM': ram,\n",
    "                'Display': display,\n",
    "                'Camera': camera,\n",
    "                'Battery': battery,\n",
    "                'Warranty': warranty\n",
    "            })\n",
    "\n",
    "    except IndexError:\n",
    "        print(\"Cannot show all the product elements.\")\n",
    "    except NoSuchElementException:\n",
    "        print(\"Something is missing.\")\n",
    "    except Exception as e:\n",
    "        print(f\"Error occured: {e}\")\n"
   ]
  },
  {
   "cell_type": "code",
   "execution_count": 269,
   "id": "6fba98e5",
   "metadata": {},
   "outputs": [
    {
     "name": "stdout",
     "output_type": "stream",
     "text": [
      "[{'RAM': '6 GB RAM | 128 GB ROM', 'Display': '16.74 cm (6.59 inch) Display', 'Camera': '64MP Rear Camera | 16MP Front Camera', 'Battery': '5000 mAh Battery', 'Warranty': '12 Months'}, {'RAM': '8 GB RAM | 128 GB ROM', 'Display': '17.07 cm (6.72 inch) Display', 'Camera': '108MP Rear Camera', 'Battery': '5000 mAh Battery', 'Warranty': 'Domestic Warranty of 12 months on phone & 6 months on accessories'}, {'RAM': '8 GB RAM | 256 GB ROM', 'Display': '17.07 cm (6.72 inch) Display', 'Camera': '108MP Rear Camera', 'Battery': '5000 mAh Battery', 'Warranty': 'Domestic Warranty of 12 months on phone & 6 months on accessories'}, {'RAM': '8 GB RAM | 256 GB ROM', 'Display': '17.07 cm (6.72 inch) Display', 'Camera': '108MP Rear Camera', 'Battery': '5000 mAh Battery', 'Warranty': 'Domestic Warranty of 12 months on phone & 6 months on accessories'}, {'RAM': '8 GB RAM | 128 GB ROM', 'Display': '17.07 cm (6.72 inch) Display', 'Camera': '108MP Rear Camera', 'Battery': '5000 mAh Battery', 'Warranty': 'Domestic Warranty of 12 months on phone & 6 months on accessories'}, {'RAM': '6 GB RAM | 128 GB ROM', 'Display': '16.74 cm (6.59 inch) Display', 'Camera': '64MP Rear Camera | 16MP Front Camera', 'Battery': '5000 mAh Battery', 'Warranty': '12 months'}, {'RAM': '8 GB RAM | 128 GB ROM', 'Display': '17.07 cm (6.72 inch) Display', 'Camera': '108MP Rear Camera', 'Battery': '5000 mAh Battery', 'Warranty': 'Domestic Warranty of 12 months on phone & 6 months on accessories'}, {'RAM': '8 GB RAM | 256 GB ROM', 'Display': '17.07 cm (6.72 inch) Display', 'Camera': '108MP Rear Camera', 'Battery': '5000 mAh Battery', 'Warranty': '1 Year for handset ,6 months fro accessories'}, {'RAM': '12 GB RAM | 256 GB ROM', 'Display': '17.02 cm (6.7 inch) Display', 'Camera': '50MP Rear Camera', 'Battery': '5000 mAh Battery', 'Warranty': 'Domestic 1 Year of Device & 6 Months for In-Box Accessories'}, {'RAM': '8 GB RAM | 256 GB ROM', 'Display': '17.07 cm (6.72 inch) Display', 'Camera': '108MP Rear Camera', 'Battery': '5000 mAh Battery', 'Warranty': 'Domestic Warranty of 12 months on phone & 6 months on accessories'}, {'RAM': '8 GB RAM | 256 GB ROM', 'Display': '17.07 cm (6.72 inch) Display', 'Camera': '108MP Rear Camera', 'Battery': '5000 mAh Battery', 'Warranty': 'Domestic Warranty of 12 months on phone & 6 months on accessories'}, {'RAM': '8 GB RAM | 128 GB ROM', 'Display': '17.07 cm (6.72 inch) Display', 'Camera': '108MP Rear Camera', 'Battery': '5000 mAh Battery', 'Warranty': 'Domestic Warranty of 12 months on phone & 6 months on accessories'}, {'RAM': '12 GB RAM | 256 GB ROM', 'Display': '17.02 cm (6.7 inch) Display', 'Camera': '50MP Rear Camera', 'Battery': '5000 mAh Battery', 'Warranty': 'Domestic 1 Year of Device & 6 Months for In-Box Accessories'}, {'RAM': '8 GB RAM | 128 GB ROM', 'Display': '17.02 cm (6.7 inch) Display', 'Camera': '50MP Rear Camera', 'Battery': '5000 mAh Battery', 'Warranty': 'Domestic 1 Year of Device & 6 Months for In-Box Accessories'}, {'RAM': '8 GB RAM | 128 GB ROM', 'Display': '17.02 cm (6.7 inch) Display', 'Camera': '50MP Rear Camera', 'Battery': '5000 mAh Battery', 'Warranty': 'Domestic 1 Year of Device & 6 Months for In-Box Accessories'}, {'RAM': '8 GB RAM | 128 GB ROM', 'Display': '17.12 cm (6.74 inch) Display', 'Camera': '50MP Rear Camera', 'Battery': '5000 mAh Battery', 'Warranty': 'Domestic 1 Year of Device & 6 Months for In-Box Accessories'}, {'RAM': '8 GB RAM | 256 GB ROM', 'Display': '17.07 cm (6.72 inch) Display', 'Camera': '108MP Rear Camera', 'Battery': '5000 mAh Battery', 'Warranty': '1 Year for handset ,6 months fro accessories'}, {'RAM': '8 GB RAM | 128 GB ROM', 'Display': '17.07 cm (6.72 inch) Display', 'Camera': '108MP Rear Camera', 'Battery': '5000 mAh Battery', 'Warranty': 'Domestic Warranty of 12 months on phone & 6 months on accessories'}, {'RAM': '16 GB RAM | 256 GB ROM', 'Display': '17.12 cm (6.74 inch) Display', 'Camera': '50MP Rear Camera', 'Battery': '5000 mAh Battery', 'Warranty': 'Domestic 1 Year of Device & 6 Months for In-Box Accessories'}, {'RAM': '8 GB RAM | 128 GB ROM', 'Display': '17.12 cm (6.74 inch) Display', 'Camera': '50MP Rear Camera', 'Battery': '5000 mAh Battery', 'Warranty': 'Domestic 1 Year of Device & 6 Months for In-Box Accessories'}, {'RAM': '16 GB RAM | 256 GB ROM', 'Display': '17.12 cm (6.74 inch) Display', 'Camera': '50MP Rear Camera', 'Battery': '5000 mAh Battery', 'Warranty': 'Domestic 1 Year of Device & 6 Months for In-Box Accessories'}, {'RAM': '12 GB RAM | 256 GB ROM', 'Display': '17.02 cm (6.7 inch) Display', 'Camera': '50MP Rear Camera', 'Battery': '4500 mAh Battery', 'Warranty': '12 months Warranty'}, {'RAM': '6 GB RAM | 64 GB ROM', 'Display': '16.36 cm (6.44 inch) Full HD+ Display', 'Camera': '48MP + 8MP | 32MP + 8MP Dual Front Camera', 'Battery': '4115 mAh Battery', 'Warranty': 'Qualcomm® Snapdragon™ 765G Processor'}, {'RAM': '8 GB RAM | 128 GB ROM', 'Display': '17.02 cm (6.7 inch) Display', 'Camera': '50MP Rear Camera | 32MP Front Camera', 'Battery': '4500 mAh Battery', 'Warranty': '12 Month'}]\n"
     ]
    }
   ],
   "source": [
    "print(Product_Data)"
   ]
  },
  {
   "cell_type": "code",
   "execution_count": 272,
   "id": "5f8ced74",
   "metadata": {},
   "outputs": [
    {
     "name": "stdout",
     "output_type": "stream",
     "text": [
      "['₹17,123', '₹19,899', '₹21,720', '₹21,815', '₹19,642', '₹17,140', '₹19,836', '₹21,990', '₹28,576', '₹21,978', '₹21,953', '₹19,970', '₹28,680', '₹25,290', '₹25,628', '₹31,824', '₹21,995', '₹19,924', '₹35,988', '₹33,744', '₹37,495', '₹33,990', '₹22,689', '₹28,990']\n"
     ]
    }
   ],
   "source": [
    "product_prices = []\n",
    "start=0\n",
    "end=1\n",
    "for page in range(start,end):\n",
    "        price_elements = driver.find_elements(By.CLASS_NAME, '_30jeq3')\n",
    "for price_element in price_elements[0:24]:\n",
    "        price_text = price_element.text.split('\\n')[0]\n",
    "        product_prices.append(price_text)\n",
    "print(product_prices)\n"
   ]
  },
  {
   "cell_type": "code",
   "execution_count": 265,
   "id": "434223a4",
   "metadata": {
    "scrolled": true
   },
   "outputs": [
    {
     "name": "stdout",
     "output_type": "stream",
     "text": [
      "['https://www.flipkart.com/oneplus-nord-ce-2-lite-5g-blue-tide-128-gb/p/itm7acae55b999e6?pid=MOBGMFREBAHZQGY9&lid=LSTMOBGMFREBAHZQGY9Q4Y47L&marketplace=FLIPKART&q=Oneplus+Nord&store=tyy%2F4io&spotlightTagId=BestsellerId_tyy%2F4io&srno=s_1_1&otracker=search&otracker1=search&fm=Search&iid=e04712b0-5e7e-416f-b218-9522e53cde8b.MOBGMFREBAHZQGY9.SEARCH&ppt=sp&ppn=sp&ssid=k363r6gj3k0000001699640630874&qH=53863d4d978d5074', 'https://www.flipkart.com/oneplus-nord-ce-3-lite-5g-chromatic-gray-128-gb/p/itm2cd5a4e659035?pid=MOBGZJ42KHUZZKMN&lid=LSTMOBGZJ42KHUZZKMNLYQNYO&marketplace=FLIPKART&q=Oneplus+Nord&store=tyy%2F4io&srno=s_1_2&otracker=search&otracker1=search&fm=organic&iid=e04712b0-5e7e-416f-b218-9522e53cde8b.MOBGZJ42KHUZZKMN.SEARCH&ppt=hp&ppn=homepage&ssid=k363r6gj3k0000001699640630874&qH=53863d4d978d5074', 'https://www.flipkart.com/oneplus-nord-ce-3-lite-5g-chromatic-gray-256-gb/p/itm2cd5a4e659035?pid=MOBGZJ45PS4AQ7BA&lid=LSTMOBGZJ45PS4AQ7BAVG4WVP&marketplace=FLIPKART&q=Oneplus+Nord&store=tyy%2F4io&srno=s_1_3&otracker=search&otracker1=search&fm=organic&iid=e04712b0-5e7e-416f-b218-9522e53cde8b.MOBGZJ45PS4AQ7BA.SEARCH&ppt=hp&ppn=homepage&ssid=k363r6gj3k0000001699640630874&qH=53863d4d978d5074', 'https://www.flipkart.com/oneplus-nord-ce-3-lite-5g-pastel-lime-256-gb/p/itm2cd5a4e659035?pid=MOBGZJ3ZFQ8AKKRS&lid=LSTMOBGZJ3ZFQ8AKKRSLJAN9E&marketplace=FLIPKART&q=Oneplus+Nord&store=tyy%2F4io&srno=s_1_4&otracker=search&otracker1=search&fm=organic&iid=e04712b0-5e7e-416f-b218-9522e53cde8b.MOBGZJ3ZFQ8AKKRS.SEARCH&ppt=hp&ppn=homepage&ssid=k363r6gj3k0000001699640630874&qH=53863d4d978d5074', 'https://www.flipkart.com/oneplus-nord-ce-3-lite-5g-pastel-lime-128-gb/p/itm2cd5a4e659035?pid=MOBGZJ3WM5SGTGVZ&lid=LSTMOBGZJ3WM5SGTGVZIOJLVZ&marketplace=FLIPKART&q=Oneplus+Nord&store=tyy%2F4io&spotlightTagId=FkPickId_tyy%2F4io&srno=s_1_5&otracker=search&otracker1=search&fm=Search&iid=e04712b0-5e7e-416f-b218-9522e53cde8b.MOBGZJ3WM5SGTGVZ.SEARCH&ppt=sp&ppn=sp&ssid=k363r6gj3k0000001699640630874&qH=53863d4d978d5074', 'https://www.flipkart.com/oneplus-nord-ce-2-lite-5g-black-dusk-128-gb/p/itm537fc2aa73747?pid=MOBGHBZHB7YJT5HF&lid=LSTMOBGHBZHB7YJT5HFIPN1OQ&marketplace=FLIPKART&q=Oneplus+Nord&store=tyy%2F4io&srno=s_1_6&otracker=search&otracker1=search&fm=organic&iid=e04712b0-5e7e-416f-b218-9522e53cde8b.MOBGHBZHB7YJT5HF.SEARCH&ppt=hp&ppn=homepage&ssid=k363r6gj3k0000001699640630874&qH=53863d4d978d5074', 'https://www.flipkart.com/oneplus-nord-ce-3-lite-5g-pastel-lime-128-gb/p/itmf8721ae0b4a98?pid=MOBGTXXG782FVENF&lid=LSTMOBGTXXG782FVENFZP1WEK&marketplace=FLIPKART&q=Oneplus+Nord&store=tyy%2F4io&srno=s_1_7&otracker=search&otracker1=search&fm=organic&iid=e04712b0-5e7e-416f-b218-9522e53cde8b.MOBGTXXG782FVENF.SEARCH&ppt=hp&ppn=homepage&ssid=k363r6gj3k0000001699640630874&qH=53863d4d978d5074', 'https://www.flipkart.com/oneplus-nord-ce-3-lite-5g-chromatic-gray-256-gb/p/itm5ed24471bde9f?pid=MOBGPRQHDNEHT5WG&lid=LSTMOBGPRQHDNEHT5WGCLBUXC&marketplace=FLIPKART&q=Oneplus+Nord&store=tyy%2F4io&srno=s_1_8&otracker=search&otracker1=search&fm=organic&iid=e04712b0-5e7e-416f-b218-9522e53cde8b.MOBGPRQHDNEHT5WG.SEARCH&ppt=hp&ppn=homepage&ssid=k363r6gj3k0000001699640630874&qH=53863d4d978d5074', 'https://www.flipkart.com/oneplus-nord-ce3-5g-aqua-surge-256-gb/p/itm95b25bfcca817?pid=MOBGS45CEU4ZGYWY&lid=LSTMOBGS45CEU4ZGYWYXIZOML&marketplace=FLIPKART&q=Oneplus+Nord&store=tyy%2F4io&srno=s_1_9&otracker=search&otracker1=search&fm=organic&iid=e04712b0-5e7e-416f-b218-9522e53cde8b.MOBGS45CEU4ZGYWY.SEARCH&ppt=hp&ppn=homepage&ssid=k363r6gj3k0000001699640630874&qH=53863d4d978d5074', 'https://www.flipkart.com/oneplus-nord-ce-3-lite-5g-chromatic-gray-256-gb/p/itm1bd48f48f8797?pid=MOBGTXXGEQCJFHBB&lid=LSTMOBGTXXGEQCJFHBBRVQF7F&marketplace=FLIPKART&q=Oneplus+Nord&store=tyy%2F4io&srno=s_1_10&otracker=search&otracker1=search&fm=organic&iid=e04712b0-5e7e-416f-b218-9522e53cde8b.MOBGTXXGEQCJFHBB.SEARCH&ppt=hp&ppn=homepage&ssid=k363r6gj3k0000001699640630874&qH=53863d4d978d5074', 'https://www.flipkart.com/oneplus-nord-ce-3-lite-5g-pastel-lime-256-gb/p/itm5da8fffa73e1a?pid=MOBGTXXGSZUKT75G&lid=LSTMOBGTXXGSZUKT75GCTOVNB&marketplace=FLIPKART&q=Oneplus+Nord&store=tyy%2F4io&srno=s_1_11&otracker=search&otracker1=search&fm=organic&iid=e04712b0-5e7e-416f-b218-9522e53cde8b.MOBGTXXGSZUKT75G.SEARCH&ppt=hp&ppn=homepage&ssid=k363r6gj3k0000001699640630874&qH=53863d4d978d5074', 'https://www.flipkart.com/oneplus-nord-ce-3-lite-5g-chromatic-gray-128-gb/p/itm2499bf20749ed?pid=MOBGQR6JSKZRFKUD&lid=LSTMOBGQR6JSKZRFKUDHQOB34&marketplace=FLIPKART&q=Oneplus+Nord&store=tyy%2F4io&srno=s_1_12&otracker=search&otracker1=search&fm=organic&iid=e04712b0-5e7e-416f-b218-9522e53cde8b.MOBGQR6JSKZRFKUD.SEARCH&ppt=hp&ppn=homepage&ssid=k363r6gj3k0000001699640630874&qH=53863d4d978d5074', 'https://www.flipkart.com/oneplus-nord-ce3-5g-grey-shimmer-256-gb/p/itm95b25bfcca817?pid=MOBGS452TWGEZXMC&lid=LSTMOBGS452TWGEZXMCEVUXTY&marketplace=FLIPKART&q=Oneplus+Nord&store=tyy%2F4io&srno=s_1_13&otracker=search&otracker1=search&fm=organic&iid=e04712b0-5e7e-416f-b218-9522e53cde8b.MOBGS452TWGEZXMC.SEARCH&ppt=hp&ppn=homepage&ssid=k363r6gj3k0000001699640630874&qH=53863d4d978d5074', 'https://www.flipkart.com/oneplus-nord-ce3-5g-grey-shimmer-128-gb/p/itm95b25bfcca817?pid=MOBGS44NJJVFWSHU&lid=LSTMOBGS44NJJVFWSHUCZ3X7N&marketplace=FLIPKART&q=Oneplus+Nord&store=tyy%2F4io&srno=s_1_14&otracker=search&otracker1=search&fm=organic&iid=e04712b0-5e7e-416f-b218-9522e53cde8b.MOBGS44NJJVFWSHU.SEARCH&ppt=hp&ppn=homepage&ssid=k363r6gj3k0000001699640630874&qH=53863d4d978d5074', 'https://www.flipkart.com/oneplus-nord-ce3-5g-aqua-surge-128-gb/p/itm95b25bfcca817?pid=MOBGS44DBDZBTUWS&lid=LSTMOBGS44DBDZBTUWSDHDYFX&marketplace=FLIPKART&q=Oneplus+Nord&store=tyy%2F4io&srno=s_1_15&otracker=search&otracker1=search&fm=organic&iid=e04712b0-5e7e-416f-b218-9522e53cde8b.MOBGS44DBDZBTUWS.SEARCH&ppt=hp&ppn=homepage&ssid=k363r6gj3k0000001699640630874&qH=53863d4d978d5074', 'https://www.flipkart.com/oneplus-nord-3-5g-misty-green-128-gb/p/itm5fc87afce35dc?pid=MOBGRKA2GBGGS6QZ&lid=LSTMOBGRKA2GBGGS6QZVEY6WI&marketplace=FLIPKART&q=Oneplus+Nord&store=tyy%2F4io&srno=s_1_16&otracker=search&otracker1=search&fm=organic&iid=e04712b0-5e7e-416f-b218-9522e53cde8b.MOBGRKA2GBGGS6QZ.SEARCH&ppt=hp&ppn=homepage&ssid=k363r6gj3k0000001699640630874&qH=53863d4d978d5074', 'https://www.flipkart.com/oneplus-nord-ce-3-lite-5g-pastel-lime-256-gb/p/itm5ed24471bde9f?pid=MOBGPRHYH4K4ZBQQ&lid=LSTMOBGPRHYH4K4ZBQQVYUZL6&marketplace=FLIPKART&q=Oneplus+Nord&store=tyy%2F4io&srno=s_1_17&otracker=search&otracker1=search&fm=organic&iid=e04712b0-5e7e-416f-b218-9522e53cde8b.MOBGPRHYH4K4ZBQQ.SEARCH&ppt=hp&ppn=homepage&ssid=k363r6gj3k0000001699640630874&qH=53863d4d978d5074', 'https://www.flipkart.com/oneplus-nord-ce-3-lite-5g-chromatic-gray-128-gb/p/itm2a5927ad80bbb?pid=MOBGTXXGFS4D74GZ&lid=LSTMOBGTXXGFS4D74GZZDGNCT&marketplace=FLIPKART&q=Oneplus+Nord&store=tyy%2F4io&srno=s_1_18&otracker=search&otracker1=search&fm=organic&iid=e04712b0-5e7e-416f-b218-9522e53cde8b.MOBGTXXGFS4D74GZ.SEARCH&ppt=hp&ppn=homepage&ssid=k363r6gj3k0000001699640630874&qH=53863d4d978d5074', 'https://www.flipkart.com/oneplus-nord-3-5g-tempest-gray-128-gb/p/itm5fc87afce35dc?pid=MOBGRK2VXCKBADB5&lid=LSTMOBGRK2VXCKBADB51MRO0K&marketplace=FLIPKART&q=Oneplus+Nord&store=tyy%2F4io&srno=s_1_19&otracker=search&otracker1=search&fm=organic&iid=e04712b0-5e7e-416f-b218-9522e53cde8b.MOBGRK2VXCKBADB5.SEARCH&ppt=hp&ppn=homepage&ssid=k363r6gj3k0000001699640630874&qH=53863d4d978d5074', 'https://www.flipkart.com/oneplus-nord-3-5g-misty-green-256-gb/p/itm5fc87afce35dc?pid=MOBGRK3284RMGYSX&lid=LSTMOBGRK3284RMGYSXOATRXW&marketplace=FLIPKART&q=Oneplus+Nord&store=tyy%2F4io&srno=s_1_20&otracker=search&otracker1=search&fm=organic&iid=e04712b0-5e7e-416f-b218-9522e53cde8b.MOBGRK3284RMGYSX.SEARCH&ppt=hp&ppn=homepage&ssid=k363r6gj3k0000001699640630874&qH=53863d4d978d5074', 'https://www.flipkart.com/oneplus-nord-3-5g-tempest-gray-256-gb/p/itm5fc87afce35dc?pid=MOBGRK35QGGTMTZ3&lid=LSTMOBGRK35QGGTMTZ3KFYJJA&marketplace=FLIPKART&q=Oneplus+Nord&store=tyy%2F4io&srno=s_1_21&otracker=search&otracker1=search&fm=organic&iid=e04712b0-5e7e-416f-b218-9522e53cde8b.MOBGRK35QGGTMTZ3.SEARCH&ppt=hp&ppn=homepage&ssid=k363r6gj3k0000001699640630874&qH=53863d4d978d5074', 'https://www.flipkart.com/oneplus-nord-2t-5g-jade-fog-256-gb/p/itm97eda8b1a1566?pid=MOBGHBZHF4YCMGZY&lid=LSTMOBGHBZHF4YCMGZY8YJ5MN&marketplace=FLIPKART&q=Oneplus+Nord&store=tyy%2F4io&srno=s_1_22&otracker=search&otracker1=search&fm=organic&iid=e04712b0-5e7e-416f-b218-9522e53cde8b.MOBGHBZHF4YCMGZY.SEARCH&ppt=hp&ppn=homepage&ssid=k363r6gj3k0000001699640630874&qH=53863d4d978d5074', 'https://www.flipkart.com/oneplus-nord-gray-onyx-64-gb/p/itm49f817b591982?pid=MOBFUE5H57THFNVJ&lid=LSTMOBFUE5H57THFNVJ8QEWXD&marketplace=FLIPKART&q=Oneplus+Nord&store=tyy%2F4io&srno=s_1_23&otracker=search&otracker1=search&fm=organic&iid=e04712b0-5e7e-416f-b218-9522e53cde8b.MOBFUE5H57THFNVJ.SEARCH&ppt=hp&ppn=homepage&ssid=k363r6gj3k0000001699640630874&qH=53863d4d978d5074', 'https://www.flipkart.com/oneplus-nord-2t-5g-jade-fog-128-gb/p/itm31ac32e308282?pid=MOBGHBZHFAUYKH3U&lid=LSTMOBGHBZHFAUYKH3U7R4B3A&marketplace=FLIPKART&q=Oneplus+Nord&store=tyy%2F4io&srno=s_1_24&otracker=search&otracker1=search&fm=organic&iid=e04712b0-5e7e-416f-b218-9522e53cde8b.MOBGHBZHFAUYKH3U.SEARCH&ppt=hp&ppn=homepage&ssid=k363r6gj3k0000001699640630874&qH=53863d4d978d5074']\n"
     ]
    }
   ],
   "source": [
    "product_url = []\n",
    "start=0\n",
    "end=1\n",
    "for page in range(start,end):\n",
    "        url_elements = driver.find_elements(By.XPATH, '//a[@class=\"_1fQZEK\"]') \n",
    "for i in url_elements[0:24]:\n",
    "        url=(i.get_attribute('href'))\n",
    "        product_url.append(url)\n",
    "print(product_url)\n"
   ]
  },
  {
   "cell_type": "code",
   "execution_count": 266,
   "id": "f72aa5ed",
   "metadata": {},
   "outputs": [
    {
     "name": "stdout",
     "output_type": "stream",
     "text": [
      "24\n"
     ]
    }
   ],
   "source": [
    "print(len(product_url))"
   ]
  },
  {
   "cell_type": "code",
   "execution_count": 292,
   "id": "446fa7d0",
   "metadata": {},
   "outputs": [],
   "source": [
    "product_name_series = pd.Series(product_name, name=\"Product Name\")\n",
    "product_url_series = pd.Series(product_url, name=\"Product URL\")\n",
    "product_prices_series = pd.Series(product_prices, name=\"Product Price\")\n",
    "product_data_df = pd.DataFrame(Product_Data)\n",
    "\n",
    "merged_df = pd.concat([product_name_series, product_data_df, product_prices_series, product_url_series], axis=1)\n"
   ]
  },
  {
   "cell_type": "code",
   "execution_count": 293,
   "id": "40538877",
   "metadata": {},
   "outputs": [
    {
     "data": {
      "text/html": [
       "<div>\n",
       "<style scoped>\n",
       "    .dataframe tbody tr th:only-of-type {\n",
       "        vertical-align: middle;\n",
       "    }\n",
       "\n",
       "    .dataframe tbody tr th {\n",
       "        vertical-align: top;\n",
       "    }\n",
       "\n",
       "    .dataframe thead th {\n",
       "        text-align: right;\n",
       "    }\n",
       "</style>\n",
       "<table border=\"1\" class=\"dataframe\">\n",
       "  <thead>\n",
       "    <tr style=\"text-align: right;\">\n",
       "      <th></th>\n",
       "      <th>Product Name</th>\n",
       "      <th>RAM</th>\n",
       "      <th>Display</th>\n",
       "      <th>Camera</th>\n",
       "      <th>Battery</th>\n",
       "      <th>Warranty</th>\n",
       "      <th>Product Price</th>\n",
       "      <th>Product URL</th>\n",
       "    </tr>\n",
       "  </thead>\n",
       "  <tbody>\n",
       "    <tr>\n",
       "      <th>0</th>\n",
       "      <td>OnePlus Nord CE 2 Lite 5G (Blue Tide, 128 GB)</td>\n",
       "      <td>6 GB RAM | 128 GB ROM</td>\n",
       "      <td>16.74 cm (6.59 inch) Display</td>\n",
       "      <td>64MP Rear Camera | 16MP Front Camera</td>\n",
       "      <td>5000 mAh Battery</td>\n",
       "      <td>12 Months</td>\n",
       "      <td>₹17,123</td>\n",
       "      <td>https://www.flipkart.com/oneplus-nord-ce-2-lit...</td>\n",
       "    </tr>\n",
       "    <tr>\n",
       "      <th>1</th>\n",
       "      <td>OnePlus Nord CE 3 Lite 5G (Chromatic Gray, 256...</td>\n",
       "      <td>8 GB RAM | 128 GB ROM</td>\n",
       "      <td>17.07 cm (6.72 inch) Display</td>\n",
       "      <td>108MP Rear Camera</td>\n",
       "      <td>5000 mAh Battery</td>\n",
       "      <td>Domestic Warranty of 12 months on phone &amp; 6 mo...</td>\n",
       "      <td>₹19,899</td>\n",
       "      <td>https://www.flipkart.com/oneplus-nord-ce-3-lit...</td>\n",
       "    </tr>\n",
       "    <tr>\n",
       "      <th>2</th>\n",
       "      <td>OnePlus Nord CE 3 Lite 5G (Pastel Lime, 256 GB)</td>\n",
       "      <td>8 GB RAM | 256 GB ROM</td>\n",
       "      <td>17.07 cm (6.72 inch) Display</td>\n",
       "      <td>108MP Rear Camera</td>\n",
       "      <td>5000 mAh Battery</td>\n",
       "      <td>Domestic Warranty of 12 months on phone &amp; 6 mo...</td>\n",
       "      <td>₹21,720</td>\n",
       "      <td>https://www.flipkart.com/oneplus-nord-ce-3-lit...</td>\n",
       "    </tr>\n",
       "    <tr>\n",
       "      <th>3</th>\n",
       "      <td>OnePlus Nord CE 3 Lite 5G (Pastel Lime, 128 GB)</td>\n",
       "      <td>8 GB RAM | 256 GB ROM</td>\n",
       "      <td>17.07 cm (6.72 inch) Display</td>\n",
       "      <td>108MP Rear Camera</td>\n",
       "      <td>5000 mAh Battery</td>\n",
       "      <td>Domestic Warranty of 12 months on phone &amp; 6 mo...</td>\n",
       "      <td>₹21,815</td>\n",
       "      <td>https://www.flipkart.com/oneplus-nord-ce-3-lit...</td>\n",
       "    </tr>\n",
       "    <tr>\n",
       "      <th>4</th>\n",
       "      <td>OnePlus Nord CE 3 Lite 5G (Chromatic Gray, 128...</td>\n",
       "      <td>8 GB RAM | 128 GB ROM</td>\n",
       "      <td>17.07 cm (6.72 inch) Display</td>\n",
       "      <td>108MP Rear Camera</td>\n",
       "      <td>5000 mAh Battery</td>\n",
       "      <td>Domestic Warranty of 12 months on phone &amp; 6 mo...</td>\n",
       "      <td>₹19,642</td>\n",
       "      <td>https://www.flipkart.com/oneplus-nord-ce-3-lit...</td>\n",
       "    </tr>\n",
       "    <tr>\n",
       "      <th>5</th>\n",
       "      <td>OnePlus Nord CE 2 Lite 5G (Black Dusk, 128 GB)</td>\n",
       "      <td>6 GB RAM | 128 GB ROM</td>\n",
       "      <td>16.74 cm (6.59 inch) Display</td>\n",
       "      <td>64MP Rear Camera | 16MP Front Camera</td>\n",
       "      <td>5000 mAh Battery</td>\n",
       "      <td>12 months</td>\n",
       "      <td>₹17,140</td>\n",
       "      <td>https://www.flipkart.com/oneplus-nord-ce-2-lit...</td>\n",
       "    </tr>\n",
       "    <tr>\n",
       "      <th>6</th>\n",
       "      <td>OnePlus Nord CE 3 Lite 5G (Chromatic Gray, 128...</td>\n",
       "      <td>8 GB RAM | 128 GB ROM</td>\n",
       "      <td>17.07 cm (6.72 inch) Display</td>\n",
       "      <td>108MP Rear Camera</td>\n",
       "      <td>5000 mAh Battery</td>\n",
       "      <td>Domestic Warranty of 12 months on phone &amp; 6 mo...</td>\n",
       "      <td>₹19,836</td>\n",
       "      <td>https://www.flipkart.com/oneplus-nord-ce-3-lit...</td>\n",
       "    </tr>\n",
       "    <tr>\n",
       "      <th>7</th>\n",
       "      <td>OnePlus Nord CE 3 Lite 5G (Pastel Lime, 128 GB)</td>\n",
       "      <td>8 GB RAM | 256 GB ROM</td>\n",
       "      <td>17.07 cm (6.72 inch) Display</td>\n",
       "      <td>108MP Rear Camera</td>\n",
       "      <td>5000 mAh Battery</td>\n",
       "      <td>1 Year for handset ,6 months fro accessories</td>\n",
       "      <td>₹21,990</td>\n",
       "      <td>https://www.flipkart.com/oneplus-nord-ce-3-lit...</td>\n",
       "    </tr>\n",
       "    <tr>\n",
       "      <th>8</th>\n",
       "      <td>OnePlus Nord CE3 5G (Aqua Surge, 128 GB)</td>\n",
       "      <td>12 GB RAM | 256 GB ROM</td>\n",
       "      <td>17.02 cm (6.7 inch) Display</td>\n",
       "      <td>50MP Rear Camera</td>\n",
       "      <td>5000 mAh Battery</td>\n",
       "      <td>Domestic 1 Year of Device &amp; 6 Months for In-Bo...</td>\n",
       "      <td>₹28,576</td>\n",
       "      <td>https://www.flipkart.com/oneplus-nord-ce3-5g-a...</td>\n",
       "    </tr>\n",
       "    <tr>\n",
       "      <th>9</th>\n",
       "      <td>OnePlus Nord CE3 5G (Grey Shimmer, 256 GB)</td>\n",
       "      <td>8 GB RAM | 256 GB ROM</td>\n",
       "      <td>17.07 cm (6.72 inch) Display</td>\n",
       "      <td>108MP Rear Camera</td>\n",
       "      <td>5000 mAh Battery</td>\n",
       "      <td>Domestic Warranty of 12 months on phone &amp; 6 mo...</td>\n",
       "      <td>₹21,978</td>\n",
       "      <td>https://www.flipkart.com/oneplus-nord-ce-3-lit...</td>\n",
       "    </tr>\n",
       "    <tr>\n",
       "      <th>10</th>\n",
       "      <td>OnePlus Nord CE3 5G (Aqua Surge, 256 GB)</td>\n",
       "      <td>8 GB RAM | 256 GB ROM</td>\n",
       "      <td>17.07 cm (6.72 inch) Display</td>\n",
       "      <td>108MP Rear Camera</td>\n",
       "      <td>5000 mAh Battery</td>\n",
       "      <td>Domestic Warranty of 12 months on phone &amp; 6 mo...</td>\n",
       "      <td>₹21,953</td>\n",
       "      <td>https://www.flipkart.com/oneplus-nord-ce-3-lit...</td>\n",
       "    </tr>\n",
       "    <tr>\n",
       "      <th>11</th>\n",
       "      <td>OnePlus Nord CE3 5G (Grey Shimmer, 128 GB)</td>\n",
       "      <td>8 GB RAM | 128 GB ROM</td>\n",
       "      <td>17.07 cm (6.72 inch) Display</td>\n",
       "      <td>108MP Rear Camera</td>\n",
       "      <td>5000 mAh Battery</td>\n",
       "      <td>Domestic Warranty of 12 months on phone &amp; 6 mo...</td>\n",
       "      <td>₹19,970</td>\n",
       "      <td>https://www.flipkart.com/oneplus-nord-ce-3-lit...</td>\n",
       "    </tr>\n",
       "    <tr>\n",
       "      <th>12</th>\n",
       "      <td>OnePlus Nord CE 3 Lite 5G (Chromatic Gray, 256...</td>\n",
       "      <td>12 GB RAM | 256 GB ROM</td>\n",
       "      <td>17.02 cm (6.7 inch) Display</td>\n",
       "      <td>50MP Rear Camera</td>\n",
       "      <td>5000 mAh Battery</td>\n",
       "      <td>Domestic 1 Year of Device &amp; 6 Months for In-Bo...</td>\n",
       "      <td>₹28,680</td>\n",
       "      <td>https://www.flipkart.com/oneplus-nord-ce3-5g-g...</td>\n",
       "    </tr>\n",
       "    <tr>\n",
       "      <th>13</th>\n",
       "      <td>OnePlus Nord CE 3 Lite 5G (Pastel Lime, 256 GB)</td>\n",
       "      <td>8 GB RAM | 128 GB ROM</td>\n",
       "      <td>17.02 cm (6.7 inch) Display</td>\n",
       "      <td>50MP Rear Camera</td>\n",
       "      <td>5000 mAh Battery</td>\n",
       "      <td>Domestic 1 Year of Device &amp; 6 Months for In-Bo...</td>\n",
       "      <td>₹25,290</td>\n",
       "      <td>https://www.flipkart.com/oneplus-nord-ce3-5g-g...</td>\n",
       "    </tr>\n",
       "    <tr>\n",
       "      <th>14</th>\n",
       "      <td>OnePlus Nord 3 5G (Tempest Gray, 128 GB)</td>\n",
       "      <td>8 GB RAM | 128 GB ROM</td>\n",
       "      <td>17.02 cm (6.7 inch) Display</td>\n",
       "      <td>50MP Rear Camera</td>\n",
       "      <td>5000 mAh Battery</td>\n",
       "      <td>Domestic 1 Year of Device &amp; 6 Months for In-Bo...</td>\n",
       "      <td>₹25,628</td>\n",
       "      <td>https://www.flipkart.com/oneplus-nord-ce3-5g-a...</td>\n",
       "    </tr>\n",
       "    <tr>\n",
       "      <th>15</th>\n",
       "      <td>OnePlus Nord 3 5G (Misty Green, 128 GB)</td>\n",
       "      <td>8 GB RAM | 128 GB ROM</td>\n",
       "      <td>17.12 cm (6.74 inch) Display</td>\n",
       "      <td>50MP Rear Camera</td>\n",
       "      <td>5000 mAh Battery</td>\n",
       "      <td>Domestic 1 Year of Device &amp; 6 Months for In-Bo...</td>\n",
       "      <td>₹31,824</td>\n",
       "      <td>https://www.flipkart.com/oneplus-nord-3-5g-mis...</td>\n",
       "    </tr>\n",
       "    <tr>\n",
       "      <th>16</th>\n",
       "      <td>OnePlus Nord 3 5G (Tempest Gray, 256 GB)</td>\n",
       "      <td>8 GB RAM | 256 GB ROM</td>\n",
       "      <td>17.07 cm (6.72 inch) Display</td>\n",
       "      <td>108MP Rear Camera</td>\n",
       "      <td>5000 mAh Battery</td>\n",
       "      <td>1 Year for handset ,6 months fro accessories</td>\n",
       "      <td>₹21,995</td>\n",
       "      <td>https://www.flipkart.com/oneplus-nord-ce-3-lit...</td>\n",
       "    </tr>\n",
       "    <tr>\n",
       "      <th>17</th>\n",
       "      <td>OnePlus Nord 3 5G (Misty Green, 256 GB)</td>\n",
       "      <td>8 GB RAM | 128 GB ROM</td>\n",
       "      <td>17.07 cm (6.72 inch) Display</td>\n",
       "      <td>108MP Rear Camera</td>\n",
       "      <td>5000 mAh Battery</td>\n",
       "      <td>Domestic Warranty of 12 months on phone &amp; 6 mo...</td>\n",
       "      <td>₹19,924</td>\n",
       "      <td>https://www.flipkart.com/oneplus-nord-ce-3-lit...</td>\n",
       "    </tr>\n",
       "    <tr>\n",
       "      <th>18</th>\n",
       "      <td>OnePlus Nord CE 3 Lite 5G (Chromatic Gray, 256...</td>\n",
       "      <td>16 GB RAM | 256 GB ROM</td>\n",
       "      <td>17.12 cm (6.74 inch) Display</td>\n",
       "      <td>50MP Rear Camera</td>\n",
       "      <td>5000 mAh Battery</td>\n",
       "      <td>Domestic 1 Year of Device &amp; 6 Months for In-Bo...</td>\n",
       "      <td>₹35,988</td>\n",
       "      <td>https://www.flipkart.com/oneplus-nord-3-5g-tem...</td>\n",
       "    </tr>\n",
       "    <tr>\n",
       "      <th>19</th>\n",
       "      <td>OnePlus Nord CE 3 Lite 5G (Pastel lime, 256 GB)</td>\n",
       "      <td>8 GB RAM | 128 GB ROM</td>\n",
       "      <td>17.12 cm (6.74 inch) Display</td>\n",
       "      <td>50MP Rear Camera</td>\n",
       "      <td>5000 mAh Battery</td>\n",
       "      <td>Domestic 1 Year of Device &amp; 6 Months for In-Bo...</td>\n",
       "      <td>₹33,744</td>\n",
       "      <td>https://www.flipkart.com/oneplus-nord-3-5g-mis...</td>\n",
       "    </tr>\n",
       "    <tr>\n",
       "      <th>20</th>\n",
       "      <td>OnePlus Nord CE 3 Lite 5G (Chromatic Gray, 128...</td>\n",
       "      <td>16 GB RAM | 256 GB ROM</td>\n",
       "      <td>17.12 cm (6.74 inch) Display</td>\n",
       "      <td>50MP Rear Camera</td>\n",
       "      <td>5000 mAh Battery</td>\n",
       "      <td>Domestic 1 Year of Device &amp; 6 Months for In-Bo...</td>\n",
       "      <td>₹37,495</td>\n",
       "      <td>https://www.flipkart.com/oneplus-nord-3-5g-tem...</td>\n",
       "    </tr>\n",
       "    <tr>\n",
       "      <th>21</th>\n",
       "      <td>OnePlus Nord 2T 5G (Gray Shadow, 256 GB)</td>\n",
       "      <td>12 GB RAM | 256 GB ROM</td>\n",
       "      <td>17.02 cm (6.7 inch) Display</td>\n",
       "      <td>50MP Rear Camera</td>\n",
       "      <td>4500 mAh Battery</td>\n",
       "      <td>12 months Warranty</td>\n",
       "      <td>₹33,990</td>\n",
       "      <td>https://www.flipkart.com/oneplus-nord-2t-5g-ja...</td>\n",
       "    </tr>\n",
       "    <tr>\n",
       "      <th>22</th>\n",
       "      <td>OnePlus Nord 2 5G (Blue Haze, 128 GB)</td>\n",
       "      <td>6 GB RAM | 64 GB ROM</td>\n",
       "      <td>16.36 cm (6.44 inch) Full HD+ Display</td>\n",
       "      <td>48MP + 8MP | 32MP + 8MP Dual Front Camera</td>\n",
       "      <td>4115 mAh Battery</td>\n",
       "      <td>Qualcomm® Snapdragon™ 765G Processor</td>\n",
       "      <td>₹22,689</td>\n",
       "      <td>https://www.flipkart.com/oneplus-nord-gray-ony...</td>\n",
       "    </tr>\n",
       "    <tr>\n",
       "      <th>23</th>\n",
       "      <td>OnePlus Nord (Gray Ash, 256 GB)</td>\n",
       "      <td>8 GB RAM | 128 GB ROM</td>\n",
       "      <td>17.02 cm (6.7 inch) Display</td>\n",
       "      <td>50MP Rear Camera | 32MP Front Camera</td>\n",
       "      <td>4500 mAh Battery</td>\n",
       "      <td>12 Month</td>\n",
       "      <td>₹28,990</td>\n",
       "      <td>https://www.flipkart.com/oneplus-nord-2t-5g-ja...</td>\n",
       "    </tr>\n",
       "  </tbody>\n",
       "</table>\n",
       "</div>"
      ],
      "text/plain": [
       "                                         Product Name                     RAM  \\\n",
       "0       OnePlus Nord CE 2 Lite 5G (Blue Tide, 128 GB)   6 GB RAM | 128 GB ROM   \n",
       "1   OnePlus Nord CE 3 Lite 5G (Chromatic Gray, 256...   8 GB RAM | 128 GB ROM   \n",
       "2     OnePlus Nord CE 3 Lite 5G (Pastel Lime, 256 GB)   8 GB RAM | 256 GB ROM   \n",
       "3     OnePlus Nord CE 3 Lite 5G (Pastel Lime, 128 GB)   8 GB RAM | 256 GB ROM   \n",
       "4   OnePlus Nord CE 3 Lite 5G (Chromatic Gray, 128...   8 GB RAM | 128 GB ROM   \n",
       "5      OnePlus Nord CE 2 Lite 5G (Black Dusk, 128 GB)   6 GB RAM | 128 GB ROM   \n",
       "6   OnePlus Nord CE 3 Lite 5G (Chromatic Gray, 128...   8 GB RAM | 128 GB ROM   \n",
       "7     OnePlus Nord CE 3 Lite 5G (Pastel Lime, 128 GB)   8 GB RAM | 256 GB ROM   \n",
       "8            OnePlus Nord CE3 5G (Aqua Surge, 128 GB)  12 GB RAM | 256 GB ROM   \n",
       "9          OnePlus Nord CE3 5G (Grey Shimmer, 256 GB)   8 GB RAM | 256 GB ROM   \n",
       "10           OnePlus Nord CE3 5G (Aqua Surge, 256 GB)   8 GB RAM | 256 GB ROM   \n",
       "11         OnePlus Nord CE3 5G (Grey Shimmer, 128 GB)   8 GB RAM | 128 GB ROM   \n",
       "12  OnePlus Nord CE 3 Lite 5G (Chromatic Gray, 256...  12 GB RAM | 256 GB ROM   \n",
       "13    OnePlus Nord CE 3 Lite 5G (Pastel Lime, 256 GB)   8 GB RAM | 128 GB ROM   \n",
       "14           OnePlus Nord 3 5G (Tempest Gray, 128 GB)   8 GB RAM | 128 GB ROM   \n",
       "15            OnePlus Nord 3 5G (Misty Green, 128 GB)   8 GB RAM | 128 GB ROM   \n",
       "16           OnePlus Nord 3 5G (Tempest Gray, 256 GB)   8 GB RAM | 256 GB ROM   \n",
       "17            OnePlus Nord 3 5G (Misty Green, 256 GB)   8 GB RAM | 128 GB ROM   \n",
       "18  OnePlus Nord CE 3 Lite 5G (Chromatic Gray, 256...  16 GB RAM | 256 GB ROM   \n",
       "19    OnePlus Nord CE 3 Lite 5G (Pastel lime, 256 GB)   8 GB RAM | 128 GB ROM   \n",
       "20  OnePlus Nord CE 3 Lite 5G (Chromatic Gray, 128...  16 GB RAM | 256 GB ROM   \n",
       "21           OnePlus Nord 2T 5G (Gray Shadow, 256 GB)  12 GB RAM | 256 GB ROM   \n",
       "22              OnePlus Nord 2 5G (Blue Haze, 128 GB)    6 GB RAM | 64 GB ROM   \n",
       "23                    OnePlus Nord (Gray Ash, 256 GB)   8 GB RAM | 128 GB ROM   \n",
       "\n",
       "                                  Display  \\\n",
       "0            16.74 cm (6.59 inch) Display   \n",
       "1            17.07 cm (6.72 inch) Display   \n",
       "2            17.07 cm (6.72 inch) Display   \n",
       "3            17.07 cm (6.72 inch) Display   \n",
       "4            17.07 cm (6.72 inch) Display   \n",
       "5            16.74 cm (6.59 inch) Display   \n",
       "6            17.07 cm (6.72 inch) Display   \n",
       "7            17.07 cm (6.72 inch) Display   \n",
       "8             17.02 cm (6.7 inch) Display   \n",
       "9            17.07 cm (6.72 inch) Display   \n",
       "10           17.07 cm (6.72 inch) Display   \n",
       "11           17.07 cm (6.72 inch) Display   \n",
       "12            17.02 cm (6.7 inch) Display   \n",
       "13            17.02 cm (6.7 inch) Display   \n",
       "14            17.02 cm (6.7 inch) Display   \n",
       "15           17.12 cm (6.74 inch) Display   \n",
       "16           17.07 cm (6.72 inch) Display   \n",
       "17           17.07 cm (6.72 inch) Display   \n",
       "18           17.12 cm (6.74 inch) Display   \n",
       "19           17.12 cm (6.74 inch) Display   \n",
       "20           17.12 cm (6.74 inch) Display   \n",
       "21            17.02 cm (6.7 inch) Display   \n",
       "22  16.36 cm (6.44 inch) Full HD+ Display   \n",
       "23            17.02 cm (6.7 inch) Display   \n",
       "\n",
       "                                       Camera           Battery  \\\n",
       "0        64MP Rear Camera | 16MP Front Camera  5000 mAh Battery   \n",
       "1                           108MP Rear Camera  5000 mAh Battery   \n",
       "2                           108MP Rear Camera  5000 mAh Battery   \n",
       "3                           108MP Rear Camera  5000 mAh Battery   \n",
       "4                           108MP Rear Camera  5000 mAh Battery   \n",
       "5        64MP Rear Camera | 16MP Front Camera  5000 mAh Battery   \n",
       "6                           108MP Rear Camera  5000 mAh Battery   \n",
       "7                           108MP Rear Camera  5000 mAh Battery   \n",
       "8                            50MP Rear Camera  5000 mAh Battery   \n",
       "9                           108MP Rear Camera  5000 mAh Battery   \n",
       "10                          108MP Rear Camera  5000 mAh Battery   \n",
       "11                          108MP Rear Camera  5000 mAh Battery   \n",
       "12                           50MP Rear Camera  5000 mAh Battery   \n",
       "13                           50MP Rear Camera  5000 mAh Battery   \n",
       "14                           50MP Rear Camera  5000 mAh Battery   \n",
       "15                           50MP Rear Camera  5000 mAh Battery   \n",
       "16                          108MP Rear Camera  5000 mAh Battery   \n",
       "17                          108MP Rear Camera  5000 mAh Battery   \n",
       "18                           50MP Rear Camera  5000 mAh Battery   \n",
       "19                           50MP Rear Camera  5000 mAh Battery   \n",
       "20                           50MP Rear Camera  5000 mAh Battery   \n",
       "21                           50MP Rear Camera  4500 mAh Battery   \n",
       "22  48MP + 8MP | 32MP + 8MP Dual Front Camera  4115 mAh Battery   \n",
       "23       50MP Rear Camera | 32MP Front Camera  4500 mAh Battery   \n",
       "\n",
       "                                             Warranty Product Price  \\\n",
       "0                                           12 Months       ₹17,123   \n",
       "1   Domestic Warranty of 12 months on phone & 6 mo...       ₹19,899   \n",
       "2   Domestic Warranty of 12 months on phone & 6 mo...       ₹21,720   \n",
       "3   Domestic Warranty of 12 months on phone & 6 mo...       ₹21,815   \n",
       "4   Domestic Warranty of 12 months on phone & 6 mo...       ₹19,642   \n",
       "5                                           12 months       ₹17,140   \n",
       "6   Domestic Warranty of 12 months on phone & 6 mo...       ₹19,836   \n",
       "7        1 Year for handset ,6 months fro accessories       ₹21,990   \n",
       "8   Domestic 1 Year of Device & 6 Months for In-Bo...       ₹28,576   \n",
       "9   Domestic Warranty of 12 months on phone & 6 mo...       ₹21,978   \n",
       "10  Domestic Warranty of 12 months on phone & 6 mo...       ₹21,953   \n",
       "11  Domestic Warranty of 12 months on phone & 6 mo...       ₹19,970   \n",
       "12  Domestic 1 Year of Device & 6 Months for In-Bo...       ₹28,680   \n",
       "13  Domestic 1 Year of Device & 6 Months for In-Bo...       ₹25,290   \n",
       "14  Domestic 1 Year of Device & 6 Months for In-Bo...       ₹25,628   \n",
       "15  Domestic 1 Year of Device & 6 Months for In-Bo...       ₹31,824   \n",
       "16       1 Year for handset ,6 months fro accessories       ₹21,995   \n",
       "17  Domestic Warranty of 12 months on phone & 6 mo...       ₹19,924   \n",
       "18  Domestic 1 Year of Device & 6 Months for In-Bo...       ₹35,988   \n",
       "19  Domestic 1 Year of Device & 6 Months for In-Bo...       ₹33,744   \n",
       "20  Domestic 1 Year of Device & 6 Months for In-Bo...       ₹37,495   \n",
       "21                                 12 months Warranty       ₹33,990   \n",
       "22               Qualcomm® Snapdragon™ 765G Processor       ₹22,689   \n",
       "23                                           12 Month       ₹28,990   \n",
       "\n",
       "                                          Product URL  \n",
       "0   https://www.flipkart.com/oneplus-nord-ce-2-lit...  \n",
       "1   https://www.flipkart.com/oneplus-nord-ce-3-lit...  \n",
       "2   https://www.flipkart.com/oneplus-nord-ce-3-lit...  \n",
       "3   https://www.flipkart.com/oneplus-nord-ce-3-lit...  \n",
       "4   https://www.flipkart.com/oneplus-nord-ce-3-lit...  \n",
       "5   https://www.flipkart.com/oneplus-nord-ce-2-lit...  \n",
       "6   https://www.flipkart.com/oneplus-nord-ce-3-lit...  \n",
       "7   https://www.flipkart.com/oneplus-nord-ce-3-lit...  \n",
       "8   https://www.flipkart.com/oneplus-nord-ce3-5g-a...  \n",
       "9   https://www.flipkart.com/oneplus-nord-ce-3-lit...  \n",
       "10  https://www.flipkart.com/oneplus-nord-ce-3-lit...  \n",
       "11  https://www.flipkart.com/oneplus-nord-ce-3-lit...  \n",
       "12  https://www.flipkart.com/oneplus-nord-ce3-5g-g...  \n",
       "13  https://www.flipkart.com/oneplus-nord-ce3-5g-g...  \n",
       "14  https://www.flipkart.com/oneplus-nord-ce3-5g-a...  \n",
       "15  https://www.flipkart.com/oneplus-nord-3-5g-mis...  \n",
       "16  https://www.flipkart.com/oneplus-nord-ce-3-lit...  \n",
       "17  https://www.flipkart.com/oneplus-nord-ce-3-lit...  \n",
       "18  https://www.flipkart.com/oneplus-nord-3-5g-tem...  \n",
       "19  https://www.flipkart.com/oneplus-nord-3-5g-mis...  \n",
       "20  https://www.flipkart.com/oneplus-nord-3-5g-tem...  \n",
       "21  https://www.flipkart.com/oneplus-nord-2t-5g-ja...  \n",
       "22  https://www.flipkart.com/oneplus-nord-gray-ony...  \n",
       "23  https://www.flipkart.com/oneplus-nord-2t-5g-ja...  "
      ]
     },
     "execution_count": 293,
     "metadata": {},
     "output_type": "execute_result"
    }
   ],
   "source": [
    "merged_df"
   ]
  },
  {
   "cell_type": "code",
   "execution_count": 294,
   "id": "ce06a5e4",
   "metadata": {},
   "outputs": [],
   "source": [
    "merged_df.to_csv('complete_product_data.csv', index=False)"
   ]
  },
  {
   "cell_type": "code",
   "execution_count": null,
   "id": "4efce569",
   "metadata": {},
   "outputs": [],
   "source": [
    "5. Write a program to scrap geospatial coordinates (latitude, longitude) of a city searched on google maps."
   ]
  },
  {
   "cell_type": "code",
   "execution_count": 234,
   "id": "4d5982b3",
   "metadata": {},
   "outputs": [],
   "source": [
    "driver=webdriver.Chrome()\n",
    "driver.get(\"https://www.google.com/maps/\")\n",
    "time.sleep(5)\n"
   ]
  },
  {
   "cell_type": "code",
   "execution_count": 235,
   "id": "3617e25e",
   "metadata": {},
   "outputs": [],
   "source": [
    "designation1=driver.find_element(By.CLASS_NAME, \"searchboxinput\")\n",
    "designation1.send_keys('London')\n",
    "search=driver.find_element(By.CLASS_NAME, \"mL3xi\")\n",
    "search.click()\n"
   ]
  },
  {
   "cell_type": "code",
   "execution_count": 236,
   "id": "385419ed",
   "metadata": {},
   "outputs": [
    {
     "name": "stdout",
     "output_type": "stream",
     "text": [
      "URL Extracted: https://www.google.com/maps/place/London/@51.3784448,-0.1051823,14z/data=!4m6!3m5!1s0x47d8a00baf21de75:0x52963a5addd52a99!8m2!3d51.5072178!4d-0.1275862!16zL20vMDRqcGw?entry=ttu\n",
      "Latitude: 51.3784448\n",
      "Longitude: -0.1051823\n"
     ]
    }
   ],
   "source": [
    "import re\n",
    "latitude = []\n",
    "longitude = []\n",
    "try:\n",
    "    url_string = driver.current_url\n",
    "    print(\"URL Extracted:\", url_string)\n",
    "    lat_lng_match = re.search(r'/@([-.\\d]+),([-.\\d]+)', url_string)\n",
    "    \n",
    "    if lat_lng_match:\n",
    "        latitude = lat_lng_match.group(1)\n",
    "        longitude = lat_lng_match.group(2)\n",
    "        print(\"Latitude:\", latitude)\n",
    "        print(\"Longitude:\", longitude)\n",
    "    else:\n",
    "        print(\"not found\")\n",
    "except Exception as e:\n",
    "    print(\"An error occured:\", e)"
   ]
  },
  {
   "cell_type": "code",
   "execution_count": null,
   "id": "d82067a9",
   "metadata": {},
   "outputs": [],
   "source": [
    "6. Write a program to scrap all the available details of best gaming laptops from digit.in. "
   ]
  },
  {
   "cell_type": "code",
   "execution_count": 69,
   "id": "12fc2533",
   "metadata": {},
   "outputs": [],
   "source": [
    "driver=webdriver.Chrome()\n",
    "driver.get(\"https://www.digit.in\")\n",
    "time.sleep(5)"
   ]
  },
  {
   "cell_type": "code",
   "execution_count": 72,
   "id": "c63fb55f",
   "metadata": {},
   "outputs": [],
   "source": [
    "search=driver.find_element(By.CLASS_NAME, \"dl-trigger\")\n",
    "search.click()"
   ]
  },
  {
   "cell_type": "code",
   "execution_count": 73,
   "id": "e948a0f7",
   "metadata": {},
   "outputs": [],
   "source": [
    "searchs=driver.find_element(By.XPATH, '/html/body/div[4]/div/ul/li[4]')\n",
    "searchs.click()"
   ]
  },
  {
   "cell_type": "code",
   "execution_count": 74,
   "id": "6718cced",
   "metadata": {},
   "outputs": [],
   "source": [
    "search1=driver.find_element(By.XPATH, \"/html/body/div[1]/div[3]/div/div[2]/div[1]/div[3]/div[6]/p\")\n",
    "search1.click()"
   ]
  },
  {
   "cell_type": "code",
   "execution_count": 75,
   "id": "1c0e2a2e",
   "metadata": {},
   "outputs": [
    {
     "name": "stdout",
     "output_type": "stream",
     "text": [
      "6\n"
     ]
    }
   ],
   "source": [
    "product_name1 = []\n",
    "titles=driver.find_elements(By.XPATH,'//h3[contains(@class,\"font130 mt0 mb10 mobilesblockdisplay\")]')\n",
    "for i in titles:\n",
    "        product_name1.append(i.text)\n",
    "time.sleep(3)\n",
    "print(len(product_name1))"
   ]
  },
  {
   "cell_type": "code",
   "execution_count": 25,
   "id": "c4230b0f",
   "metadata": {},
   "outputs": [
    {
     "name": "stdout",
     "output_type": "stream",
     "text": [
      "Operating System: iOS\n",
      "Display Size: 13.6\n",
      "Resolution: 2560 x 1600\n",
      "Processor: Apple M2\n",
      "Operating System: Windows 11 Home\n",
      "Display Size: 14\n",
      "Resolution: 2880 x 1800\n",
      "Processor: 13th Gen Intel Core i7-1360P\n",
      "Operating System: Mac\n",
      "Display Size: 14.2\n",
      "Resolution: Windows 11\n",
      "Processor: 13.4\n",
      "Operating System: 3840 x 2400\n",
      "Display Size: 12th Gen Intel EVO Core i7-1260P\n",
      "Resolution: Windows 11 Home\n",
      "Processor: 16\n"
     ]
    }
   ],
   "source": [
    "elements = driver.find_elements(By.CLASS_NAME, 'meta_v_value')\n",
    "\n",
    "for i in range(0, len(elements), 4):\n",
    "    if i + 3 < len(elements):  \n",
    "        display_size = elements[i+1].text\n",
    "        resolution = elements[i+2].text\n",
    "        processor = elements[i+3].text\n",
    "\n",
    "        print(f\"Operating System: {os}\")\n",
    "        print(f\"Display Size: {display_size}\")\n",
    "        print(f\"Resolution: {resolution}\")\n",
    "        print(f\"Processor: {processor}\")\n",
    "    \n"
   ]
  },
  {
   "cell_type": "code",
   "execution_count": 76,
   "id": "9ce00f9c",
   "metadata": {},
   "outputs": [],
   "source": [
    "product_urls = []\n",
    "url=driver.find_elements(By.XPATH, '//h3[contains(@class, \"font130\")]//a')\n",
    "for i in url:\n",
    "    product_urls.append(i.get_attribute(\"href\"))\n",
    "       "
   ]
  },
  {
   "cell_type": "code",
   "execution_count": 77,
   "id": "96b934ad",
   "metadata": {},
   "outputs": [
    {
     "name": "stdout",
     "output_type": "stream",
     "text": [
      "6\n"
     ]
    }
   ],
   "source": [
    "print(len(product_urls))"
   ]
  },
  {
   "cell_type": "code",
   "execution_count": 84,
   "id": "f0ff4446",
   "metadata": {},
   "outputs": [
    {
     "name": "stdout",
     "output_type": "stream",
     "text": [
      "Operating System: Operating System (With\n",
      "Windows 11 Home\n",
      "processor: Processor Model Name\n",
      "11th Gen Intel Core I7-11390H\n",
      "Storage Drive: Storage Drive Capacity\n",
      "1 TB\n",
      "display: Display Size (In Inches)\n",
      "16\n"
     ]
    }
   ],
   "source": [
    "os = []                       #All the pages have different structures. \n",
    "processor=[]\n",
    "drive=[]\n",
    "display=[]\n",
    "\n",
    "for url in product_urls:\n",
    "    driver.get(url)\n",
    "    time.sleep(3)\n",
    "    \n",
    "elements = driver.find_elements(By.CLASS_NAME, 'value')\n",
    "\n",
    "try:\n",
    "    for i in range(0, len(elements), 4):\n",
    "        if i + 3 < len(elements): \n",
    "            os=elements[i].text\n",
    "            processor = elements[i+1].text\n",
    "            drive = elements[i+2].text\n",
    "            display = elements[i+3].text\n",
    "\n",
    "        print(f\"Operating System: {os}\")\n",
    "        print(f\"processor: {processor}\")\n",
    "        print(f\"Storage Drive: {drive}\")\n",
    "        print(f\"display: {display}\")\n",
    "        \n",
    "except NoSuchElementException:\n",
    "        os.append('-')\n",
    "        processor.append('-')\n",
    "        drive.append('-')\n",
    "        display.append('-')"
   ]
  },
  {
   "cell_type": "code",
   "execution_count": null,
   "id": "cdd9113c",
   "metadata": {},
   "outputs": [],
   "source": [
    "7. Write a python program to scrape the details for all billionaires from www.forbes.com. Details to be scrapped:\n",
    "“Rank”, “Name”, “Net worth”, “Age”, “Citizenship”, “Source”, “Industry”. "
   ]
  },
  {
   "cell_type": "code",
   "execution_count": 275,
   "id": "a6319fb4",
   "metadata": {},
   "outputs": [],
   "source": [
    "from bs4 import BeautifulSoup\n",
    "from selenium import webdriver\n",
    "\n",
    "driver = webdriver.Chrome()\n",
    "driver.get('https://www.forbes.com/billionaires/')"
   ]
  },
  {
   "cell_type": "code",
   "execution_count": 277,
   "id": "25821551",
   "metadata": {},
   "outputs": [],
   "source": [
    "Rank=[]\n",
    "Name=[]\n",
    "Net_worth=[]\n",
    "Age=[]\n",
    "Country=[]\n",
    "Source=[]\n",
    "Industry=[]\n",
    "\n",
    "Details=[i.text.split('\\n') for i in driver.find_elements(By.XPATH,\"//div[@class='TableRow_row__L-0Km']\")]\n",
    "\n",
    "for i in Details:\n",
    "    Rank.append(i[0])\n",
    "    Name.append(i[1])\n",
    "    Net_worth.append(i[2])\n",
    "    Age.append(i[3])\n",
    "    Country.append(i[4])\n",
    "    Source.append(i[5])\n",
    "    Industry.append(i[6])\n"
   ]
  },
  {
   "cell_type": "code",
   "execution_count": 278,
   "id": "4e345046",
   "metadata": {},
   "outputs": [
    {
     "name": "stdout",
     "output_type": "stream",
     "text": [
      "[['2', 'Elon Musk', '$180 B', '51', 'United States', 'Tesla, SpaceX', 'Automotive'], ['3', 'Jeff Bezos', '$114 B', '59', 'United States', 'Amazon', 'Technology'], ['4', 'Larry Ellison', '$107 B', '78', 'United States', 'Oracle', 'Technology'], ['5', 'Warren Buffett', '$106 B', '92', 'United States', 'Berkshire Hathaway', 'Finance & Investments'], ['6', 'Bill Gates', '$104 B', '67', 'United States', 'Microsoft', 'Technology'], ['7', 'Michael Bloomberg', '$94.5 B', '81', 'United States', 'Bloomberg LP', 'Media & Entertainment'], ['8', 'Carlos Slim Helu & family', '$93 B', '83', 'Mexico', 'Telecom', 'Telecom'], ['9', 'Mukesh Ambani', '$83.4 B', '65', 'India', 'Diversified', 'Diversified'], ['10', 'Steve Ballmer', '$80.7 B', '67', 'United States', 'Microsoft', 'Technology'], ['11', 'Francoise Bettencourt Meyers & family', '$80.5 B', '69', 'France', \"L'Oréal\", 'Fashion & Retail'], ['12', 'Larry Page', '$79.2 B', '50', 'United States', 'Google', 'Technology'], ['13', 'Amancio Ortega', '$77.3 B', '87', 'Spain', 'Zara', 'Fashion & Retail'], ['14', 'Sergey Brin', '$76 B', '49', 'United States', 'Google', 'Technology'], ['15', 'Zhong Shanshan', '$68 B', '68', 'China', 'Beverages, pharmaceuticals', 'Food & Beverage'], ['16', 'Mark Zuckerberg', '$64.4 B', '38', 'United States', 'Facebook', 'Technology'], ['17', 'Charles Koch & family', '$59 B', '87', 'United States', 'Koch Industries', 'Diversified'], ['17', 'Julia Koch & family', '$59 B', '60', 'United States', 'Koch Industries', 'Diversified'], ['19', 'Jim Walton', '$58.8 B', '74', 'United States', 'Walmart', 'Fashion & Retail'], ['20', 'Rob Walton & family', '$57.6 B', '78', 'United States', 'Walmart', 'Fashion & Retail'], ['21', 'Alice Walton', '$56.7 B', '73', 'United States', 'Walmart', 'Fashion & Retail'], ['22', 'David Thomson & family', '$54.4 B', '65', 'Canada', 'Media', 'Media & Entertainment'], ['23', 'Michael Dell', '$50.1 B', '58', 'United States', 'Dell Technologies', 'Technology'], ['24', 'Gautam Adani', '$47.2 B', '60', 'India', 'Infrastructure, commodities', 'Diversified'], ['25', 'Phil Knight & family', '$45.1 B', '85', 'United States', 'Nike', 'Fashion & Retail'], ['26', 'Zhang Yiming', '$45 B', '39', 'China', 'TikTok', 'Technology'], ['27', 'Dieter Schwarz', '$42.9 B', '83', 'Germany', 'Retail', 'Fashion & Retail'], ['28', 'François Pinault & family', '$40.1 B', '86', 'France', 'Luxury goods', 'Fashion & Retail'], ['29', 'Klaus-Michael Kuehne', '$39.1 B', '85', 'Germany', 'Shipping', 'Logistics'], ['30', 'Giovanni Ferrero', '$38.9 B', '58', 'Italy', 'Nutella, chocolates', 'Food & Beverage'], ['31', 'Jacqueline Mars', '$38.3 B', '83', 'United States', 'Candy, pet food', 'Food & Beverage'], ['31', 'John Mars', '$38.3 B', '87', 'United States', 'Candy, pet food', 'Food & Beverage'], ['33', 'Li Ka-shing', '$38 B', '94', 'Hong Kong', 'Diversified', 'Diversified'], ['34', 'Ma Huateng', '$35.3 B', '51', 'China', 'Internet media', 'Technology'], ['35', 'Miriam Adelson & family', '$35 B', '77', 'United States', 'Casinos', 'Gambling & Casinos'], ['35', 'Ken Griffin', '$35 B', '54', 'United States', 'Hedge funds', 'Finance & Investments'], ['37', 'Mark Mateschitz', '$34.7 B', '30', 'Austria', 'Red Bull', 'Food & Beverage'], ['38', 'Robin Zeng', '$33.4 B', '54', 'Hong Kong', 'Batteries', 'Automotive'], ['39', 'Tadashi Yanai & family', '$32.6 B', '74', 'Japan', 'Fashion retail', 'Fashion & Retail'], ['40', 'Len Blavatnik', '$32.1 B', '65', 'United States', 'Music, chemicals', 'Diversified'], ['41', 'Alain Wertheimer', '$31.6 B', '74', 'France', 'Chanel', 'Fashion & Retail'], ['41', 'Gerard Wertheimer', '$31.6 B', '72', 'France', 'Chanel', 'Fashion & Retail'], ['43', 'Gianluigi Aponte', '$31.2 B', '82', 'Switzerland', 'Shipping', 'Logistics'], ['43', 'Rafaela Aponte-Diamant', '$31.2 B', '78', 'Switzerland', 'Shipping', 'Logistics'], ['45', 'Colin Huang', '$30.2 B', '43', 'China', 'E-commerce', 'Technology'], ['46', 'Reinhold Wuerth & family', '$29.7 B', '87', 'Germany', 'Fasteners', 'Manufacturing'], ['47', 'Lee Shau Kee', '$29.5 B', '95', 'Hong Kong', 'Real estate', 'Real Estate'], ['48', 'Jeff Yass', '$28.5 B', '64', 'United States', 'Trading, investments', 'Finance & Investments'], ['49', 'Jim Simons', '$28.1 B', '84', 'United States', 'Hedge funds', 'Finance & Investments'], ['50', 'Stephen Schwarzman', '$27.8 B', '76', 'United States', 'Investments', 'Finance & Investments'], ['51', 'Susanne Klatten', '$27.4 B', '60', 'Germany', 'BMW, pharmaceuticals', 'Automotive'], ['52', 'Gina Rinehart', '$27 B', '69', 'Australia', 'Mining', 'Metals & Mining'], ['53', 'William Ding', '$26.7 B', '51', 'China', 'Online games', 'Technology'], ['54', 'Germán Larrea Mota Velasco & family', '$26.6 B', '69', 'Mexico', 'Mining', 'Metals & Mining'], ['55', 'Shiv Nadar', '$25.6 B', '77', 'India', 'software services', 'Technology'], ['56', 'Low Tuck Kwong', '$25.5 B', '74', 'Indonesia', 'Coal', 'Energy'], ['57', 'Thomas Peterffy', '$25.3 B', '78', 'United States', 'Discount brokerage', 'Finance & Investments'], ['58', 'Andrey Melnichenko & family', '$25.2 B', '51', 'Russia', 'Fertilizers, coal', 'Metals & Mining'], ['59', 'Stefan Quandt', '$24.6 B', '56', 'Germany', 'BMW', 'Automotive'], ['60', 'MacKenzie Scott', '$24.4 B', '52', 'United States', 'Amazon', 'Technology'], ['61', 'R. Budi Hartono', '$24.2 B', '82', 'Indonesia', 'Banking, tobacco', 'Finance & Investments'], ['62', 'Vladimir Potanin', '$23.7 B', '62', 'Russia', 'Metals', 'Metals & Mining'], ['63', 'Jack Ma', '$23.5 B', '58', 'China', 'E-commerce', 'Technology'], ['64', 'He Xiangjian & family', '$23.4 B', '80', 'China', 'Home appliances', 'Manufacturing'], ['65', 'Iris Fontbona & family', '$23.1 B', '80', 'Chile', 'Mining', 'Metals & Mining'], ['65', 'Michael Hartono', '$23.1 B', '83', 'Indonesia', 'Banking, tobacco', 'Manufacturing'], ['67', 'James Ratcliffe', '$22.9 B', '70', 'United Kingdom', 'Chemicals', 'Manufacturing'], ['68', 'Cyrus Poonawalla', '$22.6 B', '81', 'India', 'Vaccines', 'Healthcare'], ['69', 'Masayoshi Son', '$22.4 B', '65', 'Japan', 'Internet, telecom', 'Telecom'], ['70', 'Vladimir Lisin', '$22.1 B', '66', 'Russia', 'Steel, transport', 'Metals & Mining'], ['71', 'Emmanuel Besnier', '$22 B', '52', 'France', 'Cheese', 'Food & Beverage'], ['72', 'Abigail Johnson', '$21.6 B', '61', 'United States', 'Fidelity', 'Finance & Investments'], ['72', 'Leonid Mikhelson & family', '$21.6 B', '67', 'Russia', 'Gas, chemicals', 'Energy'], ['74', 'Lukas Walton', '$21.2 B', '36', 'United States', 'Walmart', 'Fashion & Retail'], ['74', 'Wang Wei', '$21.2 B', '52', 'China', 'Package delivery', 'Service'], ['76', 'Jensen Huang', '$21.1 B', '60', 'United States', 'Semiconductors', 'Technology'], ['77', 'Leonard Lauder', '$21 B', '90', 'United States', 'Estee Lauder', 'Fashion & Retail'], ['77', 'Takemitsu Takizaki', '$21 B', '77', 'Japan', 'Sensors', 'Manufacturing'], ['79', 'Alexey Mordashov & family', '$20.9 B', '57', 'Russia', 'Steel, investments', 'Metals & Mining'], ['80', 'Vagit Alekperov', '$20.5 B', '72', 'Russia', 'Oil', 'Energy'], ['81', 'Thomas Frist, Jr. & family', '$20.2 B', '84', 'United States', 'Hospitals', 'Healthcare'], ['82', 'Andrew Forrest', '$19.6 B', '61', 'Australia', 'Mining', 'Metals & Mining'], ['83', 'Ray Dalio', '$19.1 B', '73', 'United States', 'Hedge funds', 'Finance & Investments'], ['84', 'Eric Li', '$19 B', '59', 'China', 'Automobiles', 'Automotive'], ['84', 'Wang Wenyin', '$19 B', '55', 'China', 'Mining, copper products', 'Metals & Mining'], ['86', 'Eyal Ofer', '$18.9 B', '72', 'Israel', 'Real estate, shipping', 'Diversified'], ['86', 'Qin Yinglin', '$18.9 B', '57', 'China', 'Pig breeding', 'Food & Beverage'], ['88', 'Wang Chuanfu', '$18.7 B', '57', 'China', 'Batteries, automobiles', 'Automotive'], ['89', 'Harold Hamm & family', '$18.5 B', '77', 'United States', 'Oil & gas', 'Energy'], ['89', 'David Tepper', '$18.5 B', '65', 'United States', 'Hedge funds', 'Finance & Investments'], ['89', 'Gennady Timchenko', '$18.5 B', '70', 'Russia', 'Oil, gas', 'Energy'], ['92', 'Daniel Gilbert', '$18 B', '61', 'United States', 'Quicken Loans', 'Finance & Investments'], ['93', 'Lakshmi Mittal', '$17.7 B', '72', 'India', 'Steel', 'Metals & Mining'], ['94', 'Steve Cohen', '$17.5 B', '66', 'United States', 'Hedge funds', 'Finance & Investments'], ['94', 'Carl Icahn', '$17.5 B', '87', 'United States', 'Investments', 'Finance & Investments'], ['94', 'Savitri Jindal & family', '$17.5 B', '73', 'India', 'Steel', 'Metals & Mining'], ['97', 'Donald Bren', '$17.4 B', '90', 'United States', 'Real estate', 'Real Estate'], ['97', 'John Menard, Jr.', '$17.4 B', '83', 'United States', 'Home improvement stores', 'Fashion & Retail'], ['99', 'Rupert Murdoch & family', '$17.1 B', '92', 'United States', 'Newspapers, TV network', 'Media & Entertainment'], ['100', 'Vicky Safra & family', '$16.7 B', '70', 'Brazil', 'Banking', 'Finance & Investments'], ['101', 'Theo Albrecht, Jr. & family', '$16.5 B', '72', 'Germany', \"Aldi, Trader Joe's\", 'Fashion & Retail'], ['101', 'Renata Kellnerova & family', '$16.5 B', '55', 'Czech Republic', 'Finance, telecommunications', 'Finance & Investments'], ['103', 'Li Xiting', '$16.3 B', '72', 'Singapore', 'medical devices', 'Healthcare'], ['104', 'Stefan Persson', '$16.2 B', '75', 'Sweden', 'H&M', 'Fashion & Retail'], ['104', 'Eric Schmidt', '$16.2 B', '67', 'United States', 'Google', 'Technology'], ['106', 'Michael Platt', '$16 B', '55', 'United Kingdom', 'Hedge funds', 'Finance & Investments'], ['107', 'Pang Kang', '$15.9 B', '67', 'China', 'Soy sauce', 'Food & Beverage'], ['108', 'Karl Albrecht Jr. & family', '$15.8 B', 'N/A', 'Germany', 'Supermarkets', 'Fashion & Retail'], ['108', 'Beate Heister', '$15.8 B', 'N/A', 'Germany', 'Supermarkets', 'Fashion & Retail'], ['108', 'Jorge Paulo Lemann & family', '$15.8 B', '83', 'Brazil', 'Beer', 'Food & Beverage'], ['108', 'Peter Woo', '$15.8 B', '76', 'Hong Kong', 'Real estate', 'Real Estate'], ['112', 'Dilip Shanghvi', '$15.6 B', '67', 'India', 'Pharmaceuticals', 'Healthcare'], ['113', 'Robert Pera', '$15.5 B', '45', 'United States', 'Wireless networking', 'Technology'], ['114', 'Radhakishan Damani', '$15.3 B', '68', 'India', 'Retail, investments', 'Fashion & Retail'], ['115', 'Huang Shilin', '$15.2 B', '56', 'China', 'Batteries', 'Automotive'], ['116', 'Dhanin Chearavanont', '$14.9 B', '83', 'Thailand', 'Diversified', 'Diversified'], ['116', 'David Green & family', '$14.9 B', '81', 'United States', 'Retail', 'Fashion & Retail'], ['118', 'Charoen Sirivadhanabhakdi', '$14.8 B', '78', 'Thailand', 'Alcohol, real estate', 'Food & Beverage'], ['119', 'Charlene de Carvalho-Heineken & family', '$14.7 B', '68', 'Netherlands', 'Heineken', 'Food & Beverage'], ['120', 'Xu Hang', '$14.6 B', '60', 'Hong Kong', 'Medical devices', 'Healthcare'], ['121', 'Wei Jianjun & family', '$14.5 B', '59', 'China', 'Automobiles', 'Automotive'], ['122', 'Alisher Usmanov', '$14.4 B', '69', 'Russia', 'Steel, telecom, investments', 'Metals & Mining'], ['123', 'Goh Cheng Liang', '$14.3 B', '95', 'Singapore', 'Paints', 'Manufacturing'], ['124', 'Kumar Birla', '$14.2 B', '55', 'India', 'Commodities', 'Diversified'], ['124', 'Aliko Dangote', '$14.2 B', '65', 'Nigeria', 'Cement, sugar', 'Manufacturing'], ['126', 'Kwong Siu-hing', '$14.1 B', '93', 'Hong Kong', 'Real estate', 'Real Estate'], ['127', 'Idan Ofer', '$14 B', '67', 'Israel', 'Shipping', 'Diversified'], ['128', 'Chen Bang', '$13.9 B', '57', 'China', 'Hospitals', 'Healthcare'], ['128', 'Lui Che Woo', '$13.9 B', '94', 'Hong Kong', 'Casinos/hotels', 'Gambling & Casinos'], ['130', 'John Fredriksen', '$13.7 B', '78', 'Cyprus', 'Shipping', 'Logistics'], ['130', 'Diane Hendricks', '$13.7 B', '76', 'United States', 'Building supplies', 'Construction & Engineering'], ['130', 'Jan Koum', '$13.7 B', '47', 'United States', 'WhatsApp', 'Technology'], ['133', 'Jerry Jones', '$13.3 B', '80', 'United States', 'Dallas Cowboys', 'Sports'], ['133', 'George Kaiser', '$13.3 B', '80', 'United States', 'Oil & gas, banking', 'Energy'], ['133', 'Joseph Lau', '$13.3 B', '71', 'Hong Kong', 'Real estate', 'Real Estate'], ['136', 'Lu Xiangyang', '$13.2 B', '60', 'China', 'Automobiles, batteries', 'Automotive'], ['137', 'Harry Triguboff', '$13.1 B', '90', 'Australia', 'Real estate', 'Real Estate'], ['138', 'Uday Kotak', '$12.9 B', '64', 'India', 'Banking', 'Finance & Investments'], ['138', 'Stanley Kroenke', '$12.9 B', '75', 'United States', 'Sports, real estate', 'Sports'], ['140', 'Mikhail Fridman', '$12.6 B', '58', 'Russia', 'Oil, banking, telecom', 'Energy'], ['141', 'Sarath Ratanavadi', '$12.3 B', '57', 'Thailand', 'Energy', 'Energy'], ['142', 'Dang Yanbao', '$12.2 B', '50', 'China', 'Coal', 'Metals & Mining'], ['142', 'Jiang Rensheng & family', '$12.2 B', '69', 'China', 'Vaccines', 'Healthcare'], ['144', 'Shahid Khan', '$12.1 B', '72', 'United States', 'Auto parts', 'Automotive'], ['145', 'Laurene Powell Jobs & family', '$12 B', '59', 'United States', 'Apple, Disney', 'Technology'], ['146', 'Robert Kuok', '$11.8 B', '99', 'Malaysia', 'Palm oil, shipping, property', 'Diversified'], ['147', 'Stephen Ross', '$11.6 B', '82', 'United States', 'Real estate', 'Real Estate'], ['148', 'Pavel Durov', '$11.5 B', '38', 'United Arab Emirates', 'Messaging app', 'Technology'], ['148', 'Andreas Struengmann & family', '$11.5 B', '73', 'Germany', 'Pharmaceuticals', 'Healthcare'], ['148', 'Thomas Struengmann & family', '$11.5 B', '73', 'Germany', 'Pharmaceuticals', 'Healthcare'], ['151', 'Liu Hanyuan', '$11.4 B', '59', 'China', 'Agribusiness', 'Food & Beverage'], ['151', 'Michael Rubin', '$11.4 B', '50', 'United States', 'Online retail', 'Fashion & Retail'], ['153', 'Israel Englander', '$11.3 B', '74', 'United States', 'Hedge funds', 'Finance & Investments'], ['153', 'Viatcheslav Kantor', '$11.3 B', '69', 'Russia', 'Fertilizer, real estate', 'Manufacturing'], ['153', 'Anthony Pratt', '$11.3 B', '62', 'Australia', 'Manufacturing', 'Manufacturing'], ['153', 'Mikhail Prokhorov', '$11.3 B', '57', 'Russia', 'Investments', 'Finance & Investments'], ['157', 'Giorgio Armani', '$11.1 B', '88', 'Italy', 'Luxury goods', 'Fashion & Retail'], ['157', 'Johann Rupert & family', '$11.1 B', '72', 'South Africa', 'Luxury goods', 'Fashion & Retail'], ['159', 'Gong Hongjia & family', '$11 B', '58', 'Hong Kong', 'Video surveillance', 'Finance & Investments'], ['159', 'Zhang Zhidong', '$11 B', '51', 'China', 'Internet media', 'Technology'], ['161', 'Philip Anschutz', '$10.9 B', '83', 'United States', 'Energy, sports, entertainment', 'Finance & Investments'], ['161', 'Judy Love & family', '$10.9 B', '85', 'United States', 'Gas stations', 'Fashion & Retail'], ['161', 'Ricardo Salinas Pliego & family', '$10.9 B', '67', 'Mexico', 'Retail, media', 'Fashion & Retail'], ['164', 'Donald Newhouse', '$10.7 B', '93', 'United States', 'Media', 'Media & Entertainment'], ['165', 'Robert Kraft', '$10.6 B', '81', 'United States', 'Manufacturing, New England Patriots', 'Sports'], ['165', 'Marcel Herrmann Telles', '$10.6 B', '73', 'Brazil', 'Beer', 'Food & Beverage'], ['167', 'Suleiman Kerimov & family', '$10.5 B', '57', 'Russia', 'Gold', 'Finance & Investments'], ['167', 'Sky Xu', '$10.5 B', '39', 'China', 'E-commerce', 'Fashion & Retail'], ['167', 'Changpeng Zhao', '$10.5 B', '45', 'Canada', 'Cryptocurrency exchange', 'Finance & Investments'], ['170', 'Andrew Beal', '$10.3 B', '70', 'United States', 'Banks, real estate', 'Finance & Investments'], ['171', 'Mike Cannon-Brookes', '$10.2 B', '43', 'Australia', 'Software', 'Technology'], ['171', 'Carl Cook', '$10.2 B', '60', 'United States', 'Medical devices', 'Healthcare'], ['171', 'David Duffield', '$10.2 B', '82', 'United States', 'Business software', 'Technology'], ['171', 'Jeffery Hildebrand', '$10.2 B', '64', 'United States', 'Oil', 'Energy'], ['171', 'Viktor Rashnikov', '$10.2 B', '74', 'Russia', 'Steel', 'Manufacturing'], ['171', 'Eduardo Saverin', '$10.2 B', '41', 'Brazil', 'Facebook', 'Technology'], ['171', 'Georg Schaeffler', '$10.2 B', '58', 'Germany', 'Auto parts', 'Automotive'], ['171', 'Christy Walton', '$10.2 B', '74', 'United States', 'Walmart', 'Fashion & Retail'], ['179', 'Scott Farquhar', '$10.1 B', '43', 'Australia', 'Software', 'Technology'], ['179', 'Quek Leng Chan', '$10.1 B', '81', 'Malaysia', 'Banking, property', 'Diversified'], ['179', 'Wu Yajun', '$10.1 B', '59', 'China', 'Real estate', 'Real Estate'], ['182', 'Autry Stephens', '$10 B', '85', 'United States', 'Oil', 'Energy'], ['183', 'Liu Yongxing', '$9.9 B', '74', 'China', 'Diversified', 'Service'], ['184', 'Vinod Adani', '$9.8 B', '74', 'Cyprus', 'Infrastructure, commodities', 'Diversified'], ['184', 'Nicolas Puech', '$9.8 B', '80', 'France', 'Hermes', 'Fashion & Retail'], ['184', 'Jacques Saadé, Jr.', '$9.8 B', '51', 'France', 'Shipping', 'Logistics'], ['184', 'Rodolphe Saadé', '$9.8 B', '53', 'France', 'Shipping', 'Logistics'], ['184', 'Tanya Saadé Zeenny', '$9.8 B', '55', 'France', 'Shipping', 'Logistics'], ['184', 'Melker Schorling & family', '$9.8 B', '75', 'Sweden', 'Investments', 'Finance & Investments'], ['190', 'Andrei Guriev & family', '$9.7 B', '63', 'Russia', 'Fertilizers', 'Manufacturing'], ['190', 'Michael Kim', '$9.7 B', '59', 'United States', 'Private equity', 'Finance & Investments'], ['190', 'Lei Jun', '$9.7 B', '53', 'China', 'Smartphones', 'Technology'], ['190', 'Friedhelm Loh', '$9.7 B', '76', 'Germany', 'Manufacturing', 'Manufacturing'], ['190', 'Sun Piaoyang', '$9.7 B', '64', 'China', 'Pharmaceuticals', 'Healthcare'], ['195', 'Rick Cohen & family', '$9.6 B', '70', 'United States', 'Warehouse automation', 'Technology'], ['195', 'Jin Baofang', '$9.6 B', '70', 'China', 'Solar panels', 'Energy'], ['195', 'Luo Liguo & family', '$9.6 B', '67', 'China', 'Chemicals', 'Manufacturing'], ['195', 'Marijke Mars', '$9.6 B', '58', 'United States', 'Candy, pet food', 'Food & Beverage'], ['195', 'Pamela Mars', '$9.6 B', '62', 'United States', 'Candy, pet food', 'Food & Beverage'], ['195', 'Valerie Mars', '$9.6 B', '64', 'United States', 'Candy, pet food', 'Food & Beverage']]\n"
     ]
    }
   ],
   "source": [
    "print(Details)"
   ]
  },
  {
   "cell_type": "code",
   "execution_count": 280,
   "id": "d6a45cec",
   "metadata": {},
   "outputs": [
    {
     "data": {
      "text/html": [
       "<div>\n",
       "<style scoped>\n",
       "    .dataframe tbody tr th:only-of-type {\n",
       "        vertical-align: middle;\n",
       "    }\n",
       "\n",
       "    .dataframe tbody tr th {\n",
       "        vertical-align: top;\n",
       "    }\n",
       "\n",
       "    .dataframe thead th {\n",
       "        text-align: right;\n",
       "    }\n",
       "</style>\n",
       "<table border=\"1\" class=\"dataframe\">\n",
       "  <thead>\n",
       "    <tr style=\"text-align: right;\">\n",
       "      <th></th>\n",
       "      <th>Rank</th>\n",
       "      <th>Name</th>\n",
       "      <th>Networth</th>\n",
       "      <th>Age</th>\n",
       "      <th>Country</th>\n",
       "      <th>Source</th>\n",
       "      <th>Industry</th>\n",
       "    </tr>\n",
       "  </thead>\n",
       "  <tbody>\n",
       "    <tr>\n",
       "      <th>0</th>\n",
       "      <td>2</td>\n",
       "      <td>Elon Musk</td>\n",
       "      <td>$180 B</td>\n",
       "      <td>51</td>\n",
       "      <td>United States</td>\n",
       "      <td>Tesla, SpaceX</td>\n",
       "      <td>Automotive</td>\n",
       "    </tr>\n",
       "    <tr>\n",
       "      <th>1</th>\n",
       "      <td>3</td>\n",
       "      <td>Jeff Bezos</td>\n",
       "      <td>$114 B</td>\n",
       "      <td>59</td>\n",
       "      <td>United States</td>\n",
       "      <td>Amazon</td>\n",
       "      <td>Technology</td>\n",
       "    </tr>\n",
       "    <tr>\n",
       "      <th>2</th>\n",
       "      <td>4</td>\n",
       "      <td>Larry Ellison</td>\n",
       "      <td>$107 B</td>\n",
       "      <td>78</td>\n",
       "      <td>United States</td>\n",
       "      <td>Oracle</td>\n",
       "      <td>Technology</td>\n",
       "    </tr>\n",
       "    <tr>\n",
       "      <th>3</th>\n",
       "      <td>5</td>\n",
       "      <td>Warren Buffett</td>\n",
       "      <td>$106 B</td>\n",
       "      <td>92</td>\n",
       "      <td>United States</td>\n",
       "      <td>Berkshire Hathaway</td>\n",
       "      <td>Finance &amp; Investments</td>\n",
       "    </tr>\n",
       "    <tr>\n",
       "      <th>4</th>\n",
       "      <td>6</td>\n",
       "      <td>Bill Gates</td>\n",
       "      <td>$104 B</td>\n",
       "      <td>67</td>\n",
       "      <td>United States</td>\n",
       "      <td>Microsoft</td>\n",
       "      <td>Technology</td>\n",
       "    </tr>\n",
       "    <tr>\n",
       "      <th>...</th>\n",
       "      <td>...</td>\n",
       "      <td>...</td>\n",
       "      <td>...</td>\n",
       "      <td>...</td>\n",
       "      <td>...</td>\n",
       "      <td>...</td>\n",
       "      <td>...</td>\n",
       "    </tr>\n",
       "    <tr>\n",
       "      <th>194</th>\n",
       "      <td>195</td>\n",
       "      <td>Jin Baofang</td>\n",
       "      <td>$9.6 B</td>\n",
       "      <td>70</td>\n",
       "      <td>China</td>\n",
       "      <td>Solar panels</td>\n",
       "      <td>Energy</td>\n",
       "    </tr>\n",
       "    <tr>\n",
       "      <th>195</th>\n",
       "      <td>195</td>\n",
       "      <td>Luo Liguo &amp; family</td>\n",
       "      <td>$9.6 B</td>\n",
       "      <td>67</td>\n",
       "      <td>China</td>\n",
       "      <td>Chemicals</td>\n",
       "      <td>Manufacturing</td>\n",
       "    </tr>\n",
       "    <tr>\n",
       "      <th>196</th>\n",
       "      <td>195</td>\n",
       "      <td>Marijke Mars</td>\n",
       "      <td>$9.6 B</td>\n",
       "      <td>58</td>\n",
       "      <td>United States</td>\n",
       "      <td>Candy, pet food</td>\n",
       "      <td>Food &amp; Beverage</td>\n",
       "    </tr>\n",
       "    <tr>\n",
       "      <th>197</th>\n",
       "      <td>195</td>\n",
       "      <td>Pamela Mars</td>\n",
       "      <td>$9.6 B</td>\n",
       "      <td>62</td>\n",
       "      <td>United States</td>\n",
       "      <td>Candy, pet food</td>\n",
       "      <td>Food &amp; Beverage</td>\n",
       "    </tr>\n",
       "    <tr>\n",
       "      <th>198</th>\n",
       "      <td>195</td>\n",
       "      <td>Valerie Mars</td>\n",
       "      <td>$9.6 B</td>\n",
       "      <td>64</td>\n",
       "      <td>United States</td>\n",
       "      <td>Candy, pet food</td>\n",
       "      <td>Food &amp; Beverage</td>\n",
       "    </tr>\n",
       "  </tbody>\n",
       "</table>\n",
       "<p>199 rows × 7 columns</p>\n",
       "</div>"
      ],
      "text/plain": [
       "    Rank                Name Networth Age        Country              Source  \\\n",
       "0      2           Elon Musk   $180 B  51  United States       Tesla, SpaceX   \n",
       "1      3          Jeff Bezos   $114 B  59  United States              Amazon   \n",
       "2      4       Larry Ellison   $107 B  78  United States              Oracle   \n",
       "3      5      Warren Buffett   $106 B  92  United States  Berkshire Hathaway   \n",
       "4      6          Bill Gates   $104 B  67  United States           Microsoft   \n",
       "..   ...                 ...      ...  ..            ...                 ...   \n",
       "194  195         Jin Baofang   $9.6 B  70          China        Solar panels   \n",
       "195  195  Luo Liguo & family   $9.6 B  67          China           Chemicals   \n",
       "196  195        Marijke Mars   $9.6 B  58  United States     Candy, pet food   \n",
       "197  195         Pamela Mars   $9.6 B  62  United States     Candy, pet food   \n",
       "198  195        Valerie Mars   $9.6 B  64  United States     Candy, pet food   \n",
       "\n",
       "                  Industry  \n",
       "0               Automotive  \n",
       "1               Technology  \n",
       "2               Technology  \n",
       "3    Finance & Investments  \n",
       "4               Technology  \n",
       "..                     ...  \n",
       "194                 Energy  \n",
       "195          Manufacturing  \n",
       "196        Food & Beverage  \n",
       "197        Food & Beverage  \n",
       "198        Food & Beverage  \n",
       "\n",
       "[199 rows x 7 columns]"
      ]
     },
     "execution_count": 280,
     "metadata": {},
     "output_type": "execute_result"
    }
   ],
   "source": [
    "data=pd.DataFrame({'Rank':Rank,'Name':Name,'Networth':Net_worth,'Age':Age,'Country':Country,'Source':Source,'Industry':Industry})\n",
    "data"
   ]
  },
  {
   "cell_type": "code",
   "execution_count": 266,
   "id": "0857a065",
   "metadata": {},
   "outputs": [
    {
     "name": "stdout",
     "output_type": "stream",
     "text": [
      "Rank: The 2023 List: Facts and Figures\n",
      "Inside Forbes' 37th-annual billionaires ranking.\n",
      "READ MORE\n",
      "1\n",
      "Bernard Arnault & family\n",
      "$211 B\n",
      "74\n",
      "France\n",
      "LVMH\n",
      "Fashion & Retail\n",
      "Bernard Arnault oversees the LVMH empire of 75 fashion and cosmetics brands, including Louis Vuitton and Sephora.\n",
      "FULL PROFILE\n",
      "WEALTH HISTORY\n",
      "2\n",
      "Elon Musk\n",
      "$180 B\n",
      "51\n",
      "United States\n",
      "Tesla, SpaceX\n",
      "Automotive\n",
      "3\n",
      "Jeff Bezos\n",
      "$114 B\n",
      "59\n",
      "United States\n",
      "Amazon\n",
      "Technology\n",
      "4\n",
      "Larry Ellison\n",
      "$107 B\n",
      "78\n",
      "United States\n",
      "Oracle\n",
      "Technology\n",
      "5\n",
      "Warren Buffett\n",
      "$106 B\n",
      "92\n",
      "United States\n",
      "Berkshire Hathaway\n",
      "Finance & Investments\n",
      "6\n",
      "Bill Gates\n",
      "$104 B\n",
      "67\n",
      "United States\n",
      "Microsoft\n",
      "Technology\n",
      "7\n",
      "Michael Bloomberg\n",
      "$94.5 B\n",
      "81\n",
      "United States\n",
      "Bloomberg LP\n",
      "Media & Entertainment\n",
      "8\n",
      "Carlos Slim Helu & family\n",
      "$93 B\n",
      "83\n",
      "Mexico\n",
      "Telecom\n",
      "Telecom\n",
      "9\n",
      "Mukesh Ambani\n",
      "$83.4 B\n",
      "65\n",
      "India\n",
      "Diversified\n",
      "Diversified\n",
      "10\n",
      "Steve Ballmer\n",
      "$80.7 B\n",
      "67\n",
      "United States\n",
      "Microsoft\n",
      "Technology\n",
      "11\n",
      "Francoise Bettencourt Meyers & family\n",
      "$80.5 B\n",
      "69\n",
      "France\n",
      "L'Oréal\n",
      "Fashion & Retail\n",
      "12\n",
      "Larry Page\n",
      "$79.2 B\n",
      "50\n",
      "United States\n",
      "Google\n",
      "Technology\n",
      "13\n",
      "Amancio Ortega\n",
      "$77.3 B\n",
      "87\n",
      "Spain\n",
      "Zara\n",
      "Fashion & Retail\n",
      "14\n",
      "Sergey Brin\n",
      "$76 B\n",
      "49\n",
      "United States\n",
      "Google\n",
      "Technology\n",
      "15\n",
      "Zhong Shanshan\n",
      "$68 B\n",
      "68\n",
      "China\n",
      "Beverages, pharmaceuticals\n",
      "Food & Beverage, Name: 1\n",
      "Bernard Arnault & family\n",
      "$211 B\n",
      "74\n",
      "France\n",
      "LVMH\n",
      "Fashion & Retail\n",
      "Bernard Arnault oversees the LVMH empire of 75 fashion and cosmetics brands, including Louis Vuitton and Sephora.\n",
      "FULL PROFILE\n",
      "WEALTH HISTORY\n",
      "2\n",
      "Elon Musk\n",
      "$180 B\n",
      "51\n",
      "United States\n",
      "Tesla, SpaceX\n",
      "Automotive\n",
      "3\n",
      "Jeff Bezos\n",
      "$114 B\n",
      "59\n",
      "United States\n",
      "Amazon\n",
      "Technology\n",
      "4\n",
      "Larry Ellison\n",
      "$107 B\n",
      "78\n",
      "United States\n",
      "Oracle\n",
      "Technology\n",
      "5\n",
      "Warren Buffett\n",
      "$106 B\n",
      "92\n",
      "United States\n",
      "Berkshire Hathaway\n",
      "Finance & Investments\n",
      "6\n",
      "Bill Gates\n",
      "$104 B\n",
      "67\n",
      "United States\n",
      "Microsoft\n",
      "Technology\n",
      "7\n",
      "Michael Bloomberg\n",
      "$94.5 B\n",
      "81\n",
      "United States\n",
      "Bloomberg LP\n",
      "Media & Entertainment\n",
      "8\n",
      "Carlos Slim Helu & family\n",
      "$93 B\n",
      "83\n",
      "Mexico\n",
      "Telecom\n",
      "Telecom\n",
      "9\n",
      "Mukesh Ambani\n",
      "$83.4 B\n",
      "65\n",
      "India\n",
      "Diversified\n",
      "Diversified\n",
      "10\n",
      "Steve Ballmer\n",
      "$80.7 B\n",
      "67\n",
      "United States\n",
      "Microsoft\n",
      "Technology\n",
      "11\n",
      "Francoise Bettencourt Meyers & family\n",
      "$80.5 B\n",
      "69\n",
      "France\n",
      "L'Oréal\n",
      "Fashion & Retail\n",
      "12\n",
      "Larry Page\n",
      "$79.2 B\n",
      "50\n",
      "United States\n",
      "Google\n",
      "Technology\n",
      "13\n",
      "Amancio Ortega\n",
      "$77.3 B\n",
      "87\n",
      "Spain\n",
      "Zara\n",
      "Fashion & Retail\n",
      "14\n",
      "Sergey Brin\n",
      "$76 B\n",
      "49\n",
      "United States\n",
      "Google\n",
      "Technology\n",
      "15\n",
      "Zhong Shanshan\n",
      "$68 B\n",
      "68\n",
      "China\n",
      "Beverages, pharmaceuticals\n",
      "Food & Beverage, Networth: New Billionaires\n",
      "150 fresh faces, including Jimmy Buffett, LeBron James And Tiger Woods.\n",
      "READ MORE\n",
      "16\n",
      "Mark Zuckerberg\n",
      "$64.4 B\n",
      "38\n",
      "United States\n",
      "Facebook\n",
      "Technology\n",
      "17\n",
      "Charles Koch & family\n",
      "$59 B\n",
      "87\n",
      "United States\n",
      "Koch Industries\n",
      "Diversified\n",
      "17\n",
      "Julia Koch & family\n",
      "$59 B\n",
      "60\n",
      "United States\n",
      "Koch Industries\n",
      "Diversified\n",
      "19\n",
      "Jim Walton\n",
      "$58.8 B\n",
      "74\n",
      "United States\n",
      "Walmart\n",
      "Fashion & Retail\n",
      "20\n",
      "Rob Walton & family\n",
      "$57.6 B\n",
      "78\n",
      "United States\n",
      "Walmart\n",
      "Fashion & Retail\n",
      "21\n",
      "Alice Walton\n",
      "$56.7 B\n",
      "73\n",
      "United States\n",
      "Walmart\n",
      "Fashion & Retail\n",
      "22\n",
      "David Thomson & family\n",
      "$54.4 B\n",
      "65\n",
      "Canada\n",
      "Media\n",
      "Media & Entertainment\n",
      "23\n",
      "Michael Dell\n",
      "$50.1 B\n",
      "58\n",
      "United States\n",
      "Dell Technologies\n",
      "Technology\n",
      "24\n",
      "Gautam Adani\n",
      "$47.2 B\n",
      "60\n",
      "India\n",
      "Infrastructure, commodities\n",
      "Diversified\n",
      "25\n",
      "Phil Knight & family\n",
      "$45.1 B\n",
      "85\n",
      "United States\n",
      "Nike\n",
      "Fashion & Retail\n",
      "26\n",
      "Zhang Yiming\n",
      "$45 B\n",
      "39\n",
      "China\n",
      "TikTok\n",
      "Technology\n",
      "27\n",
      "Dieter Schwarz\n",
      "$42.9 B\n",
      "83\n",
      "Germany\n",
      "Retail\n",
      "Fashion & Retail\n",
      "28\n",
      "François Pinault & family\n",
      "$40.1 B\n",
      "86\n",
      "France\n",
      "Luxury goods\n",
      "Fashion & Retail\n",
      "29\n",
      "Klaus-Michael Kuehne\n",
      "$39.1 B\n",
      "85\n",
      "Germany\n",
      "Shipping\n",
      "Logistics\n",
      "30\n",
      "Giovanni Ferrero\n",
      "$38.9 B\n",
      "58\n",
      "Italy\n",
      "Nutella, chocolates\n",
      "Food & Beverage, Age: 16\n",
      "Mark Zuckerberg\n",
      "$64.4 B\n",
      "38\n",
      "United States\n",
      "Facebook\n",
      "Technology\n",
      "17\n",
      "Charles Koch & family\n",
      "$59 B\n",
      "87\n",
      "United States\n",
      "Koch Industries\n",
      "Diversified\n",
      "17\n",
      "Julia Koch & family\n",
      "$59 B\n",
      "60\n",
      "United States\n",
      "Koch Industries\n",
      "Diversified\n",
      "19\n",
      "Jim Walton\n",
      "$58.8 B\n",
      "74\n",
      "United States\n",
      "Walmart\n",
      "Fashion & Retail\n",
      "20\n",
      "Rob Walton & family\n",
      "$57.6 B\n",
      "78\n",
      "United States\n",
      "Walmart\n",
      "Fashion & Retail\n",
      "21\n",
      "Alice Walton\n",
      "$56.7 B\n",
      "73\n",
      "United States\n",
      "Walmart\n",
      "Fashion & Retail\n",
      "22\n",
      "David Thomson & family\n",
      "$54.4 B\n",
      "65\n",
      "Canada\n",
      "Media\n",
      "Media & Entertainment\n",
      "23\n",
      "Michael Dell\n",
      "$50.1 B\n",
      "58\n",
      "United States\n",
      "Dell Technologies\n",
      "Technology\n",
      "24\n",
      "Gautam Adani\n",
      "$47.2 B\n",
      "60\n",
      "India\n",
      "Infrastructure, commodities\n",
      "Diversified\n",
      "25\n",
      "Phil Knight & family\n",
      "$45.1 B\n",
      "85\n",
      "United States\n",
      "Nike\n",
      "Fashion & Retail\n",
      "26\n",
      "Zhang Yiming\n",
      "$45 B\n",
      "39\n",
      "China\n",
      "TikTok\n",
      "Technology\n",
      "27\n",
      "Dieter Schwarz\n",
      "$42.9 B\n",
      "83\n",
      "Germany\n",
      "Retail\n",
      "Fashion & Retail\n",
      "28\n",
      "François Pinault & family\n",
      "$40.1 B\n",
      "86\n",
      "France\n",
      "Luxury goods\n",
      "Fashion & Retail\n",
      "29\n",
      "Klaus-Michael Kuehne\n",
      "$39.1 B\n",
      "85\n",
      "Germany\n",
      "Shipping\n",
      "Logistics\n",
      "30\n",
      "Giovanni Ferrero\n",
      "$38.9 B\n",
      "58\n",
      "Italy\n",
      "Nutella, chocolates\n",
      "Food & Beverage Country: Youngest\n",
      "These billionaires, including a couple very well-to-do teenagers, got rich quick.\n",
      "READ MORE\n",
      "31\n",
      "Jacqueline Mars\n",
      "$38.3 B\n",
      "83\n",
      "United States\n",
      "Candy, pet food\n",
      "Food & Beverage\n",
      "31\n",
      "John Mars\n",
      "$38.3 B\n",
      "87\n",
      "United States\n",
      "Candy, pet food\n",
      "Food & Beverage\n",
      "33\n",
      "Li Ka-shing\n",
      "$38 B\n",
      "94\n",
      "Hong Kong\n",
      "Diversified\n",
      "Diversified\n",
      "34\n",
      "Ma Huateng\n",
      "$35.3 B\n",
      "51\n",
      "China\n",
      "Internet media\n",
      "Technology\n",
      "35\n",
      "Miriam Adelson & family\n",
      "$35 B\n",
      "77\n",
      "United States\n",
      "Casinos\n",
      "Gambling & Casinos\n",
      "35\n",
      "Ken Griffin\n",
      "$35 B\n",
      "54\n",
      "United States\n",
      "Hedge funds\n",
      "Finance & Investments\n",
      "37\n",
      "Mark Mateschitz\n",
      "$34.7 B\n",
      "30\n",
      "Austria\n",
      "Red Bull\n",
      "Food & Beverage\n",
      "38\n",
      "Robin Zeng\n",
      "$33.4 B\n",
      "54\n",
      "Hong Kong\n",
      "Batteries\n",
      "Automotive\n",
      "39\n",
      "Tadashi Yanai & family\n",
      "$32.6 B\n",
      "74\n",
      "Japan\n",
      "Fashion retail\n",
      "Fashion & Retail\n",
      "40\n",
      "Len Blavatnik\n",
      "$32.1 B\n",
      "65\n",
      "United States\n",
      "Music, chemicals\n",
      "Diversified\n",
      "41\n",
      "Alain Wertheimer\n",
      "$31.6 B\n",
      "74\n",
      "France\n",
      "Chanel\n",
      "Fashion & Retail\n",
      "41\n",
      "Gerard Wertheimer\n",
      "$31.6 B\n",
      "72\n",
      "France\n",
      "Chanel\n",
      "Fashion & Retail\n",
      "43\n",
      "Gianluigi Aponte\n",
      "$31.2 B\n",
      "82\n",
      "Switzerland\n",
      "Shipping\n",
      "Logistics\n",
      "43\n",
      "Rafaela Aponte-Diamant\n",
      "$31.2 B\n",
      "78\n",
      "Switzerland\n",
      "Shipping\n",
      "Logistics\n",
      "45\n",
      "Colin Huang\n",
      "$30.2 B\n",
      "43\n",
      "China\n",
      "E-commerce\n",
      "Technology, Source: 31\n",
      "Jacqueline Mars\n",
      "$38.3 B\n",
      "83\n",
      "United States\n",
      "Candy, pet food\n",
      "Food & Beverage\n",
      "31\n",
      "John Mars\n",
      "$38.3 B\n",
      "87\n",
      "United States\n",
      "Candy, pet food\n",
      "Food & Beverage\n",
      "33\n",
      "Li Ka-shing\n",
      "$38 B\n",
      "94\n",
      "Hong Kong\n",
      "Diversified\n",
      "Diversified\n",
      "34\n",
      "Ma Huateng\n",
      "$35.3 B\n",
      "51\n",
      "China\n",
      "Internet media\n",
      "Technology\n",
      "35\n",
      "Miriam Adelson & family\n",
      "$35 B\n",
      "77\n",
      "United States\n",
      "Casinos\n",
      "Gambling & Casinos\n",
      "35\n",
      "Ken Griffin\n",
      "$35 B\n",
      "54\n",
      "United States\n",
      "Hedge funds\n",
      "Finance & Investments\n",
      "37\n",
      "Mark Mateschitz\n",
      "$34.7 B\n",
      "30\n",
      "Austria\n",
      "Red Bull\n",
      "Food & Beverage\n",
      "38\n",
      "Robin Zeng\n",
      "$33.4 B\n",
      "54\n",
      "Hong Kong\n",
      "Batteries\n",
      "Automotive\n",
      "39\n",
      "Tadashi Yanai & family\n",
      "$32.6 B\n",
      "74\n",
      "Japan\n",
      "Fashion retail\n",
      "Fashion & Retail\n",
      "40\n",
      "Len Blavatnik\n",
      "$32.1 B\n",
      "65\n",
      "United States\n",
      "Music, chemicals\n",
      "Diversified\n",
      "41\n",
      "Alain Wertheimer\n",
      "$31.6 B\n",
      "74\n",
      "France\n",
      "Chanel\n",
      "Fashion & Retail\n",
      "41\n",
      "Gerard Wertheimer\n",
      "$31.6 B\n",
      "72\n",
      "France\n",
      "Chanel\n",
      "Fashion & Retail\n",
      "43\n",
      "Gianluigi Aponte\n",
      "$31.2 B\n",
      "82\n",
      "Switzerland\n",
      "Shipping\n",
      "Logistics\n",
      "43\n",
      "Rafaela Aponte-Diamant\n",
      "$31.2 B\n",
      "78\n",
      "Switzerland\n",
      "Shipping\n",
      "Logistics\n",
      "45\n",
      "Colin Huang\n",
      "$30.2 B\n",
      "43\n",
      "China\n",
      "E-commerce\n",
      "Technology, Industry: The 10 Richest Women\n",
      "For the first time in three years, a self-made woman earns a spot among the top 10.\n",
      "READ MORE\n",
      "46\n",
      "Reinhold Wuerth & family\n",
      "$29.7 B\n",
      "87\n",
      "Germany\n",
      "Fasteners\n",
      "Manufacturing\n",
      "47\n",
      "Lee Shau Kee\n",
      "$29.5 B\n",
      "95\n",
      "Hong Kong\n",
      "Real estate\n",
      "Real Estate\n",
      "48\n",
      "Jeff Yass\n",
      "$28.5 B\n",
      "64\n",
      "United States\n",
      "Trading, investments\n",
      "Finance & Investments\n",
      "49\n",
      "Jim Simons\n",
      "$28.1 B\n",
      "84\n",
      "United States\n",
      "Hedge funds\n",
      "Finance & Investments\n",
      "50\n",
      "Stephen Schwarzman\n",
      "$27.8 B\n",
      "76\n",
      "United States\n",
      "Investments\n",
      "Finance & Investments\n",
      "51\n",
      "Susanne Klatten\n",
      "$27.4 B\n",
      "60\n",
      "Germany\n",
      "BMW, pharmaceuticals\n",
      "Automotive\n",
      "52\n",
      "Gina Rinehart\n",
      "$27 B\n",
      "69\n",
      "Australia\n",
      "Mining\n",
      "Metals & Mining\n",
      "53\n",
      "William Ding\n",
      "$26.7 B\n",
      "51\n",
      "China\n",
      "Online games\n",
      "Technology\n",
      "54\n",
      "Germán Larrea Mota Velasco & family\n",
      "$26.6 B\n",
      "69\n",
      "Mexico\n",
      "Mining\n",
      "Metals & Mining\n",
      "55\n",
      "Shiv Nadar\n",
      "$25.6 B\n",
      "77\n",
      "India\n",
      "software services\n",
      "Technology\n",
      "56\n",
      "Low Tuck Kwong\n",
      "$25.5 B\n",
      "74\n",
      "Indonesia\n",
      "Coal\n",
      "Energy\n",
      "57\n",
      "Thomas Peterffy\n",
      "$25.3 B\n",
      "78\n",
      "United States\n",
      "Discount brokerage\n",
      "Finance & Investments\n",
      "58\n",
      "Andrey Melnichenko & family\n",
      "$25.2 B\n",
      "51\n",
      "Russia\n",
      "Fertilizers, coal\n",
      "Metals & Mining\n",
      "59\n",
      "Stefan Quandt\n",
      "$24.6 B\n",
      "56\n",
      "Germany\n",
      "BMW\n",
      "Automotive\n",
      "60\n",
      "MacKenzie Scott\n",
      "$24.4 B\n",
      "52\n",
      "United States\n",
      "Amazon\n",
      "Technology \n"
     ]
    }
   ],
   "source": [
    "for _ in range(40):                                             \n",
    "    driver.execute_script(\"window.scrollBy(0,500)\")\n",
    "billionaire_elements = driver.find_elements(By.CLASS_NAME, \"TableRow_rowContainer__IC1Tv\")\n",
    "for i in billionaire_elements[0:200]:\n",
    "    ranks_b= billionaire_elements[0].text \n",
    "    names_b = billionaire_elements[1].text \n",
    "    networth_b = billionaire_elements[2].text \n",
    "    ages_b = billionaire_elements[3].text  \n",
    "    countries_b = billionaire_elements[4].text\n",
    "    source_b =billionaire_elements[5].text\n",
    "    industry_b = billionaire_elements[6].text \n",
    "\n",
    "print(f\"Rank: {ranks_b}, Name: {names_b}, Networth: {networth_b}, Age: {ages_b} Country: {countries_b}, Source: {source_b}, Industry: {industry_b} \")"
   ]
  },
  {
   "cell_type": "code",
   "execution_count": null,
   "id": "0c3f0d0f",
   "metadata": {},
   "outputs": [],
   "source": [
    "Q8. Write a program to extract at least 500 Comments, Comment upvote and time when comment was posted\n",
    "from any YouTube Video"
   ]
  },
  {
   "cell_type": "code",
   "execution_count": 80,
   "id": "69661c60",
   "metadata": {},
   "outputs": [],
   "source": [
    "driver=webdriver.Chrome()\n",
    "driver.get(\"https://www.youtube.com/watch?v=A5pSnIwbpaM\")"
   ]
  },
  {
   "cell_type": "code",
   "execution_count": 404,
   "id": "77fa76e6",
   "metadata": {},
   "outputs": [],
   "source": [
    "time_stamp=[]\n",
    "start=0\n",
    "end=5\n",
    "for page in range(start,end):\n",
    "    titles=driver.find_elements(By.CLASS_NAME, \"published-time-text\")\n",
    "    for i in titles[0:500]:\n",
    "        time_stamp.append(i.text)\n",
    "time.sleep(3)"
   ]
  },
  {
   "cell_type": "code",
   "execution_count": 406,
   "id": "f8512359",
   "metadata": {},
   "outputs": [
    {
     "name": "stdout",
     "output_type": "stream",
     "text": [
      "['2 weeks ago', '10 months ago', '3 weeks ago (edited)', '3 months ago', '1 month ago', '4 months ago', '2 weeks ago', '1 year ago (edited)', '3 months ago', '5 days ago', '3 days ago', '2 weeks ago', '3 months ago', '3 months ago', '1 day ago', '2 months ago (edited)', '8 days ago', '2 years ago', '3 months ago', '4 months ago', '1 month ago', '3 months ago', '3 weeks ago', '2 months ago', '2 years ago', '2 months ago', '4 months ago', '3 weeks ago', '4 months ago', '2 months ago', '2 years ago', '4 months ago', '2 weeks ago', '2 weeks ago', '4 months ago', '1 month ago', '2 years ago (edited)', '3 months ago', '3 months ago', '7 days ago', '2 months ago', '2 weeks ago', '1 year ago', '4 months ago', '2 days ago', '3 months ago', '1 month ago', '2 years ago', '4 months ago', '2 months ago', '2 weeks ago', '4 months ago', '2 weeks ago', '1 year ago', '5 months ago (edited)', '2 weeks ago', '2 weeks ago', '2 weeks ago (edited)', '10 hours ago', '1 year ago (edited)', '2 months ago', '4 months ago (edited)', '4 days ago', '3 months ago', '9 days ago', '2 years ago', '3 months ago', '3 months ago', '1 month ago (edited)', '2 months ago', '11 days ago', '1 year ago', '4 months ago', '1 month ago', '1 month ago', '3 months ago', '3 days ago (edited)', '6 months ago', '2 months ago', '4 months ago', '6 days ago', '3 months ago', '2 weeks ago', '1 year ago', '4 months ago', '3 months ago (edited)', '1 hour ago', '2 months ago', '3 weeks ago', '1 year ago', '3 months ago', '2 months ago', '4 days ago', '5 months ago', '1 month ago', '5 months ago', '4 months ago', '4 months ago', '2 weeks ago', '2 months ago', '2 weeks ago', '10 months ago', '3 weeks ago (edited)', '3 months ago', '1 month ago', '4 months ago', '2 weeks ago', '1 year ago (edited)', '3 months ago', '5 days ago', '3 days ago', '2 weeks ago', '3 months ago', '3 months ago', '1 day ago', '2 months ago (edited)', '8 days ago', '2 years ago', '3 months ago', '4 months ago', '1 month ago', '3 months ago', '3 weeks ago', '2 months ago', '2 years ago', '2 months ago', '4 months ago', '3 weeks ago', '4 months ago', '2 months ago', '2 years ago', '4 months ago', '2 weeks ago', '2 weeks ago', '4 months ago', '1 month ago', '2 years ago (edited)', '3 months ago', '3 months ago', '7 days ago', '2 months ago', '2 weeks ago', '1 year ago', '4 months ago', '2 days ago', '3 months ago', '1 month ago', '2 years ago', '4 months ago', '2 months ago', '2 weeks ago', '4 months ago', '2 weeks ago', '1 year ago', '5 months ago (edited)', '2 weeks ago', '2 weeks ago', '2 weeks ago (edited)', '10 hours ago', '1 year ago (edited)', '2 months ago', '4 months ago (edited)', '4 days ago', '3 months ago', '9 days ago', '2 years ago', '3 months ago', '3 months ago', '1 month ago (edited)', '2 months ago', '11 days ago', '1 year ago', '4 months ago', '1 month ago', '1 month ago', '3 months ago', '3 days ago (edited)', '6 months ago', '2 months ago', '4 months ago', '6 days ago', '3 months ago', '2 weeks ago', '1 year ago', '4 months ago', '3 months ago (edited)', '1 hour ago', '2 months ago', '3 weeks ago', '1 year ago', '3 months ago', '2 months ago', '4 days ago', '5 months ago', '1 month ago', '5 months ago', '4 months ago', '4 months ago', '2 weeks ago', '2 months ago', '2 weeks ago', '10 months ago', '3 weeks ago (edited)', '3 months ago', '1 month ago', '4 months ago', '2 weeks ago', '1 year ago (edited)', '3 months ago', '5 days ago', '3 days ago', '2 weeks ago', '3 months ago', '3 months ago', '1 day ago', '2 months ago (edited)', '8 days ago', '2 years ago', '3 months ago', '4 months ago', '1 month ago', '3 months ago', '3 weeks ago', '2 months ago', '2 years ago', '2 months ago', '4 months ago', '3 weeks ago', '4 months ago', '2 months ago', '2 years ago', '4 months ago', '2 weeks ago', '2 weeks ago', '4 months ago', '1 month ago', '2 years ago (edited)', '3 months ago', '3 months ago', '7 days ago', '2 months ago', '2 weeks ago', '1 year ago', '4 months ago', '2 days ago', '3 months ago', '1 month ago', '2 years ago', '4 months ago', '2 months ago', '2 weeks ago', '4 months ago', '2 weeks ago', '1 year ago', '5 months ago (edited)', '2 weeks ago', '2 weeks ago', '2 weeks ago (edited)', '10 hours ago', '1 year ago (edited)', '2 months ago', '4 months ago (edited)', '4 days ago', '3 months ago', '9 days ago', '2 years ago', '3 months ago', '3 months ago', '1 month ago (edited)', '2 months ago', '11 days ago', '1 year ago', '4 months ago', '1 month ago', '1 month ago', '3 months ago', '3 days ago (edited)', '6 months ago', '2 months ago', '4 months ago', '6 days ago', '3 months ago', '2 weeks ago', '1 year ago', '4 months ago', '3 months ago (edited)', '1 hour ago', '2 months ago', '3 weeks ago', '1 year ago', '3 months ago', '2 months ago', '4 days ago', '5 months ago', '1 month ago', '5 months ago', '4 months ago', '4 months ago', '2 weeks ago', '2 months ago', '2 weeks ago', '10 months ago', '3 weeks ago (edited)', '3 months ago', '1 month ago', '4 months ago', '2 weeks ago', '1 year ago (edited)', '3 months ago', '5 days ago', '3 days ago', '2 weeks ago', '3 months ago', '3 months ago', '1 day ago', '2 months ago (edited)', '8 days ago', '2 years ago', '3 months ago', '4 months ago', '1 month ago', '3 months ago', '3 weeks ago', '2 months ago', '2 years ago', '2 months ago', '4 months ago', '3 weeks ago', '4 months ago', '2 months ago', '2 years ago', '4 months ago', '2 weeks ago', '2 weeks ago', '4 months ago', '1 month ago', '2 years ago (edited)', '3 months ago', '3 months ago', '7 days ago', '2 months ago', '2 weeks ago', '1 year ago', '4 months ago', '2 days ago', '3 months ago', '1 month ago', '2 years ago', '4 months ago', '2 months ago', '2 weeks ago', '4 months ago', '2 weeks ago', '1 year ago', '5 months ago (edited)', '2 weeks ago', '2 weeks ago', '2 weeks ago (edited)', '10 hours ago', '1 year ago (edited)', '2 months ago', '4 months ago (edited)', '4 days ago', '3 months ago', '9 days ago', '2 years ago', '3 months ago', '3 months ago', '1 month ago (edited)', '2 months ago', '11 days ago', '1 year ago', '4 months ago', '1 month ago', '1 month ago', '3 months ago', '3 days ago (edited)', '6 months ago', '2 months ago', '4 months ago', '6 days ago', '3 months ago', '2 weeks ago', '1 year ago', '4 months ago', '3 months ago (edited)', '1 hour ago', '2 months ago', '3 weeks ago', '1 year ago', '3 months ago', '2 months ago', '4 days ago', '5 months ago', '1 month ago', '5 months ago', '4 months ago', '4 months ago', '2 weeks ago', '2 months ago', '2 weeks ago', '10 months ago', '3 weeks ago (edited)', '3 months ago', '1 month ago', '4 months ago', '2 weeks ago', '1 year ago (edited)', '3 months ago', '5 days ago', '3 days ago', '2 weeks ago', '3 months ago', '3 months ago', '1 day ago', '2 months ago (edited)', '8 days ago', '2 years ago', '3 months ago', '4 months ago', '1 month ago', '3 months ago', '3 weeks ago', '2 months ago', '2 years ago', '2 months ago', '4 months ago', '3 weeks ago', '4 months ago', '2 months ago', '2 years ago', '4 months ago', '2 weeks ago', '2 weeks ago', '4 months ago', '1 month ago', '2 years ago (edited)', '3 months ago', '3 months ago', '7 days ago', '2 months ago', '2 weeks ago', '1 year ago', '4 months ago', '2 days ago', '3 months ago', '1 month ago', '2 years ago', '4 months ago', '2 months ago', '2 weeks ago', '4 months ago', '2 weeks ago', '1 year ago', '5 months ago (edited)', '2 weeks ago', '2 weeks ago', '2 weeks ago (edited)', '10 hours ago', '1 year ago (edited)', '2 months ago', '4 months ago (edited)', '4 days ago', '3 months ago', '9 days ago', '2 years ago', '3 months ago', '3 months ago', '1 month ago (edited)', '2 months ago', '11 days ago', '1 year ago', '4 months ago', '1 month ago', '1 month ago', '3 months ago', '3 days ago (edited)', '6 months ago', '2 months ago', '4 months ago', '6 days ago', '3 months ago', '2 weeks ago', '1 year ago', '4 months ago', '3 months ago (edited)', '1 hour ago', '2 months ago', '3 weeks ago', '1 year ago', '3 months ago', '2 months ago', '4 days ago', '5 months ago', '1 month ago', '5 months ago', '4 months ago', '4 months ago', '2 weeks ago', '2 months ago']\n"
     ]
    }
   ],
   "source": [
    "print(time_stamp)"
   ]
  },
  {
   "cell_type": "code",
   "execution_count": 405,
   "id": "598ebd10",
   "metadata": {},
   "outputs": [
    {
     "name": "stdout",
     "output_type": "stream",
     "text": [
      "500\n"
     ]
    }
   ],
   "source": [
    "print(len(time_stamp))"
   ]
  },
  {
   "cell_type": "code",
   "execution_count": 408,
   "id": "762793ee",
   "metadata": {},
   "outputs": [],
   "source": [
    "comment_all=[]\n",
    "start=0\n",
    "end=5\n",
    "for page in range(start,end):\n",
    "    titles=driver.find_elements(By.ID, \"content-text\")\n",
    "    for i in titles[0:500]:\n",
    "        comment_all.append(i.text)\n",
    "time.sleep(3)"
   ]
  },
  {
   "cell_type": "code",
   "execution_count": 409,
   "id": "444ee22c",
   "metadata": {},
   "outputs": [
    {
     "name": "stdout",
     "output_type": "stream",
     "text": [
      "['Party ready with #LekePrabhuKaNaam  Song OUT NOW - https://www.youtube.com/watch?v=6GxXehkPyBs', \"It's January 2023, let's see how many legends still listening this masterpeice...\", '10yrs passed still this song sounds so fresh and reminds old memories ', \"It's not only a song, it's a memory\", 'Kon Kon 2023 Mein Sun Raha Hai Meri Tarah ', \"some songs are such a gem , it doesn't matter 10 Years passed away .. these kind of songs still remain in our hearts.\", 'Salman and Katrina , one of the best duo of bollywood industry .  This song just brings back memories and feelings . ', \"10 years completed but this song is still in people's heart️.. many  childhood memories attached to this song\", 'A song that makes you enter into a storm of feelings, passion and love together at the same time', 'This song just brings back memories and feeling  everlasting masterpiece ', 'That was a golden era of Mohit Chauhan. Such an amazing voice', 'Such a gem of composition and true music.\\nSoothing to ears \\nMohit Bhai \\nWhat a singer , what a voice ', 'Suddenly remember this song after 10 years!! Old is gold ', \"I watched this movie when it first came out. It's been almost 11 years. I think it was one of the most influential and beautiful scenes that Bollywood has presented to the history of cinema. Also, someone who visits Istanbul experiences that feeling just like in the movie.\\nGreetings to everyone who feels the melody of the song in all their cells. 🇹🇷🇮🇳\", 'One of the best songs of Indian Cinema. ', \"I feel so lucky that my childhood is blessed with such beautiful song️ 10 years ago I was 7 years old that time I didn't understand the lyrics but I was just vibing on the music. But now I can understand the lyrics and emotions behind the music. It's impossible to imagine life without music ️️️\", '*A song that makes you enter into a storm of feelings, passion and love together at the same time*', 'Who Suddenly remembered this song and came to listen️️', 'Is going to 11 Years of this masterpiece but it still has the fresh feeling like how it was released the first day', \"This is not only a song it's an emotion \", '10 years later but still a masterpiece ', 'It’s almost 11 years but still i am in love with the song ', 'This song will be remembered at lonely sad moments times and suddenly all the feelings will be removed at the end of song ', 'This is not just a song it is a feeling separate from the heart ️ After listening to this it seems as if the heart is at peace️', 'Sadness is that Bollywood will not make this types of songs again!️', 'This is a masterpiece my dear, an emotion that touches the heart even after 10 years.️️', \"No one in this universe can match the level of pain in salman eyes .......... He can show you the broken scratched heart with his eyes only he doesn't have to utter a word also \", 'I just love this song it gives a very soothing vibe to me ', 'Bayılıyorum bu şarkıya. Türkiye’de çekilmiş olması beni ayrıca etkiliyor ️', \"Can't believe it's been 10 years Nostalgia Hits hards whenever I listen this song........️\", 'In the era of shona shona jadu tona, if you are still listening this.. undoubtedly you have a great taste of music ️', '10 yrs ...but still the same vibe', ' One of my personal favourites. Love & Respect. Quite Nostalgic', 'Song of the decade. It is a  master-piece created by all from poet to singer including musicians.', 'After 10 years suddenly I remembered this song but the song is so heart touching', 'man , rewatching this song now as a grown man feeling the words and remembering how i listened to it as a child not knowing what it meant and after so many years finnally listening it again but this time literally feeling the words like they were meant for me', '11 years old song still in runs in human heart', \"Can't believe it's been 10 yrs to this master piece and still listening and will continue\", \"It's be a long time and after this, this song is a masterpiece \", '2:27 This BGM . Pure Nostalgia ', \"After 12th the craze to watch this pair together was on immense level in me n I just love this song to the core n it's gives too much nostalgia every time I just remind myself that such kind of masterpiece are existing in Youtube\", 'Some music albums always makes you feel nostalgic and this movie album is one of them what a music\\n\\nLaapata by KK ', \"9 years passed but this song is still in people's heart.. childhood memories\", 'This song has a special place in my heart Even its 2023 now ', 'Wonderful song', '10 years passed…but still it is nostalgic ', 'This song never left his vibe, after 10 year ', '8 years passed but the song is still in people hearts', 'Reminds me of the feeling of being in love and missing that person, makes me emotional , the words, the music, the singers and also very appropriate and convincing acting and emotions by Salman and Katrina both  lovely movie too very entertaining', 'Perfect song to feel the emotion of silent relation phase going on in life ', 'Always one of my favorite song ️️ so much memories ', 'My  fav song .....i can listen to it for my whole life....its been 5 years but whenever i feel like listening to songs my fingers automatically play this', 'Came back to enjoy this song just after listening to the latest Tiger 3 song. Old is always gold', \"10 years passed away but it's never become old and still live in my heart \", 'Even now this song is flourishing my mind', \"It's 2023 still the magic of this song never becomes old \", '10 years passed but still masterpiece', 'When I feel sad I come to listen  this song. Then my sadness become double. but this song heal my pain ️ so addicted', 'Who suddenly remembered this song and came to listen', '2012- we enjoyed it\\n2023- we feel it', 'Masterpiece song ', '10 year passed but this song is still my heart always', '2012 we watch on tv and listen \\nBut 2023 We Feel it Nd understand the lyrics ', \"10 yrs... Still I can't forget this ️\", 'This song this duo with mohit chauhan   voice original is always better than copies old vibes ', 'The way Katrina was looking in this movie, no one has ever looked close to her. Unmatchable beauty.', 'After so many years, even in 2023 still this song is just ', '10 years till I have been listening to this songthis song is amazing ', \"This was such a masterpiece.. this movie's era was something different..it will out match all spy-fi ( spy stories which aren't true )films..\", \"A message to future generation don't let this masterpiece die \", ' just the story of this song is more than enough to fall in love with this movie. So emotional ', 'I\"m from Turkey and I think old indian songs are the Best.  New songs never can catch old songs beauty .🇹🇷', 'Best Bollywood song ️️ it will be a masterpiece forever', 'Suddenly remembered this song \\n\\nMasterpiece ', 'Remembering Memories When Thiz Song Plays= Heaven ', 'Its 2023 still gives same goosebumps', 'This is a masterpiece ', \"Nobody can't ignore the art of the voice. Close the eyes and just feel it.\\nLove the song from 🇧🇩\", 'Even after 10 years this song is close to my heart️', 'The moment \"jaaye jahan tu jaaye\" starts it gave us goosebumps ', 'Masterpiece ️', 'Such a gem this song ', 'I was listening tiger 3 new song LEKE PRABHU KA NAAM and suddenly i remembered this masterpiece... so i came here to listen this masterpiece ', 'Words are not enough to describe about the memories attached with this song', 'Favourite movie and favourite song \\nSuddenly remember this song and come here to listen ', '10 years ago but this song alive in my heart ', 'I was 7 years old when this movie was released and now after 10 years 17 but it still look fresh both movie and song', '11 years \\nI still remember that day', 'Love this song very much ️', 'The era of Salman khan from 2009 to 2017\\nBlockbuster movies\\nEpic songs \\nDamn miss those era', 'The era of Katrina in Bollywood ', 'this song is 10 years old but now it gives me the same feelings  love this song', 'When i was in class 6..there is a girl whom i loved, and she used to sing this song...and now whenever i listen thsi ..she gets memories...', 'Masterpiece ', 'Old memories this song never die', \"A message to future generation Don't let this masterpiece die\", 'ben de istanbulluyum ve bu filmin bazı sahneleri istanbul da çekildiği için çok hoşuma gitti. harika bir müzik emeği geçenlere teşekkürler..salman&katrina..', 'Song is old but recapture the all memories ', 'No words for old song having beats like made in future with futuristic device listen starting with headphones  old is gold', 'Moonlit night + Under the open sky + Twinkling stars + SAIYAARA song = SUKOON ', 'Party ready with #LekePrabhuKaNaam  Song OUT NOW - https://www.youtube.com/watch?v=6GxXehkPyBs', \"It's January 2023, let's see how many legends still listening this masterpeice...\", '10yrs passed still this song sounds so fresh and reminds old memories ', \"It's not only a song, it's a memory\", 'Kon Kon 2023 Mein Sun Raha Hai Meri Tarah ', \"some songs are such a gem , it doesn't matter 10 Years passed away .. these kind of songs still remain in our hearts.\", 'Salman and Katrina , one of the best duo of bollywood industry .  This song just brings back memories and feelings . ', \"10 years completed but this song is still in people's heart️.. many  childhood memories attached to this song\", 'A song that makes you enter into a storm of feelings, passion and love together at the same time', 'This song just brings back memories and feeling  everlasting masterpiece ', 'That was a golden era of Mohit Chauhan. Such an amazing voice', 'Such a gem of composition and true music.\\nSoothing to ears \\nMohit Bhai \\nWhat a singer , what a voice ', 'Suddenly remember this song after 10 years!! Old is gold ', \"I watched this movie when it first came out. It's been almost 11 years. I think it was one of the most influential and beautiful scenes that Bollywood has presented to the history of cinema. Also, someone who visits Istanbul experiences that feeling just like in the movie.\\nGreetings to everyone who feels the melody of the song in all their cells. 🇹🇷🇮🇳\", 'One of the best songs of Indian Cinema. ', \"I feel so lucky that my childhood is blessed with such beautiful song️ 10 years ago I was 7 years old that time I didn't understand the lyrics but I was just vibing on the music. But now I can understand the lyrics and emotions behind the music. It's impossible to imagine life without music ️️️\", '*A song that makes you enter into a storm of feelings, passion and love together at the same time*', 'Who Suddenly remembered this song and came to listen️️', 'Is going to 11 Years of this masterpiece but it still has the fresh feeling like how it was released the first day', \"This is not only a song it's an emotion \", '10 years later but still a masterpiece ', 'It’s almost 11 years but still i am in love with the song ', 'This song will be remembered at lonely sad moments times and suddenly all the feelings will be removed at the end of song ', 'This is not just a song it is a feeling separate from the heart ️ After listening to this it seems as if the heart is at peace️', 'Sadness is that Bollywood will not make this types of songs again!️', 'This is a masterpiece my dear, an emotion that touches the heart even after 10 years.️️', \"No one in this universe can match the level of pain in salman eyes .......... He can show you the broken scratched heart with his eyes only he doesn't have to utter a word also \", 'I just love this song it gives a very soothing vibe to me ', 'Bayılıyorum bu şarkıya. Türkiye’de çekilmiş olması beni ayrıca etkiliyor ️', \"Can't believe it's been 10 years Nostalgia Hits hards whenever I listen this song........️\", 'In the era of shona shona jadu tona, if you are still listening this.. undoubtedly you have a great taste of music ️', '10 yrs ...but still the same vibe', ' One of my personal favourites. Love & Respect. Quite Nostalgic', 'Song of the decade. It is a  master-piece created by all from poet to singer including musicians.', 'After 10 years suddenly I remembered this song but the song is so heart touching', 'man , rewatching this song now as a grown man feeling the words and remembering how i listened to it as a child not knowing what it meant and after so many years finnally listening it again but this time literally feeling the words like they were meant for me', '11 years old song still in runs in human heart', \"Can't believe it's been 10 yrs to this master piece and still listening and will continue\", \"It's be a long time and after this, this song is a masterpiece \", '2:27 This BGM . Pure Nostalgia ', \"After 12th the craze to watch this pair together was on immense level in me n I just love this song to the core n it's gives too much nostalgia every time I just remind myself that such kind of masterpiece are existing in Youtube\", 'Some music albums always makes you feel nostalgic and this movie album is one of them what a music\\n\\nLaapata by KK ', \"9 years passed but this song is still in people's heart.. childhood memories\", 'This song has a special place in my heart Even its 2023 now ', 'Wonderful song', '10 years passed…but still it is nostalgic ', 'This song never left his vibe, after 10 year ', '8 years passed but the song is still in people hearts', 'Reminds me of the feeling of being in love and missing that person, makes me emotional , the words, the music, the singers and also very appropriate and convincing acting and emotions by Salman and Katrina both  lovely movie too very entertaining', 'Perfect song to feel the emotion of silent relation phase going on in life ', 'Always one of my favorite song ️️ so much memories ', 'My  fav song .....i can listen to it for my whole life....its been 5 years but whenever i feel like listening to songs my fingers automatically play this', 'Came back to enjoy this song just after listening to the latest Tiger 3 song. Old is always gold', \"10 years passed away but it's never become old and still live in my heart \", 'Even now this song is flourishing my mind', \"It's 2023 still the magic of this song never becomes old \", '10 years passed but still masterpiece', 'When I feel sad I come to listen  this song. Then my sadness become double. but this song heal my pain ️ so addicted', 'Who suddenly remembered this song and came to listen', '2012- we enjoyed it\\n2023- we feel it', 'Masterpiece song ', '10 year passed but this song is still my heart always', '2012 we watch on tv and listen \\nBut 2023 We Feel it Nd understand the lyrics ', \"10 yrs... Still I can't forget this ️\", 'This song this duo with mohit chauhan   voice original is always better than copies old vibes ', 'The way Katrina was looking in this movie, no one has ever looked close to her. Unmatchable beauty.', 'After so many years, even in 2023 still this song is just ', '10 years till I have been listening to this songthis song is amazing ', \"This was such a masterpiece.. this movie's era was something different..it will out match all spy-fi ( spy stories which aren't true )films..\", \"A message to future generation don't let this masterpiece die \", ' just the story of this song is more than enough to fall in love with this movie. So emotional ', 'I\"m from Turkey and I think old indian songs are the Best.  New songs never can catch old songs beauty .🇹🇷', 'Best Bollywood song ️️ it will be a masterpiece forever', 'Suddenly remembered this song \\n\\nMasterpiece ', 'Remembering Memories When Thiz Song Plays= Heaven ', 'Its 2023 still gives same goosebumps', 'This is a masterpiece ', \"Nobody can't ignore the art of the voice. Close the eyes and just feel it.\\nLove the song from 🇧🇩\", 'Even after 10 years this song is close to my heart️', 'The moment \"jaaye jahan tu jaaye\" starts it gave us goosebumps ', 'Masterpiece ️', 'Such a gem this song ', 'I was listening tiger 3 new song LEKE PRABHU KA NAAM and suddenly i remembered this masterpiece... so i came here to listen this masterpiece ', 'Words are not enough to describe about the memories attached with this song', 'Favourite movie and favourite song \\nSuddenly remember this song and come here to listen ', '10 years ago but this song alive in my heart ', 'I was 7 years old when this movie was released and now after 10 years 17 but it still look fresh both movie and song', '11 years \\nI still remember that day', 'Love this song very much ️', 'The era of Salman khan from 2009 to 2017\\nBlockbuster movies\\nEpic songs \\nDamn miss those era', 'The era of Katrina in Bollywood ', 'this song is 10 years old but now it gives me the same feelings  love this song', 'When i was in class 6..there is a girl whom i loved, and she used to sing this song...and now whenever i listen thsi ..she gets memories...', 'Masterpiece ', 'Old memories this song never die', \"A message to future generation Don't let this masterpiece die\", 'ben de istanbulluyum ve bu filmin bazı sahneleri istanbul da çekildiği için çok hoşuma gitti. harika bir müzik emeği geçenlere teşekkürler..salman&katrina..', 'Song is old but recapture the all memories ', 'No words for old song having beats like made in future with futuristic device listen starting with headphones  old is gold', 'Moonlit night + Under the open sky + Twinkling stars + SAIYAARA song = SUKOON ', 'Party ready with #LekePrabhuKaNaam  Song OUT NOW - https://www.youtube.com/watch?v=6GxXehkPyBs', \"It's January 2023, let's see how many legends still listening this masterpeice...\", '10yrs passed still this song sounds so fresh and reminds old memories ', \"It's not only a song, it's a memory\", 'Kon Kon 2023 Mein Sun Raha Hai Meri Tarah ', \"some songs are such a gem , it doesn't matter 10 Years passed away .. these kind of songs still remain in our hearts.\", 'Salman and Katrina , one of the best duo of bollywood industry .  This song just brings back memories and feelings . ', \"10 years completed but this song is still in people's heart️.. many  childhood memories attached to this song\", 'A song that makes you enter into a storm of feelings, passion and love together at the same time', 'This song just brings back memories and feeling  everlasting masterpiece ', 'That was a golden era of Mohit Chauhan. Such an amazing voice', 'Such a gem of composition and true music.\\nSoothing to ears \\nMohit Bhai \\nWhat a singer , what a voice ', 'Suddenly remember this song after 10 years!! Old is gold ', \"I watched this movie when it first came out. It's been almost 11 years. I think it was one of the most influential and beautiful scenes that Bollywood has presented to the history of cinema. Also, someone who visits Istanbul experiences that feeling just like in the movie.\\nGreetings to everyone who feels the melody of the song in all their cells. 🇹🇷🇮🇳\", 'One of the best songs of Indian Cinema. ', \"I feel so lucky that my childhood is blessed with such beautiful song️ 10 years ago I was 7 years old that time I didn't understand the lyrics but I was just vibing on the music. But now I can understand the lyrics and emotions behind the music. It's impossible to imagine life without music ️️️\", '*A song that makes you enter into a storm of feelings, passion and love together at the same time*', 'Who Suddenly remembered this song and came to listen️️', 'Is going to 11 Years of this masterpiece but it still has the fresh feeling like how it was released the first day', \"This is not only a song it's an emotion \", '10 years later but still a masterpiece ', 'It’s almost 11 years but still i am in love with the song ', 'This song will be remembered at lonely sad moments times and suddenly all the feelings will be removed at the end of song ', 'This is not just a song it is a feeling separate from the heart ️ After listening to this it seems as if the heart is at peace️', 'Sadness is that Bollywood will not make this types of songs again!️', 'This is a masterpiece my dear, an emotion that touches the heart even after 10 years.️️', \"No one in this universe can match the level of pain in salman eyes .......... He can show you the broken scratched heart with his eyes only he doesn't have to utter a word also \", 'I just love this song it gives a very soothing vibe to me ', 'Bayılıyorum bu şarkıya. Türkiye’de çekilmiş olması beni ayrıca etkiliyor ️', \"Can't believe it's been 10 years Nostalgia Hits hards whenever I listen this song........️\", 'In the era of shona shona jadu tona, if you are still listening this.. undoubtedly you have a great taste of music ️', '10 yrs ...but still the same vibe', ' One of my personal favourites. Love & Respect. Quite Nostalgic', 'Song of the decade. It is a  master-piece created by all from poet to singer including musicians.', 'After 10 years suddenly I remembered this song but the song is so heart touching', 'man , rewatching this song now as a grown man feeling the words and remembering how i listened to it as a child not knowing what it meant and after so many years finnally listening it again but this time literally feeling the words like they were meant for me', '11 years old song still in runs in human heart', \"Can't believe it's been 10 yrs to this master piece and still listening and will continue\", \"It's be a long time and after this, this song is a masterpiece \", '2:27 This BGM . Pure Nostalgia ', \"After 12th the craze to watch this pair together was on immense level in me n I just love this song to the core n it's gives too much nostalgia every time I just remind myself that such kind of masterpiece are existing in Youtube\", 'Some music albums always makes you feel nostalgic and this movie album is one of them what a music\\n\\nLaapata by KK ', \"9 years passed but this song is still in people's heart.. childhood memories\", 'This song has a special place in my heart Even its 2023 now ', 'Wonderful song', '10 years passed…but still it is nostalgic ', 'This song never left his vibe, after 10 year ', '8 years passed but the song is still in people hearts', 'Reminds me of the feeling of being in love and missing that person, makes me emotional , the words, the music, the singers and also very appropriate and convincing acting and emotions by Salman and Katrina both  lovely movie too very entertaining', 'Perfect song to feel the emotion of silent relation phase going on in life ', 'Always one of my favorite song ️️ so much memories ', 'My  fav song .....i can listen to it for my whole life....its been 5 years but whenever i feel like listening to songs my fingers automatically play this', 'Came back to enjoy this song just after listening to the latest Tiger 3 song. Old is always gold', \"10 years passed away but it's never become old and still live in my heart \", 'Even now this song is flourishing my mind', \"It's 2023 still the magic of this song never becomes old \", '10 years passed but still masterpiece', 'When I feel sad I come to listen  this song. Then my sadness become double. but this song heal my pain ️ so addicted', 'Who suddenly remembered this song and came to listen', '2012- we enjoyed it\\n2023- we feel it', 'Masterpiece song ', '10 year passed but this song is still my heart always', '2012 we watch on tv and listen \\nBut 2023 We Feel it Nd understand the lyrics ', \"10 yrs... Still I can't forget this ️\", 'This song this duo with mohit chauhan   voice original is always better than copies old vibes ', 'The way Katrina was looking in this movie, no one has ever looked close to her. Unmatchable beauty.', 'After so many years, even in 2023 still this song is just ', '10 years till I have been listening to this songthis song is amazing ', \"This was such a masterpiece.. this movie's era was something different..it will out match all spy-fi ( spy stories which aren't true )films..\", \"A message to future generation don't let this masterpiece die \", ' just the story of this song is more than enough to fall in love with this movie. So emotional ', 'I\"m from Turkey and I think old indian songs are the Best.  New songs never can catch old songs beauty .🇹🇷', 'Best Bollywood song ️️ it will be a masterpiece forever', 'Suddenly remembered this song \\n\\nMasterpiece ', 'Remembering Memories When Thiz Song Plays= Heaven ', 'Its 2023 still gives same goosebumps', 'This is a masterpiece ', \"Nobody can't ignore the art of the voice. Close the eyes and just feel it.\\nLove the song from 🇧🇩\", 'Even after 10 years this song is close to my heart️', 'The moment \"jaaye jahan tu jaaye\" starts it gave us goosebumps ', 'Masterpiece ️', 'Such a gem this song ', 'I was listening tiger 3 new song LEKE PRABHU KA NAAM and suddenly i remembered this masterpiece... so i came here to listen this masterpiece ', 'Words are not enough to describe about the memories attached with this song', 'Favourite movie and favourite song \\nSuddenly remember this song and come here to listen ', '10 years ago but this song alive in my heart ', 'I was 7 years old when this movie was released and now after 10 years 17 but it still look fresh both movie and song', '11 years \\nI still remember that day', 'Love this song very much ️', 'The era of Salman khan from 2009 to 2017\\nBlockbuster movies\\nEpic songs \\nDamn miss those era', 'The era of Katrina in Bollywood ', 'this song is 10 years old but now it gives me the same feelings  love this song', 'When i was in class 6..there is a girl whom i loved, and she used to sing this song...and now whenever i listen thsi ..she gets memories...', 'Masterpiece ', 'Old memories this song never die', \"A message to future generation Don't let this masterpiece die\", 'ben de istanbulluyum ve bu filmin bazı sahneleri istanbul da çekildiği için çok hoşuma gitti. harika bir müzik emeği geçenlere teşekkürler..salman&katrina..', 'Song is old but recapture the all memories ', 'No words for old song having beats like made in future with futuristic device listen starting with headphones  old is gold', 'Moonlit night + Under the open sky + Twinkling stars + SAIYAARA song = SUKOON ', 'Party ready with #LekePrabhuKaNaam  Song OUT NOW - https://www.youtube.com/watch?v=6GxXehkPyBs', \"It's January 2023, let's see how many legends still listening this masterpeice...\", '10yrs passed still this song sounds so fresh and reminds old memories ', \"It's not only a song, it's a memory\", 'Kon Kon 2023 Mein Sun Raha Hai Meri Tarah ', \"some songs are such a gem , it doesn't matter 10 Years passed away .. these kind of songs still remain in our hearts.\", 'Salman and Katrina , one of the best duo of bollywood industry .  This song just brings back memories and feelings . ', \"10 years completed but this song is still in people's heart️.. many  childhood memories attached to this song\", 'A song that makes you enter into a storm of feelings, passion and love together at the same time', 'This song just brings back memories and feeling  everlasting masterpiece ', 'That was a golden era of Mohit Chauhan. Such an amazing voice', 'Such a gem of composition and true music.\\nSoothing to ears \\nMohit Bhai \\nWhat a singer , what a voice ', 'Suddenly remember this song after 10 years!! Old is gold ', \"I watched this movie when it first came out. It's been almost 11 years. I think it was one of the most influential and beautiful scenes that Bollywood has presented to the history of cinema. Also, someone who visits Istanbul experiences that feeling just like in the movie.\\nGreetings to everyone who feels the melody of the song in all their cells. 🇹🇷🇮🇳\", 'One of the best songs of Indian Cinema. ', \"I feel so lucky that my childhood is blessed with such beautiful song️ 10 years ago I was 7 years old that time I didn't understand the lyrics but I was just vibing on the music. But now I can understand the lyrics and emotions behind the music. It's impossible to imagine life without music ️️️\", '*A song that makes you enter into a storm of feelings, passion and love together at the same time*', 'Who Suddenly remembered this song and came to listen️️', 'Is going to 11 Years of this masterpiece but it still has the fresh feeling like how it was released the first day', \"This is not only a song it's an emotion \", '10 years later but still a masterpiece ', 'It’s almost 11 years but still i am in love with the song ', 'This song will be remembered at lonely sad moments times and suddenly all the feelings will be removed at the end of song ', 'This is not just a song it is a feeling separate from the heart ️ After listening to this it seems as if the heart is at peace️', 'Sadness is that Bollywood will not make this types of songs again!️', 'This is a masterpiece my dear, an emotion that touches the heart even after 10 years.️️', \"No one in this universe can match the level of pain in salman eyes .......... He can show you the broken scratched heart with his eyes only he doesn't have to utter a word also \", 'I just love this song it gives a very soothing vibe to me ', 'Bayılıyorum bu şarkıya. Türkiye’de çekilmiş olması beni ayrıca etkiliyor ️', \"Can't believe it's been 10 years Nostalgia Hits hards whenever I listen this song........️\", 'In the era of shona shona jadu tona, if you are still listening this.. undoubtedly you have a great taste of music ️', '10 yrs ...but still the same vibe', ' One of my personal favourites. Love & Respect. Quite Nostalgic', 'Song of the decade. It is a  master-piece created by all from poet to singer including musicians.', 'After 10 years suddenly I remembered this song but the song is so heart touching', 'man , rewatching this song now as a grown man feeling the words and remembering how i listened to it as a child not knowing what it meant and after so many years finnally listening it again but this time literally feeling the words like they were meant for me', '11 years old song still in runs in human heart', \"Can't believe it's been 10 yrs to this master piece and still listening and will continue\", \"It's be a long time and after this, this song is a masterpiece \", '2:27 This BGM . Pure Nostalgia ', \"After 12th the craze to watch this pair together was on immense level in me n I just love this song to the core n it's gives too much nostalgia every time I just remind myself that such kind of masterpiece are existing in Youtube\", 'Some music albums always makes you feel nostalgic and this movie album is one of them what a music\\n\\nLaapata by KK ', \"9 years passed but this song is still in people's heart.. childhood memories\", 'This song has a special place in my heart Even its 2023 now ', 'Wonderful song', '10 years passed…but still it is nostalgic ', 'This song never left his vibe, after 10 year ', '8 years passed but the song is still in people hearts', 'Reminds me of the feeling of being in love and missing that person, makes me emotional , the words, the music, the singers and also very appropriate and convincing acting and emotions by Salman and Katrina both  lovely movie too very entertaining', 'Perfect song to feel the emotion of silent relation phase going on in life ', 'Always one of my favorite song ️️ so much memories ', 'My  fav song .....i can listen to it for my whole life....its been 5 years but whenever i feel like listening to songs my fingers automatically play this', 'Came back to enjoy this song just after listening to the latest Tiger 3 song. Old is always gold', \"10 years passed away but it's never become old and still live in my heart \", 'Even now this song is flourishing my mind', \"It's 2023 still the magic of this song never becomes old \", '10 years passed but still masterpiece', 'When I feel sad I come to listen  this song. Then my sadness become double. but this song heal my pain ️ so addicted', 'Who suddenly remembered this song and came to listen', '2012- we enjoyed it\\n2023- we feel it', 'Masterpiece song ', '10 year passed but this song is still my heart always', '2012 we watch on tv and listen \\nBut 2023 We Feel it Nd understand the lyrics ', \"10 yrs... Still I can't forget this ️\", 'This song this duo with mohit chauhan   voice original is always better than copies old vibes ', 'The way Katrina was looking in this movie, no one has ever looked close to her. Unmatchable beauty.', 'After so many years, even in 2023 still this song is just ', '10 years till I have been listening to this songthis song is amazing ', \"This was such a masterpiece.. this movie's era was something different..it will out match all spy-fi ( spy stories which aren't true )films..\", \"A message to future generation don't let this masterpiece die \", ' just the story of this song is more than enough to fall in love with this movie. So emotional ', 'I\"m from Turkey and I think old indian songs are the Best.  New songs never can catch old songs beauty .🇹🇷', 'Best Bollywood song ️️ it will be a masterpiece forever', 'Suddenly remembered this song \\n\\nMasterpiece ', 'Remembering Memories When Thiz Song Plays= Heaven ', 'Its 2023 still gives same goosebumps', 'This is a masterpiece ', \"Nobody can't ignore the art of the voice. Close the eyes and just feel it.\\nLove the song from 🇧🇩\", 'Even after 10 years this song is close to my heart️', 'The moment \"jaaye jahan tu jaaye\" starts it gave us goosebumps ', 'Masterpiece ️', 'Such a gem this song ', 'I was listening tiger 3 new song LEKE PRABHU KA NAAM and suddenly i remembered this masterpiece... so i came here to listen this masterpiece ', 'Words are not enough to describe about the memories attached with this song', 'Favourite movie and favourite song \\nSuddenly remember this song and come here to listen ', '10 years ago but this song alive in my heart ', 'I was 7 years old when this movie was released and now after 10 years 17 but it still look fresh both movie and song', '11 years \\nI still remember that day', 'Love this song very much ️', 'The era of Salman khan from 2009 to 2017\\nBlockbuster movies\\nEpic songs \\nDamn miss those era', 'The era of Katrina in Bollywood ', 'this song is 10 years old but now it gives me the same feelings  love this song', 'When i was in class 6..there is a girl whom i loved, and she used to sing this song...and now whenever i listen thsi ..she gets memories...', 'Masterpiece ', 'Old memories this song never die', \"A message to future generation Don't let this masterpiece die\", 'ben de istanbulluyum ve bu filmin bazı sahneleri istanbul da çekildiği için çok hoşuma gitti. harika bir müzik emeği geçenlere teşekkürler..salman&katrina..', 'Song is old but recapture the all memories ', 'No words for old song having beats like made in future with futuristic device listen starting with headphones  old is gold', 'Moonlit night + Under the open sky + Twinkling stars + SAIYAARA song = SUKOON ', 'Party ready with #LekePrabhuKaNaam  Song OUT NOW - https://www.youtube.com/watch?v=6GxXehkPyBs', \"It's January 2023, let's see how many legends still listening this masterpeice...\", '10yrs passed still this song sounds so fresh and reminds old memories ', \"It's not only a song, it's a memory\", 'Kon Kon 2023 Mein Sun Raha Hai Meri Tarah ', \"some songs are such a gem , it doesn't matter 10 Years passed away .. these kind of songs still remain in our hearts.\", 'Salman and Katrina , one of the best duo of bollywood industry .  This song just brings back memories and feelings . ', \"10 years completed but this song is still in people's heart️.. many  childhood memories attached to this song\", 'A song that makes you enter into a storm of feelings, passion and love together at the same time', 'This song just brings back memories and feeling  everlasting masterpiece ', 'That was a golden era of Mohit Chauhan. Such an amazing voice', 'Such a gem of composition and true music.\\nSoothing to ears \\nMohit Bhai \\nWhat a singer , what a voice ', 'Suddenly remember this song after 10 years!! Old is gold ', \"I watched this movie when it first came out. It's been almost 11 years. I think it was one of the most influential and beautiful scenes that Bollywood has presented to the history of cinema. Also, someone who visits Istanbul experiences that feeling just like in the movie.\\nGreetings to everyone who feels the melody of the song in all their cells. 🇹🇷🇮🇳\", 'One of the best songs of Indian Cinema. ', \"I feel so lucky that my childhood is blessed with such beautiful song️ 10 years ago I was 7 years old that time I didn't understand the lyrics but I was just vibing on the music. But now I can understand the lyrics and emotions behind the music. It's impossible to imagine life without music ️️️\", '*A song that makes you enter into a storm of feelings, passion and love together at the same time*', 'Who Suddenly remembered this song and came to listen️️', 'Is going to 11 Years of this masterpiece but it still has the fresh feeling like how it was released the first day', \"This is not only a song it's an emotion \", '10 years later but still a masterpiece ', 'It’s almost 11 years but still i am in love with the song ', 'This song will be remembered at lonely sad moments times and suddenly all the feelings will be removed at the end of song ', 'This is not just a song it is a feeling separate from the heart ️ After listening to this it seems as if the heart is at peace️', 'Sadness is that Bollywood will not make this types of songs again!️', 'This is a masterpiece my dear, an emotion that touches the heart even after 10 years.️️', \"No one in this universe can match the level of pain in salman eyes .......... He can show you the broken scratched heart with his eyes only he doesn't have to utter a word also \", 'I just love this song it gives a very soothing vibe to me ', 'Bayılıyorum bu şarkıya. Türkiye’de çekilmiş olması beni ayrıca etkiliyor ️', \"Can't believe it's been 10 years Nostalgia Hits hards whenever I listen this song........️\", 'In the era of shona shona jadu tona, if you are still listening this.. undoubtedly you have a great taste of music ️', '10 yrs ...but still the same vibe', ' One of my personal favourites. Love & Respect. Quite Nostalgic', 'Song of the decade. It is a  master-piece created by all from poet to singer including musicians.', 'After 10 years suddenly I remembered this song but the song is so heart touching', 'man , rewatching this song now as a grown man feeling the words and remembering how i listened to it as a child not knowing what it meant and after so many years finnally listening it again but this time literally feeling the words like they were meant for me', '11 years old song still in runs in human heart', \"Can't believe it's been 10 yrs to this master piece and still listening and will continue\", \"It's be a long time and after this, this song is a masterpiece \", '2:27 This BGM . Pure Nostalgia ', \"After 12th the craze to watch this pair together was on immense level in me n I just love this song to the core n it's gives too much nostalgia every time I just remind myself that such kind of masterpiece are existing in Youtube\", 'Some music albums always makes you feel nostalgic and this movie album is one of them what a music\\n\\nLaapata by KK ', \"9 years passed but this song is still in people's heart.. childhood memories\", 'This song has a special place in my heart Even its 2023 now ', 'Wonderful song', '10 years passed…but still it is nostalgic ', 'This song never left his vibe, after 10 year ', '8 years passed but the song is still in people hearts', 'Reminds me of the feeling of being in love and missing that person, makes me emotional , the words, the music, the singers and also very appropriate and convincing acting and emotions by Salman and Katrina both  lovely movie too very entertaining', 'Perfect song to feel the emotion of silent relation phase going on in life ', 'Always one of my favorite song ️️ so much memories ', 'My  fav song .....i can listen to it for my whole life....its been 5 years but whenever i feel like listening to songs my fingers automatically play this', 'Came back to enjoy this song just after listening to the latest Tiger 3 song. Old is always gold', \"10 years passed away but it's never become old and still live in my heart \", 'Even now this song is flourishing my mind', \"It's 2023 still the magic of this song never becomes old \", '10 years passed but still masterpiece', 'When I feel sad I come to listen  this song. Then my sadness become double. but this song heal my pain ️ so addicted', 'Who suddenly remembered this song and came to listen', '2012- we enjoyed it\\n2023- we feel it', 'Masterpiece song ', '10 year passed but this song is still my heart always', '2012 we watch on tv and listen \\nBut 2023 We Feel it Nd understand the lyrics ', \"10 yrs... Still I can't forget this ️\", 'This song this duo with mohit chauhan   voice original is always better than copies old vibes ', 'The way Katrina was looking in this movie, no one has ever looked close to her. Unmatchable beauty.', 'After so many years, even in 2023 still this song is just ', '10 years till I have been listening to this songthis song is amazing ', \"This was such a masterpiece.. this movie's era was something different..it will out match all spy-fi ( spy stories which aren't true )films..\", \"A message to future generation don't let this masterpiece die \", ' just the story of this song is more than enough to fall in love with this movie. So emotional ', 'I\"m from Turkey and I think old indian songs are the Best.  New songs never can catch old songs beauty .🇹🇷', 'Best Bollywood song ️️ it will be a masterpiece forever', 'Suddenly remembered this song \\n\\nMasterpiece ', 'Remembering Memories When Thiz Song Plays= Heaven ', 'Its 2023 still gives same goosebumps', 'This is a masterpiece ', \"Nobody can't ignore the art of the voice. Close the eyes and just feel it.\\nLove the song from 🇧🇩\", 'Even after 10 years this song is close to my heart️', 'The moment \"jaaye jahan tu jaaye\" starts it gave us goosebumps ', 'Masterpiece ️', 'Such a gem this song ', 'I was listening tiger 3 new song LEKE PRABHU KA NAAM and suddenly i remembered this masterpiece... so i came here to listen this masterpiece ', 'Words are not enough to describe about the memories attached with this song', 'Favourite movie and favourite song \\nSuddenly remember this song and come here to listen ', '10 years ago but this song alive in my heart ', 'I was 7 years old when this movie was released and now after 10 years 17 but it still look fresh both movie and song', '11 years \\nI still remember that day', 'Love this song very much ️', 'The era of Salman khan from 2009 to 2017\\nBlockbuster movies\\nEpic songs \\nDamn miss those era', 'The era of Katrina in Bollywood ', 'this song is 10 years old but now it gives me the same feelings  love this song', 'When i was in class 6..there is a girl whom i loved, and she used to sing this song...and now whenever i listen thsi ..she gets memories...', 'Masterpiece ', 'Old memories this song never die', \"A message to future generation Don't let this masterpiece die\", 'ben de istanbulluyum ve bu filmin bazı sahneleri istanbul da çekildiği için çok hoşuma gitti. harika bir müzik emeği geçenlere teşekkürler..salman&katrina..', 'Song is old but recapture the all memories ', 'No words for old song having beats like made in future with futuristic device listen starting with headphones  old is gold', 'Moonlit night + Under the open sky + Twinkling stars + SAIYAARA song = SUKOON ']\n"
     ]
    }
   ],
   "source": [
    "print(comment_all)"
   ]
  },
  {
   "cell_type": "code",
   "execution_count": 412,
   "id": "ff168837",
   "metadata": {},
   "outputs": [
    {
     "name": "stdout",
     "output_type": "stream",
     "text": [
      "500\n"
     ]
    }
   ],
   "source": [
    "print(len(comment_all))"
   ]
  },
  {
   "cell_type": "code",
   "execution_count": 432,
   "id": "5a8efd5f",
   "metadata": {},
   "outputs": [],
   "source": [
    "comment_upvote=[]\n",
    "start=0\n",
    "end=5\n",
    "for page in range(start,end):\n",
    "    titles=driver.find_elements(By.ID, \"vote-count-middle\")\n",
    "    for i in titles[0:500]:\n",
    "        comment_upvote.append(i.text)\n",
    "time.sleep(3)"
   ]
  },
  {
   "cell_type": "code",
   "execution_count": 430,
   "id": "8ade47d2",
   "metadata": {},
   "outputs": [
    {
     "name": "stdout",
     "output_type": "stream",
     "text": [
      "500\n"
     ]
    }
   ],
   "source": [
    "print(len(comment_upvote))"
   ]
  },
  {
   "cell_type": "code",
   "execution_count": 433,
   "id": "11c664ba",
   "metadata": {},
   "outputs": [
    {
     "name": "stdout",
     "output_type": "stream",
     "text": [
      "['202', '5.2K', '254', '309', '758', '235', '30', '5.6K', '79', '6', '8', '38', '130', '47', '3', '25', '4', '28K', '57', '46', '81', '33', '17', '40', '2.5K', '30', '44', '15', '73', '18', '4.2K', '24', '20', '11', '31', '10', '2.2K', '15', '18', '7', '12', '6', '594', '24', '2', '19', '5', '794', '7', '13', '1', '5', '11', '666', '2', '3', '5', '4', '2', '3.5K', '14', '6', '2', '11', '3', '1.3K', '7', '4', '3', '5', '2', '1.2K', '5', '7', '5', '7', '4', '675', '15', '2', '5', '11', '7', '353', '4', '5', '', '15', '7', '631', '11', '7', '2', '4', '5', '709', '13', '3', '5', '10', '202', '5.2K', '254', '309', '758', '235', '30', '5.6K', '79', '6', '8', '38', '130', '47', '3', '25', '4', '28K', '57', '46', '81', '33', '17', '40', '2.5K', '30', '44', '15', '73', '18', '4.2K', '24', '20', '11', '31', '10', '2.2K', '15', '18', '7', '12', '6', '594', '24', '2', '19', '5', '794', '7', '13', '1', '5', '11', '666', '2', '3', '5', '4', '2', '3.5K', '14', '6', '2', '11', '3', '1.3K', '7', '4', '3', '5', '2', '1.2K', '5', '7', '5', '7', '4', '675', '15', '2', '5', '11', '7', '353', '4', '5', '', '15', '7', '631', '11', '7', '2', '4', '5', '709', '13', '3', '5', '10', '202', '5.2K', '254', '309', '758', '235', '30', '5.6K', '79', '6', '8', '38', '130', '47', '3', '25', '4', '28K', '57', '46', '81', '33', '17', '40', '2.5K', '30', '44', '15', '73', '18', '4.2K', '24', '20', '11', '31', '10', '2.2K', '15', '18', '7', '12', '6', '594', '24', '2', '19', '5', '794', '7', '13', '1', '5', '11', '666', '2', '3', '5', '4', '2', '3.5K', '14', '6', '2', '11', '3', '1.3K', '7', '4', '3', '5', '2', '1.2K', '5', '7', '5', '7', '4', '675', '15', '2', '5', '11', '7', '353', '4', '5', '', '15', '7', '631', '11', '7', '2', '4', '5', '709', '13', '3', '5', '10', '202', '5.2K', '254', '309', '758', '235', '30', '5.6K', '79', '6', '8', '38', '130', '47', '3', '25', '4', '28K', '57', '46', '81', '33', '17', '40', '2.5K', '30', '44', '15', '73', '18', '4.2K', '24', '20', '11', '31', '10', '2.2K', '15', '18', '7', '12', '6', '594', '24', '2', '19', '5', '794', '7', '13', '1', '5', '11', '666', '2', '3', '5', '4', '2', '3.5K', '14', '6', '2', '11', '3', '1.3K', '7', '4', '3', '5', '2', '1.2K', '5', '7', '5', '7', '4', '675', '15', '2', '5', '11', '7', '353', '4', '5', '', '15', '7', '631', '11', '7', '2', '4', '5', '709', '13', '3', '5', '10', '202', '5.2K', '254', '309', '758', '235', '30', '5.6K', '79', '6', '8', '38', '130', '47', '3', '25', '4', '28K', '57', '46', '81', '33', '17', '40', '2.5K', '30', '44', '15', '73', '18', '4.2K', '24', '20', '11', '31', '10', '2.2K', '15', '18', '7', '12', '6', '594', '24', '2', '19', '5', '794', '7', '13', '1', '5', '11', '666', '2', '3', '5', '4', '2', '3.5K', '14', '6', '2', '11', '3', '1.3K', '7', '4', '3', '5', '2', '1.2K', '5', '7', '5', '7', '4', '675', '15', '2', '5', '11', '7', '353', '4', '5', '', '15', '7', '631', '11', '7', '2', '4', '5', '709', '13', '3', '5', '10']\n"
     ]
    }
   ],
   "source": [
    "print(comment_upvote)"
   ]
  },
  {
   "cell_type": "code",
   "execution_count": null,
   "id": "3a375d42",
   "metadata": {},
   "outputs": [],
   "source": [
    "Q9.Write a python program to scrape a data for all available Hostels from https://www.hostelworld.com/ in\n",
    "“London” location. You have to scrape hostel name, distance from city centre, ratings, total reviews, overall\n",
    "reviews, privates from price, dorms from price, facilities and property description\n",
    "\n",
    "#total review or overall reviews? not sure about this."
   ]
  },
  {
   "cell_type": "code",
   "execution_count": 57,
   "id": "66b3a14c",
   "metadata": {},
   "outputs": [],
   "source": [
    "driver=webdriver.Chrome()\n",
    "driver.get('https://www.hostelworld.com//')"
   ]
  },
  {
   "cell_type": "code",
   "execution_count": 58,
   "id": "53fbaf5b",
   "metadata": {},
   "outputs": [],
   "source": [
    "designation3 = driver.find_element(By.CLASS_NAME, \"native-input\")\n",
    "designation3.send_keys('London')"
   ]
  },
  {
   "cell_type": "code",
   "execution_count": 59,
   "id": "bb9104fc",
   "metadata": {},
   "outputs": [],
   "source": [
    "designation4=driver.find_element(By.CLASS_NAME, \"btn-content\")"
   ]
  },
  {
   "cell_type": "code",
   "execution_count": 62,
   "id": "7d58c75c",
   "metadata": {},
   "outputs": [
    {
     "name": "stdout",
     "output_type": "stream",
     "text": [
      "An error occurred: Message: element click intercepted: Element is not clickable at point (727, -222)\n",
      "  (Session info: chrome=119.0.6045.124)\n",
      "Stacktrace:\n",
      "\tGetHandleVerifier [0x00007FF754AA82B2+55298]\n",
      "\t(No symbol) [0x00007FF754A15E02]\n",
      "\t(No symbol) [0x00007FF7548D05AB]\n",
      "\t(No symbol) [0x00007FF754917A77]\n",
      "\t(No symbol) [0x00007FF754915E39]\n",
      "\t(No symbol) [0x00007FF754913C08]\n",
      "\t(No symbol) [0x00007FF754912C8A]\n",
      "\t(No symbol) [0x00007FF7549087BF]\n",
      "\t(No symbol) [0x00007FF7549320AA]\n",
      "\t(No symbol) [0x00007FF7549080CF]\n",
      "\t(No symbol) [0x00007FF7549322C0]\n",
      "\t(No symbol) [0x00007FF75494AAA4]\n",
      "\t(No symbol) [0x00007FF754931E83]\n",
      "\t(No symbol) [0x00007FF75490670A]\n",
      "\t(No symbol) [0x00007FF754907964]\n",
      "\tGetHandleVerifier [0x00007FF754E20AAB+3694587]\n",
      "\tGetHandleVerifier [0x00007FF754E7728E+4048862]\n",
      "\tGetHandleVerifier [0x00007FF754E6F173+4015811]\n",
      "\tGetHandleVerifier [0x00007FF754B447D6+695590]\n",
      "\t(No symbol) [0x00007FF754A20CE8]\n",
      "\t(No symbol) [0x00007FF754A1CF34]\n",
      "\t(No symbol) [0x00007FF754A1D062]\n",
      "\t(No symbol) [0x00007FF754A0D3A3]\n",
      "\tBaseThreadInitThunk [0x00007FFB97A0257D+29]\n",
      "\tRtlUserThreadStart [0x00007FFB99B6AA78+40]\n",
      "\n"
     ]
    }
   ],
   "source": [
    "try:\n",
    "    search_button_CLASS_NAME_='btn-content'\n",
    "    search_button = driver.find_element(By.CLASS_NAME, search_button_CLASS_NAME)\n",
    "    search_button.click()\n",
    "except NoSuchElementException:\n",
    "        print(\"Search button not found\")\n",
    "except Exception as e:\n",
    "    print(f\"An error occurred: {e}\")    #There is an error with the search button i tried several different and class and xpath. Another doubt for discussion"
   ]
  },
  {
   "cell_type": "code",
   "execution_count": 109,
   "id": "44d3d75a",
   "metadata": {},
   "outputs": [],
   "source": [
    "driver=webdriver.Chrome()\n",
    "driver.get(\"https://www.hostelworld.com/pwa/wds/s?q=London,%20England&country=London&city=London&type=city&id=3&from=2023-11-12&to=2023-11-15&guests=2&page=1\")"
   ]
  },
  {
   "cell_type": "code",
   "execution_count": 442,
   "id": "65aaac1e",
   "metadata": {},
   "outputs": [],
   "source": [
    "Hotel_Name=[]\n",
    "start=0\n",
    "end=1\n",
    "for page in range(start,end):\n",
    "    titles=driver.find_elements(By.CLASS_NAME, \"property-name\")\n",
    "    for i in titles[0:32]:\n",
    "        Hotel_Name.append(i.text)\n",
    "time.sleep(3)"
   ]
  },
  {
   "cell_type": "code",
   "execution_count": 444,
   "id": "7042ffca",
   "metadata": {},
   "outputs": [
    {
     "name": "stdout",
     "output_type": "stream",
     "text": [
      "[\"St Christopher's Village\", 'Palmers Lodge - Swiss Cottage', \"Wombat's City Hostel London\", \"St Christopher's Village\", 'Onefam Notting Hill', 'Urbany Hostel London', 'Palmers Lodge - Swiss Cottage', 'Generator London', 'Safestay London Elephant & Castle', 'NX London Hostel', 'Safestay London Kensington Holland Park', 'Astor Museum Inn', 'Clink261', 'No.8 Willesden Hostel London', 'Smart Russell Square Hostel', 'Destinations Hostels @ The Gallery', 'Smart Hyde Park Inn Hostel', 'Phoenix Hostel', 'Queen Elizabeth Chelsea', 'The Walrus Hostel', 'No.8 Seven Sisters', 'Hostelle - women only hostel London', 'YHA London Oxford Street', \"St Christopher's Hammersmith\", 'Barmy Badger Backpackers', 'Prime Backpackers Angel', 'London Backpackers', 'Astor Victoria', 'Saint James Backpackers', 'Kabannas London St Pancras', \"St Christopher's Inn - London Bridge\", 'Astor Kensington']\n"
     ]
    }
   ],
   "source": [
    "print(Hotel_Name)"
   ]
  },
  {
   "cell_type": "code",
   "execution_count": 446,
   "id": "afde1ae8",
   "metadata": {},
   "outputs": [
    {
     "name": "stdout",
     "output_type": "stream",
     "text": [
      "['- 3.6km from city centre', '- 1.8km from city centre', '- 5.5km from city centre', '- 5.4km from city centre', '- 6.5km from city centre', '- 3km from city centre', '- 1.7km from city centre', '- 6.1km from city centre', '- 5.8km from city centre', '- 2.2km from city centre', '- 3.2km from city centre', '- 10km from city centre', '- 2.6km from city centre', '- 1.7km from city centre', '- 5km from city centre', '- 4.2km from city centre', '- 5.7km from city centre', '- 0.2km from city centre', '- 9km from city centre', '- 5.1km from city centre', '- 2.1km from city centre', '- 7.5km from city centre', '- 5.5km from city centre', '- 3.6km from city centre', '- 11.9km from city centre', '- 1.8km from city centre', '- 5.5km from city centre', '- 3.3km from city centre', '- 1.8km from city centre', '- 4.9km from city centre']\n"
     ]
    }
   ],
   "source": [
    "Distance_City=[]\n",
    "start=0\n",
    "end=1\n",
    "for page in range(start,end):\n",
    "    titles=driver.find_elements(By.CLASS_NAME, \"distance-description\")\n",
    "    for i in titles[0:32]:\n",
    "        Distance_City.append(i.text)\n",
    "time.sleep(3)\n",
    "print(Distance_City)"
   ]
  },
  {
   "cell_type": "code",
   "execution_count": 449,
   "id": "f0b1ff50",
   "metadata": {},
   "outputs": [
    {
     "name": "stdout",
     "output_type": "stream",
     "text": [
      "['8.2', '8.8', '9.0', '8.2', '9.6', '9.5', '8.8', '7.5', '7.1', '8.3', '6.9', '8.4', '8.0', '7.1', '7.5', '9.2', '7.5', '7.1', '7.6', '8.3', '6.5', '8.8', '9.0', '7.6', '9.0', '8.1', '8.0', '7.1', '7.7', '8.3', '7.8', '8.6']\n"
     ]
    }
   ],
   "source": [
    "Rating=[]\n",
    "start=0\n",
    "end=1\n",
    "for page in range(start,end):\n",
    "    titles=driver.find_elements(By.CLASS_NAME, \"number\")\n",
    "    for i in titles[0:32]:\n",
    "        Rating.append(i.text)\n",
    "time.sleep(3)\n",
    "print(Rating)"
   ]
  },
  {
   "cell_type": "code",
   "execution_count": 450,
   "id": "b05f5c1e",
   "metadata": {},
   "outputs": [
    {
     "name": "stdout",
     "output_type": "stream",
     "text": [
      "['(15561)', '(12622)', '(2382)', '(1008)', '(15811)', '(7911)', '(5185)', '(2037)', '(1717)', '(9395)', '(447)', '(5137)', '(10139)', '(273)', '(6762)', '(4533)', '(3621)', '(4249)', '(4114)', '(76)', '(4673)', '(4335)', '(2008)', '(834)', '(4543)', '(15054)', '(1938)', '(2939)', '(3565)', '(6557)']\n"
     ]
    }
   ],
   "source": [
    "Total_Reviews=[]\n",
    "start=0\n",
    "end=1\n",
    "for page in range(start,end):\n",
    "    titles=driver.find_elements(By.CLASS_NAME, \"review\")\n",
    "    for i in titles[0:32]:\n",
    "        Total_Reviews.append(i.text)\n",
    "time.sleep(3)\n",
    "print(Total_Reviews)"
   ]
  },
  {
   "cell_type": "code",
   "execution_count": null,
   "id": "fbdf2a6c",
   "metadata": {},
   "outputs": [],
   "source": [
    "#Not sure about the difference between total and overall review? - "
   ]
  },
  {
   "cell_type": "code",
   "execution_count": 99,
   "id": "f0d52c63",
   "metadata": {},
   "outputs": [
    {
     "name": "stdout",
     "output_type": "stream",
     "text": [
      "Hostelworld says\n",
      "Hostelworld visitors have said St Christopher?s Village is ?the place to go if you are young and want to have fun?. This ?party hostel? has ?nice staff and just the right amount of rooms/travellers?, making it ?easy for anyone to meet new people?. One of our guests said this hostel is ?within short walking distance of two subway [stations] and well within walking distance from more of the major attractions in downtown London?.\n"
     ]
    }
   ],
   "source": [
    "driver = webdriver.Chrome() \n",
    "driver.get('https://www.hostelworld.com/pwa/hosteldetails.php/St-Christopher-s-Village/London/502?from=2023-11-12&to=2023-11-15&guests=2') \n",
    "time.sleep(5) \n",
    "description_container = driver.find_element(By.CLASS_NAME, 'description-container')\n",
    "property_description = description_container.text\n",
    "print(property_description)\n"
   ]
  },
  {
   "cell_type": "code",
   "execution_count": null,
   "id": "33165476",
   "metadata": {},
   "outputs": [],
   "source": [
    "driver=webdriver.Chrome()\n",
    "driver.get(\"https://www.hostelworld.com/pwa/wds/s?q=London,%20England&country=London&city=London&type=city&id=3&from=2023-11-12&to=2023-11-15&guests=2&page=1\")"
   ]
  },
  {
   "cell_type": "code",
   "execution_count": 102,
   "id": "b782ce71",
   "metadata": {},
   "outputs": [],
   "source": [
    "designation2 = driver.find_element(By.ID, \"nav-facilities\")\n",
    "designation2.click()"
   ]
  },
  {
   "cell_type": "code",
   "execution_count": 108,
   "id": "b8b18dfe",
   "metadata": {},
   "outputs": [
    {
     "name": "stdout",
     "output_type": "stream",
     "text": [
      "Facilities\n",
      "Free\n",
      "Linen Included Free WiFi Free Internet Access\n",
      "General\n",
      "Security Lockers Common Room Elevator Breakfast Not Included Air Conditioning Adaptors Book Exchange Hot Showers Dryer Reading Light Hair Dryers For Hire Hair Dryers Iron / Ironing Board Microwave Washing Machine Towels Not Included Follows Covid-19 sanitation guidance\n",
      "Services\n",
      "Internet access Laundry Facilities Towels for hire Luggage Storage 24 Hour Reception 24 Hour Security Housekeeping Late check-out\n",
      "Food & Drink\n",
      "Restaurant Bar Meals Available Vending Machines Tea & Coffee Making Facilities\n",
      "Entertainment\n",
      "Nightclub Board Games Games Room Wi-Fi\n"
     ]
    }
   ],
   "source": [
    "try:\n",
    "    facilities_container = driver.find_element(By.CLASS_NAME, \"facilities-container\") \n",
    "    facilities_description = facilities_container.text\n",
    "    print(facilities_description)\n",
    "\n",
    "except StaleElementReferenceException:\n",
    "    facilities_container = driver.find_element(By.CLASS_NAME, \"facilities-container\")\n",
    "    facilities_description = facilities_container.text\n",
    "    print(facilities_description)\n",
    "\n",
    "except Exception as e:\n",
    "    print(f\"Error: {e}\")"
   ]
  },
  {
   "cell_type": "code",
   "execution_count": 110,
   "id": "e43c086d",
   "metadata": {},
   "outputs": [
    {
     "name": "stdout",
     "output_type": "stream",
     "text": [
      "Privates From: No Privates Available\n",
      "-10%\n",
      "Dorms From\n",
      "£22\n",
      "£20, Dorms From: Privates From\n",
      "£140\n",
      "Dorms From\n",
      "£34\n"
     ]
    }
   ],
   "source": [
    "price_elements = driver.find_elements(By.CLASS_NAME, \"property-accommodation-prices\")  \n",
    "privates_price = price_elements[0].text \n",
    "dorms_price = price_elements[1].text    \n",
    "\n",
    "print(f\"Privates From: {privates_price}, Dorms From: {dorms_price}\")"
   ]
  },
  {
   "cell_type": "code",
   "execution_count": null,
   "id": "e390e498",
   "metadata": {},
   "outputs": [],
   "source": []
  }
 ],
 "metadata": {
  "kernelspec": {
   "display_name": "Python 3 (ipykernel)",
   "language": "python",
   "name": "python3"
  },
  "language_info": {
   "codemirror_mode": {
    "name": "ipython",
    "version": 3
   },
   "file_extension": ".py",
   "mimetype": "text/x-python",
   "name": "python",
   "nbconvert_exporter": "python",
   "pygments_lexer": "ipython3",
   "version": "3.11.5"
  }
 },
 "nbformat": 4,
 "nbformat_minor": 5
}
